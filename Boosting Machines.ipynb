{
 "cells": [
  {
   "cell_type": "code",
   "execution_count": 2,
   "metadata": {
    "ExecuteTime": {
     "end_time": "2023-06-23T18:57:30.068806Z",
     "start_time": "2023-06-23T18:57:26.752242Z"
    }
   },
   "outputs": [
    {
     "name": "stderr",
     "output_type": "stream",
     "text": [
      "C:\\Users\\Jayanti\\Anaconda3\\lib\\site-packages\\dask\\dataframe\\utils.py:14: FutureWarning: pandas.util.testing is deprecated. Use the functions in the public API at pandas.testing instead.\n",
      "  import pandas.util.testing as tm\n"
     ]
    }
   ],
   "source": [
    "from sklearn.model_selection import RandomizedSearchCV\n",
    "from sklearn.ensemble import GradientBoostingClassifier\n",
    "from xgboost.sklearn import XGBClassifier"
   ]
  },
  {
   "cell_type": "code",
   "execution_count": null,
   "metadata": {},
   "outputs": [],
   "source": [
    "!pip install "
   ]
  },
  {
   "cell_type": "code",
   "execution_count": 3,
   "metadata": {
    "ExecuteTime": {
     "end_time": "2023-06-23T18:57:30.099269Z",
     "start_time": "2023-06-23T18:57:30.068806Z"
    }
   },
   "outputs": [],
   "source": [
    "import warnings\n",
    "\n",
    "warnings.filterwarnings('ignore')\n",
    "\n",
    "import pandas as pd \n",
    "import numpy as np\n",
    "\n",
    "from sklearn.pipeline import Pipeline,FeatureUnion\n",
    "from sklearn.base import BaseEstimator, TransformerMixin\n",
    "\n",
    "from mypipes import *"
   ]
  },
  {
   "cell_type": "code",
   "execution_count": 4,
   "metadata": {
    "ExecuteTime": {
     "end_time": "2023-06-23T18:57:30.161356Z",
     "start_time": "2023-06-23T18:57:30.101265Z"
    }
   },
   "outputs": [],
   "source": [
    "train_file=r'../data/rg_train.csv'\n",
    "test_file=r'../data/rg_test.csv'\n",
    "bd_train=pd.read_csv(train_file)\n",
    "\n",
    "bd_test=pd.read_csv(test_file)"
   ]
  },
  {
   "cell_type": "code",
   "execution_count": 68,
   "metadata": {
    "ExecuteTime": {
     "end_time": "2023-06-24T10:02:01.043235Z",
     "start_time": "2023-06-24T10:02:01.015079Z"
    }
   },
   "outputs": [
    {
     "data": {
      "text/html": [
       "<div>\n",
       "<style scoped>\n",
       "    .dataframe tbody tr th:only-of-type {\n",
       "        vertical-align: middle;\n",
       "    }\n",
       "\n",
       "    .dataframe tbody tr th {\n",
       "        vertical-align: top;\n",
       "    }\n",
       "\n",
       "    .dataframe thead th {\n",
       "        text-align: right;\n",
       "    }\n",
       "</style>\n",
       "<table border=\"1\" class=\"dataframe\">\n",
       "  <thead>\n",
       "    <tr style=\"text-align: right;\">\n",
       "      <th></th>\n",
       "      <th>REF_NO</th>\n",
       "      <th>children</th>\n",
       "      <th>age_band</th>\n",
       "      <th>status</th>\n",
       "      <th>occupation</th>\n",
       "      <th>occupation_partner</th>\n",
       "      <th>home_status</th>\n",
       "      <th>family_income</th>\n",
       "      <th>self_employed</th>\n",
       "      <th>self_employed_partner</th>\n",
       "      <th>...</th>\n",
       "      <th>Investment.Tax.Saving.Bond</th>\n",
       "      <th>Home.Loan</th>\n",
       "      <th>Online.Purchase.Amount</th>\n",
       "      <th>Revenue.Grid</th>\n",
       "      <th>gender</th>\n",
       "      <th>region</th>\n",
       "      <th>Investment.in.Commudity</th>\n",
       "      <th>Investment.in.Equity</th>\n",
       "      <th>Investment.in.Derivative</th>\n",
       "      <th>Portfolio.Balance</th>\n",
       "    </tr>\n",
       "  </thead>\n",
       "  <tbody>\n",
       "    <tr>\n",
       "      <th>0</th>\n",
       "      <td>2148</td>\n",
       "      <td>1</td>\n",
       "      <td>45-50</td>\n",
       "      <td>Partner</td>\n",
       "      <td>Professional</td>\n",
       "      <td>Professional</td>\n",
       "      <td>Rent Privately</td>\n",
       "      <td>&gt;=35,000</td>\n",
       "      <td>Yes</td>\n",
       "      <td>Yes</td>\n",
       "      <td>...</td>\n",
       "      <td>7.49</td>\n",
       "      <td>2.48</td>\n",
       "      <td>0.0</td>\n",
       "      <td>2</td>\n",
       "      <td>Female</td>\n",
       "      <td>South West</td>\n",
       "      <td>65.87</td>\n",
       "      <td>9.27</td>\n",
       "      <td>30.93</td>\n",
       "      <td>87.48</td>\n",
       "    </tr>\n",
       "    <tr>\n",
       "      <th>1</th>\n",
       "      <td>8099</td>\n",
       "      <td>1</td>\n",
       "      <td>61-65</td>\n",
       "      <td>Partner</td>\n",
       "      <td>Retired</td>\n",
       "      <td>Retired</td>\n",
       "      <td>Own Home</td>\n",
       "      <td>&lt;12,500, &gt;=10,000</td>\n",
       "      <td>No</td>\n",
       "      <td>No</td>\n",
       "      <td>...</td>\n",
       "      <td>0.00</td>\n",
       "      <td>3.99</td>\n",
       "      <td>0.0</td>\n",
       "      <td>2</td>\n",
       "      <td>Female</td>\n",
       "      <td>Unknown</td>\n",
       "      <td>42.46</td>\n",
       "      <td>4.49</td>\n",
       "      <td>26.23</td>\n",
       "      <td>110.73</td>\n",
       "    </tr>\n",
       "    <tr>\n",
       "      <th>2</th>\n",
       "      <td>6611</td>\n",
       "      <td>3</td>\n",
       "      <td>31-35</td>\n",
       "      <td>Partner</td>\n",
       "      <td>Professional</td>\n",
       "      <td>Professional</td>\n",
       "      <td>Own Home</td>\n",
       "      <td>&gt;=35,000</td>\n",
       "      <td>No</td>\n",
       "      <td>No</td>\n",
       "      <td>...</td>\n",
       "      <td>0.00</td>\n",
       "      <td>0.00</td>\n",
       "      <td>0.0</td>\n",
       "      <td>2</td>\n",
       "      <td>Male</td>\n",
       "      <td>East Anglia</td>\n",
       "      <td>75.38</td>\n",
       "      <td>0.00</td>\n",
       "      <td>26.66</td>\n",
       "      <td>127.57</td>\n",
       "    </tr>\n",
       "    <tr>\n",
       "      <th>3</th>\n",
       "      <td>1950</td>\n",
       "      <td>Zero</td>\n",
       "      <td>55-60</td>\n",
       "      <td>Partner</td>\n",
       "      <td>Professional</td>\n",
       "      <td>Professional</td>\n",
       "      <td>Own Home</td>\n",
       "      <td>&gt;=35,000</td>\n",
       "      <td>No</td>\n",
       "      <td>No</td>\n",
       "      <td>...</td>\n",
       "      <td>2.00</td>\n",
       "      <td>0.00</td>\n",
       "      <td>0.0</td>\n",
       "      <td>2</td>\n",
       "      <td>Female</td>\n",
       "      <td>North West</td>\n",
       "      <td>34.78</td>\n",
       "      <td>6.91</td>\n",
       "      <td>29.24</td>\n",
       "      <td>33.79</td>\n",
       "    </tr>\n",
       "    <tr>\n",
       "      <th>4</th>\n",
       "      <td>10857</td>\n",
       "      <td>2</td>\n",
       "      <td>51-55</td>\n",
       "      <td>Partner</td>\n",
       "      <td>Manual Worker</td>\n",
       "      <td>Manual Worker</td>\n",
       "      <td>Own Home</td>\n",
       "      <td>&lt;27,500, &gt;=25,000</td>\n",
       "      <td>Yes</td>\n",
       "      <td>Yes</td>\n",
       "      <td>...</td>\n",
       "      <td>0.00</td>\n",
       "      <td>0.00</td>\n",
       "      <td>0.0</td>\n",
       "      <td>2</td>\n",
       "      <td>Female</td>\n",
       "      <td>South West</td>\n",
       "      <td>48.58</td>\n",
       "      <td>9.58</td>\n",
       "      <td>20.65</td>\n",
       "      <td>56.17</td>\n",
       "    </tr>\n",
       "  </tbody>\n",
       "</table>\n",
       "<p>5 rows × 32 columns</p>\n",
       "</div>"
      ],
      "text/plain": [
       "   REF_NO children age_band   status     occupation occupation_partner  \\\n",
       "0    2148        1    45-50  Partner   Professional       Professional   \n",
       "1    8099        1    61-65  Partner        Retired            Retired   \n",
       "2    6611        3    31-35  Partner   Professional       Professional   \n",
       "3    1950     Zero    55-60  Partner   Professional       Professional   \n",
       "4   10857        2    51-55  Partner  Manual Worker      Manual Worker   \n",
       "\n",
       "      home_status      family_income self_employed self_employed_partner  ...  \\\n",
       "0  Rent Privately           >=35,000           Yes                   Yes  ...   \n",
       "1        Own Home  <12,500, >=10,000            No                    No  ...   \n",
       "2        Own Home           >=35,000            No                    No  ...   \n",
       "3        Own Home           >=35,000            No                    No  ...   \n",
       "4        Own Home  <27,500, >=25,000           Yes                   Yes  ...   \n",
       "\n",
       "   Investment.Tax.Saving.Bond Home.Loan Online.Purchase.Amount Revenue.Grid  \\\n",
       "0                        7.49      2.48                    0.0            2   \n",
       "1                        0.00      3.99                    0.0            2   \n",
       "2                        0.00      0.00                    0.0            2   \n",
       "3                        2.00      0.00                    0.0            2   \n",
       "4                        0.00      0.00                    0.0            2   \n",
       "\n",
       "   gender       region  Investment.in.Commudity  Investment.in.Equity  \\\n",
       "0  Female   South West                    65.87                  9.27   \n",
       "1  Female      Unknown                    42.46                  4.49   \n",
       "2    Male  East Anglia                    75.38                  0.00   \n",
       "3  Female   North West                    34.78                  6.91   \n",
       "4  Female   South West                    48.58                  9.58   \n",
       "\n",
       "   Investment.in.Derivative  Portfolio.Balance  \n",
       "0                     30.93              87.48  \n",
       "1                     26.23             110.73  \n",
       "2                     26.66             127.57  \n",
       "3                     29.24              33.79  \n",
       "4                     20.65              56.17  \n",
       "\n",
       "[5 rows x 32 columns]"
      ]
     },
     "execution_count": 68,
     "metadata": {},
     "output_type": "execute_result"
    }
   ],
   "source": [
    "bd_train.head()"
   ]
  },
  {
   "cell_type": "code",
   "execution_count": 5,
   "metadata": {
    "ExecuteTime": {
     "end_time": "2023-06-23T18:57:30.176805Z",
     "start_time": "2023-06-23T18:57:30.162358Z"
    }
   },
   "outputs": [],
   "source": [
    "num_vars=list(bd_train.select_dtypes(exclude=['object']).columns)"
   ]
  },
  {
   "cell_type": "code",
   "execution_count": 6,
   "metadata": {
    "ExecuteTime": {
     "end_time": "2023-06-23T18:57:30.182637Z",
     "start_time": "2023-06-23T18:57:30.178813Z"
    }
   },
   "outputs": [],
   "source": [
    "num_vars=[_ for _ in num_vars if _ not in ['REF_NO','Revenue.Grid']]"
   ]
  },
  {
   "cell_type": "code",
   "execution_count": 7,
   "metadata": {
    "ExecuteTime": {
     "end_time": "2023-06-23T18:57:30.200312Z",
     "start_time": "2023-06-23T18:57:30.184462Z"
    }
   },
   "outputs": [],
   "source": [
    "cat_vars=list(bd_train.select_dtypes(include=['object']).columns)"
   ]
  },
  {
   "cell_type": "code",
   "execution_count": 8,
   "metadata": {
    "ExecuteTime": {
     "end_time": "2023-06-23T18:57:30.216270Z",
     "start_time": "2023-06-23T18:57:30.202265Z"
    }
   },
   "outputs": [],
   "source": [
    "cat_vars=[_ for _ in cat_vars if _ not in \n",
    "          ['children','age_band', 'post_code','post_area','family_income']]"
   ]
  },
  {
   "cell_type": "code",
   "execution_count": 9,
   "metadata": {
    "ExecuteTime": {
     "end_time": "2023-06-23T18:57:30.232228Z",
     "start_time": "2023-06-23T18:57:30.218222Z"
    }
   },
   "outputs": [],
   "source": [
    "p1=pdPipeline([\n",
    "    ('var_select',VarSelector(num_vars)),\n",
    "    ('missing_trt',DataFrameImputer())\n",
    "])"
   ]
  },
  {
   "cell_type": "code",
   "execution_count": 10,
   "metadata": {
    "ExecuteTime": {
     "end_time": "2023-06-23T18:57:30.261194Z",
     "start_time": "2023-06-23T18:57:30.233198Z"
    }
   },
   "outputs": [],
   "source": [
    "p2=pdPipeline([\n",
    "    ('var_select',VarSelector(cat_vars)),\n",
    "    ('missing_trt',DataFrameImputer()),\n",
    "    ('create_dummies',get_dummies_Pipe(70))\n",
    "])"
   ]
  },
  {
   "cell_type": "code",
   "execution_count": 11,
   "metadata": {
    "ExecuteTime": {
     "end_time": "2023-06-23T18:57:30.444377Z",
     "start_time": "2023-06-23T18:57:30.429352Z"
    }
   },
   "outputs": [],
   "source": [
    "p3=pdPipeline([\n",
    "    ('var_select',VarSelector(['age_band'])),\n",
    "    ('custom_fico',custom_age_band()),\n",
    "    ('missing_trt',DataFrameImputer())\n",
    "])\n",
    "\n",
    "p4=pdPipeline([\n",
    "    ('var_select',VarSelector(['family_income'])),\n",
    "    ('custom_fico',custom_family_income()),\n",
    "    ('missing_trt',DataFrameImputer())\n",
    "])\n",
    "\n",
    "p5=pdPipeline([\n",
    "    ('var_select',VarSelector(['children'])),\n",
    "    ('string_clean1',string_clean(replace_it='Zero',replace_with='0')),\n",
    "    ('string_clean2',string_clean(replace_it='4+',replace_with='4')),\n",
    "    ('convert_to_numeric',convert_to_numeric()),\n",
    "    ('missing_trt',DataFrameImputer())\n",
    "])"
   ]
  },
  {
   "cell_type": "code",
   "execution_count": 12,
   "metadata": {
    "ExecuteTime": {
     "end_time": "2023-06-23T18:57:30.959794Z",
     "start_time": "2023-06-23T18:57:30.942844Z"
    }
   },
   "outputs": [],
   "source": [
    "data_pipe=FeatureUnion([\n",
    "    ('num',p1),\n",
    "    ('obj_to_dum',p2),\n",
    "    ('age_band',p3),\n",
    "    ('family_income',p4),\n",
    "    ('children',p5)\n",
    "])"
   ]
  },
  {
   "cell_type": "code",
   "execution_count": 13,
   "metadata": {
    "ExecuteTime": {
     "end_time": "2023-06-23T18:57:46.335968Z",
     "start_time": "2023-06-23T18:57:46.192286Z"
    }
   },
   "outputs": [],
   "source": [
    "x_train=pd.DataFrame(data=data_pipe.fit_transform(bd_train),\n",
    "                     columns=data_pipe.get_feature_names())\n"
   ]
  },
  {
   "cell_type": "code",
   "execution_count": 14,
   "metadata": {
    "ExecuteTime": {
     "end_time": "2023-06-23T18:57:46.467726Z",
     "start_time": "2023-06-23T18:57:46.386720Z"
    }
   },
   "outputs": [],
   "source": [
    "x_test=pd.DataFrame(data=data_pipe.transform(bd_test),\n",
    "                     columns=data_pipe.get_feature_names())"
   ]
  },
  {
   "cell_type": "code",
   "execution_count": 15,
   "metadata": {
    "ExecuteTime": {
     "end_time": "2023-06-23T18:57:46.651156Z",
     "start_time": "2023-06-23T18:57:46.636151Z"
    }
   },
   "outputs": [],
   "source": [
    "y_train=(bd_train['Revenue.Grid']==1).astype(int)"
   ]
  },
  {
   "cell_type": "code",
   "execution_count": 16,
   "metadata": {
    "ExecuteTime": {
     "end_time": "2023-06-23T18:57:47.034065Z",
     "start_time": "2023-06-23T18:57:47.003293Z"
    }
   },
   "outputs": [
    {
     "data": {
      "text/plain": [
       "(8124, 71)"
      ]
     },
     "execution_count": 16,
     "metadata": {},
     "output_type": "execute_result"
    }
   ],
   "source": [
    "x_train.shape"
   ]
  },
  {
   "cell_type": "code",
   "execution_count": 17,
   "metadata": {
    "ExecuteTime": {
     "end_time": "2023-06-23T18:57:47.217700Z",
     "start_time": "2023-06-23T18:57:47.202693Z"
    }
   },
   "outputs": [],
   "source": [
    "gbm_params={'n_estimators':[50,100,200,500,700], #number of decision trees\n",
    "           'learning_rate': [0.01,.05,0.1,0.4,0.8,1], #eta\n",
    "            'max_depth':[1,2,3,4,5,6], # levels of tree\n",
    "#             'min_samples_split':[2,5,10,20],\n",
    "#             'min_samples_leaf':[2,5,10,20],\n",
    "            'subsample':[0.5,0.8,1],\n",
    "            'max_features':[5,10,15,20,30,45,55,65]\n",
    "           }\n"
   ]
  },
  {
   "cell_type": "code",
   "execution_count": 71,
   "metadata": {
    "ExecuteTime": {
     "end_time": "2023-06-24T10:06:03.455889Z",
     "start_time": "2023-06-24T10:06:03.449728Z"
    }
   },
   "outputs": [
    {
     "data": {
      "text/plain": [
       "4320"
      ]
     },
     "execution_count": 71,
     "metadata": {},
     "output_type": "execute_result"
    }
   ],
   "source": [
    "5*6*6*3*8"
   ]
  },
  {
   "cell_type": "code",
   "execution_count": 18,
   "metadata": {
    "ExecuteTime": {
     "end_time": "2023-06-23T18:57:47.468023Z",
     "start_time": "2023-06-23T18:57:47.452975Z"
    }
   },
   "outputs": [],
   "source": [
    "gbm=GradientBoostingClassifier()"
   ]
  },
  {
   "cell_type": "code",
   "execution_count": 19,
   "metadata": {
    "ExecuteTime": {
     "end_time": "2023-06-23T18:57:47.983762Z",
     "start_time": "2023-06-23T18:57:47.975726Z"
    }
   },
   "outputs": [],
   "source": [
    "random_search=RandomizedSearchCV(gbm,\n",
    "                                 scoring='roc_auc',\n",
    "                                 param_distributions=gbm_params,\n",
    "                                 cv=10,\n",
    "                                 n_iter=10,\n",
    "                                 n_jobs=-1,\n",
    "                                verbose=20)"
   ]
  },
  {
   "cell_type": "code",
   "execution_count": 20,
   "metadata": {
    "ExecuteTime": {
     "end_time": "2023-06-23T18:58:29.843421Z",
     "start_time": "2023-06-23T18:57:48.752297Z"
    }
   },
   "outputs": [
    {
     "name": "stdout",
     "output_type": "stream",
     "text": [
      "Fitting 10 folds for each of 10 candidates, totalling 100 fits\n"
     ]
    },
    {
     "data": {
      "text/plain": [
       "RandomizedSearchCV(cv=10, estimator=GradientBoostingClassifier(), n_jobs=-1,\n",
       "                   param_distributions={'learning_rate': [0.01, 0.05, 0.1, 0.4,\n",
       "                                                          0.8, 1],\n",
       "                                        'max_depth': [1, 2, 3, 4, 5, 6],\n",
       "                                        'max_features': [5, 10, 15, 20, 30, 45,\n",
       "                                                         55, 65],\n",
       "                                        'n_estimators': [50, 100, 200, 500,\n",
       "                                                         700],\n",
       "                                        'subsample': [0.5, 0.8, 1]},\n",
       "                   scoring='roc_auc', verbose=20)"
      ]
     },
     "execution_count": 20,
     "metadata": {},
     "output_type": "execute_result"
    }
   ],
   "source": [
    "random_search.fit(x_train,y_train)\n"
   ]
  },
  {
   "cell_type": "markdown",
   "metadata": {},
   "source": [
    "GradientBoostingClassifier(criterion='friedman_mse', init=None,\n",
    "              learning_rate=0.05, loss='deviance', max_depth=5,\n",
    "              max_features=20, max_leaf_nodes=None,\n",
    "              min_impurity_decrease=0.0, min_impurity_split=None,\n",
    "              min_samples_leaf=1, min_samples_split=2,\n",
    "              min_weight_fraction_leaf=0.0, n_estimators=700,\n",
    "              n_iter_no_change=None, presort='auto', random_state=None,\n",
    "              subsample=0.5, tol=0.0001, validation_fraction=0.1,\n",
    "              verbose=0, warm_start=False)\n",
    "              \n",
    "use the above result in the class, its a result from previous run. This can be definitely different on a rerun. use this to save time in class so that you dont have to wait for the randomised search to finish"
   ]
  },
  {
   "cell_type": "code",
   "execution_count": 21,
   "metadata": {
    "ExecuteTime": {
     "end_time": "2023-06-23T18:58:29.854983Z",
     "start_time": "2023-06-23T18:58:29.843421Z"
    }
   },
   "outputs": [],
   "source": [
    "def report(results, n_top=3):\n",
    "    for i in range(1, n_top + 1):\n",
    "        candidates = np.flatnonzero(results['rank_test_score'] == i)\n",
    "        for candidate in candidates:\n",
    "            print(\"Model with rank: {0}\".format(i))\n",
    "            print(\"Mean validation score: {0:.3f} (std: {1:.5f})\".format(\n",
    "                  results['mean_test_score'][candidate],\n",
    "                  results['std_test_score'][candidate]))\n",
    "            print(\"Parameters: {0}\".format(results['params'][candidate]))\n",
    "            print(\"\")"
   ]
  },
  {
   "cell_type": "code",
   "execution_count": 22,
   "metadata": {
    "ExecuteTime": {
     "end_time": "2023-06-23T18:58:29.870175Z",
     "start_time": "2023-06-23T18:58:29.854983Z"
    }
   },
   "outputs": [
    {
     "name": "stdout",
     "output_type": "stream",
     "text": [
      "Model with rank: 1\n",
      "Mean validation score: 0.990 (std: 0.00173)\n",
      "Parameters: {'subsample': 1, 'n_estimators': 700, 'max_features': 20, 'max_depth': 4, 'learning_rate': 0.1}\n",
      "\n",
      "Model with rank: 2\n",
      "Mean validation score: 0.988 (std: 0.00591)\n",
      "Parameters: {'subsample': 1, 'n_estimators': 500, 'max_features': 20, 'max_depth': 4, 'learning_rate': 0.4}\n",
      "\n",
      "Model with rank: 3\n",
      "Mean validation score: 0.978 (std: 0.00429)\n",
      "Parameters: {'subsample': 1, 'n_estimators': 50, 'max_features': 10, 'max_depth': 6, 'learning_rate': 0.05}\n",
      "\n",
      "Model with rank: 4\n",
      "Mean validation score: 0.973 (std: 0.00449)\n",
      "Parameters: {'subsample': 0.8, 'n_estimators': 100, 'max_features': 15, 'max_depth': 2, 'learning_rate': 0.1}\n",
      "\n",
      "Model with rank: 5\n",
      "Mean validation score: 0.962 (std: 0.02233)\n",
      "Parameters: {'subsample': 0.5, 'n_estimators': 200, 'max_features': 15, 'max_depth': 3, 'learning_rate': 0.4}\n",
      "\n"
     ]
    }
   ],
   "source": [
    "report(random_search.cv_results_,5)"
   ]
  },
  {
   "cell_type": "markdown",
   "metadata": {},
   "source": [
    "top 5 classfiers from the previous run were as follows : \n",
    "\n",
    "Model with rank: 1\n",
    "\n",
    "Mean validation score: 0.925 (std: 0.00188)\n",
    "\n",
    "Parameters: {'max_features': 20, 'max_depth': 3, 'subsample': 0.8, 'learning_rate': 0.4, 'n_estimators': 100}\n",
    "\n",
    "~~~~~~~~~~\n",
    "\n",
    "Model with rank: 2\n",
    "\n",
    "Mean validation score: 0.924 (std: 0.00121)\n",
    "\n",
    "Parameters: {'max_features': 15, 'max_depth': 4, 'subsample': 1, 'learning_rate': 0.4, 'n_estimators': 100}\n",
    "\n",
    "~~~~~~~~~~\n",
    "\n",
    "Model with rank: 3\n",
    "\n",
    "Mean validation score: 0.923 (std: 0.00250)\n",
    "\n",
    "Parameters: {'max_features': 5, 'max_depth': 4, 'subsample': 0.5, 'learning_rate': 0.05, 'n_estimators': 500}\n",
    "\n",
    "~~~~~~~~~~\n",
    "\n",
    "Model with rank: 4\n",
    "\n",
    "Mean validation score: 0.914 (std: 0.00290)\n",
    "\n",
    "Parameters: {'max_features': 10, 'max_depth': 5, 'subsample': 1, 'learning_rate': 0.05, 'n_estimators': 50}\n",
    "\n",
    "~~~~~~~~~~\n",
    "\n",
    "Model with rank: 5\n",
    "\n",
    "Mean validation score: 0.913 (std: 0.00174)\n",
    "\n",
    "Parameters: {'max_features': 30, 'max_depth': 5, 'subsample': 0.8, 'learning_rate': 0.4, 'n_estimators': 200}"
   ]
  },
  {
   "cell_type": "markdown",
   "metadata": {},
   "source": [
    "tentative performance : 0.925 for the best classfier "
   ]
  },
  {
   "cell_type": "markdown",
   "metadata": {},
   "source": [
    "**Note: you can use the random search predict,predict_proba function to make prediction as randomisedsearchcv automatically fits the best candidate on complete data. If you want to look into feature_importance etc, then fit the best estimator separately**"
   ]
  },
  {
   "cell_type": "markdown",
   "metadata": {},
   "source": [
    "# Xgboost"
   ]
  },
  {
   "cell_type": "code",
   "execution_count": 23,
   "metadata": {
    "ExecuteTime": {
     "end_time": "2023-06-23T18:58:29.891777Z",
     "start_time": "2023-06-23T18:58:29.873177Z"
    }
   },
   "outputs": [],
   "source": [
    "xgb_params = {  \n",
    "                \"learning_rate\":[0.01,0.05,0.1,0.3,0.5],\n",
    "                \"gamma\":[i/10.0 for i in range(0,5)], #[0.0,0.1, 0.2,0.3,0.4]\n",
    "                \"max_depth\": [2,3,4,5,6,7,8],\n",
    "                \"min_child_weight\":[1,2,5,10],\n",
    "                \"max_delta_step\":[0,1,2,5,10],\n",
    "                \"subsample\":[i/10.0 for i in range(5,10)],\n",
    "                \"colsample_bytree\":[i/10.0 for i in range(5,10)],\n",
    "                \"colsample_bylevel\":[i/10.0 for i in range(5,10)],\n",
    "                \"reg_lambda\":[1e-5, 1e-2, 0.1, 1, 100], \n",
    "                \"reg_alpha\":[1e-5, 1e-2, 0.1, 1, 100],\n",
    "                \"scale_pos_weight\":[1,2,3,4,5,6,7,8,9],\n",
    "                \"n_estimators\":[100,500,700,1000]\n",
    "             }\n"
   ]
  },
  {
   "cell_type": "code",
   "execution_count": 24,
   "metadata": {
    "ExecuteTime": {
     "end_time": "2023-06-23T18:58:29.907408Z",
     "start_time": "2023-06-23T18:58:29.893481Z"
    }
   },
   "outputs": [
    {
     "data": {
      "text/plain": [
       "393750000"
      ]
     },
     "execution_count": 24,
     "metadata": {},
     "output_type": "execute_result"
    }
   ],
   "source": [
    "5*5*7*4*5*5*5*5*5*5*9*4"
   ]
  },
  {
   "cell_type": "code",
   "execution_count": 25,
   "metadata": {
    "ExecuteTime": {
     "end_time": "2023-06-23T18:58:29.923274Z",
     "start_time": "2023-06-23T18:58:29.909407Z"
    }
   },
   "outputs": [],
   "source": [
    "xgb=XGBClassifier(objective='binary:logistic')"
   ]
  },
  {
   "cell_type": "code",
   "execution_count": 26,
   "metadata": {
    "ExecuteTime": {
     "end_time": "2023-06-23T18:58:29.939313Z",
     "start_time": "2023-06-23T18:58:29.924272Z"
    }
   },
   "outputs": [],
   "source": [
    "n_iter=10\n",
    "\n",
    "random_search=RandomizedSearchCV(xgb,n_jobs=-1,cv=10,n_iter=n_iter,scoring='roc_auc',\n",
    "                                 param_distributions=xgb_params)"
   ]
  },
  {
   "cell_type": "code",
   "execution_count": 27,
   "metadata": {
    "ExecuteTime": {
     "end_time": "2023-06-23T19:01:47.281765Z",
     "start_time": "2023-06-23T18:58:29.942307Z"
    }
   },
   "outputs": [
    {
     "data": {
      "text/plain": [
       "RandomizedSearchCV(cv=10,\n",
       "                   estimator=XGBClassifier(base_score=None, booster=None,\n",
       "                                           colsample_bylevel=None,\n",
       "                                           colsample_bynode=None,\n",
       "                                           colsample_bytree=None, gamma=None,\n",
       "                                           gpu_id=None, importance_type='gain',\n",
       "                                           interaction_constraints=None,\n",
       "                                           learning_rate=None,\n",
       "                                           max_delta_step=None, max_depth=None,\n",
       "                                           min_child_weight=None, missing=nan,\n",
       "                                           monotone_constraints=None,\n",
       "                                           n_estimators=100...\n",
       "                                        'gamma': [0.0, 0.1, 0.2, 0.3, 0.4],\n",
       "                                        'learning_rate': [0.01, 0.05, 0.1, 0.3,\n",
       "                                                          0.5],\n",
       "                                        'max_delta_step': [0, 1, 2, 5, 10],\n",
       "                                        'max_depth': [2, 3, 4, 5, 6, 7, 8],\n",
       "                                        'min_child_weight': [1, 2, 5, 10],\n",
       "                                        'n_estimators': [100, 500, 700, 1000],\n",
       "                                        'reg_alpha': [1e-05, 0.01, 0.1, 1, 100],\n",
       "                                        'reg_lambda': [1e-05, 0.01, 0.1, 1,\n",
       "                                                       100],\n",
       "                                        'scale_pos_weight': [1, 2, 3, 4, 5, 6,\n",
       "                                                             7, 8, 9],\n",
       "                                        'subsample': [0.5, 0.6, 0.7, 0.8, 0.9]},\n",
       "                   scoring='roc_auc')"
      ]
     },
     "execution_count": 27,
     "metadata": {},
     "output_type": "execute_result"
    }
   ],
   "source": [
    "random_search.fit(x_train,y_train)"
   ]
  },
  {
   "cell_type": "code",
   "execution_count": 28,
   "metadata": {
    "ExecuteTime": {
     "end_time": "2023-06-23T19:01:47.297391Z",
     "start_time": "2023-06-23T19:01:47.281765Z"
    }
   },
   "outputs": [
    {
     "name": "stdout",
     "output_type": "stream",
     "text": [
      "Model with rank: 1\n",
      "Mean validation score: 0.992 (std: 0.00120)\n",
      "Parameters: {'subsample': 0.8, 'scale_pos_weight': 5, 'reg_lambda': 1e-05, 'reg_alpha': 0.1, 'n_estimators': 700, 'min_child_weight': 2, 'max_depth': 5, 'max_delta_step': 0, 'learning_rate': 0.05, 'gamma': 0.2, 'colsample_bytree': 0.8, 'colsample_bylevel': 0.7}\n",
      "\n",
      "Model with rank: 2\n",
      "Mean validation score: 0.991 (std: 0.00129)\n",
      "Parameters: {'subsample': 0.9, 'scale_pos_weight': 8, 'reg_lambda': 1, 'reg_alpha': 0.01, 'n_estimators': 500, 'min_child_weight': 5, 'max_depth': 6, 'max_delta_step': 0, 'learning_rate': 0.05, 'gamma': 0.2, 'colsample_bytree': 0.8, 'colsample_bylevel': 0.8}\n",
      "\n",
      "Model with rank: 3\n",
      "Mean validation score: 0.990 (std: 0.00187)\n",
      "Parameters: {'subsample': 0.8, 'scale_pos_weight': 2, 'reg_lambda': 0.1, 'reg_alpha': 1e-05, 'n_estimators': 700, 'min_child_weight': 2, 'max_depth': 5, 'max_delta_step': 0, 'learning_rate': 0.3, 'gamma': 0.2, 'colsample_bytree': 0.5, 'colsample_bylevel': 0.7}\n",
      "\n",
      "Model with rank: 4\n",
      "Mean validation score: 0.988 (std: 0.00331)\n",
      "Parameters: {'subsample': 0.8, 'scale_pos_weight': 4, 'reg_lambda': 0.1, 'reg_alpha': 0.1, 'n_estimators': 500, 'min_child_weight': 5, 'max_depth': 6, 'max_delta_step': 5, 'learning_rate': 0.5, 'gamma': 0.3, 'colsample_bytree': 0.5, 'colsample_bylevel': 0.7}\n",
      "\n",
      "Model with rank: 5\n",
      "Mean validation score: 0.987 (std: 0.00320)\n",
      "Parameters: {'subsample': 0.7, 'scale_pos_weight': 7, 'reg_lambda': 0.1, 'reg_alpha': 1e-05, 'n_estimators': 1000, 'min_child_weight': 5, 'max_depth': 6, 'max_delta_step': 2, 'learning_rate': 0.5, 'gamma': 0.2, 'colsample_bytree': 0.8, 'colsample_bylevel': 0.8}\n",
      "\n"
     ]
    }
   ],
   "source": [
    "report(random_search.cv_results_,5)"
   ]
  },
  {
   "cell_type": "markdown",
   "metadata": {},
   "source": [
    "top 5 classfiers from the previous run \n",
    "\n",
    "Model with rank: 1\n",
    "\n",
    "Mean validation score: 0.928 (std: 0.00232)\n",
    "\n",
    "Parameters: {'reg_lambda': 1e-05, 'subsample': 0.9, 'reg_alpha': 1, 'max_depth': 8, 'min_child_weight': 10, 'n_estimators': 1000, 'gamma': 0.1, 'colsample_bylevel': 0.8, 'scale_pos_weight': 2, 'colsample_bytree': 0.5, 'learning_rate': 0.01, 'max_delta_step': 10}\n",
    "\n",
    "____\n",
    "\n",
    "Model with rank: 2\n",
    "\n",
    "Mean validation score: 0.927 (std: 0.00160)\n",
    "\n",
    "Parameters: {'reg_lambda': 1, 'subsample': 0.6, 'reg_alpha': 0.1, 'max_depth': 4, 'min_child_weight': 2, 'n_estimators': 1000, 'gamma': 0.3, 'colsample_bylevel': 0.9, 'scale_pos_weight': 2, 'colsample_bytree': 0.7, 'learning_rate': 0.05, 'max_delta_step': 5}\n",
    "\n",
    "____\n",
    "\n",
    "Model with rank: 3\n",
    "\n",
    "Mean validation score: 0.926 (std: 0.00101)\n",
    "\n",
    "Parameters: {'reg_lambda': 0.1, 'subsample': 0.7, 'reg_alpha': 1e-05, 'max_depth': 5, 'min_child_weight': 5, 'n_estimators': 500, 'gamma': 0.2, 'colsample_bylevel': 0.5, 'scale_pos_weight': 3, 'colsample_bytree': 0.9, 'learning_rate': 0.1, 'max_delta_step': 1}\n",
    "\n",
    "____\n",
    "\n",
    "Model with rank: 4\n",
    "\n",
    "Mean validation score: 0.925 (std: 0.00104)\n",
    "\n",
    "Parameters: {'reg_lambda': 0.1, 'subsample': 0.9, 'reg_alpha': 0.01, 'max_depth': 6, 'min_child_weight': 2, 'n_estimators': 1000, 'gamma': 0.2, 'colsample_bylevel': 0.8, 'scale_pos_weight': 8, 'colsample_bytree': 0.5, 'learning_rate': 0.05, 'max_delta_step': 0}\n",
    "\n",
    "____\n",
    "\n",
    "Model with rank: 5\n",
    "\n",
    "Mean validation score: 0.920 (std: 0.00278)\n",
    "\n",
    "Parameters: {'reg_lambda': 1, 'subsample': 0.8, 'reg_alpha': 0.1, 'max_depth': 5, 'min_child_weight': 5, 'n_estimators': 500, 'gamma': 0.0, 'colsample_bylevel': 0.5, 'scale_pos_weight': 8, 'colsample_bytree': 0.5, 'learning_rate': 0.01, 'max_delta_step': 5}\n",
    "\n",
    "____\n",
    "\n",
    "tentative performance of best estimator : 0.928\n"
   ]
  },
  {
   "cell_type": "code",
   "execution_count": 29,
   "metadata": {
    "ExecuteTime": {
     "end_time": "2023-06-23T19:01:47.327831Z",
     "start_time": "2023-06-23T19:01:47.297391Z"
    }
   },
   "outputs": [
    {
     "data": {
      "text/plain": [
       "XGBClassifier(base_score=0.5, booster=None, colsample_bylevel=0.7,\n",
       "              colsample_bynode=1, colsample_bytree=0.8, gamma=0.2, gpu_id=-1,\n",
       "              importance_type='gain', interaction_constraints=None,\n",
       "              learning_rate=0.05, max_delta_step=0, max_depth=5,\n",
       "              min_child_weight=2, missing=nan, monotone_constraints=None,\n",
       "              n_estimators=700, n_jobs=0, num_parallel_tree=1, random_state=0,\n",
       "              reg_alpha=0.1, reg_lambda=1e-05, scale_pos_weight=5,\n",
       "              subsample=0.8, tree_method=None, validate_parameters=False,\n",
       "              verbosity=None)"
      ]
     },
     "execution_count": 29,
     "metadata": {},
     "output_type": "execute_result"
    }
   ],
   "source": [
    "random_search.best_estimator_"
   ]
  },
  {
   "cell_type": "markdown",
   "metadata": {},
   "source": [
    "best estimator from the previous run can be copied from here :\n",
    "\n",
    "XGBClassifier(base_score=0.5, colsample_bylevel=0.8, colsample_bytree=0.5,\n",
    "       gamma=0.1, learning_rate=0.01, max_delta_step=10, max_depth=8,\n",
    "       min_child_weight=10, missing=None, n_estimators=1000, nthread=-1,\n",
    "       objective='binary:logistic', reg_alpha=1, reg_lambda=1e-05,\n",
    "       scale_pos_weight=2, seed=0, silent=True, subsample=0.9)"
   ]
  },
  {
   "cell_type": "markdown",
   "metadata": {},
   "source": [
    "**Note: you can use the random search predict,predict_proba function to make prediction as randomisedsearchcv automatically fits the best candidate on complete data. If you want to look into feature_importance etc, then fit the best estimator separately**"
   ]
  },
  {
   "cell_type": "markdown",
   "metadata": {},
   "source": [
    "## Sequential Parameter tuning for xgboost"
   ]
  },
  {
   "cell_type": "markdown",
   "metadata": {},
   "source": [
    "If we tune all the paramters together , there are chances that our results will be much far from the best. There are many parameters where variation doesnt impact the performance too much and we can tune them later once we have fixed values of parameters with volatile performance.\n",
    "\n",
    "As a general strtaegy you can start with tuning numer of trees or n_estimators , in case of boosting machines , learning_rate is directly related with n_estimators . A very low learning_rate will need high number of n_estimators . We can start with a decent fixed learning rate and tune n_estimaors for it. \n",
    "\n",
    "All can be left as default for now except subsample , colsample_bytree and colsample_bylevel, these are set to default=1, we'll take a more conservative value 0.8"
   ]
  },
  {
   "cell_type": "code",
   "execution_count": null,
   "metadata": {},
   "outputs": [],
   "source": [
    "xgb_params = {  \n",
    "                \"learning_rate\":[0.01,0.05,0.1,0.3,0.5],\n",
    "                \"gamma\":[i/10.0 for i in range(0,5)], #[0.0,0.1, 0.2,0.3,0.4]\n",
    "                \"max_depth\": [2,3,4,5,6,7,8],\n",
    "                \"min_child_weight\":[1,2,5,10],\n",
    "                \"max_delta_step\":[0,1,2,5,10],\n",
    "                \"subsample\":[i/10.0 for i in range(5,10)],\n",
    "                \"colsample_bytree\":[i/10.0 for i in range(5,10)],\n",
    "                \"colsample_bylevel\":[i/10.0 for i in range(5,10)],\n",
    "                \"reg_lambda\":[1e-5, 1e-2, 0.1, 1, 100], \n",
    "                \"reg_alpha\":[1e-5, 1e-2, 0.1, 1, 100],\n",
    "                \"scale_pos_weight\":[1,2,3,4,5,6,7,8,9],\n",
    "                \"n_estimators\":[100,500,700,1000]\n",
    "             }\n"
   ]
  },
  {
   "cell_type": "code",
   "execution_count": null,
   "metadata": {},
   "outputs": [],
   "source": []
  },
  {
   "cell_type": "code",
   "execution_count": null,
   "metadata": {},
   "outputs": [],
   "source": []
  },
  {
   "cell_type": "code",
   "execution_count": null,
   "metadata": {},
   "outputs": [],
   "source": []
  },
  {
   "cell_type": "code",
   "execution_count": 30,
   "metadata": {
    "ExecuteTime": {
     "end_time": "2023-06-23T19:01:47.392874Z",
     "start_time": "2023-06-23T19:01:47.330826Z"
    }
   },
   "outputs": [],
   "source": [
    "XGBClassifier?"
   ]
  },
  {
   "cell_type": "code",
   "execution_count": 31,
   "metadata": {
    "ExecuteTime": {
     "end_time": "2023-06-23T19:01:47.408498Z",
     "start_time": "2023-06-23T19:01:47.392874Z"
    }
   },
   "outputs": [],
   "source": [
    "xgb_params = {  \n",
    "                \"n_estimators\":[100,500,700,900,1000,1200,1500]\n",
    "             }"
   ]
  },
  {
   "cell_type": "code",
   "execution_count": 32,
   "metadata": {
    "ExecuteTime": {
     "end_time": "2023-06-23T19:01:47.428812Z",
     "start_time": "2023-06-23T19:01:47.408498Z"
    }
   },
   "outputs": [],
   "source": [
    "xgb1=XGBClassifier(subsample=0.8,\n",
    "                   colsample_bylevel=0.8,\n",
    "                   colsample_bytree=0.8)"
   ]
  },
  {
   "cell_type": "code",
   "execution_count": 33,
   "metadata": {
    "ExecuteTime": {
     "end_time": "2023-06-23T19:01:47.444768Z",
     "start_time": "2023-06-23T19:01:47.430808Z"
    }
   },
   "outputs": [],
   "source": [
    "import os\n",
    "\n",
    "os.environ['KMP_DUPLICATE_LIB_OK']='True'"
   ]
  },
  {
   "cell_type": "code",
   "execution_count": 34,
   "metadata": {
    "ExecuteTime": {
     "end_time": "2023-06-23T19:01:47.460725Z",
     "start_time": "2023-06-23T19:01:47.446763Z"
    }
   },
   "outputs": [],
   "source": [
    "from sklearn.model_selection import GridSearchCV"
   ]
  },
  {
   "cell_type": "code",
   "execution_count": 35,
   "metadata": {
    "ExecuteTime": {
     "end_time": "2023-06-23T19:01:47.476437Z",
     "start_time": "2023-06-23T19:01:47.461378Z"
    }
   },
   "outputs": [],
   "source": [
    "grid_search=GridSearchCV(xgb1,cv=10,\n",
    "                         param_grid=xgb_params,\n",
    "                         scoring='roc_auc',\n",
    "                         verbose=20)\n",
    "\n",
    "# two issues : currently xgboost is not running with multicores \n",
    "# mac issue:"
   ]
  },
  {
   "cell_type": "code",
   "execution_count": 36,
   "metadata": {
    "ExecuteTime": {
     "end_time": "2023-06-23T19:07:32.204453Z",
     "start_time": "2023-06-23T19:01:47.476437Z"
    }
   },
   "outputs": [
    {
     "name": "stdout",
     "output_type": "stream",
     "text": [
      "Fitting 10 folds for each of 7 candidates, totalling 70 fits\n",
      "[CV 1/10; 1/7] START n_estimators=100...........................................\n",
      "[CV 1/10; 1/7] END ............n_estimators=100;, score=0.992 total time=   0.7s\n",
      "[CV 2/10; 1/7] START n_estimators=100...........................................\n",
      "[CV 2/10; 1/7] END ............n_estimators=100;, score=0.987 total time=   0.6s\n",
      "[CV 3/10; 1/7] START n_estimators=100...........................................\n",
      "[CV 3/10; 1/7] END ............n_estimators=100;, score=0.990 total time=   0.7s\n",
      "[CV 4/10; 1/7] START n_estimators=100...........................................\n",
      "[CV 4/10; 1/7] END ............n_estimators=100;, score=0.992 total time=   0.6s\n",
      "[CV 5/10; 1/7] START n_estimators=100...........................................\n",
      "[CV 5/10; 1/7] END ............n_estimators=100;, score=0.992 total time=   0.6s\n",
      "[CV 6/10; 1/7] START n_estimators=100...........................................\n",
      "[CV 6/10; 1/7] END ............n_estimators=100;, score=0.992 total time=   0.6s\n",
      "[CV 7/10; 1/7] START n_estimators=100...........................................\n",
      "[CV 7/10; 1/7] END ............n_estimators=100;, score=0.990 total time=   0.7s\n",
      "[CV 8/10; 1/7] START n_estimators=100...........................................\n",
      "[CV 8/10; 1/7] END ............n_estimators=100;, score=0.987 total time=   0.7s\n",
      "[CV 9/10; 1/7] START n_estimators=100...........................................\n",
      "[CV 9/10; 1/7] END ............n_estimators=100;, score=0.989 total time=   0.7s\n",
      "[CV 10/10; 1/7] START n_estimators=100..........................................\n",
      "[CV 10/10; 1/7] END ...........n_estimators=100;, score=0.990 total time=   0.8s\n",
      "[CV 1/10; 2/7] START n_estimators=500...........................................\n",
      "[CV 1/10; 2/7] END ............n_estimators=500;, score=0.989 total time=   3.4s\n",
      "[CV 2/10; 2/7] START n_estimators=500...........................................\n",
      "[CV 2/10; 2/7] END ............n_estimators=500;, score=0.987 total time=   3.0s\n",
      "[CV 3/10; 2/7] START n_estimators=500...........................................\n",
      "[CV 3/10; 2/7] END ............n_estimators=500;, score=0.990 total time=   3.3s\n",
      "[CV 4/10; 2/7] START n_estimators=500...........................................\n",
      "[CV 4/10; 2/7] END ............n_estimators=500;, score=0.993 total time=   3.0s\n",
      "[CV 5/10; 2/7] START n_estimators=500...........................................\n",
      "[CV 5/10; 2/7] END ............n_estimators=500;, score=0.991 total time=   3.0s\n",
      "[CV 6/10; 2/7] START n_estimators=500...........................................\n",
      "[CV 6/10; 2/7] END ............n_estimators=500;, score=0.993 total time=   3.0s\n",
      "[CV 7/10; 2/7] START n_estimators=500...........................................\n",
      "[CV 7/10; 2/7] END ............n_estimators=500;, score=0.990 total time=   3.2s\n",
      "[CV 8/10; 2/7] START n_estimators=500...........................................\n",
      "[CV 8/10; 2/7] END ............n_estimators=500;, score=0.991 total time=   3.0s\n",
      "[CV 9/10; 2/7] START n_estimators=500...........................................\n",
      "[CV 9/10; 2/7] END ............n_estimators=500;, score=0.990 total time=   3.0s\n",
      "[CV 10/10; 2/7] START n_estimators=500..........................................\n",
      "[CV 10/10; 2/7] END ...........n_estimators=500;, score=0.991 total time=   3.0s\n",
      "[CV 1/10; 3/7] START n_estimators=700...........................................\n",
      "[CV 1/10; 3/7] END ............n_estimators=700;, score=0.989 total time=   4.0s\n",
      "[CV 2/10; 3/7] START n_estimators=700...........................................\n",
      "[CV 2/10; 3/7] END ............n_estimators=700;, score=0.987 total time=   4.0s\n",
      "[CV 3/10; 3/7] START n_estimators=700...........................................\n",
      "[CV 3/10; 3/7] END ............n_estimators=700;, score=0.989 total time=   4.0s\n",
      "[CV 4/10; 3/7] START n_estimators=700...........................................\n",
      "[CV 4/10; 3/7] END ............n_estimators=700;, score=0.993 total time=   4.0s\n",
      "[CV 5/10; 3/7] START n_estimators=700...........................................\n",
      "[CV 5/10; 3/7] END ............n_estimators=700;, score=0.991 total time=   4.0s\n",
      "[CV 6/10; 3/7] START n_estimators=700...........................................\n",
      "[CV 6/10; 3/7] END ............n_estimators=700;, score=0.993 total time=   4.0s\n",
      "[CV 7/10; 3/7] START n_estimators=700...........................................\n",
      "[CV 7/10; 3/7] END ............n_estimators=700;, score=0.990 total time=   4.0s\n",
      "[CV 8/10; 3/7] START n_estimators=700...........................................\n",
      "[CV 8/10; 3/7] END ............n_estimators=700;, score=0.991 total time=   4.1s\n",
      "[CV 9/10; 3/7] START n_estimators=700...........................................\n",
      "[CV 9/10; 3/7] END ............n_estimators=700;, score=0.990 total time=   4.0s\n",
      "[CV 10/10; 3/7] START n_estimators=700..........................................\n",
      "[CV 10/10; 3/7] END ...........n_estimators=700;, score=0.991 total time=   4.1s\n",
      "[CV 1/10; 4/7] START n_estimators=900...........................................\n",
      "[CV 1/10; 4/7] END ............n_estimators=900;, score=0.988 total time=   5.7s\n",
      "[CV 2/10; 4/7] START n_estimators=900...........................................\n",
      "[CV 2/10; 4/7] END ............n_estimators=900;, score=0.987 total time=   5.6s\n",
      "[CV 3/10; 4/7] START n_estimators=900...........................................\n",
      "[CV 3/10; 4/7] END ............n_estimators=900;, score=0.989 total time=   5.6s\n",
      "[CV 4/10; 4/7] START n_estimators=900...........................................\n",
      "[CV 4/10; 4/7] END ............n_estimators=900;, score=0.993 total time=   6.2s\n",
      "[CV 5/10; 4/7] START n_estimators=900...........................................\n",
      "[CV 5/10; 4/7] END ............n_estimators=900;, score=0.991 total time=   5.8s\n",
      "[CV 6/10; 4/7] START n_estimators=900...........................................\n",
      "[CV 6/10; 4/7] END ............n_estimators=900;, score=0.993 total time=   5.2s\n",
      "[CV 7/10; 4/7] START n_estimators=900...........................................\n",
      "[CV 7/10; 4/7] END ............n_estimators=900;, score=0.990 total time=   5.0s\n",
      "[CV 8/10; 4/7] START n_estimators=900...........................................\n",
      "[CV 8/10; 4/7] END ............n_estimators=900;, score=0.991 total time=   5.0s\n",
      "[CV 9/10; 4/7] START n_estimators=900...........................................\n",
      "[CV 9/10; 4/7] END ............n_estimators=900;, score=0.990 total time=   5.3s\n",
      "[CV 10/10; 4/7] START n_estimators=900..........................................\n",
      "[CV 10/10; 4/7] END ...........n_estimators=900;, score=0.990 total time=   5.2s\n",
      "[CV 1/10; 5/7] START n_estimators=1000..........................................\n",
      "[CV 1/10; 5/7] END ...........n_estimators=1000;, score=0.988 total time=   5.6s\n",
      "[CV 2/10; 5/7] START n_estimators=1000..........................................\n",
      "[CV 2/10; 5/7] END ...........n_estimators=1000;, score=0.986 total time=   5.4s\n",
      "[CV 3/10; 5/7] START n_estimators=1000..........................................\n",
      "[CV 3/10; 5/7] END ...........n_estimators=1000;, score=0.989 total time=   5.6s\n",
      "[CV 4/10; 5/7] START n_estimators=1000..........................................\n",
      "[CV 4/10; 5/7] END ...........n_estimators=1000;, score=0.994 total time=   5.7s\n",
      "[CV 5/10; 5/7] START n_estimators=1000..........................................\n",
      "[CV 5/10; 5/7] END ...........n_estimators=1000;, score=0.991 total time=   6.1s\n",
      "[CV 6/10; 5/7] START n_estimators=1000..........................................\n",
      "[CV 6/10; 5/7] END ...........n_estimators=1000;, score=0.993 total time=   5.6s\n",
      "[CV 7/10; 5/7] START n_estimators=1000..........................................\n",
      "[CV 7/10; 5/7] END ...........n_estimators=1000;, score=0.990 total time=   5.5s\n",
      "[CV 8/10; 5/7] START n_estimators=1000..........................................\n",
      "[CV 8/10; 5/7] END ...........n_estimators=1000;, score=0.991 total time=   5.6s\n",
      "[CV 9/10; 5/7] START n_estimators=1000..........................................\n",
      "[CV 9/10; 5/7] END ...........n_estimators=1000;, score=0.990 total time=   5.5s\n",
      "[CV 10/10; 5/7] START n_estimators=1000.........................................\n",
      "[CV 10/10; 5/7] END ..........n_estimators=1000;, score=0.990 total time=   5.8s\n",
      "[CV 1/10; 6/7] START n_estimators=1200..........................................\n"
     ]
    },
    {
     "name": "stdout",
     "output_type": "stream",
     "text": [
      "[CV 1/10; 6/7] END ...........n_estimators=1200;, score=0.987 total time=   7.3s\n",
      "[CV 2/10; 6/7] START n_estimators=1200..........................................\n",
      "[CV 2/10; 6/7] END ...........n_estimators=1200;, score=0.987 total time=   6.5s\n",
      "[CV 3/10; 6/7] START n_estimators=1200..........................................\n",
      "[CV 3/10; 6/7] END ...........n_estimators=1200;, score=0.989 total time=   6.4s\n",
      "[CV 4/10; 6/7] START n_estimators=1200..........................................\n",
      "[CV 4/10; 6/7] END ...........n_estimators=1200;, score=0.994 total time=   6.6s\n",
      "[CV 5/10; 6/7] START n_estimators=1200..........................................\n",
      "[CV 5/10; 6/7] END ...........n_estimators=1200;, score=0.991 total time=   6.5s\n",
      "[CV 6/10; 6/7] START n_estimators=1200..........................................\n",
      "[CV 6/10; 6/7] END ...........n_estimators=1200;, score=0.993 total time=   6.7s\n",
      "[CV 7/10; 6/7] START n_estimators=1200..........................................\n",
      "[CV 7/10; 6/7] END ...........n_estimators=1200;, score=0.990 total time=   7.2s\n",
      "[CV 8/10; 6/7] START n_estimators=1200..........................................\n",
      "[CV 8/10; 6/7] END ...........n_estimators=1200;, score=0.990 total time=   6.5s\n",
      "[CV 9/10; 6/7] START n_estimators=1200..........................................\n",
      "[CV 9/10; 6/7] END ...........n_estimators=1200;, score=0.990 total time=   6.5s\n",
      "[CV 10/10; 6/7] START n_estimators=1200.........................................\n",
      "[CV 10/10; 6/7] END ..........n_estimators=1200;, score=0.990 total time=   6.6s\n",
      "[CV 1/10; 7/7] START n_estimators=1500..........................................\n",
      "[CV 1/10; 7/7] END ...........n_estimators=1500;, score=0.987 total time=   7.8s\n",
      "[CV 2/10; 7/7] START n_estimators=1500..........................................\n",
      "[CV 2/10; 7/7] END ...........n_estimators=1500;, score=0.986 total time=   7.8s\n",
      "[CV 3/10; 7/7] START n_estimators=1500..........................................\n",
      "[CV 3/10; 7/7] END ...........n_estimators=1500;, score=0.989 total time=   7.8s\n",
      "[CV 4/10; 7/7] START n_estimators=1500..........................................\n",
      "[CV 4/10; 7/7] END ...........n_estimators=1500;, score=0.994 total time=   7.8s\n",
      "[CV 5/10; 7/7] START n_estimators=1500..........................................\n",
      "[CV 5/10; 7/7] END ...........n_estimators=1500;, score=0.991 total time=   8.8s\n",
      "[CV 6/10; 7/7] START n_estimators=1500..........................................\n",
      "[CV 6/10; 7/7] END ...........n_estimators=1500;, score=0.993 total time=   8.0s\n",
      "[CV 7/10; 7/7] START n_estimators=1500..........................................\n",
      "[CV 7/10; 7/7] END ...........n_estimators=1500;, score=0.990 total time=   7.6s\n",
      "[CV 8/10; 7/7] START n_estimators=1500..........................................\n",
      "[CV 8/10; 7/7] END ...........n_estimators=1500;, score=0.990 total time=   7.7s\n",
      "[CV 9/10; 7/7] START n_estimators=1500..........................................\n",
      "[CV 9/10; 7/7] END ...........n_estimators=1500;, score=0.989 total time=   7.6s\n",
      "[CV 10/10; 7/7] START n_estimators=1500.........................................\n",
      "[CV 10/10; 7/7] END ..........n_estimators=1500;, score=0.990 total time=   7.5s\n"
     ]
    },
    {
     "data": {
      "text/plain": [
       "GridSearchCV(cv=10,\n",
       "             estimator=XGBClassifier(base_score=None, booster=None,\n",
       "                                     colsample_bylevel=0.8,\n",
       "                                     colsample_bynode=None,\n",
       "                                     colsample_bytree=0.8, gamma=None,\n",
       "                                     gpu_id=None, importance_type='gain',\n",
       "                                     interaction_constraints=None,\n",
       "                                     learning_rate=None, max_delta_step=None,\n",
       "                                     max_depth=None, min_child_weight=None,\n",
       "                                     missing=nan, monotone_constraints=None,\n",
       "                                     n_estimators=100, n_jobs=None,\n",
       "                                     num_parallel_tree=None, random_state=None,\n",
       "                                     reg_alpha=None, reg_lambda=None,\n",
       "                                     scale_pos_weight=None, subsample=0.8,\n",
       "                                     tree_method=None,\n",
       "                                     validate_parameters=False,\n",
       "                                     verbosity=None),\n",
       "             param_grid={'n_estimators': [100, 500, 700, 900, 1000, 1200,\n",
       "                                          1500]},\n",
       "             scoring='roc_auc', verbose=20)"
      ]
     },
     "execution_count": 36,
     "metadata": {},
     "output_type": "execute_result"
    }
   ],
   "source": [
    "grid_search.fit(x_train,y_train)"
   ]
  },
  {
   "cell_type": "code",
   "execution_count": 37,
   "metadata": {
    "ExecuteTime": {
     "end_time": "2023-06-23T19:07:32.219886Z",
     "start_time": "2023-06-23T19:07:32.207018Z"
    }
   },
   "outputs": [
    {
     "name": "stdout",
     "output_type": "stream",
     "text": [
      "Model with rank: 1\n",
      "Mean validation score: 0.990 (std: 0.00170)\n",
      "Parameters: {'n_estimators': 500}\n",
      "\n",
      "Model with rank: 2\n",
      "Mean validation score: 0.990 (std: 0.00183)\n",
      "Parameters: {'n_estimators': 700}\n",
      "\n",
      "Model with rank: 3\n",
      "Mean validation score: 0.990 (std: 0.00188)\n",
      "Parameters: {'n_estimators': 900}\n",
      "\n"
     ]
    }
   ],
   "source": [
    "report(grid_search.cv_results_,3)"
   ]
  },
  {
   "cell_type": "markdown",
   "metadata": {},
   "source": [
    "we got n_estimator=500 as best with learning_rate=0.1  . Next we'll tune max_depth,gamma and min_child_weight, which control overfit by controlling size of individual trees"
   ]
  },
  {
   "cell_type": "code",
   "execution_count": 38,
   "metadata": {
    "ExecuteTime": {
     "end_time": "2023-06-23T19:07:32.239570Z",
     "start_time": "2023-06-23T19:07:32.221880Z"
    }
   },
   "outputs": [],
   "source": [
    "xgb_params={\n",
    "            \"gamma\":[0,2,5,8,10],\n",
    "            \"max_depth\": [2,3,4,5,6,7,8],\n",
    "            \"min_child_weight\":[0.5,1,2,5,10]\n",
    "            }"
   ]
  },
  {
   "cell_type": "code",
   "execution_count": 39,
   "metadata": {
    "ExecuteTime": {
     "end_time": "2023-06-23T19:07:32.255321Z",
     "start_time": "2023-06-23T19:07:32.242562Z"
    }
   },
   "outputs": [],
   "source": [
    "xgb2=XGBClassifier(learning_rate=0.1,n_estimators=500,\n",
    "                   subsample=0.8,colsample_bylevel=0.8,colsample_bytree=0.8)"
   ]
  },
  {
   "cell_type": "code",
   "execution_count": 40,
   "metadata": {
    "ExecuteTime": {
     "end_time": "2023-06-23T19:07:32.270021Z",
     "start_time": "2023-06-23T19:07:32.255634Z"
    }
   },
   "outputs": [],
   "source": [
    "random_search=RandomizedSearchCV(xgb2,\n",
    "                                 param_distributions=xgb_params,n_iter=20,cv=5,scoring='roc_auc',\n",
    "                                 n_jobs=-1,verbose=2)"
   ]
  },
  {
   "cell_type": "code",
   "execution_count": 41,
   "metadata": {
    "ExecuteTime": {
     "end_time": "2023-06-24T06:23:41.556177Z",
     "start_time": "2023-06-23T19:07:32.273013Z"
    }
   },
   "outputs": [
    {
     "name": "stdout",
     "output_type": "stream",
     "text": [
      "Fitting 5 folds for each of 20 candidates, totalling 100 fits\n"
     ]
    },
    {
     "data": {
      "text/plain": [
       "RandomizedSearchCV(cv=5,\n",
       "                   estimator=XGBClassifier(base_score=None, booster=None,\n",
       "                                           colsample_bylevel=0.8,\n",
       "                                           colsample_bynode=None,\n",
       "                                           colsample_bytree=0.8, gamma=None,\n",
       "                                           gpu_id=None, importance_type='gain',\n",
       "                                           interaction_constraints=None,\n",
       "                                           learning_rate=0.1,\n",
       "                                           max_delta_step=None, max_depth=None,\n",
       "                                           min_child_weight=None, missing=nan,\n",
       "                                           monotone_constraints=None,\n",
       "                                           n_estimators=500, n_jobs=None,\n",
       "                                           num_parallel_tree=None,\n",
       "                                           random_state=None, reg_alpha=None,\n",
       "                                           reg_lambda=None,\n",
       "                                           scale_pos_weight=None, subsample=0.8,\n",
       "                                           tree_method=None,\n",
       "                                           validate_parameters=False,\n",
       "                                           verbosity=None),\n",
       "                   n_iter=20, n_jobs=-1,\n",
       "                   param_distributions={'gamma': [0, 2, 5, 8, 10],\n",
       "                                        'max_depth': [2, 3, 4, 5, 6, 7, 8],\n",
       "                                        'min_child_weight': [0.5, 1, 2, 5, 10]},\n",
       "                   scoring='roc_auc', verbose=2)"
      ]
     },
     "execution_count": 41,
     "metadata": {},
     "output_type": "execute_result"
    }
   ],
   "source": [
    "random_search.fit(x_train,y_train)"
   ]
  },
  {
   "cell_type": "code",
   "execution_count": 42,
   "metadata": {
    "ExecuteTime": {
     "end_time": "2023-06-24T06:23:41.588095Z",
     "start_time": "2023-06-24T06:23:41.567148Z"
    }
   },
   "outputs": [
    {
     "name": "stdout",
     "output_type": "stream",
     "text": [
      "Model with rank: 1\n",
      "Mean validation score: 0.991 (std: 0.00090)\n",
      "Parameters: {'min_child_weight': 1, 'max_depth': 6, 'gamma': 0}\n",
      "\n",
      "Model with rank: 2\n",
      "Mean validation score: 0.991 (std: 0.00100)\n",
      "Parameters: {'min_child_weight': 0.5, 'max_depth': 8, 'gamma': 0}\n",
      "\n",
      "Model with rank: 3\n",
      "Mean validation score: 0.990 (std: 0.00114)\n",
      "Parameters: {'min_child_weight': 2, 'max_depth': 8, 'gamma': 2}\n",
      "\n"
     ]
    }
   ],
   "source": [
    "report(random_search.cv_results_,3)"
   ]
  },
  {
   "cell_type": "markdown",
   "metadata": {},
   "source": [
    "we got best values for parameters being tuned as follows : {'min_child_weight': 1, 'gamma': 0, 'max_depth': 3}"
   ]
  },
  {
   "cell_type": "markdown",
   "metadata": {},
   "source": [
    "Since there is imbalance in the data , we'll look into max_delta_step and scale_pos_weight next"
   ]
  },
  {
   "cell_type": "code",
   "execution_count": 43,
   "metadata": {
    "ExecuteTime": {
     "end_time": "2023-06-24T06:23:41.603568Z",
     "start_time": "2023-06-24T06:23:41.594078Z"
    }
   },
   "outputs": [
    {
     "data": {
      "text/plain": [
       "0    7261\n",
       "1     863\n",
       "Name: Revenue.Grid, dtype: int64"
      ]
     },
     "execution_count": 43,
     "metadata": {},
     "output_type": "execute_result"
    }
   ],
   "source": [
    "y_train.value_counts()"
   ]
  },
  {
   "cell_type": "code",
   "execution_count": 44,
   "metadata": {
    "ExecuteTime": {
     "end_time": "2023-06-24T06:23:41.619525Z",
     "start_time": "2023-06-24T06:23:41.606560Z"
    }
   },
   "outputs": [
    {
     "data": {
      "text/plain": [
       "3.152659099604642"
      ]
     },
     "execution_count": 44,
     "metadata": {},
     "output_type": "execute_result"
    }
   ],
   "source": [
    "24720/7841"
   ]
  },
  {
   "cell_type": "code",
   "execution_count": 45,
   "metadata": {
    "ExecuteTime": {
     "end_time": "2023-06-24T06:23:41.635482Z",
     "start_time": "2023-06-24T06:23:41.622517Z"
    }
   },
   "outputs": [],
   "source": [
    "xgb_params={\n",
    "            'max_delta_step':[0,1,3,6,10],\n",
    "            'scale_pos_weight':[1,2,3,4]\n",
    "            }"
   ]
  },
  {
   "cell_type": "code",
   "execution_count": 46,
   "metadata": {
    "ExecuteTime": {
     "end_time": "2023-06-24T06:23:41.652357Z",
     "start_time": "2023-06-24T06:23:41.637352Z"
    }
   },
   "outputs": [],
   "source": [
    "xgb3=XGBClassifier(learning_rate=0.1,\n",
    "                   n_estimators=500,min_child_weight=1,\n",
    "                   gamma=0,max_depth=3,\n",
    "                   \n",
    "                  subsample=0.8,colsample_bylevel=0.8,colsample_bytree=0.8)"
   ]
  },
  {
   "cell_type": "code",
   "execution_count": 47,
   "metadata": {
    "ExecuteTime": {
     "end_time": "2023-06-24T06:23:41.667483Z",
     "start_time": "2023-06-24T06:23:41.654008Z"
    }
   },
   "outputs": [],
   "source": [
    "grid_search=GridSearchCV(xgb3,param_grid=xgb_params,cv=5,scoring='roc_auc',n_jobs=-1,\n",
    "                         verbose=10)"
   ]
  },
  {
   "cell_type": "code",
   "execution_count": 48,
   "metadata": {
    "ExecuteTime": {
     "end_time": "2023-06-24T06:26:03.574960Z",
     "start_time": "2023-06-24T06:23:41.669478Z"
    }
   },
   "outputs": [
    {
     "name": "stdout",
     "output_type": "stream",
     "text": [
      "Fitting 5 folds for each of 20 candidates, totalling 100 fits\n"
     ]
    },
    {
     "data": {
      "text/plain": [
       "GridSearchCV(cv=5,\n",
       "             estimator=XGBClassifier(base_score=None, booster=None,\n",
       "                                     colsample_bylevel=0.8,\n",
       "                                     colsample_bynode=None,\n",
       "                                     colsample_bytree=0.8, gamma=0, gpu_id=None,\n",
       "                                     importance_type='gain',\n",
       "                                     interaction_constraints=None,\n",
       "                                     learning_rate=0.1, max_delta_step=None,\n",
       "                                     max_depth=3, min_child_weight=1,\n",
       "                                     missing=nan, monotone_constraints=None,\n",
       "                                     n_estimators=500, n_jobs=None,\n",
       "                                     num_parallel_tree=None, random_state=None,\n",
       "                                     reg_alpha=None, reg_lambda=None,\n",
       "                                     scale_pos_weight=None, subsample=0.8,\n",
       "                                     tree_method=None,\n",
       "                                     validate_parameters=False,\n",
       "                                     verbosity=None),\n",
       "             n_jobs=-1,\n",
       "             param_grid={'max_delta_step': [0, 1, 3, 6, 10],\n",
       "                         'scale_pos_weight': [1, 2, 3, 4]},\n",
       "             scoring='roc_auc', verbose=10)"
      ]
     },
     "execution_count": 48,
     "metadata": {},
     "output_type": "execute_result"
    }
   ],
   "source": [
    "grid_search.fit(x_train,y_train)"
   ]
  },
  {
   "cell_type": "code",
   "execution_count": 49,
   "metadata": {
    "ExecuteTime": {
     "end_time": "2023-06-24T06:26:03.590298Z",
     "start_time": "2023-06-24T06:26:03.577333Z"
    }
   },
   "outputs": [
    {
     "name": "stdout",
     "output_type": "stream",
     "text": [
      "Model with rank: 1\n",
      "Mean validation score: 0.990 (std: 0.00205)\n",
      "Parameters: {'max_delta_step': 0, 'scale_pos_weight': 2}\n",
      "\n",
      "Model with rank: 1\n",
      "Mean validation score: 0.990 (std: 0.00205)\n",
      "Parameters: {'max_delta_step': 6, 'scale_pos_weight': 2}\n",
      "\n",
      "Model with rank: 1\n",
      "Mean validation score: 0.990 (std: 0.00205)\n",
      "Parameters: {'max_delta_step': 10, 'scale_pos_weight': 2}\n",
      "\n"
     ]
    }
   ],
   "source": [
    "report(grid_search.cv_results_,3)"
   ]
  },
  {
   "cell_type": "markdown",
   "metadata": {},
   "source": [
    "it turns out that , since imbalance was not that severe , defaults come out as best choices {'scale_pos_weight': 1, 'max_delta_step': 0}"
   ]
  },
  {
   "cell_type": "markdown",
   "metadata": {},
   "source": [
    "Next we check the effect of the noise on data and tune , subsample , colsample_bytree and colsample_bylevel"
   ]
  },
  {
   "cell_type": "code",
   "execution_count": 50,
   "metadata": {
    "ExecuteTime": {
     "end_time": "2023-06-24T06:26:03.605764Z",
     "start_time": "2023-06-24T06:26:03.593796Z"
    }
   },
   "outputs": [],
   "source": [
    "xgb_params={\n",
    "            'subsample':[i/10 for i in range(5,11)],\n",
    "            'colsample_bytree':[i/10 for i in range(5,11)],\n",
    "            'colsample_bylevel':[i/10 for i in range(5,11)]\n",
    "            }"
   ]
  },
  {
   "cell_type": "code",
   "execution_count": 51,
   "metadata": {
    "ExecuteTime": {
     "end_time": "2023-06-24T06:26:03.621722Z",
     "start_time": "2023-06-24T06:26:03.608757Z"
    }
   },
   "outputs": [],
   "source": [
    "xgb4=XGBClassifier(learning_rate=0.1,n_estimators=500,min_child_weight=1,gamma=0,max_depth=3,\n",
    "                        scale_pos_weight=1,max_delta_step=0\n",
    "                  )"
   ]
  },
  {
   "cell_type": "code",
   "execution_count": 52,
   "metadata": {
    "ExecuteTime": {
     "end_time": "2023-06-24T06:26:03.637679Z",
     "start_time": "2023-06-24T06:26:03.624714Z"
    }
   },
   "outputs": [],
   "source": [
    "random_search=RandomizedSearchCV(xgb4,param_distributions=xgb_params,cv=5,n_iter=20,scoring='roc_auc',\n",
    "                                n_jobs=-1,verbose=20)"
   ]
  },
  {
   "cell_type": "code",
   "execution_count": 53,
   "metadata": {
    "ExecuteTime": {
     "end_time": "2023-06-24T06:28:07.757123Z",
     "start_time": "2023-06-24T06:26:03.640671Z"
    }
   },
   "outputs": [
    {
     "name": "stdout",
     "output_type": "stream",
     "text": [
      "Fitting 5 folds for each of 20 candidates, totalling 100 fits\n"
     ]
    },
    {
     "data": {
      "text/plain": [
       "RandomizedSearchCV(cv=5,\n",
       "                   estimator=XGBClassifier(base_score=None, booster=None,\n",
       "                                           colsample_bylevel=None,\n",
       "                                           colsample_bynode=None,\n",
       "                                           colsample_bytree=None, gamma=0,\n",
       "                                           gpu_id=None, importance_type='gain',\n",
       "                                           interaction_constraints=None,\n",
       "                                           learning_rate=0.1, max_delta_step=0,\n",
       "                                           max_depth=3, min_child_weight=1,\n",
       "                                           missing=nan,\n",
       "                                           monotone_constraints=None,\n",
       "                                           n_estimators=500, n_jobs=None,\n",
       "                                           n...ee=None,\n",
       "                                           random_state=None, reg_alpha=None,\n",
       "                                           reg_lambda=None, scale_pos_weight=1,\n",
       "                                           subsample=None, tree_method=None,\n",
       "                                           validate_parameters=False,\n",
       "                                           verbosity=None),\n",
       "                   n_iter=20, n_jobs=-1,\n",
       "                   param_distributions={'colsample_bylevel': [0.5, 0.6, 0.7,\n",
       "                                                              0.8, 0.9, 1.0],\n",
       "                                        'colsample_bytree': [0.5, 0.6, 0.7, 0.8,\n",
       "                                                             0.9, 1.0],\n",
       "                                        'subsample': [0.5, 0.6, 0.7, 0.8, 0.9,\n",
       "                                                      1.0]},\n",
       "                   scoring='roc_auc', verbose=20)"
      ]
     },
     "execution_count": 53,
     "metadata": {},
     "output_type": "execute_result"
    }
   ],
   "source": [
    "random_search.fit(x_train,y_train)"
   ]
  },
  {
   "cell_type": "code",
   "execution_count": 54,
   "metadata": {
    "ExecuteTime": {
     "end_time": "2023-06-24T06:28:07.772083Z",
     "start_time": "2023-06-24T06:28:07.760115Z"
    }
   },
   "outputs": [
    {
     "name": "stdout",
     "output_type": "stream",
     "text": [
      "Model with rank: 1\n",
      "Mean validation score: 0.989 (std: 0.00217)\n",
      "Parameters: {'subsample': 0.9, 'colsample_bytree': 0.8, 'colsample_bylevel': 1.0}\n",
      "\n",
      "Model with rank: 2\n",
      "Mean validation score: 0.989 (std: 0.00200)\n",
      "Parameters: {'subsample': 0.7, 'colsample_bytree': 0.6, 'colsample_bylevel': 1.0}\n",
      "\n",
      "Model with rank: 3\n",
      "Mean validation score: 0.989 (std: 0.00170)\n",
      "Parameters: {'subsample': 0.5, 'colsample_bytree': 0.6, 'colsample_bylevel': 1.0}\n",
      "\n"
     ]
    }
   ],
   "source": [
    "report(random_search.cv_results_,3)"
   ]
  },
  {
   "cell_type": "markdown",
   "metadata": {},
   "source": [
    "bets values that we got for paramaeters are as follows : {'colsample_bylevel': 0.5, 'colsample_bytree': 0.6, 'subsample': 1.0}"
   ]
  },
  {
   "cell_type": "markdown",
   "metadata": {},
   "source": [
    "lastly we can work on L2 and L1 penalty on leaf node score to further reduce overfit if there is any"
   ]
  },
  {
   "cell_type": "code",
   "execution_count": 55,
   "metadata": {
    "ExecuteTime": {
     "end_time": "2023-06-24T06:28:07.787043Z",
     "start_time": "2023-06-24T06:28:07.775075Z"
    }
   },
   "outputs": [],
   "source": [
    "xgb5=XGBClassifier(learning_rate=0.1,n_estimators=500,min_child_weight=1,gamma=0,max_depth=3,\n",
    "                        scale_pos_weight=1,max_delta_step=0,\n",
    "                   colsample_bylevel= 0.5, colsample_bytree= 0.6, subsample= 1.0\n",
    "                  )"
   ]
  },
  {
   "cell_type": "code",
   "execution_count": 56,
   "metadata": {
    "ExecuteTime": {
     "end_time": "2023-06-24T06:28:07.802003Z",
     "start_time": "2023-06-24T06:28:07.790036Z"
    }
   },
   "outputs": [],
   "source": [
    "xgb_params={\n",
    "            'reg_lambda':[i/10 for i in range(0,50)],\n",
    "            'reg_alpha':[i/10 for i in range(0,50)]\n",
    "            }"
   ]
  },
  {
   "cell_type": "code",
   "execution_count": 57,
   "metadata": {
    "ExecuteTime": {
     "end_time": "2023-06-24T06:28:07.817961Z",
     "start_time": "2023-06-24T06:28:07.804995Z"
    }
   },
   "outputs": [],
   "source": [
    "random_search=RandomizedSearchCV(xgb5,param_distributions=xgb_params,cv=5,n_iter=20,scoring='roc_auc',\n",
    "                                n_jobs=-1,verbose=10)"
   ]
  },
  {
   "cell_type": "code",
   "execution_count": 58,
   "metadata": {
    "ExecuteTime": {
     "end_time": "2023-06-24T06:29:46.015698Z",
     "start_time": "2023-06-24T06:28:07.820952Z"
    }
   },
   "outputs": [
    {
     "name": "stdout",
     "output_type": "stream",
     "text": [
      "Fitting 5 folds for each of 20 candidates, totalling 100 fits\n"
     ]
    },
    {
     "data": {
      "text/plain": [
       "RandomizedSearchCV(cv=5,\n",
       "                   estimator=XGBClassifier(base_score=None, booster=None,\n",
       "                                           colsample_bylevel=0.5,\n",
       "                                           colsample_bynode=None,\n",
       "                                           colsample_bytree=0.6, gamma=0,\n",
       "                                           gpu_id=None, importance_type='gain',\n",
       "                                           interaction_constraints=None,\n",
       "                                           learning_rate=0.1, max_delta_step=0,\n",
       "                                           max_depth=3, min_child_weight=1,\n",
       "                                           missing=nan,\n",
       "                                           monotone_constraints=None,\n",
       "                                           n_estimators=500, n_jobs=None,\n",
       "                                           num...\n",
       "                                           verbosity=None),\n",
       "                   n_iter=20, n_jobs=-1,\n",
       "                   param_distributions={'reg_alpha': [0.0, 0.1, 0.2, 0.3, 0.4,\n",
       "                                                      0.5, 0.6, 0.7, 0.8, 0.9,\n",
       "                                                      1.0, 1.1, 1.2, 1.3, 1.4,\n",
       "                                                      1.5, 1.6, 1.7, 1.8, 1.9,\n",
       "                                                      2.0, 2.1, 2.2, 2.3, 2.4,\n",
       "                                                      2.5, 2.6, 2.7, 2.8, 2.9, ...],\n",
       "                                        'reg_lambda': [0.0, 0.1, 0.2, 0.3, 0.4,\n",
       "                                                       0.5, 0.6, 0.7, 0.8, 0.9,\n",
       "                                                       1.0, 1.1, 1.2, 1.3, 1.4,\n",
       "                                                       1.5, 1.6, 1.7, 1.8, 1.9,\n",
       "                                                       2.0, 2.1, 2.2, 2.3, 2.4,\n",
       "                                                       2.5, 2.6, 2.7, 2.8, 2.9, ...]},\n",
       "                   scoring='roc_auc', verbose=10)"
      ]
     },
     "execution_count": 58,
     "metadata": {},
     "output_type": "execute_result"
    }
   ],
   "source": [
    "random_search.fit(x_train,y_train)"
   ]
  },
  {
   "cell_type": "code",
   "execution_count": 59,
   "metadata": {
    "ExecuteTime": {
     "end_time": "2023-06-24T06:29:46.031233Z",
     "start_time": "2023-06-24T06:29:46.015698Z"
    }
   },
   "outputs": [
    {
     "name": "stdout",
     "output_type": "stream",
     "text": [
      "Model with rank: 1\n",
      "Mean validation score: 0.988 (std: 0.00242)\n",
      "Parameters: {'reg_lambda': 0.5, 'reg_alpha': 0.9}\n",
      "\n",
      "Model with rank: 2\n",
      "Mean validation score: 0.988 (std: 0.00211)\n",
      "Parameters: {'reg_lambda': 0.4, 'reg_alpha': 1.6}\n",
      "\n",
      "Model with rank: 3\n",
      "Mean validation score: 0.987 (std: 0.00234)\n",
      "Parameters: {'reg_lambda': 2.0, 'reg_alpha': 0.4}\n",
      "\n"
     ]
    }
   ],
   "source": [
    "report(random_search.cv_results_,3)"
   ]
  },
  {
   "cell_type": "markdown",
   "metadata": {},
   "source": [
    "The best value that we got here is {'reg_lambda': 1.5, 'reg_alpha': 0.0}, but the performance has gone down. May be the default was doing better and wasnt picked as one of the candidates here in the random_search. we'll go with those defaults values instead"
   ]
  },
  {
   "cell_type": "code",
   "execution_count": 60,
   "metadata": {
    "ExecuteTime": {
     "end_time": "2023-06-24T06:29:46.046192Z",
     "start_time": "2023-06-24T06:29:46.034224Z"
    }
   },
   "outputs": [],
   "source": [
    "xgb6=XGBClassifier(learning_rate=0.1,n_estimators=500,min_child_weight=1,gamma=0,max_depth=3,\n",
    "                        scale_pos_weight=1,max_delta_step=0,\n",
    "                   colsample_bylevel= 0.5, colsample_bytree= 0.6, subsample= 1.0,\n",
    "                  reg_lambda=1,reg_alpha=0)"
   ]
  },
  {
   "cell_type": "markdown",
   "metadata": {},
   "source": [
    "If we want to simply get cv performance of a model , without having to select any parameters we can make use of cross_validation_score function"
   ]
  },
  {
   "cell_type": "code",
   "execution_count": 61,
   "metadata": {
    "ExecuteTime": {
     "end_time": "2023-06-24T06:29:46.062149Z",
     "start_time": "2023-06-24T06:29:46.049184Z"
    }
   },
   "outputs": [],
   "source": [
    "from sklearn.model_selection import cross_val_score"
   ]
  },
  {
   "cell_type": "code",
   "execution_count": 62,
   "metadata": {
    "ExecuteTime": {
     "end_time": "2023-06-24T06:29:57.880589Z",
     "start_time": "2023-06-24T06:29:46.063836Z"
    }
   },
   "outputs": [
    {
     "name": "stderr",
     "output_type": "stream",
     "text": [
      "[Parallel(n_jobs=-1)]: Using backend LokyBackend with 12 concurrent workers.\n",
      "[Parallel(n_jobs=-1)]: Done   3 out of  10 | elapsed:   10.9s remaining:   25.6s\n",
      "[Parallel(n_jobs=-1)]: Done   5 out of  10 | elapsed:   11.2s remaining:   11.2s\n",
      "[Parallel(n_jobs=-1)]: Done   7 out of  10 | elapsed:   11.4s remaining:    4.8s\n",
      "[Parallel(n_jobs=-1)]: Done  10 out of  10 | elapsed:   11.6s finished\n"
     ]
    },
    {
     "data": {
      "text/plain": [
       "array([0.99009948, 0.98758747, 0.98340775, 0.99056395, 0.98930104,\n",
       "       0.99173554, 0.98973349, 0.9880838 , 0.98875649, 0.98630598])"
      ]
     },
     "execution_count": 62,
     "metadata": {},
     "output_type": "execute_result"
    }
   ],
   "source": [
    "cross_val_score(xgb6,x_train,y_train,scoring='roc_auc',verbose=10,n_jobs=-1,cv=10)"
   ]
  },
  {
   "cell_type": "code",
   "execution_count": 63,
   "metadata": {
    "ExecuteTime": {
     "end_time": "2023-06-24T06:29:57.896503Z",
     "start_time": "2023-06-24T06:29:57.881543Z"
    }
   },
   "outputs": [],
   "source": [
    "scores=[0.92951477, 0.92590096, 0.93070889, 0.92176974, 0.92882013,\n",
    "       0.93128318, 0.93018259, 0.93297173, 0.93256565, 0.92947388]\n",
    "# these are from an earlier iteration , need not match with your current run"
   ]
  },
  {
   "cell_type": "code",
   "execution_count": 64,
   "metadata": {
    "ExecuteTime": {
     "end_time": "2023-06-24T06:29:57.912462Z",
     "start_time": "2023-06-24T06:29:57.899495Z"
    }
   },
   "outputs": [],
   "source": [
    "import numpy as np"
   ]
  },
  {
   "cell_type": "code",
   "execution_count": 65,
   "metadata": {
    "ExecuteTime": {
     "end_time": "2023-06-24T06:29:57.927928Z",
     "start_time": "2023-06-24T06:29:57.914458Z"
    }
   },
   "outputs": [
    {
     "data": {
      "text/plain": [
       "0.929319152"
      ]
     },
     "execution_count": 65,
     "metadata": {},
     "output_type": "execute_result"
    }
   ],
   "source": [
    "np.mean(scores)"
   ]
  },
  {
   "cell_type": "code",
   "execution_count": 66,
   "metadata": {
    "ExecuteTime": {
     "end_time": "2023-06-24T06:29:57.943885Z",
     "start_time": "2023-06-24T06:29:57.928925Z"
    }
   },
   "outputs": [
    {
     "data": {
      "text/plain": [
       "0.0031528442142034264"
      ]
     },
     "execution_count": 66,
     "metadata": {},
     "output_type": "execute_result"
    }
   ],
   "source": [
    "np.std(scores)"
   ]
  },
  {
   "cell_type": "code",
   "execution_count": null,
   "metadata": {},
   "outputs": [],
   "source": []
  }
 ],
 "metadata": {
  "kernelspec": {
   "display_name": "Python 3",
   "language": "python",
   "name": "python3"
  },
  "language_info": {
   "codemirror_mode": {
    "name": "ipython",
    "version": 3
   },
   "file_extension": ".py",
   "mimetype": "text/x-python",
   "name": "python",
   "nbconvert_exporter": "python",
   "pygments_lexer": "ipython3",
   "version": "3.7.4"
  },
  "toc": {
   "base_numbering": 1,
   "nav_menu": {},
   "number_sections": false,
   "sideBar": true,
   "skip_h1_title": false,
   "title_cell": "Table of Contents",
   "title_sidebar": "Contents",
   "toc_cell": false,
   "toc_position": {},
   "toc_section_display": true,
   "toc_window_display": false
  }
 },
 "nbformat": 4,
 "nbformat_minor": 2
}
