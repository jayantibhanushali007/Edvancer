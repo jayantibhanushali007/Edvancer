{
 "cells": [
  {
   "cell_type": "code",
   "execution_count": 1,
   "metadata": {
    "ExecuteTime": {
     "end_time": "2023-07-08T15:10:58.988772Z",
     "start_time": "2023-07-08T15:10:58.973437Z"
    }
   },
   "outputs": [],
   "source": [
    "# this is specific to macos X , windows/linux users dont need this \n",
    "# without this , while using xgboost , you get errors , kernel dies\n",
    "import os\n",
    "\n",
    "os.environ['KMP_DUPLICATE_LIB_OK']='True'"
   ]
  },
  {
   "cell_type": "code",
   "execution_count": 2,
   "metadata": {
    "ExecuteTime": {
     "end_time": "2023-07-08T15:10:59.004748Z",
     "start_time": "2023-07-08T15:10:58.990769Z"
    }
   },
   "outputs": [],
   "source": [
    "import warnings\n",
    "warnings.filterwarnings('ignore')"
   ]
  },
  {
   "cell_type": "code",
   "execution_count": 3,
   "metadata": {
    "ExecuteTime": {
     "end_time": "2023-07-08T15:11:00.739800Z",
     "start_time": "2023-07-08T15:10:59.007724Z"
    }
   },
   "outputs": [],
   "source": [
    "import numpy as np\n",
    "import seaborn as sns\n",
    "import pandas as pd\n",
    "import math as mt"
   ]
  },
  {
   "cell_type": "code",
   "execution_count": 4,
   "metadata": {
    "ExecuteTime": {
     "end_time": "2023-07-08T15:11:00.794104Z",
     "start_time": "2023-07-08T15:11:00.739800Z"
    }
   },
   "outputs": [],
   "source": [
    "from sklearn.base import BaseEstimator, TransformerMixin"
   ]
  },
  {
   "cell_type": "code",
   "execution_count": 5,
   "metadata": {
    "ExecuteTime": {
     "end_time": "2023-07-08T15:11:02.380882Z",
     "start_time": "2023-07-08T15:11:00.795100Z"
    }
   },
   "outputs": [],
   "source": [
    "import tensorflow as tf\n",
    "import tensorflow.python.keras as keras\n",
    "\n",
    "from tensorflow.keras.models import Model,Sequential\n",
    "from tensorflow.keras.layers import Dense,Input"
   ]
  },
  {
   "cell_type": "code",
   "execution_count": 6,
   "metadata": {
    "ExecuteTime": {
     "end_time": "2023-07-08T15:11:02.783444Z",
     "start_time": "2023-07-08T15:11:02.381390Z"
    }
   },
   "outputs": [],
   "source": [
    "from rfpimp import *\n",
    "from sklearn.ensemble import RandomForestRegressor\n",
    "from sklearn.model_selection import train_test_split\n",
    "from xgboost.sklearn import XGBRegressor\n",
    "from sklearn.svm import SVR\n",
    "from sklearn.metrics import mean_absolute_error"
   ]
  },
  {
   "cell_type": "markdown",
   "metadata": {},
   "source": [
    "## Coding categorical features as dummies "
   ]
  },
  {
   "cell_type": "code",
   "execution_count": 7,
   "metadata": {
    "ExecuteTime": {
     "end_time": "2023-07-08T15:11:02.798518Z",
     "start_time": "2023-07-08T15:11:02.784494Z"
    }
   },
   "outputs": [],
   "source": [
    "def code_categorical_to_dummies(dt,columns,freq_cutoff=0):\n",
    "    data=dt.copy()\n",
    "    for col in columns:\n",
    "        \n",
    "        freq_table=data[col].value_counts(dropna=False)\n",
    "        \n",
    "        if (freq_table<freq_cutoff).sum()==0:\n",
    "            cats=freq_table.index[:-1]\n",
    "        else:\n",
    "            cats=freq_table.index[freq_table>freq_cutoff]\n",
    "        \n",
    "        for cat in cats:\n",
    "            data[col+'_'+str(cat)]=(data[col]==cat).astype(int)\n",
    "        \n",
    "        del data[col]\n",
    "        \n",
    "        \n",
    "    return data"
   ]
  },
  {
   "cell_type": "markdown",
   "metadata": {},
   "source": [
    "### Pipeline friendly class"
   ]
  },
  {
   "cell_type": "code",
   "execution_count": 8,
   "metadata": {
    "ExecuteTime": {
     "end_time": "2023-07-08T15:11:02.814090Z",
     "start_time": "2023-07-08T15:11:02.801474Z"
    }
   },
   "outputs": [],
   "source": [
    "class get_dummies_Pipe(BaseEstimator, TransformerMixin):\n",
    "    \n",
    "    def __init__(self,freq_cutoff=0):\n",
    "        self.freq_cutoff=freq_cutoff\n",
    "        self.var_cat_dict={}\n",
    "        \n",
    "    def fit(self,x,y=None):\n",
    "        data_cols=x.columns\n",
    "        for col in data_cols:\n",
    "            freq_table=x[col].value_counts(dropna=False)\n",
    "            if (freq_table<self.freq_cutoff).sum()==0:\n",
    "                cats=freq_table.index[:-1]\n",
    "            else:\n",
    "                cats=freq_table.index[freq_table>self.freq_cutoff]\n",
    "            self.var_cat_dict[col]=cats\n",
    "        return self\n",
    "            \n",
    "    def transform(self,x,y=None):\n",
    "        dummy_data=x.copy()\n",
    "        for col in self.var_cat_dict.keys():\n",
    "            for cat in self.var_cat_dict[col]:\n",
    "                name=col+'_'+str(cat)\n",
    "                dummy_data[name]=(dummy_data[col]==cat).astype(int)\n",
    "            del dummy_data[col]\n",
    "        return dummy_data"
   ]
  },
  {
   "cell_type": "code",
   "execution_count": 9,
   "metadata": {
    "ExecuteTime": {
     "end_time": "2023-07-08T15:11:02.829888Z",
     "start_time": "2023-07-08T15:11:02.816062Z"
    }
   },
   "outputs": [],
   "source": [
    "d1=pd.DataFrame({'x':['a','b','a','b','c','c']})\n",
    "d2=pd.DataFrame({'x':['a','b','a','b','c','c','d','d','d']})"
   ]
  },
  {
   "cell_type": "code",
   "execution_count": 10,
   "metadata": {
    "ExecuteTime": {
     "end_time": "2023-07-08T15:11:02.845827Z",
     "start_time": "2023-07-08T15:11:02.830822Z"
    }
   },
   "outputs": [
    {
     "data": {
      "text/html": [
       "<div>\n",
       "<style scoped>\n",
       "    .dataframe tbody tr th:only-of-type {\n",
       "        vertical-align: middle;\n",
       "    }\n",
       "\n",
       "    .dataframe tbody tr th {\n",
       "        vertical-align: top;\n",
       "    }\n",
       "\n",
       "    .dataframe thead th {\n",
       "        text-align: right;\n",
       "    }\n",
       "</style>\n",
       "<table border=\"1\" class=\"dataframe\">\n",
       "  <thead>\n",
       "    <tr style=\"text-align: right;\">\n",
       "      <th></th>\n",
       "      <th>x_a</th>\n",
       "      <th>x_b</th>\n",
       "    </tr>\n",
       "  </thead>\n",
       "  <tbody>\n",
       "    <tr>\n",
       "      <th>0</th>\n",
       "      <td>1</td>\n",
       "      <td>0</td>\n",
       "    </tr>\n",
       "    <tr>\n",
       "      <th>1</th>\n",
       "      <td>0</td>\n",
       "      <td>1</td>\n",
       "    </tr>\n",
       "    <tr>\n",
       "      <th>2</th>\n",
       "      <td>1</td>\n",
       "      <td>0</td>\n",
       "    </tr>\n",
       "    <tr>\n",
       "      <th>3</th>\n",
       "      <td>0</td>\n",
       "      <td>1</td>\n",
       "    </tr>\n",
       "    <tr>\n",
       "      <th>4</th>\n",
       "      <td>0</td>\n",
       "      <td>0</td>\n",
       "    </tr>\n",
       "    <tr>\n",
       "      <th>5</th>\n",
       "      <td>0</td>\n",
       "      <td>0</td>\n",
       "    </tr>\n",
       "  </tbody>\n",
       "</table>\n",
       "</div>"
      ],
      "text/plain": [
       "   x_a  x_b\n",
       "0    1    0\n",
       "1    0    1\n",
       "2    1    0\n",
       "3    0    1\n",
       "4    0    0\n",
       "5    0    0"
      ]
     },
     "execution_count": 10,
     "metadata": {},
     "output_type": "execute_result"
    }
   ],
   "source": [
    "code_categorical_to_dummies(d1,'x')"
   ]
  },
  {
   "cell_type": "code",
   "execution_count": 11,
   "metadata": {
    "ExecuteTime": {
     "end_time": "2023-07-08T15:11:02.866421Z",
     "start_time": "2023-07-08T15:11:02.846822Z"
    }
   },
   "outputs": [
    {
     "data": {
      "text/html": [
       "<div>\n",
       "<style scoped>\n",
       "    .dataframe tbody tr th:only-of-type {\n",
       "        vertical-align: middle;\n",
       "    }\n",
       "\n",
       "    .dataframe tbody tr th {\n",
       "        vertical-align: top;\n",
       "    }\n",
       "\n",
       "    .dataframe thead th {\n",
       "        text-align: right;\n",
       "    }\n",
       "</style>\n",
       "<table border=\"1\" class=\"dataframe\">\n",
       "  <thead>\n",
       "    <tr style=\"text-align: right;\">\n",
       "      <th></th>\n",
       "      <th>x_d</th>\n",
       "      <th>x_a</th>\n",
       "      <th>x_b</th>\n",
       "    </tr>\n",
       "  </thead>\n",
       "  <tbody>\n",
       "    <tr>\n",
       "      <th>0</th>\n",
       "      <td>0</td>\n",
       "      <td>1</td>\n",
       "      <td>0</td>\n",
       "    </tr>\n",
       "    <tr>\n",
       "      <th>1</th>\n",
       "      <td>0</td>\n",
       "      <td>0</td>\n",
       "      <td>1</td>\n",
       "    </tr>\n",
       "    <tr>\n",
       "      <th>2</th>\n",
       "      <td>0</td>\n",
       "      <td>1</td>\n",
       "      <td>0</td>\n",
       "    </tr>\n",
       "    <tr>\n",
       "      <th>3</th>\n",
       "      <td>0</td>\n",
       "      <td>0</td>\n",
       "      <td>1</td>\n",
       "    </tr>\n",
       "    <tr>\n",
       "      <th>4</th>\n",
       "      <td>0</td>\n",
       "      <td>0</td>\n",
       "      <td>0</td>\n",
       "    </tr>\n",
       "    <tr>\n",
       "      <th>5</th>\n",
       "      <td>0</td>\n",
       "      <td>0</td>\n",
       "      <td>0</td>\n",
       "    </tr>\n",
       "    <tr>\n",
       "      <th>6</th>\n",
       "      <td>1</td>\n",
       "      <td>0</td>\n",
       "      <td>0</td>\n",
       "    </tr>\n",
       "    <tr>\n",
       "      <th>7</th>\n",
       "      <td>1</td>\n",
       "      <td>0</td>\n",
       "      <td>0</td>\n",
       "    </tr>\n",
       "    <tr>\n",
       "      <th>8</th>\n",
       "      <td>1</td>\n",
       "      <td>0</td>\n",
       "      <td>0</td>\n",
       "    </tr>\n",
       "  </tbody>\n",
       "</table>\n",
       "</div>"
      ],
      "text/plain": [
       "   x_d  x_a  x_b\n",
       "0    0    1    0\n",
       "1    0    0    1\n",
       "2    0    1    0\n",
       "3    0    0    1\n",
       "4    0    0    0\n",
       "5    0    0    0\n",
       "6    1    0    0\n",
       "7    1    0    0\n",
       "8    1    0    0"
      ]
     },
     "execution_count": 11,
     "metadata": {},
     "output_type": "execute_result"
    }
   ],
   "source": [
    "code_categorical_to_dummies(d2,'x')"
   ]
  },
  {
   "cell_type": "code",
   "execution_count": 12,
   "metadata": {
    "ExecuteTime": {
     "end_time": "2023-07-08T15:11:02.882503Z",
     "start_time": "2023-07-08T15:11:02.868373Z"
    }
   },
   "outputs": [],
   "source": [
    "gd=get_dummies_Pipe()"
   ]
  },
  {
   "cell_type": "code",
   "execution_count": 13,
   "metadata": {
    "ExecuteTime": {
     "end_time": "2023-07-08T15:11:02.898087Z",
     "start_time": "2023-07-08T15:11:02.884083Z"
    }
   },
   "outputs": [
    {
     "data": {
      "text/plain": [
       "get_dummies_Pipe()"
      ]
     },
     "execution_count": 13,
     "metadata": {},
     "output_type": "execute_result"
    }
   ],
   "source": [
    "gd.fit(d1)"
   ]
  },
  {
   "cell_type": "code",
   "execution_count": 14,
   "metadata": {
    "ExecuteTime": {
     "end_time": "2023-07-08T15:11:02.916483Z",
     "start_time": "2023-07-08T15:11:02.899042Z"
    }
   },
   "outputs": [
    {
     "data": {
      "text/plain": [
       "{'x': Index(['a', 'b'], dtype='object')}"
      ]
     },
     "execution_count": 14,
     "metadata": {},
     "output_type": "execute_result"
    }
   ],
   "source": [
    "gd.var_cat_dict"
   ]
  },
  {
   "cell_type": "code",
   "execution_count": 15,
   "metadata": {
    "ExecuteTime": {
     "end_time": "2023-07-08T15:11:02.931165Z",
     "start_time": "2023-07-08T15:11:02.916699Z"
    }
   },
   "outputs": [
    {
     "data": {
      "text/html": [
       "<div>\n",
       "<style scoped>\n",
       "    .dataframe tbody tr th:only-of-type {\n",
       "        vertical-align: middle;\n",
       "    }\n",
       "\n",
       "    .dataframe tbody tr th {\n",
       "        vertical-align: top;\n",
       "    }\n",
       "\n",
       "    .dataframe thead th {\n",
       "        text-align: right;\n",
       "    }\n",
       "</style>\n",
       "<table border=\"1\" class=\"dataframe\">\n",
       "  <thead>\n",
       "    <tr style=\"text-align: right;\">\n",
       "      <th></th>\n",
       "      <th>x_a</th>\n",
       "      <th>x_b</th>\n",
       "    </tr>\n",
       "  </thead>\n",
       "  <tbody>\n",
       "    <tr>\n",
       "      <th>0</th>\n",
       "      <td>1</td>\n",
       "      <td>0</td>\n",
       "    </tr>\n",
       "    <tr>\n",
       "      <th>1</th>\n",
       "      <td>0</td>\n",
       "      <td>1</td>\n",
       "    </tr>\n",
       "    <tr>\n",
       "      <th>2</th>\n",
       "      <td>1</td>\n",
       "      <td>0</td>\n",
       "    </tr>\n",
       "    <tr>\n",
       "      <th>3</th>\n",
       "      <td>0</td>\n",
       "      <td>1</td>\n",
       "    </tr>\n",
       "    <tr>\n",
       "      <th>4</th>\n",
       "      <td>0</td>\n",
       "      <td>0</td>\n",
       "    </tr>\n",
       "    <tr>\n",
       "      <th>5</th>\n",
       "      <td>0</td>\n",
       "      <td>0</td>\n",
       "    </tr>\n",
       "  </tbody>\n",
       "</table>\n",
       "</div>"
      ],
      "text/plain": [
       "   x_a  x_b\n",
       "0    1    0\n",
       "1    0    1\n",
       "2    1    0\n",
       "3    0    1\n",
       "4    0    0\n",
       "5    0    0"
      ]
     },
     "execution_count": 15,
     "metadata": {},
     "output_type": "execute_result"
    }
   ],
   "source": [
    "gd.transform(d1)"
   ]
  },
  {
   "cell_type": "code",
   "execution_count": 16,
   "metadata": {
    "ExecuteTime": {
     "end_time": "2023-07-08T15:11:02.949813Z",
     "start_time": "2023-07-08T15:11:02.932134Z"
    }
   },
   "outputs": [
    {
     "data": {
      "text/html": [
       "<div>\n",
       "<style scoped>\n",
       "    .dataframe tbody tr th:only-of-type {\n",
       "        vertical-align: middle;\n",
       "    }\n",
       "\n",
       "    .dataframe tbody tr th {\n",
       "        vertical-align: top;\n",
       "    }\n",
       "\n",
       "    .dataframe thead th {\n",
       "        text-align: right;\n",
       "    }\n",
       "</style>\n",
       "<table border=\"1\" class=\"dataframe\">\n",
       "  <thead>\n",
       "    <tr style=\"text-align: right;\">\n",
       "      <th></th>\n",
       "      <th>x_a</th>\n",
       "      <th>x_b</th>\n",
       "    </tr>\n",
       "  </thead>\n",
       "  <tbody>\n",
       "    <tr>\n",
       "      <th>0</th>\n",
       "      <td>1</td>\n",
       "      <td>0</td>\n",
       "    </tr>\n",
       "    <tr>\n",
       "      <th>1</th>\n",
       "      <td>0</td>\n",
       "      <td>1</td>\n",
       "    </tr>\n",
       "    <tr>\n",
       "      <th>2</th>\n",
       "      <td>1</td>\n",
       "      <td>0</td>\n",
       "    </tr>\n",
       "    <tr>\n",
       "      <th>3</th>\n",
       "      <td>0</td>\n",
       "      <td>1</td>\n",
       "    </tr>\n",
       "    <tr>\n",
       "      <th>4</th>\n",
       "      <td>0</td>\n",
       "      <td>0</td>\n",
       "    </tr>\n",
       "    <tr>\n",
       "      <th>5</th>\n",
       "      <td>0</td>\n",
       "      <td>0</td>\n",
       "    </tr>\n",
       "    <tr>\n",
       "      <th>6</th>\n",
       "      <td>0</td>\n",
       "      <td>0</td>\n",
       "    </tr>\n",
       "    <tr>\n",
       "      <th>7</th>\n",
       "      <td>0</td>\n",
       "      <td>0</td>\n",
       "    </tr>\n",
       "    <tr>\n",
       "      <th>8</th>\n",
       "      <td>0</td>\n",
       "      <td>0</td>\n",
       "    </tr>\n",
       "  </tbody>\n",
       "</table>\n",
       "</div>"
      ],
      "text/plain": [
       "   x_a  x_b\n",
       "0    1    0\n",
       "1    0    1\n",
       "2    1    0\n",
       "3    0    1\n",
       "4    0    0\n",
       "5    0    0\n",
       "6    0    0\n",
       "7    0    0\n",
       "8    0    0"
      ]
     },
     "execution_count": 16,
     "metadata": {},
     "output_type": "execute_result"
    }
   ],
   "source": [
    "gd.transform(d2)"
   ]
  },
  {
   "cell_type": "markdown",
   "metadata": {},
   "source": [
    "## Categorical Embeddings"
   ]
  },
  {
   "cell_type": "code",
   "execution_count": 17,
   "metadata": {
    "ExecuteTime": {
     "end_time": "2023-07-08T15:11:02.965406Z",
     "start_time": "2023-07-08T15:11:02.950480Z"
    }
   },
   "outputs": [
    {
     "data": {
      "text/plain": [
       "47"
      ]
     },
     "execution_count": 17,
     "metadata": {},
     "output_type": "execute_result"
    }
   ],
   "source": [
    "\n",
    "file = r'../data/loans data.csv'\n",
    "data=pd.read_csv(file)\n",
    "data['State'].nunique()"
   ]
  },
  {
   "cell_type": "code",
   "execution_count": 18,
   "metadata": {
    "ExecuteTime": {
     "end_time": "2023-07-08T15:11:02.980776Z",
     "start_time": "2023-07-08T15:11:02.965406Z"
    }
   },
   "outputs": [
    {
     "data": {
      "text/plain": [
       "47"
      ]
     },
     "execution_count": 18,
     "metadata": {},
     "output_type": "execute_result"
    }
   ],
   "source": [
    "dummy_data=pd.get_dummies(data['State'],prefix='State')\n",
    "dummy_data.shape[1]"
   ]
  },
  {
   "cell_type": "code",
   "execution_count": 19,
   "metadata": {
    "ExecuteTime": {
     "end_time": "2023-07-08T15:11:02.996839Z",
     "start_time": "2023-07-08T15:11:02.981776Z"
    }
   },
   "outputs": [],
   "source": [
    "y=dummy_data"
   ]
  },
  {
   "cell_type": "code",
   "execution_count": 55,
   "metadata": {
    "ExecuteTime": {
     "end_time": "2023-07-09T10:14:44.589025Z",
     "start_time": "2023-07-09T10:14:44.520917Z"
    }
   },
   "outputs": [
    {
     "data": {
      "text/html": [
       "<div>\n",
       "<style scoped>\n",
       "    .dataframe tbody tr th:only-of-type {\n",
       "        vertical-align: middle;\n",
       "    }\n",
       "\n",
       "    .dataframe tbody tr th {\n",
       "        vertical-align: top;\n",
       "    }\n",
       "\n",
       "    .dataframe thead th {\n",
       "        text-align: right;\n",
       "    }\n",
       "</style>\n",
       "<table border=\"1\" class=\"dataframe\">\n",
       "  <thead>\n",
       "    <tr style=\"text-align: right;\">\n",
       "      <th></th>\n",
       "      <th>State_.</th>\n",
       "      <th>State_AK</th>\n",
       "      <th>State_AL</th>\n",
       "      <th>State_AR</th>\n",
       "      <th>State_AZ</th>\n",
       "      <th>State_CA</th>\n",
       "      <th>State_CO</th>\n",
       "      <th>State_CT</th>\n",
       "      <th>State_DC</th>\n",
       "      <th>State_DE</th>\n",
       "      <th>...</th>\n",
       "      <th>State_SC</th>\n",
       "      <th>State_SD</th>\n",
       "      <th>State_TX</th>\n",
       "      <th>State_UT</th>\n",
       "      <th>State_VA</th>\n",
       "      <th>State_VT</th>\n",
       "      <th>State_WA</th>\n",
       "      <th>State_WI</th>\n",
       "      <th>State_WV</th>\n",
       "      <th>State_WY</th>\n",
       "    </tr>\n",
       "  </thead>\n",
       "  <tbody>\n",
       "    <tr>\n",
       "      <th>0</th>\n",
       "      <td>0</td>\n",
       "      <td>0</td>\n",
       "      <td>0</td>\n",
       "      <td>0</td>\n",
       "      <td>0</td>\n",
       "      <td>0</td>\n",
       "      <td>0</td>\n",
       "      <td>0</td>\n",
       "      <td>0</td>\n",
       "      <td>0</td>\n",
       "      <td>...</td>\n",
       "      <td>1</td>\n",
       "      <td>0</td>\n",
       "      <td>0</td>\n",
       "      <td>0</td>\n",
       "      <td>0</td>\n",
       "      <td>0</td>\n",
       "      <td>0</td>\n",
       "      <td>0</td>\n",
       "      <td>0</td>\n",
       "      <td>0</td>\n",
       "    </tr>\n",
       "    <tr>\n",
       "      <th>1</th>\n",
       "      <td>0</td>\n",
       "      <td>0</td>\n",
       "      <td>0</td>\n",
       "      <td>0</td>\n",
       "      <td>0</td>\n",
       "      <td>0</td>\n",
       "      <td>0</td>\n",
       "      <td>0</td>\n",
       "      <td>0</td>\n",
       "      <td>0</td>\n",
       "      <td>...</td>\n",
       "      <td>0</td>\n",
       "      <td>0</td>\n",
       "      <td>1</td>\n",
       "      <td>0</td>\n",
       "      <td>0</td>\n",
       "      <td>0</td>\n",
       "      <td>0</td>\n",
       "      <td>0</td>\n",
       "      <td>0</td>\n",
       "      <td>0</td>\n",
       "    </tr>\n",
       "    <tr>\n",
       "      <th>2</th>\n",
       "      <td>0</td>\n",
       "      <td>0</td>\n",
       "      <td>0</td>\n",
       "      <td>0</td>\n",
       "      <td>0</td>\n",
       "      <td>1</td>\n",
       "      <td>0</td>\n",
       "      <td>0</td>\n",
       "      <td>0</td>\n",
       "      <td>0</td>\n",
       "      <td>...</td>\n",
       "      <td>0</td>\n",
       "      <td>0</td>\n",
       "      <td>0</td>\n",
       "      <td>0</td>\n",
       "      <td>0</td>\n",
       "      <td>0</td>\n",
       "      <td>0</td>\n",
       "      <td>0</td>\n",
       "      <td>0</td>\n",
       "      <td>0</td>\n",
       "    </tr>\n",
       "    <tr>\n",
       "      <th>3</th>\n",
       "      <td>0</td>\n",
       "      <td>0</td>\n",
       "      <td>0</td>\n",
       "      <td>0</td>\n",
       "      <td>0</td>\n",
       "      <td>0</td>\n",
       "      <td>0</td>\n",
       "      <td>0</td>\n",
       "      <td>0</td>\n",
       "      <td>0</td>\n",
       "      <td>...</td>\n",
       "      <td>0</td>\n",
       "      <td>0</td>\n",
       "      <td>0</td>\n",
       "      <td>0</td>\n",
       "      <td>0</td>\n",
       "      <td>0</td>\n",
       "      <td>0</td>\n",
       "      <td>0</td>\n",
       "      <td>0</td>\n",
       "      <td>0</td>\n",
       "    </tr>\n",
       "    <tr>\n",
       "      <th>4</th>\n",
       "      <td>0</td>\n",
       "      <td>0</td>\n",
       "      <td>0</td>\n",
       "      <td>0</td>\n",
       "      <td>0</td>\n",
       "      <td>0</td>\n",
       "      <td>0</td>\n",
       "      <td>0</td>\n",
       "      <td>0</td>\n",
       "      <td>0</td>\n",
       "      <td>...</td>\n",
       "      <td>0</td>\n",
       "      <td>0</td>\n",
       "      <td>0</td>\n",
       "      <td>0</td>\n",
       "      <td>0</td>\n",
       "      <td>0</td>\n",
       "      <td>0</td>\n",
       "      <td>0</td>\n",
       "      <td>0</td>\n",
       "      <td>0</td>\n",
       "    </tr>\n",
       "    <tr>\n",
       "      <th>...</th>\n",
       "      <td>...</td>\n",
       "      <td>...</td>\n",
       "      <td>...</td>\n",
       "      <td>...</td>\n",
       "      <td>...</td>\n",
       "      <td>...</td>\n",
       "      <td>...</td>\n",
       "      <td>...</td>\n",
       "      <td>...</td>\n",
       "      <td>...</td>\n",
       "      <td>...</td>\n",
       "      <td>...</td>\n",
       "      <td>...</td>\n",
       "      <td>...</td>\n",
       "      <td>...</td>\n",
       "      <td>...</td>\n",
       "      <td>...</td>\n",
       "      <td>...</td>\n",
       "      <td>...</td>\n",
       "      <td>...</td>\n",
       "      <td>...</td>\n",
       "    </tr>\n",
       "    <tr>\n",
       "      <th>2495</th>\n",
       "      <td>0</td>\n",
       "      <td>0</td>\n",
       "      <td>0</td>\n",
       "      <td>0</td>\n",
       "      <td>0</td>\n",
       "      <td>0</td>\n",
       "      <td>0</td>\n",
       "      <td>0</td>\n",
       "      <td>0</td>\n",
       "      <td>0</td>\n",
       "      <td>...</td>\n",
       "      <td>0</td>\n",
       "      <td>0</td>\n",
       "      <td>0</td>\n",
       "      <td>0</td>\n",
       "      <td>0</td>\n",
       "      <td>0</td>\n",
       "      <td>0</td>\n",
       "      <td>0</td>\n",
       "      <td>0</td>\n",
       "      <td>0</td>\n",
       "    </tr>\n",
       "    <tr>\n",
       "      <th>2496</th>\n",
       "      <td>0</td>\n",
       "      <td>0</td>\n",
       "      <td>0</td>\n",
       "      <td>0</td>\n",
       "      <td>0</td>\n",
       "      <td>0</td>\n",
       "      <td>0</td>\n",
       "      <td>0</td>\n",
       "      <td>0</td>\n",
       "      <td>0</td>\n",
       "      <td>...</td>\n",
       "      <td>0</td>\n",
       "      <td>0</td>\n",
       "      <td>0</td>\n",
       "      <td>0</td>\n",
       "      <td>0</td>\n",
       "      <td>0</td>\n",
       "      <td>0</td>\n",
       "      <td>0</td>\n",
       "      <td>0</td>\n",
       "      <td>0</td>\n",
       "    </tr>\n",
       "    <tr>\n",
       "      <th>2497</th>\n",
       "      <td>0</td>\n",
       "      <td>0</td>\n",
       "      <td>0</td>\n",
       "      <td>0</td>\n",
       "      <td>0</td>\n",
       "      <td>0</td>\n",
       "      <td>0</td>\n",
       "      <td>0</td>\n",
       "      <td>0</td>\n",
       "      <td>0</td>\n",
       "      <td>...</td>\n",
       "      <td>0</td>\n",
       "      <td>0</td>\n",
       "      <td>0</td>\n",
       "      <td>0</td>\n",
       "      <td>0</td>\n",
       "      <td>0</td>\n",
       "      <td>0</td>\n",
       "      <td>0</td>\n",
       "      <td>0</td>\n",
       "      <td>0</td>\n",
       "    </tr>\n",
       "    <tr>\n",
       "      <th>2498</th>\n",
       "      <td>0</td>\n",
       "      <td>0</td>\n",
       "      <td>0</td>\n",
       "      <td>0</td>\n",
       "      <td>0</td>\n",
       "      <td>0</td>\n",
       "      <td>0</td>\n",
       "      <td>0</td>\n",
       "      <td>0</td>\n",
       "      <td>0</td>\n",
       "      <td>...</td>\n",
       "      <td>0</td>\n",
       "      <td>0</td>\n",
       "      <td>0</td>\n",
       "      <td>0</td>\n",
       "      <td>0</td>\n",
       "      <td>0</td>\n",
       "      <td>0</td>\n",
       "      <td>0</td>\n",
       "      <td>0</td>\n",
       "      <td>0</td>\n",
       "    </tr>\n",
       "    <tr>\n",
       "      <th>2499</th>\n",
       "      <td>0</td>\n",
       "      <td>0</td>\n",
       "      <td>0</td>\n",
       "      <td>0</td>\n",
       "      <td>0</td>\n",
       "      <td>0</td>\n",
       "      <td>0</td>\n",
       "      <td>0</td>\n",
       "      <td>0</td>\n",
       "      <td>0</td>\n",
       "      <td>...</td>\n",
       "      <td>0</td>\n",
       "      <td>0</td>\n",
       "      <td>0</td>\n",
       "      <td>0</td>\n",
       "      <td>0</td>\n",
       "      <td>0</td>\n",
       "      <td>0</td>\n",
       "      <td>0</td>\n",
       "      <td>0</td>\n",
       "      <td>0</td>\n",
       "    </tr>\n",
       "  </tbody>\n",
       "</table>\n",
       "<p>2500 rows × 47 columns</p>\n",
       "</div>"
      ],
      "text/plain": [
       "      State_.  State_AK  State_AL  State_AR  State_AZ  State_CA  State_CO  \\\n",
       "0           0         0         0         0         0         0         0   \n",
       "1           0         0         0         0         0         0         0   \n",
       "2           0         0         0         0         0         1         0   \n",
       "3           0         0         0         0         0         0         0   \n",
       "4           0         0         0         0         0         0         0   \n",
       "...       ...       ...       ...       ...       ...       ...       ...   \n",
       "2495        0         0         0         0         0         0         0   \n",
       "2496        0         0         0         0         0         0         0   \n",
       "2497        0         0         0         0         0         0         0   \n",
       "2498        0         0         0         0         0         0         0   \n",
       "2499        0         0         0         0         0         0         0   \n",
       "\n",
       "      State_CT  State_DC  State_DE  ...  State_SC  State_SD  State_TX  \\\n",
       "0            0         0         0  ...         1         0         0   \n",
       "1            0         0         0  ...         0         0         1   \n",
       "2            0         0         0  ...         0         0         0   \n",
       "3            0         0         0  ...         0         0         0   \n",
       "4            0         0         0  ...         0         0         0   \n",
       "...        ...       ...       ...  ...       ...       ...       ...   \n",
       "2495         0         0         0  ...         0         0         0   \n",
       "2496         0         0         0  ...         0         0         0   \n",
       "2497         0         0         0  ...         0         0         0   \n",
       "2498         0         0         0  ...         0         0         0   \n",
       "2499         0         0         0  ...         0         0         0   \n",
       "\n",
       "      State_UT  State_VA  State_VT  State_WA  State_WI  State_WV  State_WY  \n",
       "0            0         0         0         0         0         0         0  \n",
       "1            0         0         0         0         0         0         0  \n",
       "2            0         0         0         0         0         0         0  \n",
       "3            0         0         0         0         0         0         0  \n",
       "4            0         0         0         0         0         0         0  \n",
       "...        ...       ...       ...       ...       ...       ...       ...  \n",
       "2495         0         0         0         0         0         0         0  \n",
       "2496         0         0         0         0         0         0         0  \n",
       "2497         0         0         0         0         0         0         0  \n",
       "2498         0         0         0         0         0         0         0  \n",
       "2499         0         0         0         0         0         0         0  \n",
       "\n",
       "[2500 rows x 47 columns]"
      ]
     },
     "execution_count": 55,
     "metadata": {},
     "output_type": "execute_result"
    }
   ],
   "source": [
    "dummy_data"
   ]
  },
  {
   "cell_type": "code",
   "execution_count": 20,
   "metadata": {
    "ExecuteTime": {
     "end_time": "2023-07-08T15:11:03.012483Z",
     "start_time": "2023-07-08T15:11:02.997201Z"
    }
   },
   "outputs": [
    {
     "data": {
      "text/html": [
       "<div>\n",
       "<style scoped>\n",
       "    .dataframe tbody tr th:only-of-type {\n",
       "        vertical-align: middle;\n",
       "    }\n",
       "\n",
       "    .dataframe tbody tr th {\n",
       "        vertical-align: top;\n",
       "    }\n",
       "\n",
       "    .dataframe thead th {\n",
       "        text-align: right;\n",
       "    }\n",
       "</style>\n",
       "<table border=\"1\" class=\"dataframe\">\n",
       "  <thead>\n",
       "    <tr style=\"text-align: right;\">\n",
       "      <th></th>\n",
       "      <th>State_.</th>\n",
       "      <th>State_AK</th>\n",
       "      <th>State_AL</th>\n",
       "      <th>State_AR</th>\n",
       "      <th>State_AZ</th>\n",
       "      <th>State_CA</th>\n",
       "      <th>State_CO</th>\n",
       "      <th>State_CT</th>\n",
       "      <th>State_DC</th>\n",
       "      <th>State_DE</th>\n",
       "      <th>...</th>\n",
       "      <th>State_SC</th>\n",
       "      <th>State_SD</th>\n",
       "      <th>State_TX</th>\n",
       "      <th>State_UT</th>\n",
       "      <th>State_VA</th>\n",
       "      <th>State_VT</th>\n",
       "      <th>State_WA</th>\n",
       "      <th>State_WI</th>\n",
       "      <th>State_WV</th>\n",
       "      <th>State_WY</th>\n",
       "    </tr>\n",
       "  </thead>\n",
       "  <tbody>\n",
       "    <tr>\n",
       "      <th>0</th>\n",
       "      <td>0</td>\n",
       "      <td>0</td>\n",
       "      <td>0</td>\n",
       "      <td>0</td>\n",
       "      <td>0</td>\n",
       "      <td>0</td>\n",
       "      <td>0</td>\n",
       "      <td>0</td>\n",
       "      <td>0</td>\n",
       "      <td>0</td>\n",
       "      <td>...</td>\n",
       "      <td>1</td>\n",
       "      <td>0</td>\n",
       "      <td>0</td>\n",
       "      <td>0</td>\n",
       "      <td>0</td>\n",
       "      <td>0</td>\n",
       "      <td>0</td>\n",
       "      <td>0</td>\n",
       "      <td>0</td>\n",
       "      <td>0</td>\n",
       "    </tr>\n",
       "    <tr>\n",
       "      <th>1</th>\n",
       "      <td>0</td>\n",
       "      <td>0</td>\n",
       "      <td>0</td>\n",
       "      <td>0</td>\n",
       "      <td>0</td>\n",
       "      <td>0</td>\n",
       "      <td>0</td>\n",
       "      <td>0</td>\n",
       "      <td>0</td>\n",
       "      <td>0</td>\n",
       "      <td>...</td>\n",
       "      <td>0</td>\n",
       "      <td>0</td>\n",
       "      <td>1</td>\n",
       "      <td>0</td>\n",
       "      <td>0</td>\n",
       "      <td>0</td>\n",
       "      <td>0</td>\n",
       "      <td>0</td>\n",
       "      <td>0</td>\n",
       "      <td>0</td>\n",
       "    </tr>\n",
       "    <tr>\n",
       "      <th>2</th>\n",
       "      <td>0</td>\n",
       "      <td>0</td>\n",
       "      <td>0</td>\n",
       "      <td>0</td>\n",
       "      <td>0</td>\n",
       "      <td>1</td>\n",
       "      <td>0</td>\n",
       "      <td>0</td>\n",
       "      <td>0</td>\n",
       "      <td>0</td>\n",
       "      <td>...</td>\n",
       "      <td>0</td>\n",
       "      <td>0</td>\n",
       "      <td>0</td>\n",
       "      <td>0</td>\n",
       "      <td>0</td>\n",
       "      <td>0</td>\n",
       "      <td>0</td>\n",
       "      <td>0</td>\n",
       "      <td>0</td>\n",
       "      <td>0</td>\n",
       "    </tr>\n",
       "    <tr>\n",
       "      <th>3</th>\n",
       "      <td>0</td>\n",
       "      <td>0</td>\n",
       "      <td>0</td>\n",
       "      <td>0</td>\n",
       "      <td>0</td>\n",
       "      <td>0</td>\n",
       "      <td>0</td>\n",
       "      <td>0</td>\n",
       "      <td>0</td>\n",
       "      <td>0</td>\n",
       "      <td>...</td>\n",
       "      <td>0</td>\n",
       "      <td>0</td>\n",
       "      <td>0</td>\n",
       "      <td>0</td>\n",
       "      <td>0</td>\n",
       "      <td>0</td>\n",
       "      <td>0</td>\n",
       "      <td>0</td>\n",
       "      <td>0</td>\n",
       "      <td>0</td>\n",
       "    </tr>\n",
       "    <tr>\n",
       "      <th>4</th>\n",
       "      <td>0</td>\n",
       "      <td>0</td>\n",
       "      <td>0</td>\n",
       "      <td>0</td>\n",
       "      <td>0</td>\n",
       "      <td>0</td>\n",
       "      <td>0</td>\n",
       "      <td>0</td>\n",
       "      <td>0</td>\n",
       "      <td>0</td>\n",
       "      <td>...</td>\n",
       "      <td>0</td>\n",
       "      <td>0</td>\n",
       "      <td>0</td>\n",
       "      <td>0</td>\n",
       "      <td>0</td>\n",
       "      <td>0</td>\n",
       "      <td>0</td>\n",
       "      <td>0</td>\n",
       "      <td>0</td>\n",
       "      <td>0</td>\n",
       "    </tr>\n",
       "    <tr>\n",
       "      <th>...</th>\n",
       "      <td>...</td>\n",
       "      <td>...</td>\n",
       "      <td>...</td>\n",
       "      <td>...</td>\n",
       "      <td>...</td>\n",
       "      <td>...</td>\n",
       "      <td>...</td>\n",
       "      <td>...</td>\n",
       "      <td>...</td>\n",
       "      <td>...</td>\n",
       "      <td>...</td>\n",
       "      <td>...</td>\n",
       "      <td>...</td>\n",
       "      <td>...</td>\n",
       "      <td>...</td>\n",
       "      <td>...</td>\n",
       "      <td>...</td>\n",
       "      <td>...</td>\n",
       "      <td>...</td>\n",
       "      <td>...</td>\n",
       "      <td>...</td>\n",
       "    </tr>\n",
       "    <tr>\n",
       "      <th>2495</th>\n",
       "      <td>0</td>\n",
       "      <td>0</td>\n",
       "      <td>0</td>\n",
       "      <td>0</td>\n",
       "      <td>0</td>\n",
       "      <td>0</td>\n",
       "      <td>0</td>\n",
       "      <td>0</td>\n",
       "      <td>0</td>\n",
       "      <td>0</td>\n",
       "      <td>...</td>\n",
       "      <td>0</td>\n",
       "      <td>0</td>\n",
       "      <td>0</td>\n",
       "      <td>0</td>\n",
       "      <td>0</td>\n",
       "      <td>0</td>\n",
       "      <td>0</td>\n",
       "      <td>0</td>\n",
       "      <td>0</td>\n",
       "      <td>0</td>\n",
       "    </tr>\n",
       "    <tr>\n",
       "      <th>2496</th>\n",
       "      <td>0</td>\n",
       "      <td>0</td>\n",
       "      <td>0</td>\n",
       "      <td>0</td>\n",
       "      <td>0</td>\n",
       "      <td>0</td>\n",
       "      <td>0</td>\n",
       "      <td>0</td>\n",
       "      <td>0</td>\n",
       "      <td>0</td>\n",
       "      <td>...</td>\n",
       "      <td>0</td>\n",
       "      <td>0</td>\n",
       "      <td>0</td>\n",
       "      <td>0</td>\n",
       "      <td>0</td>\n",
       "      <td>0</td>\n",
       "      <td>0</td>\n",
       "      <td>0</td>\n",
       "      <td>0</td>\n",
       "      <td>0</td>\n",
       "    </tr>\n",
       "    <tr>\n",
       "      <th>2497</th>\n",
       "      <td>0</td>\n",
       "      <td>0</td>\n",
       "      <td>0</td>\n",
       "      <td>0</td>\n",
       "      <td>0</td>\n",
       "      <td>0</td>\n",
       "      <td>0</td>\n",
       "      <td>0</td>\n",
       "      <td>0</td>\n",
       "      <td>0</td>\n",
       "      <td>...</td>\n",
       "      <td>0</td>\n",
       "      <td>0</td>\n",
       "      <td>0</td>\n",
       "      <td>0</td>\n",
       "      <td>0</td>\n",
       "      <td>0</td>\n",
       "      <td>0</td>\n",
       "      <td>0</td>\n",
       "      <td>0</td>\n",
       "      <td>0</td>\n",
       "    </tr>\n",
       "    <tr>\n",
       "      <th>2498</th>\n",
       "      <td>0</td>\n",
       "      <td>0</td>\n",
       "      <td>0</td>\n",
       "      <td>0</td>\n",
       "      <td>0</td>\n",
       "      <td>0</td>\n",
       "      <td>0</td>\n",
       "      <td>0</td>\n",
       "      <td>0</td>\n",
       "      <td>0</td>\n",
       "      <td>...</td>\n",
       "      <td>0</td>\n",
       "      <td>0</td>\n",
       "      <td>0</td>\n",
       "      <td>0</td>\n",
       "      <td>0</td>\n",
       "      <td>0</td>\n",
       "      <td>0</td>\n",
       "      <td>0</td>\n",
       "      <td>0</td>\n",
       "      <td>0</td>\n",
       "    </tr>\n",
       "    <tr>\n",
       "      <th>2499</th>\n",
       "      <td>0</td>\n",
       "      <td>0</td>\n",
       "      <td>0</td>\n",
       "      <td>0</td>\n",
       "      <td>0</td>\n",
       "      <td>0</td>\n",
       "      <td>0</td>\n",
       "      <td>0</td>\n",
       "      <td>0</td>\n",
       "      <td>0</td>\n",
       "      <td>...</td>\n",
       "      <td>0</td>\n",
       "      <td>0</td>\n",
       "      <td>0</td>\n",
       "      <td>0</td>\n",
       "      <td>0</td>\n",
       "      <td>0</td>\n",
       "      <td>0</td>\n",
       "      <td>0</td>\n",
       "      <td>0</td>\n",
       "      <td>0</td>\n",
       "    </tr>\n",
       "  </tbody>\n",
       "</table>\n",
       "<p>2500 rows × 47 columns</p>\n",
       "</div>"
      ],
      "text/plain": [
       "      State_.  State_AK  State_AL  State_AR  State_AZ  State_CA  State_CO  \\\n",
       "0           0         0         0         0         0         0         0   \n",
       "1           0         0         0         0         0         0         0   \n",
       "2           0         0         0         0         0         1         0   \n",
       "3           0         0         0         0         0         0         0   \n",
       "4           0         0         0         0         0         0         0   \n",
       "...       ...       ...       ...       ...       ...       ...       ...   \n",
       "2495        0         0         0         0         0         0         0   \n",
       "2496        0         0         0         0         0         0         0   \n",
       "2497        0         0         0         0         0         0         0   \n",
       "2498        0         0         0         0         0         0         0   \n",
       "2499        0         0         0         0         0         0         0   \n",
       "\n",
       "      State_CT  State_DC  State_DE  ...  State_SC  State_SD  State_TX  \\\n",
       "0            0         0         0  ...         1         0         0   \n",
       "1            0         0         0  ...         0         0         1   \n",
       "2            0         0         0  ...         0         0         0   \n",
       "3            0         0         0  ...         0         0         0   \n",
       "4            0         0         0  ...         0         0         0   \n",
       "...        ...       ...       ...  ...       ...       ...       ...   \n",
       "2495         0         0         0  ...         0         0         0   \n",
       "2496         0         0         0  ...         0         0         0   \n",
       "2497         0         0         0  ...         0         0         0   \n",
       "2498         0         0         0  ...         0         0         0   \n",
       "2499         0         0         0  ...         0         0         0   \n",
       "\n",
       "      State_UT  State_VA  State_VT  State_WA  State_WI  State_WV  State_WY  \n",
       "0            0         0         0         0         0         0         0  \n",
       "1            0         0         0         0         0         0         0  \n",
       "2            0         0         0         0         0         0         0  \n",
       "3            0         0         0         0         0         0         0  \n",
       "4            0         0         0         0         0         0         0  \n",
       "...        ...       ...       ...       ...       ...       ...       ...  \n",
       "2495         0         0         0         0         0         0         0  \n",
       "2496         0         0         0         0         0         0         0  \n",
       "2497         0         0         0         0         0         0         0  \n",
       "2498         0         0         0         0         0         0         0  \n",
       "2499         0         0         0         0         0         0         0  \n",
       "\n",
       "[2500 rows x 47 columns]"
      ]
     },
     "execution_count": 20,
     "metadata": {},
     "output_type": "execute_result"
    }
   ],
   "source": [
    "y"
   ]
  },
  {
   "cell_type": "code",
   "execution_count": 21,
   "metadata": {
    "ExecuteTime": {
     "end_time": "2023-07-08T15:11:03.028214Z",
     "start_time": "2023-07-08T15:11:03.014476Z"
    }
   },
   "outputs": [
    {
     "data": {
      "text/plain": [
       "47"
      ]
     },
     "execution_count": 21,
     "metadata": {},
     "output_type": "execute_result"
    }
   ],
   "source": [
    "data['State'].nunique()"
   ]
  },
  {
   "cell_type": "code",
   "execution_count": 22,
   "metadata": {
    "ExecuteTime": {
     "end_time": "2023-07-08T15:11:03.035713Z",
     "start_time": "2023-07-08T15:11:03.029180Z"
    }
   },
   "outputs": [
    {
     "data": {
      "text/plain": [
       "(2500, 47)"
      ]
     },
     "execution_count": 22,
     "metadata": {},
     "output_type": "execute_result"
    }
   ],
   "source": [
    "y.shape"
   ]
  },
  {
   "cell_type": "code",
   "execution_count": 23,
   "metadata": {
    "ExecuteTime": {
     "end_time": "2023-07-08T15:11:03.685680Z",
     "start_time": "2023-07-08T15:11:03.035713Z"
    }
   },
   "outputs": [],
   "source": [
    "embedding_dim=3\n",
    "\n",
    "inputs=Input(shape=(dummy_data.shape[1],))\n",
    "\n",
    "dense1=Dense(20,activation='relu')(inputs)\n",
    "\n",
    "embedded_output=Dense(embedding_dim)(dense1)\n",
    "\n",
    "outputs=Dense(dummy_data.shape[1],activation='softmax')(embedded_output)\n",
    "model=Model(inputs=inputs,outputs=outputs)\n",
    "\n",
    "embedder=Model(inputs=inputs,outputs=embedded_output)"
   ]
  },
  {
   "cell_type": "code",
   "execution_count": 24,
   "metadata": {
    "ExecuteTime": {
     "end_time": "2023-07-08T15:11:14.869877Z",
     "start_time": "2023-07-08T15:11:03.687985Z"
    }
   },
   "outputs": [
    {
     "name": "stdout",
     "output_type": "stream",
     "text": [
      "WARNING:tensorflow:Falling back from v2 loop because of error: Failed to find data adapter that can handle input: <class 'pandas.core.frame.DataFrame'>, <class 'NoneType'>\n",
      "Train on 2500 samples\n",
      "Epoch 1/150\n",
      "2500/2500 [==============================] - 0s 136us/sample - loss: 3.8197 - accuracy: 0.0676\n",
      "Epoch 2/150\n",
      "2500/2500 [==============================] - 0s 27us/sample - loss: 3.7680 - accuracy: 0.0676\n",
      "Epoch 3/150\n",
      "2500/2500 [==============================] - 0s 29us/sample - loss: 3.7040 - accuracy: 0.0676\n",
      "Epoch 4/150\n",
      "2500/2500 [==============================] - 0s 26us/sample - loss: 3.6159 - accuracy: 0.0676\n",
      "Epoch 5/150\n",
      "2500/2500 [==============================] - 0s 30us/sample - loss: 3.4934 - accuracy: 0.0700\n",
      "Epoch 6/150\n",
      "2500/2500 [==============================] - 0s 30us/sample - loss: 3.3362 - accuracy: 0.1060\n",
      "Epoch 7/150\n",
      "2500/2500 [==============================] - 0s 30us/sample - loss: 3.1483 - accuracy: 0.1060\n",
      "Epoch 8/150\n",
      "2500/2500 [==============================] - 0s 31us/sample - loss: 2.9367 - accuracy: 0.2528\n",
      "Epoch 9/150\n",
      "2500/2500 [==============================] - 0s 28us/sample - loss: 2.7040 - accuracy: 0.3356\n",
      "Epoch 10/150\n",
      "2500/2500 [==============================] - 0s 24us/sample - loss: 2.4542 - accuracy: 0.4096\n",
      "Epoch 11/150\n",
      "2500/2500 [==============================] - 0s 25us/sample - loss: 2.2086 - accuracy: 0.4124\n",
      "Epoch 12/150\n",
      "2500/2500 [==============================] - 0s 27us/sample - loss: 1.9916 - accuracy: 0.4400\n",
      "Epoch 13/150\n",
      "2500/2500 [==============================] - 0s 26us/sample - loss: 1.8129 - accuracy: 0.4780\n",
      "Epoch 14/150\n",
      "2500/2500 [==============================] - 0s 26us/sample - loss: 1.6630 - accuracy: 0.4840\n",
      "Epoch 15/150\n",
      "2500/2500 [==============================] - 0s 26us/sample - loss: 1.5372 - accuracy: 0.5320\n",
      "Epoch 16/150\n",
      "2500/2500 [==============================] - 0s 31us/sample - loss: 1.4295 - accuracy: 0.5704\n",
      "Epoch 17/150\n",
      "2500/2500 [==============================] - 0s 28us/sample - loss: 1.3378 - accuracy: 0.6084\n",
      "Epoch 18/150\n",
      "2500/2500 [==============================] - 0s 27us/sample - loss: 1.2577 - accuracy: 0.6496\n",
      "Epoch 19/150\n",
      "2500/2500 [==============================] - 0s 27us/sample - loss: 1.1866 - accuracy: 0.6476\n",
      "Epoch 20/150\n",
      "2500/2500 [==============================] - 0s 24us/sample - loss: 1.1223 - accuracy: 0.6960\n",
      "Epoch 21/150\n",
      "2500/2500 [==============================] - 0s 27us/sample - loss: 1.0641 - accuracy: 0.7004\n",
      "Epoch 22/150\n",
      "2500/2500 [==============================] - 0s 26us/sample - loss: 1.0101 - accuracy: 0.7004\n",
      "Epoch 23/150\n",
      "2500/2500 [==============================] - 0s 30us/sample - loss: 0.9593 - accuracy: 0.7112\n",
      "Epoch 24/150\n",
      "2500/2500 [==============================] - 0s 24us/sample - loss: 0.9120 - accuracy: 0.7380\n",
      "Epoch 25/150\n",
      "2500/2500 [==============================] - 0s 27us/sample - loss: 0.8657 - accuracy: 0.7380\n",
      "Epoch 26/150\n",
      "2500/2500 [==============================] - 0s 27us/sample - loss: 0.8222 - accuracy: 0.7380\n",
      "Epoch 27/150\n",
      "2500/2500 [==============================] - 0s 26us/sample - loss: 0.7799 - accuracy: 0.7636\n",
      "Epoch 28/150\n",
      "2500/2500 [==============================] - 0s 28us/sample - loss: 0.7402 - accuracy: 0.8192\n",
      "Epoch 29/150\n",
      "2500/2500 [==============================] - 0s 23us/sample - loss: 0.7023 - accuracy: 0.8372\n",
      "Epoch 30/150\n",
      "2500/2500 [==============================] - 0s 35us/sample - loss: 0.6663 - accuracy: 0.8624\n",
      "Epoch 31/150\n",
      "2500/2500 [==============================] - 0s 27us/sample - loss: 0.6324 - accuracy: 0.8752\n",
      "Epoch 32/150\n",
      "2500/2500 [==============================] - 0s 25us/sample - loss: 0.6007 - accuracy: 0.8784\n",
      "Epoch 33/150\n",
      "2500/2500 [==============================] - 0s 29us/sample - loss: 0.5712 - accuracy: 0.8884\n",
      "Epoch 34/150\n",
      "2500/2500 [==============================] - 0s 29us/sample - loss: 0.5435 - accuracy: 0.8884\n",
      "Epoch 35/150\n",
      "2500/2500 [==============================] - 0s 30us/sample - loss: 0.5167 - accuracy: 0.8884\n",
      "Epoch 36/150\n",
      "2500/2500 [==============================] - 0s 29us/sample - loss: 0.4923 - accuracy: 0.9088\n",
      "Epoch 37/150\n",
      "2500/2500 [==============================] - 0s 27us/sample - loss: 0.4690 - accuracy: 0.9116\n",
      "Epoch 38/150\n",
      "2500/2500 [==============================] - 0s 27us/sample - loss: 0.4476 - accuracy: 0.9116\n",
      "Epoch 39/150\n",
      "2500/2500 [==============================] - 0s 26us/sample - loss: 0.4273 - accuracy: 0.9116\n",
      "Epoch 40/150\n",
      "2500/2500 [==============================] - 0s 29us/sample - loss: 0.4081 - accuracy: 0.9116\n",
      "Epoch 41/150\n",
      "2500/2500 [==============================] - 0s 22us/sample - loss: 0.3909 - accuracy: 0.9224\n",
      "Epoch 42/150\n",
      "2500/2500 [==============================] - 0s 28us/sample - loss: 0.3736 - accuracy: 0.9404\n",
      "Epoch 43/150\n",
      "2500/2500 [==============================] - 0s 30us/sample - loss: 0.3579 - accuracy: 0.9416\n",
      "Epoch 44/150\n",
      "2500/2500 [==============================] - 0s 22us/sample - loss: 0.3429 - accuracy: 0.9416\n",
      "Epoch 45/150\n",
      "2500/2500 [==============================] - 0s 30us/sample - loss: 0.3290 - accuracy: 0.9416\n",
      "Epoch 46/150\n",
      "2500/2500 [==============================] - 0s 24us/sample - loss: 0.3157 - accuracy: 0.9416\n",
      "Epoch 47/150\n",
      "2500/2500 [==============================] - 0s 26us/sample - loss: 0.3035 - accuracy: 0.9416\n",
      "Epoch 48/150\n",
      "2500/2500 [==============================] - 0s 33us/sample - loss: 0.2920 - accuracy: 0.9416\n",
      "Epoch 49/150\n",
      "2500/2500 [==============================] - 0s 26us/sample - loss: 0.2799 - accuracy: 0.9416\n",
      "Epoch 50/150\n",
      "2500/2500 [==============================] - 0s 29us/sample - loss: 0.2695 - accuracy: 0.9416\n",
      "Epoch 51/150\n",
      "2500/2500 [==============================] - 0s 26us/sample - loss: 0.2591 - accuracy: 0.9416\n",
      "Epoch 52/150\n",
      "2500/2500 [==============================] - 0s 24us/sample - loss: 0.2495 - accuracy: 0.9460\n",
      "Epoch 53/150\n",
      "2500/2500 [==============================] - 0s 32us/sample - loss: 0.2401 - accuracy: 0.9504\n",
      "Epoch 54/150\n",
      "2500/2500 [==============================] - 0s 27us/sample - loss: 0.2311 - accuracy: 0.9520\n",
      "Epoch 55/150\n",
      "2500/2500 [==============================] - 0s 26us/sample - loss: 0.2228 - accuracy: 0.9560\n",
      "Epoch 56/150\n",
      "2500/2500 [==============================] - 0s 30us/sample - loss: 0.2146 - accuracy: 0.9560\n",
      "Epoch 57/150\n",
      "2500/2500 [==============================] - 0s 24us/sample - loss: 0.2069 - accuracy: 0.9560\n",
      "Epoch 58/150\n",
      "2500/2500 [==============================] - 0s 32us/sample - loss: 0.1994 - accuracy: 0.9560\n",
      "Epoch 59/150\n",
      "2500/2500 [==============================] - 0s 28us/sample - loss: 0.1923 - accuracy: 0.9560\n",
      "Epoch 60/150\n",
      "2500/2500 [==============================] - 0s 25us/sample - loss: 0.1851 - accuracy: 0.9560\n",
      "Epoch 61/150\n",
      "2500/2500 [==============================] - 0s 26us/sample - loss: 0.1786 - accuracy: 0.9560\n",
      "Epoch 62/150\n",
      "2500/2500 [==============================] - 0s 31us/sample - loss: 0.1722 - accuracy: 0.9612\n",
      "Epoch 63/150\n",
      "2500/2500 [==============================] - 0s 28us/sample - loss: 0.1659 - accuracy: 0.9696\n",
      "Epoch 64/150\n",
      "2500/2500 [==============================] - 0s 32us/sample - loss: 0.1598 - accuracy: 0.9716\n",
      "Epoch 65/150\n",
      "2500/2500 [==============================] - 0s 27us/sample - loss: 0.1541 - accuracy: 0.9716\n",
      "Epoch 66/150\n",
      "2500/2500 [==============================] - 0s 27us/sample - loss: 0.1485 - accuracy: 0.9728\n",
      "Epoch 67/150\n",
      "2500/2500 [==============================] - 0s 27us/sample - loss: 0.1430 - accuracy: 0.9760\n",
      "Epoch 68/150\n",
      "2500/2500 [==============================] - 0s 26us/sample - loss: 0.1378 - accuracy: 0.9760\n",
      "Epoch 69/150\n",
      "2500/2500 [==============================] - 0s 30us/sample - loss: 0.1329 - accuracy: 0.9760\n",
      "Epoch 70/150\n",
      "2500/2500 [==============================] - 0s 28us/sample - loss: 0.1280 - accuracy: 0.9760\n",
      "Epoch 71/150\n",
      "2500/2500 [==============================] - 0s 27us/sample - loss: 0.1235 - accuracy: 0.9808\n",
      "Epoch 72/150\n",
      "2500/2500 [==============================] - 0s 26us/sample - loss: 0.1192 - accuracy: 0.9856\n",
      "Epoch 73/150\n",
      "2500/2500 [==============================] - 0s 27us/sample - loss: 0.1151 - accuracy: 0.9892\n",
      "Epoch 74/150\n",
      "2500/2500 [==============================] - 0s 27us/sample - loss: 0.1108 - accuracy: 0.9892\n",
      "Epoch 75/150\n",
      "2500/2500 [==============================] - 0s 26us/sample - loss: 0.1068 - accuracy: 0.9892\n",
      "Epoch 76/150\n",
      "2500/2500 [==============================] - 0s 26us/sample - loss: 0.1029 - accuracy: 0.9892\n",
      "Epoch 77/150\n",
      "2500/2500 [==============================] - 0s 33us/sample - loss: 0.0993 - accuracy: 0.9892\n",
      "Epoch 78/150\n",
      "2500/2500 [==============================] - 0s 26us/sample - loss: 0.0959 - accuracy: 0.9892\n",
      "Epoch 79/150\n",
      "2500/2500 [==============================] - 0s 27us/sample - loss: 0.0924 - accuracy: 0.9892\n",
      "Epoch 80/150\n",
      "2500/2500 [==============================] - 0s 30us/sample - loss: 0.0891 - accuracy: 0.9892\n",
      "Epoch 81/150\n",
      "2500/2500 [==============================] - 0s 24us/sample - loss: 0.0858 - accuracy: 0.9892\n",
      "Epoch 82/150\n",
      "2500/2500 [==============================] - 0s 32us/sample - loss: 0.0829 - accuracy: 0.9892\n",
      "Epoch 83/150\n",
      "2500/2500 [==============================] - 0s 27us/sample - loss: 0.0799 - accuracy: 0.9892\n",
      "Epoch 84/150\n",
      "2500/2500 [==============================] - 0s 32us/sample - loss: 0.0771 - accuracy: 0.9892\n",
      "Epoch 85/150\n",
      "2500/2500 [==============================] - 0s 27us/sample - loss: 0.0745 - accuracy: 0.9892\n",
      "Epoch 86/150\n",
      "2500/2500 [==============================] - 0s 27us/sample - loss: 0.0719 - accuracy: 0.9892\n",
      "Epoch 87/150\n",
      "2500/2500 [==============================] - 0s 29us/sample - loss: 0.0694 - accuracy: 0.9892\n",
      "Epoch 88/150\n",
      "2500/2500 [==============================] - 0s 25us/sample - loss: 0.0669 - accuracy: 0.9892\n",
      "Epoch 89/150\n",
      "2500/2500 [==============================] - 0s 33us/sample - loss: 0.0648 - accuracy: 0.9892\n",
      "Epoch 90/150\n",
      "2500/2500 [==============================] - 0s 30us/sample - loss: 0.0628 - accuracy: 0.9892\n",
      "Epoch 91/150\n",
      "2500/2500 [==============================] - 0s 30us/sample - loss: 0.0608 - accuracy: 0.9892\n",
      "Epoch 92/150\n",
      "2500/2500 [==============================] - 0s 26us/sample - loss: 0.0588 - accuracy: 0.9892\n",
      "Epoch 93/150\n",
      "2500/2500 [==============================] - 0s 26us/sample - loss: 0.0570 - accuracy: 0.9892\n",
      "Epoch 94/150\n",
      "2500/2500 [==============================] - 0s 27us/sample - loss: 0.0553 - accuracy: 0.9892\n",
      "Epoch 95/150\n",
      "2500/2500 [==============================] - 0s 25us/sample - loss: 0.0537 - accuracy: 0.9892\n",
      "Epoch 96/150\n",
      "2500/2500 [==============================] - 0s 27us/sample - loss: 0.0522 - accuracy: 0.9892\n",
      "Epoch 97/150\n",
      "2500/2500 [==============================] - 0s 33us/sample - loss: 0.0507 - accuracy: 0.9892\n",
      "Epoch 98/150\n",
      "2500/2500 [==============================] - 0s 27us/sample - loss: 0.0493 - accuracy: 0.9892\n",
      "Epoch 99/150\n",
      "2500/2500 [==============================] - 0s 24us/sample - loss: 0.0479 - accuracy: 0.9892\n",
      "Epoch 100/150\n",
      "2500/2500 [==============================] - 0s 27us/sample - loss: 0.0466 - accuracy: 0.9892\n",
      "Epoch 101/150\n",
      "2500/2500 [==============================] - 0s 28us/sample - loss: 0.0455 - accuracy: 0.9892\n",
      "Epoch 102/150\n",
      "2500/2500 [==============================] - 0s 24us/sample - loss: 0.0443 - accuracy: 0.9892\n",
      "Epoch 103/150\n",
      "2500/2500 [==============================] - 0s 27us/sample - loss: 0.0432 - accuracy: 0.9892\n",
      "Epoch 104/150\n",
      "2500/2500 [==============================] - 0s 29us/sample - loss: 0.0421 - accuracy: 0.9892\n",
      "Epoch 105/150\n",
      "2500/2500 [==============================] - 0s 31us/sample - loss: 0.0411 - accuracy: 0.9920\n",
      "Epoch 106/150\n",
      "2500/2500 [==============================] - 0s 27us/sample - loss: 0.0401 - accuracy: 0.9896\n",
      "Epoch 107/150\n",
      "2500/2500 [==============================] - 0s 27us/sample - loss: 0.0391 - accuracy: 0.9916\n",
      "Epoch 108/150\n",
      "2500/2500 [==============================] - 0s 26us/sample - loss: 0.0381 - accuracy: 0.9920\n",
      "Epoch 109/150\n",
      "2500/2500 [==============================] - 0s 27us/sample - loss: 0.0372 - accuracy: 0.9920\n",
      "Epoch 110/150\n",
      "2500/2500 [==============================] - 0s 28us/sample - loss: 0.0364 - accuracy: 0.9920\n",
      "Epoch 111/150\n",
      "2500/2500 [==============================] - 0s 26us/sample - loss: 0.0355 - accuracy: 0.9920\n",
      "Epoch 112/150\n",
      "2500/2500 [==============================] - 0s 30us/sample - loss: 0.0347 - accuracy: 0.9920\n",
      "Epoch 113/150\n",
      "2500/2500 [==============================] - 0s 27us/sample - loss: 0.0338 - accuracy: 0.9920\n",
      "Epoch 114/150\n",
      "2500/2500 [==============================] - 0s 27us/sample - loss: 0.0331 - accuracy: 0.9920\n",
      "Epoch 115/150\n",
      "2500/2500 [==============================] - 0s 27us/sample - loss: 0.0323 - accuracy: 0.9920\n",
      "Epoch 116/150\n",
      "2500/2500 [==============================] - 0s 29us/sample - loss: 0.0315 - accuracy: 0.9920\n",
      "Epoch 117/150\n",
      "2500/2500 [==============================] - 0s 23us/sample - loss: 0.0307 - accuracy: 0.9920\n",
      "Epoch 118/150\n",
      "2500/2500 [==============================] - 0s 33us/sample - loss: 0.0300 - accuracy: 0.9920\n",
      "Epoch 119/150\n",
      "2500/2500 [==============================] - 0s 26us/sample - loss: 0.0293 - accuracy: 0.9920\n",
      "Epoch 120/150\n",
      "2500/2500 [==============================] - 0s 27us/sample - loss: 0.0286 - accuracy: 0.9920\n",
      "Epoch 121/150\n",
      "2500/2500 [==============================] - 0s 32us/sample - loss: 0.0279 - accuracy: 0.9940\n",
      "Epoch 122/150\n",
      "2500/2500 [==============================] - 0s 26us/sample - loss: 0.0271 - accuracy: 0.9940\n",
      "Epoch 123/150\n",
      "2500/2500 [==============================] - 0s 28us/sample - loss: 0.0265 - accuracy: 0.9940\n",
      "Epoch 124/150\n",
      "2500/2500 [==============================] - 0s 24us/sample - loss: 0.0258 - accuracy: 0.9940\n",
      "Epoch 125/150\n",
      "2500/2500 [==============================] - 0s 30us/sample - loss: 0.0251 - accuracy: 0.9940\n",
      "Epoch 126/150\n",
      "2500/2500 [==============================] - 0s 27us/sample - loss: 0.0245 - accuracy: 0.9940\n",
      "Epoch 127/150\n",
      "2500/2500 [==============================] - 0s 26us/sample - loss: 0.0239 - accuracy: 0.9940\n",
      "Epoch 128/150\n",
      "2500/2500 [==============================] - 0s 27us/sample - loss: 0.0233 - accuracy: 0.9944\n",
      "Epoch 129/150\n",
      "2500/2500 [==============================] - 0s 25us/sample - loss: 0.0227 - accuracy: 0.9944\n",
      "Epoch 130/150\n",
      "2500/2500 [==============================] - 0s 29us/sample - loss: 0.0222 - accuracy: 0.9948\n",
      "Epoch 131/150\n",
      "2500/2500 [==============================] - 0s 25us/sample - loss: 0.0217 - accuracy: 0.9944\n",
      "Epoch 132/150\n",
      "2500/2500 [==============================] - 0s 27us/sample - loss: 0.0212 - accuracy: 0.9956\n",
      "Epoch 133/150\n",
      "2500/2500 [==============================] - 0s 27us/sample - loss: 0.0207 - accuracy: 0.9960\n",
      "Epoch 134/150\n",
      "2500/2500 [==============================] - 0s 29us/sample - loss: 0.0202 - accuracy: 0.9956\n",
      "Epoch 135/150\n",
      "2500/2500 [==============================] - 0s 28us/sample - loss: 0.0197 - accuracy: 0.9956\n",
      "Epoch 136/150\n",
      "2500/2500 [==============================] - 0s 27us/sample - loss: 0.0193 - accuracy: 0.9964\n",
      "Epoch 137/150\n",
      "2500/2500 [==============================] - 0s 25us/sample - loss: 0.0188 - accuracy: 0.9964\n",
      "Epoch 138/150\n",
      "2500/2500 [==============================] - 0s 26us/sample - loss: 0.0184 - accuracy: 0.9980\n",
      "Epoch 139/150\n",
      "2500/2500 [==============================] - 0s 26us/sample - loss: 0.0180 - accuracy: 0.9984\n",
      "Epoch 140/150\n",
      "2500/2500 [==============================] - 0s 28us/sample - loss: 0.0177 - accuracy: 0.9984\n",
      "Epoch 141/150\n",
      "2500/2500 [==============================] - 0s 36us/sample - loss: 0.0173 - accuracy: 0.9984\n",
      "Epoch 142/150\n",
      "2500/2500 [==============================] - 0s 31us/sample - loss: 0.0169 - accuracy: 0.9984\n",
      "Epoch 143/150\n",
      "2500/2500 [==============================] - 0s 26us/sample - loss: 0.0165 - accuracy: 0.9984\n",
      "Epoch 144/150\n",
      "2500/2500 [==============================] - 0s 31us/sample - loss: 0.0162 - accuracy: 0.9984\n",
      "Epoch 145/150\n",
      "2500/2500 [==============================] - 0s 30us/sample - loss: 0.0159 - accuracy: 0.9984\n",
      "Epoch 146/150\n",
      "2500/2500 [==============================] - 0s 26us/sample - loss: 0.0155 - accuracy: 0.9984\n",
      "Epoch 147/150\n",
      "2500/2500 [==============================] - 0s 32us/sample - loss: 0.0151 - accuracy: 0.9984\n",
      "Epoch 148/150\n",
      "2500/2500 [==============================] - 0s 31us/sample - loss: 0.0148 - accuracy: 0.9984\n",
      "Epoch 149/150\n",
      "2500/2500 [==============================] - 0s 29us/sample - loss: 0.0145 - accuracy: 0.9984\n",
      "Epoch 150/150\n",
      "2500/2500 [==============================] - 0s 26us/sample - loss: 0.0142 - accuracy: 0.9984\n"
     ]
    },
    {
     "data": {
      "text/plain": [
       "<tensorflow.python.keras.callbacks.History at 0x23279a2b688>"
      ]
     },
     "execution_count": 24,
     "metadata": {},
     "output_type": "execute_result"
    }
   ],
   "source": [
    "model.compile(optimizer='adam',loss='categorical_crossentropy',metrics=['accuracy'])\n",
    "model.fit(dummy_data,y,epochs=150,batch_size=100)"
   ]
  },
  {
   "cell_type": "code",
   "execution_count": 25,
   "metadata": {
    "ExecuteTime": {
     "end_time": "2023-07-08T15:11:14.963434Z",
     "start_time": "2023-07-08T15:11:14.870916Z"
    }
   },
   "outputs": [
    {
     "data": {
      "text/html": [
       "<div>\n",
       "<style scoped>\n",
       "    .dataframe tbody tr th:only-of-type {\n",
       "        vertical-align: middle;\n",
       "    }\n",
       "\n",
       "    .dataframe tbody tr th {\n",
       "        vertical-align: top;\n",
       "    }\n",
       "\n",
       "    .dataframe thead th {\n",
       "        text-align: right;\n",
       "    }\n",
       "</style>\n",
       "<table border=\"1\" class=\"dataframe\">\n",
       "  <thead>\n",
       "    <tr style=\"text-align: right;\">\n",
       "      <th></th>\n",
       "      <th>emb1</th>\n",
       "      <th>emb2</th>\n",
       "      <th>emb3</th>\n",
       "    </tr>\n",
       "  </thead>\n",
       "  <tbody>\n",
       "    <tr>\n",
       "      <th>0</th>\n",
       "      <td>-4.976855</td>\n",
       "      <td>-7.442372</td>\n",
       "      <td>29.894251</td>\n",
       "    </tr>\n",
       "    <tr>\n",
       "      <th>1</th>\n",
       "      <td>-22.394285</td>\n",
       "      <td>-6.660918</td>\n",
       "      <td>-19.112335</td>\n",
       "    </tr>\n",
       "    <tr>\n",
       "      <th>2</th>\n",
       "      <td>-14.428508</td>\n",
       "      <td>7.807920</td>\n",
       "      <td>-19.909124</td>\n",
       "    </tr>\n",
       "    <tr>\n",
       "      <th>3</th>\n",
       "      <td>6.584114</td>\n",
       "      <td>0.236790</td>\n",
       "      <td>34.191406</td>\n",
       "    </tr>\n",
       "    <tr>\n",
       "      <th>4</th>\n",
       "      <td>26.340851</td>\n",
       "      <td>3.233644</td>\n",
       "      <td>9.454779</td>\n",
       "    </tr>\n",
       "  </tbody>\n",
       "</table>\n",
       "</div>"
      ],
      "text/plain": [
       "        emb1      emb2       emb3\n",
       "0  -4.976855 -7.442372  29.894251\n",
       "1 -22.394285 -6.660918 -19.112335\n",
       "2 -14.428508  7.807920 -19.909124\n",
       "3   6.584114  0.236790  34.191406\n",
       "4  26.340851  3.233644   9.454779"
      ]
     },
     "execution_count": 25,
     "metadata": {},
     "output_type": "execute_result"
    }
   ],
   "source": [
    "low_dim=pd.DataFrame(embedder.predict(dummy_data),columns=['emb1','emb2','emb3'])\n",
    "low_dim.head()"
   ]
  },
  {
   "cell_type": "code",
   "execution_count": 26,
   "metadata": {
    "ExecuteTime": {
     "end_time": "2023-07-08T15:11:14.978449Z",
     "start_time": "2023-07-08T15:11:14.964479Z"
    }
   },
   "outputs": [
    {
     "data": {
      "text/html": [
       "<div>\n",
       "<style scoped>\n",
       "    .dataframe tbody tr th:only-of-type {\n",
       "        vertical-align: middle;\n",
       "    }\n",
       "\n",
       "    .dataframe tbody tr th {\n",
       "        vertical-align: top;\n",
       "    }\n",
       "\n",
       "    .dataframe thead th {\n",
       "        text-align: right;\n",
       "    }\n",
       "</style>\n",
       "<table border=\"1\" class=\"dataframe\">\n",
       "  <thead>\n",
       "    <tr style=\"text-align: right;\">\n",
       "      <th></th>\n",
       "      <th>emb1</th>\n",
       "      <th>emb2</th>\n",
       "      <th>emb3</th>\n",
       "    </tr>\n",
       "  </thead>\n",
       "  <tbody>\n",
       "    <tr>\n",
       "      <th>0</th>\n",
       "      <td>-4.976855</td>\n",
       "      <td>-7.442372</td>\n",
       "      <td>29.894251</td>\n",
       "    </tr>\n",
       "    <tr>\n",
       "      <th>1</th>\n",
       "      <td>-22.394285</td>\n",
       "      <td>-6.660918</td>\n",
       "      <td>-19.112335</td>\n",
       "    </tr>\n",
       "    <tr>\n",
       "      <th>2</th>\n",
       "      <td>-14.428508</td>\n",
       "      <td>7.807920</td>\n",
       "      <td>-19.909124</td>\n",
       "    </tr>\n",
       "    <tr>\n",
       "      <th>3</th>\n",
       "      <td>6.584114</td>\n",
       "      <td>0.236790</td>\n",
       "      <td>34.191406</td>\n",
       "    </tr>\n",
       "    <tr>\n",
       "      <th>4</th>\n",
       "      <td>26.340851</td>\n",
       "      <td>3.233644</td>\n",
       "      <td>9.454779</td>\n",
       "    </tr>\n",
       "    <tr>\n",
       "      <th>...</th>\n",
       "      <td>...</td>\n",
       "      <td>...</td>\n",
       "      <td>...</td>\n",
       "    </tr>\n",
       "    <tr>\n",
       "      <th>2495</th>\n",
       "      <td>9.124255</td>\n",
       "      <td>-6.047707</td>\n",
       "      <td>-28.230549</td>\n",
       "    </tr>\n",
       "    <tr>\n",
       "      <th>2496</th>\n",
       "      <td>-7.562596</td>\n",
       "      <td>-27.605417</td>\n",
       "      <td>-1.169847</td>\n",
       "    </tr>\n",
       "    <tr>\n",
       "      <th>2497</th>\n",
       "      <td>-5.693480</td>\n",
       "      <td>-12.076904</td>\n",
       "      <td>-28.776634</td>\n",
       "    </tr>\n",
       "    <tr>\n",
       "      <th>2498</th>\n",
       "      <td>26.340851</td>\n",
       "      <td>3.233644</td>\n",
       "      <td>9.454778</td>\n",
       "    </tr>\n",
       "    <tr>\n",
       "      <th>2499</th>\n",
       "      <td>9.124256</td>\n",
       "      <td>-6.047707</td>\n",
       "      <td>-28.230547</td>\n",
       "    </tr>\n",
       "  </tbody>\n",
       "</table>\n",
       "<p>2500 rows × 3 columns</p>\n",
       "</div>"
      ],
      "text/plain": [
       "           emb1       emb2       emb3\n",
       "0     -4.976855  -7.442372  29.894251\n",
       "1    -22.394285  -6.660918 -19.112335\n",
       "2    -14.428508   7.807920 -19.909124\n",
       "3      6.584114   0.236790  34.191406\n",
       "4     26.340851   3.233644   9.454779\n",
       "...         ...        ...        ...\n",
       "2495   9.124255  -6.047707 -28.230549\n",
       "2496  -7.562596 -27.605417  -1.169847\n",
       "2497  -5.693480 -12.076904 -28.776634\n",
       "2498  26.340851   3.233644   9.454778\n",
       "2499   9.124256  -6.047707 -28.230547\n",
       "\n",
       "[2500 rows x 3 columns]"
      ]
     },
     "execution_count": 26,
     "metadata": {},
     "output_type": "execute_result"
    }
   ],
   "source": [
    "low_dim"
   ]
  },
  {
   "cell_type": "code",
   "execution_count": 27,
   "metadata": {
    "ExecuteTime": {
     "end_time": "2023-07-08T15:11:14.991619Z",
     "start_time": "2023-07-08T15:11:14.979443Z"
    }
   },
   "outputs": [
    {
     "data": {
      "text/plain": [
       "0       SC\n",
       "1       TX\n",
       "2       CA\n",
       "3       KS\n",
       "4       NJ\n",
       "        ..\n",
       "2495    NY\n",
       "2496    MD\n",
       "2497    PA\n",
       "2498    NJ\n",
       "2499    NY\n",
       "Name: State, Length: 2500, dtype: object"
      ]
     },
     "execution_count": 27,
     "metadata": {},
     "output_type": "execute_result"
    }
   ],
   "source": [
    "data['State']"
   ]
  },
  {
   "cell_type": "markdown",
   "metadata": {},
   "source": [
    "## Coding cyclic time features "
   ]
  },
  {
   "cell_type": "code",
   "execution_count": 28,
   "metadata": {
    "ExecuteTime": {
     "end_time": "2023-07-08T15:11:15.006119Z",
     "start_time": "2023-07-08T15:11:14.991619Z"
    }
   },
   "outputs": [],
   "source": [
    "import numpy as np"
   ]
  },
  {
   "cell_type": "code",
   "execution_count": 29,
   "metadata": {
    "ExecuteTime": {
     "end_time": "2023-07-08T15:11:15.021478Z",
     "start_time": "2023-07-08T15:11:15.006119Z"
    }
   },
   "outputs": [
    {
     "data": {
      "text/plain": [
       "array([ 1,  2,  3,  4,  5,  6,  7,  8,  9, 10, 11, 12])"
      ]
     },
     "execution_count": 29,
     "metadata": {},
     "output_type": "execute_result"
    }
   ],
   "source": [
    "months=np.arange(1,13)\n",
    "months"
   ]
  },
  {
   "cell_type": "code",
   "execution_count": 30,
   "metadata": {
    "ExecuteTime": {
     "end_time": "2023-07-08T15:11:15.037213Z",
     "start_time": "2023-07-08T15:11:15.022477Z"
    }
   },
   "outputs": [],
   "source": [
    "months_sin=np.sin(2*np.pi*months/12)"
   ]
  },
  {
   "cell_type": "code",
   "execution_count": 32,
   "metadata": {
    "ExecuteTime": {
     "end_time": "2023-07-08T15:11:45.358036Z",
     "start_time": "2023-07-08T15:11:45.200957Z"
    }
   },
   "outputs": [
    {
     "data": {
      "text/plain": [
       "[]"
      ]
     },
     "execution_count": 32,
     "metadata": {},
     "output_type": "execute_result"
    },
    {
     "data": {
      "image/png": "[encoded data removed]",
      "text/plain": [
       "<Figure size 432x288 with 1 Axes>"
      ]
     },
     "metadata": {
      "needs_background": "light"
     },
     "output_type": "display_data"
    }
   ],
   "source": [
    "sns.scatterplot(x=months,y=months_sin).plot()"
   ]
  },
  {
   "cell_type": "code",
   "execution_count": 33,
   "metadata": {
    "ExecuteTime": {
     "end_time": "2023-07-08T15:11:49.022924Z",
     "start_time": "2023-07-08T15:11:49.008346Z"
    }
   },
   "outputs": [
    {
     "data": {
      "text/plain": [
       "array([ 5.00000000e-01,  8.66025404e-01,  1.00000000e+00,  8.66025404e-01,\n",
       "        5.00000000e-01,  1.22464680e-16, -5.00000000e-01, -8.66025404e-01,\n",
       "       -1.00000000e+00, -8.66025404e-01, -5.00000000e-01, -2.44929360e-16])"
      ]
     },
     "execution_count": 33,
     "metadata": {},
     "output_type": "execute_result"
    }
   ],
   "source": [
    "months_sin"
   ]
  },
  {
   "cell_type": "code",
   "execution_count": 34,
   "metadata": {
    "ExecuteTime": {
     "end_time": "2023-07-08T15:11:49.378937Z",
     "start_time": "2023-07-08T15:11:49.347818Z"
    }
   },
   "outputs": [],
   "source": [
    "months_cos=np.cos(2*np.pi*months/12)"
   ]
  },
  {
   "cell_type": "code",
   "execution_count": 56,
   "metadata": {
    "ExecuteTime": {
     "end_time": "2023-07-09T10:37:12.272628Z",
     "start_time": "2023-07-09T10:37:12.072860Z"
    }
   },
   "outputs": [
    {
     "data": {
      "text/plain": [
       "[]"
      ]
     },
     "execution_count": 56,
     "metadata": {},
     "output_type": "execute_result"
    },
    {
     "data": {
      "image/png": "[encoded data removed]",
      "text/plain": [
       "<Figure size 432x288 with 1 Axes>"
      ]
     },
     "metadata": {
      "needs_background": "light"
     },
     "output_type": "display_data"
    }
   ],
   "source": [
    "sns.scatterplot(x=months,y=months_cos).plot()"
   ]
  },
  {
   "cell_type": "code",
   "execution_count": 35,
   "metadata": {
    "ExecuteTime": {
     "end_time": "2023-07-08T15:11:49.678484Z",
     "start_time": "2023-07-08T15:11:49.664506Z"
    }
   },
   "outputs": [
    {
     "data": {
      "text/plain": [
       "array([ 5.00000000e-01,  8.66025404e-01,  1.00000000e+00,  8.66025404e-01,\n",
       "        5.00000000e-01,  1.22464680e-16, -5.00000000e-01, -8.66025404e-01,\n",
       "       -1.00000000e+00, -8.66025404e-01, -5.00000000e-01, -2.44929360e-16])"
      ]
     },
     "execution_count": 35,
     "metadata": {},
     "output_type": "execute_result"
    }
   ],
   "source": [
    "months_sin"
   ]
  },
  {
   "cell_type": "code",
   "execution_count": 36,
   "metadata": {
    "ExecuteTime": {
     "end_time": "2023-07-08T15:11:51.286917Z",
     "start_time": "2023-07-08T15:11:51.272940Z"
    }
   },
   "outputs": [
    {
     "data": {
      "text/plain": [
       "array([ 8.66025404e-01,  5.00000000e-01,  6.12323400e-17, -5.00000000e-01,\n",
       "       -8.66025404e-01, -1.00000000e+00, -8.66025404e-01, -5.00000000e-01,\n",
       "       -1.83697020e-16,  5.00000000e-01,  8.66025404e-01,  1.00000000e+00])"
      ]
     },
     "execution_count": 36,
     "metadata": {},
     "output_type": "execute_result"
    }
   ],
   "source": [
    "months_cos"
   ]
  },
  {
   "cell_type": "code",
   "execution_count": 37,
   "metadata": {
    "ExecuteTime": {
     "end_time": "2023-07-08T15:11:57.513599Z",
     "start_time": "2023-07-08T15:11:57.370731Z"
    }
   },
   "outputs": [
    {
     "data": {
      "text/plain": [
       "[]"
      ]
     },
     "execution_count": 37,
     "metadata": {},
     "output_type": "execute_result"
    },
    {
     "data": {
      "image/png": "[encoded data removed]",
      "text/plain": [
       "<Figure size 432x288 with 1 Axes>"
      ]
     },
     "metadata": {
      "needs_background": "light"
     },
     "output_type": "display_data"
    }
   ],
   "source": [
    "sns.scatterplot(x=months_sin,y=months_cos).plot()"
   ]
  },
  {
   "cell_type": "code",
   "execution_count": 38,
   "metadata": {
    "ExecuteTime": {
     "end_time": "2023-07-08T15:11:57.631680Z",
     "start_time": "2023-07-08T15:11:57.621753Z"
    }
   },
   "outputs": [],
   "source": [
    "def code_cyclic_features(data,columns,drop_cols=True):\n",
    "    for col in columns:\n",
    "        max_val=max(data[col])\n",
    "\n",
    "        data[col+'_sin']=np.sin(2*np.pi*data[col]/max_val)\n",
    "        data[col+'_cos']=np.cos(2*np.pi*data[col]/max_val)\n",
    "\n",
    "        if drop_cols:\n",
    "            del data[col]\n",
    "    return data  "
   ]
  },
  {
   "cell_type": "markdown",
   "metadata": {},
   "source": [
    "## Revisiting feature importance and issue with default importance in sklearn"
   ]
  },
  {
   "cell_type": "code",
   "execution_count": 39,
   "metadata": {
    "ExecuteTime": {
     "end_time": "2023-07-08T15:11:59.847167Z",
     "start_time": "2023-07-08T15:11:59.824225Z"
    }
   },
   "outputs": [
    {
     "data": {
      "text/html": [
       "<div>\n",
       "<style scoped>\n",
       "    .dataframe tbody tr th:only-of-type {\n",
       "        vertical-align: middle;\n",
       "    }\n",
       "\n",
       "    .dataframe tbody tr th {\n",
       "        vertical-align: top;\n",
       "    }\n",
       "\n",
       "    .dataframe thead th {\n",
       "        text-align: right;\n",
       "    }\n",
       "</style>\n",
       "<table border=\"1\" class=\"dataframe\">\n",
       "  <thead>\n",
       "    <tr style=\"text-align: right;\">\n",
       "      <th></th>\n",
       "      <th>ID</th>\n",
       "      <th>Amount.Requested</th>\n",
       "      <th>Amount.Funded.By.Investors</th>\n",
       "      <th>Interest.Rate</th>\n",
       "      <th>Loan.Length</th>\n",
       "      <th>Loan.Purpose</th>\n",
       "      <th>Debt.To.Income.Ratio</th>\n",
       "      <th>State</th>\n",
       "      <th>Home.Ownership</th>\n",
       "      <th>Monthly.Income</th>\n",
       "      <th>FICO.Range</th>\n",
       "      <th>Open.CREDIT.Lines</th>\n",
       "      <th>Revolving.CREDIT.Balance</th>\n",
       "      <th>Inquiries.in.the.Last.6.Months</th>\n",
       "      <th>Employment.Length</th>\n",
       "    </tr>\n",
       "  </thead>\n",
       "  <tbody>\n",
       "    <tr>\n",
       "      <th>0</th>\n",
       "      <td>81174.0</td>\n",
       "      <td>20000</td>\n",
       "      <td>20000</td>\n",
       "      <td>8.90%</td>\n",
       "      <td>36 months</td>\n",
       "      <td>debt_consolidation</td>\n",
       "      <td>14.90%</td>\n",
       "      <td>SC</td>\n",
       "      <td>MORTGAGE</td>\n",
       "      <td>6541.67</td>\n",
       "      <td>735-739</td>\n",
       "      <td>14</td>\n",
       "      <td>14272</td>\n",
       "      <td>2.0</td>\n",
       "      <td>&lt; 1 year</td>\n",
       "    </tr>\n",
       "    <tr>\n",
       "      <th>1</th>\n",
       "      <td>99592.0</td>\n",
       "      <td>19200</td>\n",
       "      <td>19200</td>\n",
       "      <td>12.12%</td>\n",
       "      <td>36 months</td>\n",
       "      <td>debt_consolidation</td>\n",
       "      <td>28.36%</td>\n",
       "      <td>TX</td>\n",
       "      <td>MORTGAGE</td>\n",
       "      <td>4583.33</td>\n",
       "      <td>715-719</td>\n",
       "      <td>12</td>\n",
       "      <td>11140</td>\n",
       "      <td>1.0</td>\n",
       "      <td>2 years</td>\n",
       "    </tr>\n",
       "    <tr>\n",
       "      <th>2</th>\n",
       "      <td>80059.0</td>\n",
       "      <td>35000</td>\n",
       "      <td>35000</td>\n",
       "      <td>21.98%</td>\n",
       "      <td>60 months</td>\n",
       "      <td>debt_consolidation</td>\n",
       "      <td>23.81%</td>\n",
       "      <td>CA</td>\n",
       "      <td>MORTGAGE</td>\n",
       "      <td>11500.00</td>\n",
       "      <td>690-694</td>\n",
       "      <td>14</td>\n",
       "      <td>21977</td>\n",
       "      <td>1.0</td>\n",
       "      <td>2 years</td>\n",
       "    </tr>\n",
       "    <tr>\n",
       "      <th>3</th>\n",
       "      <td>15825.0</td>\n",
       "      <td>10000</td>\n",
       "      <td>9975</td>\n",
       "      <td>9.99%</td>\n",
       "      <td>36 months</td>\n",
       "      <td>debt_consolidation</td>\n",
       "      <td>14.30%</td>\n",
       "      <td>KS</td>\n",
       "      <td>MORTGAGE</td>\n",
       "      <td>3833.33</td>\n",
       "      <td>695-699</td>\n",
       "      <td>10</td>\n",
       "      <td>9346</td>\n",
       "      <td>0.0</td>\n",
       "      <td>5 years</td>\n",
       "    </tr>\n",
       "    <tr>\n",
       "      <th>4</th>\n",
       "      <td>33182.0</td>\n",
       "      <td>12000</td>\n",
       "      <td>12000</td>\n",
       "      <td>11.71%</td>\n",
       "      <td>36 months</td>\n",
       "      <td>credit_card</td>\n",
       "      <td>18.78%</td>\n",
       "      <td>NJ</td>\n",
       "      <td>RENT</td>\n",
       "      <td>3195.00</td>\n",
       "      <td>695-699</td>\n",
       "      <td>11</td>\n",
       "      <td>14469</td>\n",
       "      <td>0.0</td>\n",
       "      <td>9 years</td>\n",
       "    </tr>\n",
       "  </tbody>\n",
       "</table>\n",
       "</div>"
      ],
      "text/plain": [
       "        ID Amount.Requested Amount.Funded.By.Investors Interest.Rate  \\\n",
       "0  81174.0            20000                      20000         8.90%   \n",
       "1  99592.0            19200                      19200        12.12%   \n",
       "2  80059.0            35000                      35000        21.98%   \n",
       "3  15825.0            10000                       9975         9.99%   \n",
       "4  33182.0            12000                      12000        11.71%   \n",
       "\n",
       "  Loan.Length        Loan.Purpose Debt.To.Income.Ratio State Home.Ownership  \\\n",
       "0   36 months  debt_consolidation               14.90%    SC       MORTGAGE   \n",
       "1   36 months  debt_consolidation               28.36%    TX       MORTGAGE   \n",
       "2   60 months  debt_consolidation               23.81%    CA       MORTGAGE   \n",
       "3   36 months  debt_consolidation               14.30%    KS       MORTGAGE   \n",
       "4   36 months         credit_card               18.78%    NJ           RENT   \n",
       "\n",
       "   Monthly.Income FICO.Range Open.CREDIT.Lines Revolving.CREDIT.Balance  \\\n",
       "0         6541.67    735-739                14                    14272   \n",
       "1         4583.33    715-719                12                    11140   \n",
       "2        11500.00    690-694                14                    21977   \n",
       "3         3833.33    695-699                10                     9346   \n",
       "4         3195.00    695-699                11                    14469   \n",
       "\n",
       "   Inquiries.in.the.Last.6.Months Employment.Length  \n",
       "0                             2.0          < 1 year  \n",
       "1                             1.0           2 years  \n",
       "2                             1.0           2 years  \n",
       "3                             0.0           5 years  \n",
       "4                             0.0           9 years  "
      ]
     },
     "execution_count": 39,
     "metadata": {},
     "output_type": "execute_result"
    }
   ],
   "source": [
    "data.head()"
   ]
  },
  {
   "cell_type": "code",
   "execution_count": 40,
   "metadata": {
    "ExecuteTime": {
     "end_time": "2023-07-08T15:12:02.146772Z",
     "start_time": "2023-07-08T15:12:02.049581Z"
    }
   },
   "outputs": [],
   "source": [
    "data.drop(['ID','Amount.Funded.By.Investors'],axis=1,inplace=True)\n",
    "\n",
    "for col in ['Interest.Rate','Debt.To.Income.Ratio']:\n",
    "    data[col]=data[col].str.replace(\"%\",\"\")\n",
    "    \n",
    "    \n",
    "\n",
    "for col in ['Amount.Requested', 'Interest.Rate','Debt.To.Income.Ratio',\n",
    "            'Open.CREDIT.Lines','Revolving.CREDIT.Balance']:\n",
    "    data[col]=pd.to_numeric(data[col],errors='coerce')\n",
    "    \n",
    "\n",
    "k=data['FICO.Range'].str.split(\"-\",expand=True).astype(float)\n",
    "\n",
    "data['fico']=0.5*(k[0]+k[1])\n",
    "\n",
    "del data['FICO.Range']\n",
    "\n",
    "cat_cols=data.select_dtypes(['object']).columns\n",
    "\n",
    "data=code_categorical_to_dummies(data,cat_cols)\n",
    "\n",
    "for col in data.columns:\n",
    "    if data[col].isnull().sum()>0:\n",
    "        data.loc[data[col].isnull(),col]=data[col].mean()"
   ]
  },
  {
   "cell_type": "code",
   "execution_count": 41,
   "metadata": {
    "ExecuteTime": {
     "end_time": "2023-07-08T15:12:02.334498Z",
     "start_time": "2023-07-08T15:12:02.319379Z"
    }
   },
   "outputs": [],
   "source": [
    "x_train=data.drop(['Interest.Rate'],1)\n",
    "y_train=data['Interest.Rate']"
   ]
  },
  {
   "cell_type": "code",
   "execution_count": 42,
   "metadata": {
    "ExecuteTime": {
     "end_time": "2023-07-08T15:12:02.650528Z",
     "start_time": "2023-07-08T15:12:02.636603Z"
    }
   },
   "outputs": [
    {
     "data": {
      "text/plain": [
       "(2500, 88)"
      ]
     },
     "execution_count": 42,
     "metadata": {},
     "output_type": "execute_result"
    }
   ],
   "source": [
    "x_train.shape"
   ]
  },
  {
   "cell_type": "code",
   "execution_count": 43,
   "metadata": {
    "ExecuteTime": {
     "end_time": "2023-07-08T15:12:15.903403Z",
     "start_time": "2023-07-08T15:12:03.191948Z"
    }
   },
   "outputs": [
    {
     "data": {
      "image/png": "[encoded data removed]",
      "text/plain": [
       "<Figure size 288x1411.2 with 1 Axes>"
      ]
     },
     "metadata": {
      "needs_background": "light"
     },
     "output_type": "display_data"
    }
   ],
   "source": [
    "# Add column of random numbers\n",
    "x_train['random'] = np.random.random(size=len(x_train))\n",
    "\n",
    "\n",
    "rf = RandomForestRegressor(n_estimators=100,\n",
    "                            min_samples_leaf=5,\n",
    "                            n_jobs=-1,\n",
    "                            oob_score=True)\n",
    "\n",
    "rf.fit(x_train,y_train)\n",
    "\n",
    "imp = importances(rf, x_train, y_train, n_samples=-1) # this function comes from package rfpimp\n",
    "viz = plot_importances(imp)\n",
    "viz.view()\n",
    "\n",
    "# it is possible that with different iterations of the code result in features at boundary switch to other side\n",
    "# dont worry about that , they dont make much difference either way [ and you have to draw a line somewhere]"
   ]
  },
  {
   "cell_type": "code",
   "execution_count": 58,
   "metadata": {
    "ExecuteTime": {
     "end_time": "2023-07-09T10:58:32.457255Z",
     "start_time": "2023-07-09T10:58:32.449540Z"
    }
   },
   "outputs": [
    {
     "data": {
      "text/html": [
       "<div>\n",
       "<style scoped>\n",
       "    .dataframe tbody tr th:only-of-type {\n",
       "        vertical-align: middle;\n",
       "    }\n",
       "\n",
       "    .dataframe tbody tr th {\n",
       "        vertical-align: top;\n",
       "    }\n",
       "\n",
       "    .dataframe thead th {\n",
       "        text-align: right;\n",
       "    }\n",
       "</style>\n",
       "<table border=\"1\" class=\"dataframe\">\n",
       "  <thead>\n",
       "    <tr style=\"text-align: right;\">\n",
       "      <th></th>\n",
       "      <th>Importance</th>\n",
       "    </tr>\n",
       "    <tr>\n",
       "      <th>Feature</th>\n",
       "      <th></th>\n",
       "    </tr>\n",
       "  </thead>\n",
       "  <tbody>\n",
       "    <tr>\n",
       "      <th>fico</th>\n",
       "      <td>1.193433</td>\n",
       "    </tr>\n",
       "    <tr>\n",
       "      <th>Amount.Requested</th>\n",
       "      <td>0.221510</td>\n",
       "    </tr>\n",
       "    <tr>\n",
       "      <th>Loan.Length_60 months</th>\n",
       "      <td>0.159601</td>\n",
       "    </tr>\n",
       "    <tr>\n",
       "      <th>Inquiries.in.the.Last.6.Months</th>\n",
       "      <td>0.060287</td>\n",
       "    </tr>\n",
       "    <tr>\n",
       "      <th>Open.CREDIT.Lines</th>\n",
       "      <td>0.033778</td>\n",
       "    </tr>\n",
       "    <tr>\n",
       "      <th>Loan.Length_36 months</th>\n",
       "      <td>0.016183</td>\n",
       "    </tr>\n",
       "    <tr>\n",
       "      <th>Revolving.CREDIT.Balance</th>\n",
       "      <td>0.015089</td>\n",
       "    </tr>\n",
       "    <tr>\n",
       "      <th>Debt.To.Income.Ratio</th>\n",
       "      <td>0.014111</td>\n",
       "    </tr>\n",
       "    <tr>\n",
       "      <th>random</th>\n",
       "      <td>0.014057</td>\n",
       "    </tr>\n",
       "    <tr>\n",
       "      <th>Monthly.Income</th>\n",
       "      <td>0.012243</td>\n",
       "    </tr>\n",
       "  </tbody>\n",
       "</table>\n",
       "</div>"
      ],
      "text/plain": [
       "                                Importance\n",
       "Feature                                   \n",
       "fico                              1.193433\n",
       "Amount.Requested                  0.221510\n",
       "Loan.Length_60 months             0.159601\n",
       "Inquiries.in.the.Last.6.Months    0.060287\n",
       "Open.CREDIT.Lines                 0.033778\n",
       "Loan.Length_36 months             0.016183\n",
       "Revolving.CREDIT.Balance          0.015089\n",
       "Debt.To.Income.Ratio              0.014111\n",
       "random                            0.014057\n",
       "Monthly.Income                    0.012243"
      ]
     },
     "execution_count": 58,
     "metadata": {},
     "output_type": "execute_result"
    }
   ],
   "source": [
    "imp.head(10)"
   ]
  },
  {
   "cell_type": "markdown",
   "metadata": {},
   "source": [
    "## Transformed Features : capability of algos to capture transformation automatically"
   ]
  },
  {
   "cell_type": "code",
   "execution_count": 45,
   "metadata": {
    "ExecuteTime": {
     "end_time": "2023-07-08T15:12:15.943234Z",
     "start_time": "2023-07-08T15:12:15.928983Z"
    }
   },
   "outputs": [
    {
     "data": {
      "text/plain": [
       "(4000, 5)"
      ]
     },
     "execution_count": 45,
     "metadata": {},
     "output_type": "execute_result"
    }
   ],
   "source": [
    "x_data= pd.DataFrame(np.random.random(size= (4000,5)), columns= ['x1','x2','x3','x4','x5'])\n",
    "\n",
    "x_data.shape"
   ]
  },
  {
   "cell_type": "code",
   "execution_count": 59,
   "metadata": {
    "ExecuteTime": {
     "end_time": "2023-07-09T11:02:06.887971Z",
     "start_time": "2023-07-09T11:02:06.871011Z"
    }
   },
   "outputs": [
    {
     "data": {
      "text/html": [
       "<div>\n",
       "<style scoped>\n",
       "    .dataframe tbody tr th:only-of-type {\n",
       "        vertical-align: middle;\n",
       "    }\n",
       "\n",
       "    .dataframe tbody tr th {\n",
       "        vertical-align: top;\n",
       "    }\n",
       "\n",
       "    .dataframe thead th {\n",
       "        text-align: right;\n",
       "    }\n",
       "</style>\n",
       "<table border=\"1\" class=\"dataframe\">\n",
       "  <thead>\n",
       "    <tr style=\"text-align: right;\">\n",
       "      <th></th>\n",
       "      <th>x1</th>\n",
       "      <th>x2</th>\n",
       "      <th>x3</th>\n",
       "      <th>x4</th>\n",
       "      <th>x5</th>\n",
       "      <th>y1</th>\n",
       "      <th>y2</th>\n",
       "      <th>y3</th>\n",
       "      <th>y4</th>\n",
       "      <th>y5</th>\n",
       "    </tr>\n",
       "  </thead>\n",
       "  <tbody>\n",
       "    <tr>\n",
       "      <th>0</th>\n",
       "      <td>0.301834</td>\n",
       "      <td>0.580511</td>\n",
       "      <td>0.329736</td>\n",
       "      <td>0.406169</td>\n",
       "      <td>0.983240</td>\n",
       "      <td>4.754025</td>\n",
       "      <td>3.583185</td>\n",
       "      <td>-1.563793</td>\n",
       "      <td>13.204920</td>\n",
       "      <td>8.289432</td>\n",
       "    </tr>\n",
       "    <tr>\n",
       "      <th>1</th>\n",
       "      <td>0.175717</td>\n",
       "      <td>0.679870</td>\n",
       "      <td>0.853405</td>\n",
       "      <td>0.856519</td>\n",
       "      <td>0.731263</td>\n",
       "      <td>5.533728</td>\n",
       "      <td>4.329968</td>\n",
       "      <td>-0.842600</td>\n",
       "      <td>12.565013</td>\n",
       "      <td>9.336953</td>\n",
       "    </tr>\n",
       "    <tr>\n",
       "      <th>2</th>\n",
       "      <td>0.906641</td>\n",
       "      <td>0.999096</td>\n",
       "      <td>0.687693</td>\n",
       "      <td>0.928549</td>\n",
       "      <td>0.365208</td>\n",
       "      <td>5.654358</td>\n",
       "      <td>4.872774</td>\n",
       "      <td>0.423369</td>\n",
       "      <td>9.218477</td>\n",
       "      <td>5.508332</td>\n",
       "    </tr>\n",
       "    <tr>\n",
       "      <th>3</th>\n",
       "      <td>0.296361</td>\n",
       "      <td>0.240768</td>\n",
       "      <td>0.735469</td>\n",
       "      <td>0.635115</td>\n",
       "      <td>0.285333</td>\n",
       "      <td>4.066268</td>\n",
       "      <td>2.843778</td>\n",
       "      <td>-3.029912</td>\n",
       "      <td>15.876551</td>\n",
       "      <td>6.797112</td>\n",
       "    </tr>\n",
       "    <tr>\n",
       "      <th>4</th>\n",
       "      <td>0.537405</td>\n",
       "      <td>0.141214</td>\n",
       "      <td>0.649086</td>\n",
       "      <td>0.888433</td>\n",
       "      <td>0.154980</td>\n",
       "      <td>4.700510</td>\n",
       "      <td>3.905303</td>\n",
       "      <td>-2.536986</td>\n",
       "      <td>20.352390</td>\n",
       "      <td>8.509961</td>\n",
       "    </tr>\n",
       "    <tr>\n",
       "      <th>...</th>\n",
       "      <td>...</td>\n",
       "      <td>...</td>\n",
       "      <td>...</td>\n",
       "      <td>...</td>\n",
       "      <td>...</td>\n",
       "      <td>...</td>\n",
       "      <td>...</td>\n",
       "      <td>...</td>\n",
       "      <td>...</td>\n",
       "      <td>...</td>\n",
       "    </tr>\n",
       "    <tr>\n",
       "      <th>3995</th>\n",
       "      <td>0.621829</td>\n",
       "      <td>0.479377</td>\n",
       "      <td>0.138632</td>\n",
       "      <td>0.659286</td>\n",
       "      <td>0.391646</td>\n",
       "      <td>3.871902</td>\n",
       "      <td>3.349540</td>\n",
       "      <td>-2.129132</td>\n",
       "      <td>16.656959</td>\n",
       "      <td>7.988575</td>\n",
       "    </tr>\n",
       "    <tr>\n",
       "      <th>3996</th>\n",
       "      <td>0.644107</td>\n",
       "      <td>0.844558</td>\n",
       "      <td>0.379806</td>\n",
       "      <td>0.124585</td>\n",
       "      <td>0.058519</td>\n",
       "      <td>4.018049</td>\n",
       "      <td>3.383937</td>\n",
       "      <td>-4.426608</td>\n",
       "      <td>32.256522</td>\n",
       "      <td>4.110525</td>\n",
       "    </tr>\n",
       "    <tr>\n",
       "      <th>3997</th>\n",
       "      <td>0.175684</td>\n",
       "      <td>0.587117</td>\n",
       "      <td>0.593589</td>\n",
       "      <td>0.089405</td>\n",
       "      <td>0.869300</td>\n",
       "      <td>4.045523</td>\n",
       "      <td>3.790324</td>\n",
       "      <td>-3.032290</td>\n",
       "      <td>23.281434</td>\n",
       "      <td>16.191200</td>\n",
       "    </tr>\n",
       "    <tr>\n",
       "      <th>3998</th>\n",
       "      <td>0.954057</td>\n",
       "      <td>0.937841</td>\n",
       "      <td>0.803626</td>\n",
       "      <td>0.145727</td>\n",
       "      <td>0.436221</td>\n",
       "      <td>5.429764</td>\n",
       "      <td>4.546908</td>\n",
       "      <td>-1.244489</td>\n",
       "      <td>14.033729</td>\n",
       "      <td>7.161855</td>\n",
       "    </tr>\n",
       "    <tr>\n",
       "      <th>3999</th>\n",
       "      <td>0.775502</td>\n",
       "      <td>0.227552</td>\n",
       "      <td>0.339348</td>\n",
       "      <td>0.060601</td>\n",
       "      <td>0.621532</td>\n",
       "      <td>3.872150</td>\n",
       "      <td>3.225303</td>\n",
       "      <td>-4.309048</td>\n",
       "      <td>28.443313</td>\n",
       "      <td>14.212533</td>\n",
       "    </tr>\n",
       "  </tbody>\n",
       "</table>\n",
       "<p>4000 rows × 10 columns</p>\n",
       "</div>"
      ],
      "text/plain": [
       "            x1        x2        x3        x4        x5        y1        y2  \\\n",
       "0     0.301834  0.580511  0.329736  0.406169  0.983240  4.754025  3.583185   \n",
       "1     0.175717  0.679870  0.853405  0.856519  0.731263  5.533728  4.329968   \n",
       "2     0.906641  0.999096  0.687693  0.928549  0.365208  5.654358  4.872774   \n",
       "3     0.296361  0.240768  0.735469  0.635115  0.285333  4.066268  2.843778   \n",
       "4     0.537405  0.141214  0.649086  0.888433  0.154980  4.700510  3.905303   \n",
       "...        ...       ...       ...       ...       ...       ...       ...   \n",
       "3995  0.621829  0.479377  0.138632  0.659286  0.391646  3.871902  3.349540   \n",
       "3996  0.644107  0.844558  0.379806  0.124585  0.058519  4.018049  3.383937   \n",
       "3997  0.175684  0.587117  0.593589  0.089405  0.869300  4.045523  3.790324   \n",
       "3998  0.954057  0.937841  0.803626  0.145727  0.436221  5.429764  4.546908   \n",
       "3999  0.775502  0.227552  0.339348  0.060601  0.621532  3.872150  3.225303   \n",
       "\n",
       "            y3         y4         y5  \n",
       "0    -1.563793  13.204920   8.289432  \n",
       "1    -0.842600  12.565013   9.336953  \n",
       "2     0.423369   9.218477   5.508332  \n",
       "3    -3.029912  15.876551   6.797112  \n",
       "4    -2.536986  20.352390   8.509961  \n",
       "...        ...        ...        ...  \n",
       "3995 -2.129132  16.656959   7.988575  \n",
       "3996 -4.426608  32.256522   4.110525  \n",
       "3997 -3.032290  23.281434  16.191200  \n",
       "3998 -1.244489  14.033729   7.161855  \n",
       "3999 -4.309048  28.443313  14.212533  \n",
       "\n",
       "[4000 rows x 10 columns]"
      ]
     },
     "execution_count": 59,
     "metadata": {},
     "output_type": "execute_result"
    }
   ],
   "source": [
    "x_data"
   ]
  },
  {
   "cell_type": "code",
   "execution_count": 46,
   "metadata": {
    "ExecuteTime": {
     "end_time": "2023-07-08T15:12:15.990180Z",
     "start_time": "2023-07-08T15:12:15.943234Z"
    }
   },
   "outputs": [
    {
     "data": {
      "text/html": [
       "<div>\n",
       "<style scoped>\n",
       "    .dataframe tbody tr th:only-of-type {\n",
       "        vertical-align: middle;\n",
       "    }\n",
       "\n",
       "    .dataframe tbody tr th {\n",
       "        vertical-align: top;\n",
       "    }\n",
       "\n",
       "    .dataframe thead th {\n",
       "        text-align: right;\n",
       "    }\n",
       "</style>\n",
       "<table border=\"1\" class=\"dataframe\">\n",
       "  <thead>\n",
       "    <tr style=\"text-align: right;\">\n",
       "      <th></th>\n",
       "      <th>x1</th>\n",
       "      <th>x2</th>\n",
       "      <th>x3</th>\n",
       "      <th>x4</th>\n",
       "      <th>x5</th>\n",
       "      <th>y1</th>\n",
       "      <th>y2</th>\n",
       "      <th>y3</th>\n",
       "      <th>y4</th>\n",
       "      <th>y5</th>\n",
       "    </tr>\n",
       "  </thead>\n",
       "  <tbody>\n",
       "    <tr>\n",
       "      <th>0</th>\n",
       "      <td>0.301834</td>\n",
       "      <td>0.580511</td>\n",
       "      <td>0.329736</td>\n",
       "      <td>0.406169</td>\n",
       "      <td>0.983240</td>\n",
       "      <td>4.754025</td>\n",
       "      <td>3.583185</td>\n",
       "      <td>-1.563793</td>\n",
       "      <td>13.204920</td>\n",
       "      <td>8.289432</td>\n",
       "    </tr>\n",
       "    <tr>\n",
       "      <th>1</th>\n",
       "      <td>0.175717</td>\n",
       "      <td>0.679870</td>\n",
       "      <td>0.853405</td>\n",
       "      <td>0.856519</td>\n",
       "      <td>0.731263</td>\n",
       "      <td>5.533728</td>\n",
       "      <td>4.329968</td>\n",
       "      <td>-0.842600</td>\n",
       "      <td>12.565013</td>\n",
       "      <td>9.336953</td>\n",
       "    </tr>\n",
       "    <tr>\n",
       "      <th>2</th>\n",
       "      <td>0.906641</td>\n",
       "      <td>0.999096</td>\n",
       "      <td>0.687693</td>\n",
       "      <td>0.928549</td>\n",
       "      <td>0.365208</td>\n",
       "      <td>5.654358</td>\n",
       "      <td>4.872774</td>\n",
       "      <td>0.423369</td>\n",
       "      <td>9.218477</td>\n",
       "      <td>5.508332</td>\n",
       "    </tr>\n",
       "    <tr>\n",
       "      <th>3</th>\n",
       "      <td>0.296361</td>\n",
       "      <td>0.240768</td>\n",
       "      <td>0.735469</td>\n",
       "      <td>0.635115</td>\n",
       "      <td>0.285333</td>\n",
       "      <td>4.066268</td>\n",
       "      <td>2.843778</td>\n",
       "      <td>-3.029912</td>\n",
       "      <td>15.876551</td>\n",
       "      <td>6.797112</td>\n",
       "    </tr>\n",
       "    <tr>\n",
       "      <th>4</th>\n",
       "      <td>0.537405</td>\n",
       "      <td>0.141214</td>\n",
       "      <td>0.649086</td>\n",
       "      <td>0.888433</td>\n",
       "      <td>0.154980</td>\n",
       "      <td>4.700510</td>\n",
       "      <td>3.905303</td>\n",
       "      <td>-2.536986</td>\n",
       "      <td>20.352390</td>\n",
       "      <td>8.509961</td>\n",
       "    </tr>\n",
       "  </tbody>\n",
       "</table>\n",
       "</div>"
      ],
      "text/plain": [
       "         x1        x2        x3        x4        x5        y1        y2  \\\n",
       "0  0.301834  0.580511  0.329736  0.406169  0.983240  4.754025  3.583185   \n",
       "1  0.175717  0.679870  0.853405  0.856519  0.731263  5.533728  4.329968   \n",
       "2  0.906641  0.999096  0.687693  0.928549  0.365208  5.654358  4.872774   \n",
       "3  0.296361  0.240768  0.735469  0.635115  0.285333  4.066268  2.843778   \n",
       "4  0.537405  0.141214  0.649086  0.888433  0.154980  4.700510  3.905303   \n",
       "\n",
       "         y3         y4        y5  \n",
       "0 -1.563793  13.204920  8.289432  \n",
       "1 -0.842600  12.565013  9.336953  \n",
       "2  0.423369   9.218477  5.508332  \n",
       "3 -3.029912  15.876551  6.797112  \n",
       "4 -2.536986  20.352390  8.509961  "
      ]
     },
     "execution_count": 46,
     "metadata": {},
     "output_type": "execute_result"
    }
   ],
   "source": [
    "# Linear Output\n",
    "x_data['y1']= 1.5 + x_data['x1'] + x_data['x2'] + x_data['x3'] + x_data['x4'] + x_data['x5'] + np.random.random(size=4000)\n",
    "\n",
    "# Exponential Output\n",
    "x_data['y2']= 1.5 + (x_data['x1']**2) + (x_data['x2']**2) + (x_data['x3']**2) + (x_data['x4']**2) + (x_data['x5']**2) + np.random.random(size=4000)\n",
    "\n",
    "# Log Output\n",
    "x_data['y3']= 1.5 + (np.log(x_data['x1'])) + (np.log(x_data['x2'])) + (np.log(x_data['x3'])) + (np.log(x_data['x4'])) + (np.log(x_data['x5'])) + np.random.random(size=4000)\n",
    "\n",
    "# Inverse Transformation\n",
    "x_data['y4']= 1.5 + (1/x_data['x1']) + (1/x_data['x2']) + (1/x_data['x3']) + (1/x_data['x4']) + (1/x_data['x5']) + np.random.random(size=4000)\n",
    "\n",
    "# Division Transformation\n",
    "x_data['y5']= 1.5 + (x_data['x2']/x_data['x1'])  + (x_data['x3']/x_data['x2'])  + (x_data['x4']/x_data['x3']) + (x_data['x5']/x_data['x4']) + np.random.random(size=4000)\n",
    "\n",
    "x_data.head(5)"
   ]
  },
  {
   "cell_type": "code",
   "execution_count": 47,
   "metadata": {
    "ExecuteTime": {
     "end_time": "2023-07-08T15:12:16.009058Z",
     "start_time": "2023-07-08T15:12:15.992177Z"
    }
   },
   "outputs": [],
   "source": [
    "\n",
    "train, test= train_test_split(x_data, test_size= 0.2, random_state=2)\n",
    "\n",
    "x_train= train.drop(['y1','y2','y3','y4','y5'],1)\n",
    "y_train= train[['y1','y2','y3','y4','y5']]\n",
    "\n",
    "x_test= test.drop(['y1','y2','y3','y4','y5'],1)\n",
    "y_test= test[['y1','y2','y3','y4','y5']]\n",
    "\n",
    "results= pd.DataFrame(columns=[\"Algo\",\"Relation\",\"MAE\"])"
   ]
  },
  {
   "cell_type": "code",
   "execution_count": null,
   "metadata": {},
   "outputs": [],
   "source": []
  },
  {
   "cell_type": "code",
   "execution_count": 48,
   "metadata": {
    "ExecuteTime": {
     "end_time": "2023-07-08T15:12:16.023952Z",
     "start_time": "2023-07-08T15:12:16.009058Z"
    }
   },
   "outputs": [],
   "source": [
    "def Random_Forest(x,y,relation):\n",
    "    \n",
    "    rf= RandomForestRegressor(n_estimators=200)\n",
    "    rf.fit(x,y_train[y])\n",
    "    y_pred=rf.predict(x_test)\n",
    "    mae= np.round(mean_absolute_error(y_test[y],y_pred),4)\n",
    "    global results\n",
    "    results= results.append({'Algo':\"Random Forest\",'Relation':relation,'MAE':mae}, ignore_index=True)\n",
    "    \n",
    "    #return(print(\"Algo: Random Forest\\nRelation: \"+relation+\" \\nMean Absolute error: \",mean_absolute_error(y_test[y],y_pred)))\n",
    "    \n",
    "\n",
    "def SV_M (x,y, relation):\n",
    "    svr= SVR()\n",
    "    svr.fit(x,y_train[y])\n",
    "    y_pred=svr.predict(x_test)\n",
    "    mae= np.round(mean_absolute_error(y_test[y],y_pred),4)\n",
    "    global results\n",
    "    results= results.append({'Algo':\"SVM\",'Relation':relation,'MAE':mae}, ignore_index=True)\n",
    "   # return(print(\"Algo: SVM \\nRelation: \"+relation+\" \\nMean Absolute error: \",mean_absolute_error(y_test[y],y_pred)))\n",
    "\n",
    "def XG_B(x,y, relation):\n",
    "    xgb= XGBRegressor(n_estimators=200,learning_rate=.01,objective='reg:squarederror')\n",
    "    xgb.fit(x,y_train[y])\n",
    "    y_pred=xgb.predict(x_test)\n",
    "    mae= np.round(mean_absolute_error(y_test[y],y_pred),4)\n",
    "    global results\n",
    "    results= results.append({'Algo':\"XGB\",'Relation':relation,'MAE':mae}, ignore_index=True)\n",
    "   # return(print(\"Algo: XGB \\nRelation: \"+relation+\" \\nMean Absolute error: \",mean_absolute_error(y_test[y],y_pred)))"
   ]
  },
  {
   "cell_type": "code",
   "execution_count": 49,
   "metadata": {
    "ExecuteTime": {
     "end_time": "2023-07-08T15:12:18.822121Z",
     "start_time": "2023-07-08T15:12:16.026814Z"
    }
   },
   "outputs": [],
   "source": [
    "# SET-1 (x)\n",
    "\n",
    "Random_Forest(x_train,\"y1\",\"x\")\n",
    "\n",
    "SV_M(x_train,\"y1\",\"x\")\n",
    "\n",
    "XG_B(x_train,\"y1\",\"x\")"
   ]
  },
  {
   "cell_type": "code",
   "execution_count": 50,
   "metadata": {
    "ExecuteTime": {
     "end_time": "2023-07-08T15:12:21.599517Z",
     "start_time": "2023-07-08T15:12:18.825166Z"
    }
   },
   "outputs": [],
   "source": [
    "# SET-2 (x^2)\n",
    "\n",
    "Random_Forest(x_train,\"y2\",\"x^2\")\n",
    "\n",
    "SV_M(x_train,\"y2\",\"x^2\")\n",
    "\n",
    "XG_B(x_train,\"y2\",\"x^2\")\n",
    "\n"
   ]
  },
  {
   "cell_type": "code",
   "execution_count": 51,
   "metadata": {
    "ExecuteTime": {
     "end_time": "2023-07-08T15:12:24.474864Z",
     "start_time": "2023-07-08T15:12:21.599517Z"
    }
   },
   "outputs": [],
   "source": [
    "# SET-3 (log(x))\n",
    "Random_Forest(x_train,\"y3\",\"log(x)\")\n",
    "\n",
    "SV_M(x_train,\"y3\",\"log(x)\")\n",
    "\n",
    "XG_B(x_train,\"y3\",\"log(x)\")\n",
    "\n"
   ]
  },
  {
   "cell_type": "code",
   "execution_count": 52,
   "metadata": {
    "ExecuteTime": {
     "end_time": "2023-07-08T15:12:29.426948Z",
     "start_time": "2023-07-08T15:12:24.474864Z"
    }
   },
   "outputs": [],
   "source": [
    "# SET-4 (Inverse)\n",
    "Random_Forest(x_train,\"y4\",\"1/x\")\n",
    "\n",
    "SV_M(x_train,\"y4\",\"1/x\")\n",
    "\n",
    "XG_B(x_train,\"y4\",\"1/x\")"
   ]
  },
  {
   "cell_type": "code",
   "execution_count": 53,
   "metadata": {
    "ExecuteTime": {
     "end_time": "2023-07-08T15:12:34.099917Z",
     "start_time": "2023-07-08T15:12:29.428942Z"
    }
   },
   "outputs": [],
   "source": [
    "# SET-5 (Ratios)\n",
    "\n",
    "Random_Forest(x_train,\"y5\",\"Ratio\")\n",
    "\n",
    "SV_M(x_train,\"y5\",\"Ratio\")\n",
    "\n",
    "XG_B(x_train,\"y5\",\"Ratio\")"
   ]
  },
  {
   "cell_type": "code",
   "execution_count": 54,
   "metadata": {
    "ExecuteTime": {
     "end_time": "2023-07-08T15:12:34.115137Z",
     "start_time": "2023-07-08T15:12:34.102171Z"
    }
   },
   "outputs": [
    {
     "data": {
      "text/html": [
       "<div>\n",
       "<style scoped>\n",
       "    .dataframe tbody tr th:only-of-type {\n",
       "        vertical-align: middle;\n",
       "    }\n",
       "\n",
       "    .dataframe tbody tr th {\n",
       "        vertical-align: top;\n",
       "    }\n",
       "\n",
       "    .dataframe thead th {\n",
       "        text-align: right;\n",
       "    }\n",
       "</style>\n",
       "<table border=\"1\" class=\"dataframe\">\n",
       "  <thead>\n",
       "    <tr style=\"text-align: right;\">\n",
       "      <th></th>\n",
       "      <th>Algo</th>\n",
       "      <th>Relation</th>\n",
       "      <th>MAE</th>\n",
       "    </tr>\n",
       "  </thead>\n",
       "  <tbody>\n",
       "    <tr>\n",
       "      <th>0</th>\n",
       "      <td>Random Forest</td>\n",
       "      <td>x</td>\n",
       "      <td>0.2635</td>\n",
       "    </tr>\n",
       "    <tr>\n",
       "      <th>1</th>\n",
       "      <td>SVM</td>\n",
       "      <td>x</td>\n",
       "      <td>0.2595</td>\n",
       "    </tr>\n",
       "    <tr>\n",
       "      <th>2</th>\n",
       "      <td>XGB</td>\n",
       "      <td>x</td>\n",
       "      <td>0.5471</td>\n",
       "    </tr>\n",
       "    <tr>\n",
       "      <th>3</th>\n",
       "      <td>Random Forest</td>\n",
       "      <td>x^2</td>\n",
       "      <td>0.2594</td>\n",
       "    </tr>\n",
       "    <tr>\n",
       "      <th>4</th>\n",
       "      <td>SVM</td>\n",
       "      <td>x^2</td>\n",
       "      <td>0.2508</td>\n",
       "    </tr>\n",
       "    <tr>\n",
       "      <th>5</th>\n",
       "      <td>XGB</td>\n",
       "      <td>x^2</td>\n",
       "      <td>0.4576</td>\n",
       "    </tr>\n",
       "    <tr>\n",
       "      <th>6</th>\n",
       "      <td>Random Forest</td>\n",
       "      <td>log(x)</td>\n",
       "      <td>0.4057</td>\n",
       "    </tr>\n",
       "    <tr>\n",
       "      <th>7</th>\n",
       "      <td>SVM</td>\n",
       "      <td>log(x)</td>\n",
       "      <td>0.4408</td>\n",
       "    </tr>\n",
       "    <tr>\n",
       "      <th>8</th>\n",
       "      <td>XGB</td>\n",
       "      <td>log(x)</td>\n",
       "      <td>0.7250</td>\n",
       "    </tr>\n",
       "    <tr>\n",
       "      <th>9</th>\n",
       "      <td>Random Forest</td>\n",
       "      <td>1/x</td>\n",
       "      <td>28.1670</td>\n",
       "    </tr>\n",
       "    <tr>\n",
       "      <th>10</th>\n",
       "      <td>SVM</td>\n",
       "      <td>1/x</td>\n",
       "      <td>51.2450</td>\n",
       "    </tr>\n",
       "    <tr>\n",
       "      <th>11</th>\n",
       "      <td>XGB</td>\n",
       "      <td>1/x</td>\n",
       "      <td>42.3417</td>\n",
       "    </tr>\n",
       "    <tr>\n",
       "      <th>12</th>\n",
       "      <td>Random Forest</td>\n",
       "      <td>Ratio</td>\n",
       "      <td>22.8424</td>\n",
       "    </tr>\n",
       "    <tr>\n",
       "      <th>13</th>\n",
       "      <td>SVM</td>\n",
       "      <td>Ratio</td>\n",
       "      <td>29.7720</td>\n",
       "    </tr>\n",
       "    <tr>\n",
       "      <th>14</th>\n",
       "      <td>XGB</td>\n",
       "      <td>Ratio</td>\n",
       "      <td>27.6049</td>\n",
       "    </tr>\n",
       "  </tbody>\n",
       "</table>\n",
       "</div>"
      ],
      "text/plain": [
       "             Algo Relation      MAE\n",
       "0   Random Forest        x   0.2635\n",
       "1             SVM        x   0.2595\n",
       "2             XGB        x   0.5471\n",
       "3   Random Forest      x^2   0.2594\n",
       "4             SVM      x^2   0.2508\n",
       "5             XGB      x^2   0.4576\n",
       "6   Random Forest   log(x)   0.4057\n",
       "7             SVM   log(x)   0.4408\n",
       "8             XGB   log(x)   0.7250\n",
       "9   Random Forest      1/x  28.1670\n",
       "10            SVM      1/x  51.2450\n",
       "11            XGB      1/x  42.3417\n",
       "12  Random Forest    Ratio  22.8424\n",
       "13            SVM    Ratio  29.7720\n",
       "14            XGB    Ratio  27.6049"
      ]
     },
     "execution_count": 54,
     "metadata": {},
     "output_type": "execute_result"
    }
   ],
   "source": [
    "results"
   ]
  },
  {
   "cell_type": "code",
   "execution_count": null,
   "metadata": {},
   "outputs": [],
   "source": [
    "# It is better practice to transform the input features (x) with respect to Target feature (y)"
   ]
  }
 ],
 "metadata": {
  "kernelspec": {
   "display_name": "Python 3",
   "language": "python",
   "name": "python3"
  },
  "language_info": {
   "codemirror_mode": {
    "name": "ipython",
    "version": 3
   },
   "file_extension": ".py",
   "mimetype": "text/x-python",
   "name": "python",
   "nbconvert_exporter": "python",
   "pygments_lexer": "ipython3",
   "version": "3.7.4"
  },
  "toc": {
   "base_numbering": 1,
   "nav_menu": {},
   "number_sections": false,
   "sideBar": true,
   "skip_h1_title": false,
   "title_cell": "Table of Contents",
   "title_sidebar": "Contents",
   "toc_cell": false,
   "toc_position": {},
   "toc_section_display": true,
   "toc_window_display": false
  }
 },
 "nbformat": 4,
 "nbformat_minor": 2
}
