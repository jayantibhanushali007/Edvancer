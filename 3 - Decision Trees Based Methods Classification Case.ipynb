{
 "cells": [
  {
   "cell_type": "code",
   "execution_count": 1,
   "metadata": {
    "ExecuteTime": {
     "end_time": "2023-06-17T10:37:35.602343Z",
     "start_time": "2023-06-17T10:37:31.961626Z"
    }
   },
   "outputs": [],
   "source": [
    "import pandas as pd\n",
    "import numpy as np\n",
    "from sklearn import tree\n",
    "import numpy as np\n",
    "from mypipes import *\n",
    "%matplotlib inline"
   ]
  },
  {
   "cell_type": "code",
   "execution_count": 2,
   "metadata": {
    "ExecuteTime": {
     "end_time": "2023-06-17T10:38:04.918383Z",
     "start_time": "2023-06-17T10:38:04.845972Z"
    }
   },
   "outputs": [],
   "source": [
    "# data prep from previous module\n",
    "file=r'../data/census_income.csv'\n",
    "\n",
    "ci_train=pd.read_csv(file)\n",
    "\n",
    "# if you have a test data, you can combine as shown in the earlier modules"
   ]
  },
  {
   "cell_type": "code",
   "execution_count": 3,
   "metadata": {
    "ExecuteTime": {
     "end_time": "2023-06-17T10:38:06.699176Z",
     "start_time": "2023-06-17T10:38:06.680874Z"
    }
   },
   "outputs": [
    {
     "data": {
      "text/html": [
       "<div>\n",
       "<style scoped>\n",
       "    .dataframe tbody tr th:only-of-type {\n",
       "        vertical-align: middle;\n",
       "    }\n",
       "\n",
       "    .dataframe tbody tr th {\n",
       "        vertical-align: top;\n",
       "    }\n",
       "\n",
       "    .dataframe thead th {\n",
       "        text-align: right;\n",
       "    }\n",
       "</style>\n",
       "<table border=\"1\" class=\"dataframe\">\n",
       "  <thead>\n",
       "    <tr style=\"text-align: right;\">\n",
       "      <th></th>\n",
       "      <th>age</th>\n",
       "      <th>workclass</th>\n",
       "      <th>fnlwgt</th>\n",
       "      <th>education</th>\n",
       "      <th>education.num</th>\n",
       "      <th>marital.status</th>\n",
       "      <th>occupation</th>\n",
       "      <th>relationship</th>\n",
       "      <th>race</th>\n",
       "      <th>sex</th>\n",
       "      <th>capital.gain</th>\n",
       "      <th>capital.loss</th>\n",
       "      <th>hours.per.week</th>\n",
       "      <th>native.country</th>\n",
       "      <th>Y</th>\n",
       "    </tr>\n",
       "  </thead>\n",
       "  <tbody>\n",
       "    <tr>\n",
       "      <th>0</th>\n",
       "      <td>39</td>\n",
       "      <td>State-gov</td>\n",
       "      <td>77516</td>\n",
       "      <td>Bachelors</td>\n",
       "      <td>13</td>\n",
       "      <td>Never-married</td>\n",
       "      <td>Adm-clerical</td>\n",
       "      <td>Not-in-family</td>\n",
       "      <td>White</td>\n",
       "      <td>Male</td>\n",
       "      <td>2174</td>\n",
       "      <td>0</td>\n",
       "      <td>40</td>\n",
       "      <td>United-States</td>\n",
       "      <td>&lt;=50K</td>\n",
       "    </tr>\n",
       "    <tr>\n",
       "      <th>1</th>\n",
       "      <td>50</td>\n",
       "      <td>Self-emp-not-inc</td>\n",
       "      <td>83311</td>\n",
       "      <td>Bachelors</td>\n",
       "      <td>13</td>\n",
       "      <td>Married-civ-spouse</td>\n",
       "      <td>Exec-managerial</td>\n",
       "      <td>Husband</td>\n",
       "      <td>White</td>\n",
       "      <td>Male</td>\n",
       "      <td>0</td>\n",
       "      <td>0</td>\n",
       "      <td>13</td>\n",
       "      <td>United-States</td>\n",
       "      <td>&lt;=50K</td>\n",
       "    </tr>\n",
       "    <tr>\n",
       "      <th>2</th>\n",
       "      <td>38</td>\n",
       "      <td>Private</td>\n",
       "      <td>215646</td>\n",
       "      <td>HS-grad</td>\n",
       "      <td>9</td>\n",
       "      <td>Divorced</td>\n",
       "      <td>Handlers-cleaners</td>\n",
       "      <td>Not-in-family</td>\n",
       "      <td>White</td>\n",
       "      <td>Male</td>\n",
       "      <td>0</td>\n",
       "      <td>0</td>\n",
       "      <td>40</td>\n",
       "      <td>United-States</td>\n",
       "      <td>&lt;=50K</td>\n",
       "    </tr>\n",
       "    <tr>\n",
       "      <th>3</th>\n",
       "      <td>53</td>\n",
       "      <td>Private</td>\n",
       "      <td>234721</td>\n",
       "      <td>11th</td>\n",
       "      <td>7</td>\n",
       "      <td>Married-civ-spouse</td>\n",
       "      <td>Handlers-cleaners</td>\n",
       "      <td>Husband</td>\n",
       "      <td>Black</td>\n",
       "      <td>Male</td>\n",
       "      <td>0</td>\n",
       "      <td>0</td>\n",
       "      <td>40</td>\n",
       "      <td>United-States</td>\n",
       "      <td>&lt;=50K</td>\n",
       "    </tr>\n",
       "    <tr>\n",
       "      <th>4</th>\n",
       "      <td>28</td>\n",
       "      <td>Private</td>\n",
       "      <td>338409</td>\n",
       "      <td>Bachelors</td>\n",
       "      <td>13</td>\n",
       "      <td>Married-civ-spouse</td>\n",
       "      <td>Prof-specialty</td>\n",
       "      <td>Wife</td>\n",
       "      <td>Black</td>\n",
       "      <td>Female</td>\n",
       "      <td>0</td>\n",
       "      <td>0</td>\n",
       "      <td>40</td>\n",
       "      <td>Cuba</td>\n",
       "      <td>&lt;=50K</td>\n",
       "    </tr>\n",
       "  </tbody>\n",
       "</table>\n",
       "</div>"
      ],
      "text/plain": [
       "   age          workclass  fnlwgt   education  education.num  \\\n",
       "0   39          State-gov   77516   Bachelors             13   \n",
       "1   50   Self-emp-not-inc   83311   Bachelors             13   \n",
       "2   38            Private  215646     HS-grad              9   \n",
       "3   53            Private  234721        11th              7   \n",
       "4   28            Private  338409   Bachelors             13   \n",
       "\n",
       "        marital.status          occupation    relationship    race      sex  \\\n",
       "0        Never-married        Adm-clerical   Not-in-family   White     Male   \n",
       "1   Married-civ-spouse     Exec-managerial         Husband   White     Male   \n",
       "2             Divorced   Handlers-cleaners   Not-in-family   White     Male   \n",
       "3   Married-civ-spouse   Handlers-cleaners         Husband   Black     Male   \n",
       "4   Married-civ-spouse      Prof-specialty            Wife   Black   Female   \n",
       "\n",
       "   capital.gain  capital.loss  hours.per.week  native.country       Y  \n",
       "0          2174             0              40   United-States   <=50K  \n",
       "1             0             0              13   United-States   <=50K  \n",
       "2             0             0              40   United-States   <=50K  \n",
       "3             0             0              40   United-States   <=50K  \n",
       "4             0             0              40            Cuba   <=50K  "
      ]
     },
     "execution_count": 3,
     "metadata": {},
     "output_type": "execute_result"
    }
   ],
   "source": [
    "ci_train.head()"
   ]
  },
  {
   "cell_type": "code",
   "execution_count": 5,
   "metadata": {
    "ExecuteTime": {
     "end_time": "2023-06-17T10:39:17.849511Z",
     "start_time": "2023-06-17T10:39:17.845513Z"
    }
   },
   "outputs": [
    {
     "data": {
      "text/plain": [
       "(32561, 15)"
      ]
     },
     "execution_count": 5,
     "metadata": {},
     "output_type": "execute_result"
    }
   ],
   "source": [
    "ci_train.shape"
   ]
  },
  {
   "cell_type": "code",
   "execution_count": 4,
   "metadata": {
    "ExecuteTime": {
     "end_time": "2023-06-17T10:39:03.165516Z",
     "start_time": "2023-06-17T10:39:03.154516Z"
    }
   },
   "outputs": [
    {
     "data": {
      "text/plain": [
       " <=50K    24720\n",
       " >50K      7841\n",
       "Name: Y, dtype: int64"
      ]
     },
     "execution_count": 4,
     "metadata": {},
     "output_type": "execute_result"
    }
   ],
   "source": [
    "ci_train['Y'].value_counts()"
   ]
  },
  {
   "cell_type": "code",
   "execution_count": 6,
   "metadata": {
    "ExecuteTime": {
     "end_time": "2023-06-17T10:40:22.138407Z",
     "start_time": "2023-06-17T10:40:22.098795Z"
    }
   },
   "outputs": [
    {
     "data": {
      "text/html": [
       "<div>\n",
       "<style scoped>\n",
       "    .dataframe tbody tr th:only-of-type {\n",
       "        vertical-align: middle;\n",
       "    }\n",
       "\n",
       "    .dataframe tbody tr th {\n",
       "        vertical-align: top;\n",
       "    }\n",
       "\n",
       "    .dataframe thead th {\n",
       "        text-align: right;\n",
       "    }\n",
       "</style>\n",
       "<table border=\"1\" class=\"dataframe\">\n",
       "  <thead>\n",
       "    <tr style=\"text-align: right;\">\n",
       "      <th>education.num</th>\n",
       "      <th>1</th>\n",
       "      <th>2</th>\n",
       "      <th>3</th>\n",
       "      <th>4</th>\n",
       "      <th>5</th>\n",
       "      <th>6</th>\n",
       "      <th>7</th>\n",
       "      <th>8</th>\n",
       "      <th>9</th>\n",
       "      <th>10</th>\n",
       "      <th>11</th>\n",
       "      <th>12</th>\n",
       "      <th>13</th>\n",
       "      <th>14</th>\n",
       "      <th>15</th>\n",
       "      <th>16</th>\n",
       "    </tr>\n",
       "    <tr>\n",
       "      <th>education</th>\n",
       "      <th></th>\n",
       "      <th></th>\n",
       "      <th></th>\n",
       "      <th></th>\n",
       "      <th></th>\n",
       "      <th></th>\n",
       "      <th></th>\n",
       "      <th></th>\n",
       "      <th></th>\n",
       "      <th></th>\n",
       "      <th></th>\n",
       "      <th></th>\n",
       "      <th></th>\n",
       "      <th></th>\n",
       "      <th></th>\n",
       "      <th></th>\n",
       "    </tr>\n",
       "  </thead>\n",
       "  <tbody>\n",
       "    <tr>\n",
       "      <th>10th</th>\n",
       "      <td>0</td>\n",
       "      <td>0</td>\n",
       "      <td>0</td>\n",
       "      <td>0</td>\n",
       "      <td>0</td>\n",
       "      <td>933</td>\n",
       "      <td>0</td>\n",
       "      <td>0</td>\n",
       "      <td>0</td>\n",
       "      <td>0</td>\n",
       "      <td>0</td>\n",
       "      <td>0</td>\n",
       "      <td>0</td>\n",
       "      <td>0</td>\n",
       "      <td>0</td>\n",
       "      <td>0</td>\n",
       "    </tr>\n",
       "    <tr>\n",
       "      <th>11th</th>\n",
       "      <td>0</td>\n",
       "      <td>0</td>\n",
       "      <td>0</td>\n",
       "      <td>0</td>\n",
       "      <td>0</td>\n",
       "      <td>0</td>\n",
       "      <td>1175</td>\n",
       "      <td>0</td>\n",
       "      <td>0</td>\n",
       "      <td>0</td>\n",
       "      <td>0</td>\n",
       "      <td>0</td>\n",
       "      <td>0</td>\n",
       "      <td>0</td>\n",
       "      <td>0</td>\n",
       "      <td>0</td>\n",
       "    </tr>\n",
       "    <tr>\n",
       "      <th>12th</th>\n",
       "      <td>0</td>\n",
       "      <td>0</td>\n",
       "      <td>0</td>\n",
       "      <td>0</td>\n",
       "      <td>0</td>\n",
       "      <td>0</td>\n",
       "      <td>0</td>\n",
       "      <td>433</td>\n",
       "      <td>0</td>\n",
       "      <td>0</td>\n",
       "      <td>0</td>\n",
       "      <td>0</td>\n",
       "      <td>0</td>\n",
       "      <td>0</td>\n",
       "      <td>0</td>\n",
       "      <td>0</td>\n",
       "    </tr>\n",
       "    <tr>\n",
       "      <th>1st-4th</th>\n",
       "      <td>0</td>\n",
       "      <td>168</td>\n",
       "      <td>0</td>\n",
       "      <td>0</td>\n",
       "      <td>0</td>\n",
       "      <td>0</td>\n",
       "      <td>0</td>\n",
       "      <td>0</td>\n",
       "      <td>0</td>\n",
       "      <td>0</td>\n",
       "      <td>0</td>\n",
       "      <td>0</td>\n",
       "      <td>0</td>\n",
       "      <td>0</td>\n",
       "      <td>0</td>\n",
       "      <td>0</td>\n",
       "    </tr>\n",
       "    <tr>\n",
       "      <th>5th-6th</th>\n",
       "      <td>0</td>\n",
       "      <td>0</td>\n",
       "      <td>333</td>\n",
       "      <td>0</td>\n",
       "      <td>0</td>\n",
       "      <td>0</td>\n",
       "      <td>0</td>\n",
       "      <td>0</td>\n",
       "      <td>0</td>\n",
       "      <td>0</td>\n",
       "      <td>0</td>\n",
       "      <td>0</td>\n",
       "      <td>0</td>\n",
       "      <td>0</td>\n",
       "      <td>0</td>\n",
       "      <td>0</td>\n",
       "    </tr>\n",
       "    <tr>\n",
       "      <th>7th-8th</th>\n",
       "      <td>0</td>\n",
       "      <td>0</td>\n",
       "      <td>0</td>\n",
       "      <td>646</td>\n",
       "      <td>0</td>\n",
       "      <td>0</td>\n",
       "      <td>0</td>\n",
       "      <td>0</td>\n",
       "      <td>0</td>\n",
       "      <td>0</td>\n",
       "      <td>0</td>\n",
       "      <td>0</td>\n",
       "      <td>0</td>\n",
       "      <td>0</td>\n",
       "      <td>0</td>\n",
       "      <td>0</td>\n",
       "    </tr>\n",
       "    <tr>\n",
       "      <th>9th</th>\n",
       "      <td>0</td>\n",
       "      <td>0</td>\n",
       "      <td>0</td>\n",
       "      <td>0</td>\n",
       "      <td>514</td>\n",
       "      <td>0</td>\n",
       "      <td>0</td>\n",
       "      <td>0</td>\n",
       "      <td>0</td>\n",
       "      <td>0</td>\n",
       "      <td>0</td>\n",
       "      <td>0</td>\n",
       "      <td>0</td>\n",
       "      <td>0</td>\n",
       "      <td>0</td>\n",
       "      <td>0</td>\n",
       "    </tr>\n",
       "    <tr>\n",
       "      <th>Assoc-acdm</th>\n",
       "      <td>0</td>\n",
       "      <td>0</td>\n",
       "      <td>0</td>\n",
       "      <td>0</td>\n",
       "      <td>0</td>\n",
       "      <td>0</td>\n",
       "      <td>0</td>\n",
       "      <td>0</td>\n",
       "      <td>0</td>\n",
       "      <td>0</td>\n",
       "      <td>0</td>\n",
       "      <td>1067</td>\n",
       "      <td>0</td>\n",
       "      <td>0</td>\n",
       "      <td>0</td>\n",
       "      <td>0</td>\n",
       "    </tr>\n",
       "    <tr>\n",
       "      <th>Assoc-voc</th>\n",
       "      <td>0</td>\n",
       "      <td>0</td>\n",
       "      <td>0</td>\n",
       "      <td>0</td>\n",
       "      <td>0</td>\n",
       "      <td>0</td>\n",
       "      <td>0</td>\n",
       "      <td>0</td>\n",
       "      <td>0</td>\n",
       "      <td>0</td>\n",
       "      <td>1382</td>\n",
       "      <td>0</td>\n",
       "      <td>0</td>\n",
       "      <td>0</td>\n",
       "      <td>0</td>\n",
       "      <td>0</td>\n",
       "    </tr>\n",
       "    <tr>\n",
       "      <th>Bachelors</th>\n",
       "      <td>0</td>\n",
       "      <td>0</td>\n",
       "      <td>0</td>\n",
       "      <td>0</td>\n",
       "      <td>0</td>\n",
       "      <td>0</td>\n",
       "      <td>0</td>\n",
       "      <td>0</td>\n",
       "      <td>0</td>\n",
       "      <td>0</td>\n",
       "      <td>0</td>\n",
       "      <td>0</td>\n",
       "      <td>5355</td>\n",
       "      <td>0</td>\n",
       "      <td>0</td>\n",
       "      <td>0</td>\n",
       "    </tr>\n",
       "    <tr>\n",
       "      <th>Doctorate</th>\n",
       "      <td>0</td>\n",
       "      <td>0</td>\n",
       "      <td>0</td>\n",
       "      <td>0</td>\n",
       "      <td>0</td>\n",
       "      <td>0</td>\n",
       "      <td>0</td>\n",
       "      <td>0</td>\n",
       "      <td>0</td>\n",
       "      <td>0</td>\n",
       "      <td>0</td>\n",
       "      <td>0</td>\n",
       "      <td>0</td>\n",
       "      <td>0</td>\n",
       "      <td>0</td>\n",
       "      <td>413</td>\n",
       "    </tr>\n",
       "    <tr>\n",
       "      <th>HS-grad</th>\n",
       "      <td>0</td>\n",
       "      <td>0</td>\n",
       "      <td>0</td>\n",
       "      <td>0</td>\n",
       "      <td>0</td>\n",
       "      <td>0</td>\n",
       "      <td>0</td>\n",
       "      <td>0</td>\n",
       "      <td>10501</td>\n",
       "      <td>0</td>\n",
       "      <td>0</td>\n",
       "      <td>0</td>\n",
       "      <td>0</td>\n",
       "      <td>0</td>\n",
       "      <td>0</td>\n",
       "      <td>0</td>\n",
       "    </tr>\n",
       "    <tr>\n",
       "      <th>Masters</th>\n",
       "      <td>0</td>\n",
       "      <td>0</td>\n",
       "      <td>0</td>\n",
       "      <td>0</td>\n",
       "      <td>0</td>\n",
       "      <td>0</td>\n",
       "      <td>0</td>\n",
       "      <td>0</td>\n",
       "      <td>0</td>\n",
       "      <td>0</td>\n",
       "      <td>0</td>\n",
       "      <td>0</td>\n",
       "      <td>0</td>\n",
       "      <td>1723</td>\n",
       "      <td>0</td>\n",
       "      <td>0</td>\n",
       "    </tr>\n",
       "    <tr>\n",
       "      <th>Preschool</th>\n",
       "      <td>51</td>\n",
       "      <td>0</td>\n",
       "      <td>0</td>\n",
       "      <td>0</td>\n",
       "      <td>0</td>\n",
       "      <td>0</td>\n",
       "      <td>0</td>\n",
       "      <td>0</td>\n",
       "      <td>0</td>\n",
       "      <td>0</td>\n",
       "      <td>0</td>\n",
       "      <td>0</td>\n",
       "      <td>0</td>\n",
       "      <td>0</td>\n",
       "      <td>0</td>\n",
       "      <td>0</td>\n",
       "    </tr>\n",
       "    <tr>\n",
       "      <th>Prof-school</th>\n",
       "      <td>0</td>\n",
       "      <td>0</td>\n",
       "      <td>0</td>\n",
       "      <td>0</td>\n",
       "      <td>0</td>\n",
       "      <td>0</td>\n",
       "      <td>0</td>\n",
       "      <td>0</td>\n",
       "      <td>0</td>\n",
       "      <td>0</td>\n",
       "      <td>0</td>\n",
       "      <td>0</td>\n",
       "      <td>0</td>\n",
       "      <td>0</td>\n",
       "      <td>576</td>\n",
       "      <td>0</td>\n",
       "    </tr>\n",
       "    <tr>\n",
       "      <th>Some-college</th>\n",
       "      <td>0</td>\n",
       "      <td>0</td>\n",
       "      <td>0</td>\n",
       "      <td>0</td>\n",
       "      <td>0</td>\n",
       "      <td>0</td>\n",
       "      <td>0</td>\n",
       "      <td>0</td>\n",
       "      <td>0</td>\n",
       "      <td>7291</td>\n",
       "      <td>0</td>\n",
       "      <td>0</td>\n",
       "      <td>0</td>\n",
       "      <td>0</td>\n",
       "      <td>0</td>\n",
       "      <td>0</td>\n",
       "    </tr>\n",
       "  </tbody>\n",
       "</table>\n",
       "</div>"
      ],
      "text/plain": [
       "education.num  1    2    3    4    5    6     7    8      9     10    11  \\\n",
       "education                                                                  \n",
       " 10th           0    0    0    0    0  933     0    0      0     0     0   \n",
       " 11th           0    0    0    0    0    0  1175    0      0     0     0   \n",
       " 12th           0    0    0    0    0    0     0  433      0     0     0   \n",
       " 1st-4th        0  168    0    0    0    0     0    0      0     0     0   \n",
       " 5th-6th        0    0  333    0    0    0     0    0      0     0     0   \n",
       " 7th-8th        0    0    0  646    0    0     0    0      0     0     0   \n",
       " 9th            0    0    0    0  514    0     0    0      0     0     0   \n",
       " Assoc-acdm     0    0    0    0    0    0     0    0      0     0     0   \n",
       " Assoc-voc      0    0    0    0    0    0     0    0      0     0  1382   \n",
       " Bachelors      0    0    0    0    0    0     0    0      0     0     0   \n",
       " Doctorate      0    0    0    0    0    0     0    0      0     0     0   \n",
       " HS-grad        0    0    0    0    0    0     0    0  10501     0     0   \n",
       " Masters        0    0    0    0    0    0     0    0      0     0     0   \n",
       " Preschool     51    0    0    0    0    0     0    0      0     0     0   \n",
       " Prof-school    0    0    0    0    0    0     0    0      0     0     0   \n",
       " Some-college   0    0    0    0    0    0     0    0      0  7291     0   \n",
       "\n",
       "education.num    12    13    14   15   16  \n",
       "education                                  \n",
       " 10th             0     0     0    0    0  \n",
       " 11th             0     0     0    0    0  \n",
       " 12th             0     0     0    0    0  \n",
       " 1st-4th          0     0     0    0    0  \n",
       " 5th-6th          0     0     0    0    0  \n",
       " 7th-8th          0     0     0    0    0  \n",
       " 9th              0     0     0    0    0  \n",
       " Assoc-acdm    1067     0     0    0    0  \n",
       " Assoc-voc        0     0     0    0    0  \n",
       " Bachelors        0  5355     0    0    0  \n",
       " Doctorate        0     0     0    0  413  \n",
       " HS-grad          0     0     0    0    0  \n",
       " Masters          0     0  1723    0    0  \n",
       " Preschool        0     0     0    0    0  \n",
       " Prof-school      0     0     0  576    0  \n",
       " Some-college     0     0     0    0    0  "
      ]
     },
     "execution_count": 6,
     "metadata": {},
     "output_type": "execute_result"
    }
   ],
   "source": [
    "pd.crosstab(ci_train['education'],ci_train['education.num'])"
   ]
  },
  {
   "cell_type": "code",
   "execution_count": 7,
   "metadata": {
    "ExecuteTime": {
     "end_time": "2023-06-17T10:41:41.134575Z",
     "start_time": "2023-06-17T10:41:41.126992Z"
    }
   },
   "outputs": [],
   "source": [
    "cat_vars=list(ci_train.select_dtypes(include=['object']).columns)"
   ]
  },
  {
   "cell_type": "code",
   "execution_count": 8,
   "metadata": {
    "ExecuteTime": {
     "end_time": "2023-06-17T10:41:41.551828Z",
     "start_time": "2023-06-17T10:41:41.545817Z"
    }
   },
   "outputs": [
    {
     "data": {
      "text/plain": [
       "['workclass',\n",
       " 'education',\n",
       " 'marital.status',\n",
       " 'occupation',\n",
       " 'relationship',\n",
       " 'race',\n",
       " 'sex',\n",
       " 'native.country',\n",
       " 'Y']"
      ]
     },
     "execution_count": 8,
     "metadata": {},
     "output_type": "execute_result"
    }
   ],
   "source": [
    "cat_vars"
   ]
  },
  {
   "cell_type": "code",
   "execution_count": 9,
   "metadata": {
    "ExecuteTime": {
     "end_time": "2023-06-17T10:42:00.140732Z",
     "start_time": "2023-06-17T10:42:00.135745Z"
    }
   },
   "outputs": [],
   "source": [
    "cat_vars=[_ for _ in cat_vars if _ not in ['Y','education']]"
   ]
  },
  {
   "cell_type": "code",
   "execution_count": 10,
   "metadata": {
    "ExecuteTime": {
     "end_time": "2023-06-17T10:42:00.590943Z",
     "start_time": "2023-06-17T10:42:00.585957Z"
    }
   },
   "outputs": [
    {
     "data": {
      "text/plain": [
       "['workclass',\n",
       " 'marital.status',\n",
       " 'occupation',\n",
       " 'relationship',\n",
       " 'race',\n",
       " 'sex',\n",
       " 'native.country']"
      ]
     },
     "execution_count": 10,
     "metadata": {},
     "output_type": "execute_result"
    }
   ],
   "source": [
    "cat_vars"
   ]
  },
  {
   "cell_type": "code",
   "execution_count": 11,
   "metadata": {
    "ExecuteTime": {
     "end_time": "2023-06-17T10:42:05.833612Z",
     "start_time": "2023-06-17T10:42:05.827624Z"
    }
   },
   "outputs": [],
   "source": [
    "num_vars=list(ci_train.select_dtypes(exclude=['object']).columns)"
   ]
  },
  {
   "cell_type": "code",
   "execution_count": 12,
   "metadata": {
    "ExecuteTime": {
     "end_time": "2023-06-17T10:42:06.247671Z",
     "start_time": "2023-06-17T10:42:06.241603Z"
    }
   },
   "outputs": [
    {
     "data": {
      "text/plain": [
       "['age',\n",
       " 'fnlwgt',\n",
       " 'education.num',\n",
       " 'capital.gain',\n",
       " 'capital.loss',\n",
       " 'hours.per.week']"
      ]
     },
     "execution_count": 12,
     "metadata": {},
     "output_type": "execute_result"
    }
   ],
   "source": [
    "num_vars"
   ]
  },
  {
   "cell_type": "code",
   "execution_count": 13,
   "metadata": {
    "ExecuteTime": {
     "end_time": "2023-06-17T10:42:09.996292Z",
     "start_time": "2023-06-17T10:42:09.990798Z"
    }
   },
   "outputs": [
    {
     "data": {
      "text/plain": [
       "(32561, 15)"
      ]
     },
     "execution_count": 13,
     "metadata": {},
     "output_type": "execute_result"
    }
   ],
   "source": [
    "ci_train.shape"
   ]
  },
  {
   "cell_type": "code",
   "execution_count": 14,
   "metadata": {
    "ExecuteTime": {
     "end_time": "2023-06-17T10:42:36.418272Z",
     "start_time": "2023-06-17T10:42:36.412283Z"
    }
   },
   "outputs": [],
   "source": [
    "p1=pdPipeline([\n",
    "    ('cat_select',VarSelector(cat_vars)),\n",
    "    ('missing_trt',DataFrameImputer()),\n",
    "    ('create_dummies',get_dummies_Pipe(300))\n",
    "])\n",
    "\n",
    "p2=pdPipeline([\n",
    "    ('num_select',VarSelector(num_vars)),\n",
    "    ('missing_trt',DataFrameImputer())\n",
    "])\n",
    "\n",
    "data_pipe=FeatureUnion([\n",
    "    ('cat_pipe',p1),\n",
    "    ('num_pipe',p2)\n",
    "])"
   ]
  },
  {
   "cell_type": "code",
   "execution_count": 15,
   "metadata": {
    "ExecuteTime": {
     "end_time": "2023-06-17T10:42:53.570262Z",
     "start_time": "2023-06-17T10:42:53.426789Z"
    }
   },
   "outputs": [
    {
     "name": "stderr",
     "output_type": "stream",
     "text": [
      "C:\\Users\\Jayanti\\Anaconda3\\lib\\site-packages\\sklearn\\utils\\deprecation.py:87: FutureWarning: Function get_feature_names is deprecated; get_feature_names is deprecated in 1.0 and will be removed in 1.2. Please use get_feature_names_out instead.\n",
      "  warnings.warn(msg, category=FutureWarning)\n"
     ]
    }
   ],
   "source": [
    "x_train=pd.DataFrame(data=data_pipe.fit_transform(ci_train),\n",
    "                     columns=data_pipe.get_feature_names())"
   ]
  },
  {
   "cell_type": "code",
   "execution_count": 16,
   "metadata": {
    "ExecuteTime": {
     "end_time": "2023-06-17T10:43:05.270485Z",
     "start_time": "2023-06-17T10:43:05.258287Z"
    }
   },
   "outputs": [
    {
     "data": {
      "text/html": [
       "<div>\n",
       "<style scoped>\n",
       "    .dataframe tbody tr th:only-of-type {\n",
       "        vertical-align: middle;\n",
       "    }\n",
       "\n",
       "    .dataframe tbody tr th {\n",
       "        vertical-align: top;\n",
       "    }\n",
       "\n",
       "    .dataframe thead th {\n",
       "        text-align: right;\n",
       "    }\n",
       "</style>\n",
       "<table border=\"1\" class=\"dataframe\">\n",
       "  <thead>\n",
       "    <tr style=\"text-align: right;\">\n",
       "      <th></th>\n",
       "      <th>cat_pipe__workclass_ Private</th>\n",
       "      <th>cat_pipe__workclass_ Self-emp-not-inc</th>\n",
       "      <th>cat_pipe__workclass_ Local-gov</th>\n",
       "      <th>cat_pipe__workclass_ ?</th>\n",
       "      <th>cat_pipe__workclass_ State-gov</th>\n",
       "      <th>cat_pipe__workclass_ Self-emp-inc</th>\n",
       "      <th>cat_pipe__workclass_ Federal-gov</th>\n",
       "      <th>cat_pipe__marital.status_ Married-civ-spouse</th>\n",
       "      <th>cat_pipe__marital.status_ Never-married</th>\n",
       "      <th>cat_pipe__marital.status_ Divorced</th>\n",
       "      <th>...</th>\n",
       "      <th>cat_pipe__sex_ Male</th>\n",
       "      <th>cat_pipe__native.country_ United-States</th>\n",
       "      <th>cat_pipe__native.country_ Mexico</th>\n",
       "      <th>cat_pipe__native.country_ ?</th>\n",
       "      <th>num_pipe__age</th>\n",
       "      <th>num_pipe__fnlwgt</th>\n",
       "      <th>num_pipe__education.num</th>\n",
       "      <th>num_pipe__capital.gain</th>\n",
       "      <th>num_pipe__capital.loss</th>\n",
       "      <th>num_pipe__hours.per.week</th>\n",
       "    </tr>\n",
       "  </thead>\n",
       "  <tbody>\n",
       "    <tr>\n",
       "      <th>0</th>\n",
       "      <td>0</td>\n",
       "      <td>0</td>\n",
       "      <td>0</td>\n",
       "      <td>0</td>\n",
       "      <td>1</td>\n",
       "      <td>0</td>\n",
       "      <td>0</td>\n",
       "      <td>0</td>\n",
       "      <td>1</td>\n",
       "      <td>0</td>\n",
       "      <td>...</td>\n",
       "      <td>1</td>\n",
       "      <td>1</td>\n",
       "      <td>0</td>\n",
       "      <td>0</td>\n",
       "      <td>39</td>\n",
       "      <td>77516</td>\n",
       "      <td>13</td>\n",
       "      <td>2174</td>\n",
       "      <td>0</td>\n",
       "      <td>40</td>\n",
       "    </tr>\n",
       "    <tr>\n",
       "      <th>1</th>\n",
       "      <td>0</td>\n",
       "      <td>1</td>\n",
       "      <td>0</td>\n",
       "      <td>0</td>\n",
       "      <td>0</td>\n",
       "      <td>0</td>\n",
       "      <td>0</td>\n",
       "      <td>1</td>\n",
       "      <td>0</td>\n",
       "      <td>0</td>\n",
       "      <td>...</td>\n",
       "      <td>1</td>\n",
       "      <td>1</td>\n",
       "      <td>0</td>\n",
       "      <td>0</td>\n",
       "      <td>50</td>\n",
       "      <td>83311</td>\n",
       "      <td>13</td>\n",
       "      <td>0</td>\n",
       "      <td>0</td>\n",
       "      <td>13</td>\n",
       "    </tr>\n",
       "    <tr>\n",
       "      <th>2</th>\n",
       "      <td>1</td>\n",
       "      <td>0</td>\n",
       "      <td>0</td>\n",
       "      <td>0</td>\n",
       "      <td>0</td>\n",
       "      <td>0</td>\n",
       "      <td>0</td>\n",
       "      <td>0</td>\n",
       "      <td>0</td>\n",
       "      <td>1</td>\n",
       "      <td>...</td>\n",
       "      <td>1</td>\n",
       "      <td>1</td>\n",
       "      <td>0</td>\n",
       "      <td>0</td>\n",
       "      <td>38</td>\n",
       "      <td>215646</td>\n",
       "      <td>9</td>\n",
       "      <td>0</td>\n",
       "      <td>0</td>\n",
       "      <td>40</td>\n",
       "    </tr>\n",
       "    <tr>\n",
       "      <th>3</th>\n",
       "      <td>1</td>\n",
       "      <td>0</td>\n",
       "      <td>0</td>\n",
       "      <td>0</td>\n",
       "      <td>0</td>\n",
       "      <td>0</td>\n",
       "      <td>0</td>\n",
       "      <td>1</td>\n",
       "      <td>0</td>\n",
       "      <td>0</td>\n",
       "      <td>...</td>\n",
       "      <td>1</td>\n",
       "      <td>1</td>\n",
       "      <td>0</td>\n",
       "      <td>0</td>\n",
       "      <td>53</td>\n",
       "      <td>234721</td>\n",
       "      <td>7</td>\n",
       "      <td>0</td>\n",
       "      <td>0</td>\n",
       "      <td>40</td>\n",
       "    </tr>\n",
       "    <tr>\n",
       "      <th>4</th>\n",
       "      <td>1</td>\n",
       "      <td>0</td>\n",
       "      <td>0</td>\n",
       "      <td>0</td>\n",
       "      <td>0</td>\n",
       "      <td>0</td>\n",
       "      <td>0</td>\n",
       "      <td>1</td>\n",
       "      <td>0</td>\n",
       "      <td>0</td>\n",
       "      <td>...</td>\n",
       "      <td>0</td>\n",
       "      <td>0</td>\n",
       "      <td>0</td>\n",
       "      <td>0</td>\n",
       "      <td>28</td>\n",
       "      <td>338409</td>\n",
       "      <td>13</td>\n",
       "      <td>0</td>\n",
       "      <td>0</td>\n",
       "      <td>40</td>\n",
       "    </tr>\n",
       "  </tbody>\n",
       "</table>\n",
       "<p>5 rows × 45 columns</p>\n",
       "</div>"
      ],
      "text/plain": [
       "   cat_pipe__workclass_ Private  cat_pipe__workclass_ Self-emp-not-inc  \\\n",
       "0                             0                                      0   \n",
       "1                             0                                      1   \n",
       "2                             1                                      0   \n",
       "3                             1                                      0   \n",
       "4                             1                                      0   \n",
       "\n",
       "   cat_pipe__workclass_ Local-gov  cat_pipe__workclass_ ?  \\\n",
       "0                               0                       0   \n",
       "1                               0                       0   \n",
       "2                               0                       0   \n",
       "3                               0                       0   \n",
       "4                               0                       0   \n",
       "\n",
       "   cat_pipe__workclass_ State-gov  cat_pipe__workclass_ Self-emp-inc  \\\n",
       "0                               1                                  0   \n",
       "1                               0                                  0   \n",
       "2                               0                                  0   \n",
       "3                               0                                  0   \n",
       "4                               0                                  0   \n",
       "\n",
       "   cat_pipe__workclass_ Federal-gov  \\\n",
       "0                                 0   \n",
       "1                                 0   \n",
       "2                                 0   \n",
       "3                                 0   \n",
       "4                                 0   \n",
       "\n",
       "   cat_pipe__marital.status_ Married-civ-spouse  \\\n",
       "0                                             0   \n",
       "1                                             1   \n",
       "2                                             0   \n",
       "3                                             1   \n",
       "4                                             1   \n",
       "\n",
       "   cat_pipe__marital.status_ Never-married  \\\n",
       "0                                        1   \n",
       "1                                        0   \n",
       "2                                        0   \n",
       "3                                        0   \n",
       "4                                        0   \n",
       "\n",
       "   cat_pipe__marital.status_ Divorced  ...  cat_pipe__sex_ Male  \\\n",
       "0                                   0  ...                    1   \n",
       "1                                   0  ...                    1   \n",
       "2                                   1  ...                    1   \n",
       "3                                   0  ...                    1   \n",
       "4                                   0  ...                    0   \n",
       "\n",
       "   cat_pipe__native.country_ United-States  cat_pipe__native.country_ Mexico  \\\n",
       "0                                        1                                 0   \n",
       "1                                        1                                 0   \n",
       "2                                        1                                 0   \n",
       "3                                        1                                 0   \n",
       "4                                        0                                 0   \n",
       "\n",
       "   cat_pipe__native.country_ ?  num_pipe__age  num_pipe__fnlwgt  \\\n",
       "0                            0             39             77516   \n",
       "1                            0             50             83311   \n",
       "2                            0             38            215646   \n",
       "3                            0             53            234721   \n",
       "4                            0             28            338409   \n",
       "\n",
       "   num_pipe__education.num  num_pipe__capital.gain  num_pipe__capital.loss  \\\n",
       "0                       13                    2174                       0   \n",
       "1                       13                       0                       0   \n",
       "2                        9                       0                       0   \n",
       "3                        7                       0                       0   \n",
       "4                       13                       0                       0   \n",
       "\n",
       "   num_pipe__hours.per.week  \n",
       "0                        40  \n",
       "1                        13  \n",
       "2                        40  \n",
       "3                        40  \n",
       "4                        40  \n",
       "\n",
       "[5 rows x 45 columns]"
      ]
     },
     "execution_count": 16,
     "metadata": {},
     "output_type": "execute_result"
    }
   ],
   "source": [
    "x_train.head()"
   ]
  },
  {
   "cell_type": "code",
   "execution_count": 17,
   "metadata": {
    "ExecuteTime": {
     "end_time": "2023-06-17T10:43:27.993591Z",
     "start_time": "2023-06-17T10:43:27.988210Z"
    }
   },
   "outputs": [
    {
     "data": {
      "text/plain": [
       "array([' <=50K', ' >50K'], dtype=object)"
      ]
     },
     "execution_count": 17,
     "metadata": {},
     "output_type": "execute_result"
    }
   ],
   "source": [
    "ci_train['Y'].unique()"
   ]
  },
  {
   "cell_type": "code",
   "execution_count": 18,
   "metadata": {
    "ExecuteTime": {
     "end_time": "2023-06-17T10:44:12.034172Z",
     "start_time": "2023-06-17T10:44:12.027634Z"
    }
   },
   "outputs": [],
   "source": [
    "y_train=(ci_train['Y']==' >50K').astype(int)"
   ]
  },
  {
   "cell_type": "code",
   "execution_count": 19,
   "metadata": {
    "ExecuteTime": {
     "end_time": "2023-06-17T10:44:12.246563Z",
     "start_time": "2023-06-17T10:44:12.239622Z"
    }
   },
   "outputs": [
    {
     "data": {
      "text/plain": [
       "0    24720\n",
       "1     7841\n",
       "Name: Y, dtype: int64"
      ]
     },
     "execution_count": 19,
     "metadata": {},
     "output_type": "execute_result"
    }
   ],
   "source": [
    "y_train.value_counts()"
   ]
  },
  {
   "cell_type": "code",
   "execution_count": 25,
   "metadata": {
    "ExecuteTime": {
     "end_time": "2023-06-17T10:49:38.031436Z",
     "start_time": "2023-06-17T10:49:38.027496Z"
    }
   },
   "outputs": [],
   "source": [
    "from sklearn.model_selection import RandomizedSearchCV"
   ]
  },
  {
   "cell_type": "code",
   "execution_count": 40,
   "metadata": {
    "ExecuteTime": {
     "end_time": "2023-06-17T11:03:40.559646Z",
     "start_time": "2023-06-17T11:03:40.555168Z"
    }
   },
   "outputs": [],
   "source": [
    "params={ 'class_weight':[None,'balanced'], \n",
    "        'criterion':['entropy','gini'],\n",
    "        'max_depth':[None,2,4,5],\n",
    "            'min_samples_leaf':[1,2,5,10,15,20], \n",
    "            'min_samples_split':[2,5,10,15,20]\n",
    "       }"
   ]
  },
  {
   "cell_type": "code",
   "execution_count": 41,
   "metadata": {
    "ExecuteTime": {
     "end_time": "2023-06-17T11:03:40.844412Z",
     "start_time": "2023-06-17T11:03:40.837459Z"
    }
   },
   "outputs": [
    {
     "data": {
      "text/plain": [
       "960"
      ]
     },
     "execution_count": 41,
     "metadata": {},
     "output_type": "execute_result"
    }
   ],
   "source": [
    "2*2*8*6*5"
   ]
  },
  {
   "cell_type": "code",
   "execution_count": 42,
   "metadata": {
    "ExecuteTime": {
     "end_time": "2023-06-17T11:03:41.164907Z",
     "start_time": "2023-06-17T11:03:41.157972Z"
    }
   },
   "outputs": [
    {
     "data": {
      "text/plain": [
       "48.0"
      ]
     },
     "execution_count": 42,
     "metadata": {},
     "output_type": "execute_result"
    }
   ],
   "source": [
    "# Thumb rule:\n",
    "0.05 * 960"
   ]
  },
  {
   "cell_type": "code",
   "execution_count": 43,
   "metadata": {
    "ExecuteTime": {
     "end_time": "2023-06-17T11:03:42.142984Z",
     "start_time": "2023-06-17T11:03:42.138996Z"
    }
   },
   "outputs": [],
   "source": [
    "from sklearn.tree import DecisionTreeClassifier"
   ]
  },
  {
   "cell_type": "code",
   "execution_count": 44,
   "metadata": {
    "ExecuteTime": {
     "end_time": "2023-06-17T11:03:43.679350Z",
     "start_time": "2023-06-17T11:03:43.675334Z"
    }
   },
   "outputs": [],
   "source": [
    "clf=DecisionTreeClassifier()"
   ]
  },
  {
   "cell_type": "code",
   "execution_count": 45,
   "metadata": {
    "ExecuteTime": {
     "end_time": "2023-06-17T11:03:44.452982Z",
     "start_time": "2023-06-17T11:03:44.447000Z"
    }
   },
   "outputs": [],
   "source": [
    "random_search=RandomizedSearchCV(clf,\n",
    "                                 cv=10,\n",
    "                                 param_distributions=params,\n",
    "                                 scoring='roc_auc',\n",
    "                                 n_iter=100, # number of random iterations out of total iterations\n",
    "                                 n_jobs=-1,verbose=20\n",
    "                                    )"
   ]
  },
  {
   "cell_type": "code",
   "execution_count": 46,
   "metadata": {
    "ExecuteTime": {
     "end_time": "2023-06-17T11:04:20.619496Z",
     "start_time": "2023-06-17T11:03:44.929938Z"
    }
   },
   "outputs": [
    {
     "name": "stdout",
     "output_type": "stream",
     "text": [
      "Fitting 10 folds for each of 100 candidates, totalling 1000 fits\n"
     ]
    },
    {
     "data": {
      "text/plain": [
       "RandomizedSearchCV(cv=10, estimator=DecisionTreeClassifier(), n_iter=100,\n",
       "                   n_jobs=-1,\n",
       "                   param_distributions={'class_weight': [None, 'balanced'],\n",
       "                                        'criterion': ['entropy', 'gini'],\n",
       "                                        'max_depth': [None, 2, 4, 5],\n",
       "                                        'min_samples_leaf': [1, 2, 5, 10, 15,\n",
       "                                                             20],\n",
       "                                        'min_samples_split': [2, 5, 10, 15,\n",
       "                                                              20]},\n",
       "                   scoring='roc_auc', verbose=20)"
      ]
     },
     "execution_count": 46,
     "metadata": {},
     "output_type": "execute_result"
    }
   ],
   "source": [
    "random_search.fit(x_train,y_train)"
   ]
  },
  {
   "cell_type": "code",
   "execution_count": 58,
   "metadata": {
    "ExecuteTime": {
     "end_time": "2023-06-17T11:18:02.219620Z",
     "start_time": "2023-06-17T11:18:02.213075Z"
    }
   },
   "outputs": [
    {
     "data": {
      "text/plain": [
       "DecisionTreeClassifier(min_samples_leaf=20, min_samples_split=5)"
      ]
     },
     "execution_count": 58,
     "metadata": {},
     "output_type": "execute_result"
    }
   ],
   "source": [
    "random_search.best_estimator_"
   ]
  },
  {
   "cell_type": "code",
   "execution_count": 29,
   "metadata": {
    "ExecuteTime": {
     "end_time": "2023-06-17T10:50:32.741467Z",
     "start_time": "2023-06-17T10:50:32.735480Z"
    }
   },
   "outputs": [],
   "source": [
    "def report(results, n_top=3):\n",
    "    for i in range(1, n_top + 1):\n",
    "        candidates = np.flatnonzero(results['rank_test_score'] == i)\n",
    "        for candidate in candidates:\n",
    "            print(\"Model with rank: {0}\".format(i))\n",
    "            print(\"Mean validation score: {0:.5f} (std: {1:.5f})\".format(\n",
    "                  results['mean_test_score'][candidate],\n",
    "                  results['std_test_score'][candidate]))\n",
    "            print(\"Parameters: {0}\".format(results['params'][candidate]))\n",
    "            print(\"\")"
   ]
  },
  {
   "cell_type": "code",
   "execution_count": 47,
   "metadata": {
    "ExecuteTime": {
     "end_time": "2023-06-17T11:04:45.607565Z",
     "start_time": "2023-06-17T11:04:45.603218Z"
    }
   },
   "outputs": [
    {
     "name": "stdout",
     "output_type": "stream",
     "text": [
      "Model with rank: 1\n",
      "Mean validation score: 0.89432 (std: 0.00645)\n",
      "Parameters: {'min_samples_split': 5, 'min_samples_leaf': 20, 'max_depth': None, 'criterion': 'gini', 'class_weight': None}\n",
      "\n",
      "Model with rank: 2\n",
      "Mean validation score: 0.89395 (std: 0.00666)\n",
      "Parameters: {'min_samples_split': 10, 'min_samples_leaf': 20, 'max_depth': None, 'criterion': 'gini', 'class_weight': 'balanced'}\n",
      "\n",
      "Model with rank: 3\n",
      "Mean validation score: 0.89237 (std: 0.00606)\n",
      "Parameters: {'min_samples_split': 10, 'min_samples_leaf': 20, 'max_depth': None, 'criterion': 'entropy', 'class_weight': None}\n",
      "\n",
      "Model with rank: 4\n",
      "Mean validation score: 0.89212 (std: 0.00597)\n",
      "Parameters: {'min_samples_split': 5, 'min_samples_leaf': 20, 'max_depth': None, 'criterion': 'entropy', 'class_weight': None}\n",
      "\n",
      "Model with rank: 5\n",
      "Mean validation score: 0.89209 (std: 0.00611)\n",
      "Parameters: {'min_samples_split': 2, 'min_samples_leaf': 20, 'max_depth': None, 'criterion': 'entropy', 'class_weight': None}\n",
      "\n"
     ]
    }
   ],
   "source": [
    "report(random_search.cv_results_,5)"
   ]
  },
  {
   "cell_type": "code",
   "execution_count": 48,
   "metadata": {
    "ExecuteTime": {
     "end_time": "2023-06-17T11:05:23.978398Z",
     "start_time": "2023-06-17T11:05:23.975212Z"
    }
   },
   "outputs": [],
   "source": [
    "dtree=DecisionTreeClassifier(**{'min_samples_split': 5, 'min_samples_leaf': 20, 'max_depth': None, 'criterion': 'gini', 'class_weight': None})"
   ]
  },
  {
   "cell_type": "code",
   "execution_count": 49,
   "metadata": {
    "ExecuteTime": {
     "end_time": "2023-06-17T11:05:25.223684Z",
     "start_time": "2023-06-17T11:05:25.217699Z"
    }
   },
   "outputs": [
    {
     "data": {
      "text/plain": [
       "DecisionTreeClassifier(min_samples_leaf=20, min_samples_split=5)"
      ]
     },
     "execution_count": 49,
     "metadata": {},
     "output_type": "execute_result"
    }
   ],
   "source": [
    "dtree"
   ]
  },
  {
   "cell_type": "code",
   "execution_count": 63,
   "metadata": {
    "ExecuteTime": {
     "end_time": "2023-06-17T11:36:58.669808Z",
     "start_time": "2023-06-17T11:36:58.664288Z"
    }
   },
   "outputs": [
    {
     "data": {
      "text/plain": [
       "DecisionTreeClassifier(min_samples_leaf=20, min_samples_split=5)"
      ]
     },
     "execution_count": 63,
     "metadata": {},
     "output_type": "execute_result"
    }
   ],
   "source": [
    "dtree2=DecisionTreeClassifier(min_samples_split=5, \n",
    "                              min_samples_leaf=20, \n",
    "                              max_depth=None, \n",
    "                              criterion='gini', \n",
    "                              class_weight=None)\n",
    "dtree2"
   ]
  },
  {
   "cell_type": "code",
   "execution_count": 50,
   "metadata": {
    "ExecuteTime": {
     "end_time": "2023-06-17T11:05:25.882264Z",
     "start_time": "2023-06-17T11:05:25.694603Z"
    }
   },
   "outputs": [
    {
     "data": {
      "text/plain": [
       "DecisionTreeClassifier(min_samples_leaf=20, min_samples_split=5)"
      ]
     },
     "execution_count": 50,
     "metadata": {},
     "output_type": "execute_result"
    }
   ],
   "source": [
    "dtree.fit(x_train,y_train)"
   ]
  },
  {
   "cell_type": "code",
   "execution_count": 51,
   "metadata": {
    "ExecuteTime": {
     "end_time": "2023-06-17T11:05:27.096463Z",
     "start_time": "2023-06-17T11:05:27.093906Z"
    }
   },
   "outputs": [],
   "source": [
    "import os"
   ]
  },
  {
   "cell_type": "code",
   "execution_count": 52,
   "metadata": {
    "ExecuteTime": {
     "end_time": "2023-06-17T11:05:27.453356Z",
     "start_time": "2023-06-17T11:05:27.449343Z"
    }
   },
   "outputs": [
    {
     "data": {
      "text/plain": [
       "'C:\\\\Users\\\\Jayanti\\\\Documents\\\\Edvancer\\\\Batch 1 - 6th May 2023\\\\07 Decision trees , RandomForest and ExtraTrees'"
      ]
     },
     "execution_count": 52,
     "metadata": {},
     "output_type": "execute_result"
    }
   ],
   "source": [
    "os.getcwd()"
   ]
  },
  {
   "cell_type": "code",
   "execution_count": 53,
   "metadata": {
    "ExecuteTime": {
     "end_time": "2023-06-17T11:05:31.289806Z",
     "start_time": "2023-06-17T11:05:31.153664Z"
    }
   },
   "outputs": [],
   "source": [
    "dotfile = open(\"mytree.dot\", 'w')\n",
    "\n",
    "tree.export_graphviz(dtree,out_file=dotfile,\n",
    "                     feature_names=x_train.columns,\n",
    "                    class_names=[\"0\",\"1\"],\n",
    "                     )\n",
    "dotfile.close()"
   ]
  },
  {
   "cell_type": "code",
   "execution_count": null,
   "metadata": {},
   "outputs": [],
   "source": [
    "x_train.shape"
   ]
  },
  {
   "cell_type": "code",
   "execution_count": 54,
   "metadata": {
    "ExecuteTime": {
     "end_time": "2023-06-17T11:08:31.937732Z",
     "start_time": "2023-06-17T11:08:31.921735Z"
    }
   },
   "outputs": [
    {
     "data": {
      "text/plain": [
       "array([0, 0, 0, ..., 0, 0, 1])"
      ]
     },
     "execution_count": 54,
     "metadata": {},
     "output_type": "execute_result"
    }
   ],
   "source": [
    "# prediction\n",
    "dtree.predict(x_train)"
   ]
  },
  {
   "cell_type": "markdown",
   "metadata": {},
   "source": [
    "Open mytree.dot file in a simple text editor and copy and paste the code here to visualise your tree : http://webgraphviz.com"
   ]
  },
  {
   "cell_type": "code",
   "execution_count": 64,
   "metadata": {
    "ExecuteTime": {
     "end_time": "2023-06-17T11:41:59.259820Z",
     "start_time": "2023-06-17T11:41:59.214696Z"
    }
   },
   "outputs": [],
   "source": [
    "\n",
    "from sklearn.ensemble import RandomForestClassifier"
   ]
  },
  {
   "cell_type": "code",
   "execution_count": 65,
   "metadata": {
    "ExecuteTime": {
     "end_time": "2023-06-17T11:41:59.449900Z",
     "start_time": "2023-06-17T11:41:59.434393Z"
    }
   },
   "outputs": [
    {
     "data": {
      "text/plain": [
       "(32561, 45)"
      ]
     },
     "execution_count": 65,
     "metadata": {},
     "output_type": "execute_result"
    }
   ],
   "source": [
    "x_train.shape"
   ]
  },
  {
   "cell_type": "code",
   "execution_count": 66,
   "metadata": {
    "ExecuteTime": {
     "end_time": "2023-06-17T11:41:59.683073Z",
     "start_time": "2023-06-17T11:41:59.668066Z"
    }
   },
   "outputs": [],
   "source": [
    "clf = RandomForestClassifier()"
   ]
  },
  {
   "cell_type": "code",
   "execution_count": 67,
   "metadata": {
    "ExecuteTime": {
     "end_time": "2023-06-17T11:42:00.133570Z",
     "start_time": "2023-06-17T11:42:00.118063Z"
    }
   },
   "outputs": [],
   "source": [
    "# this here is the base classifier we are going to try\n",
    "# we will be supplying different parameter ranges to our randomSearchCV which in turn\n",
    "# will pass it on to this classifier\n",
    "\n",
    "# Utility function to report best scores. This simply accepts grid scores from \n",
    "# our randomSearchCV/GridSearchCV and picks and gives top few combination according to \n",
    "# their scores\n",
    "\n",
    "# RandomSearchCV/GridSearchCV accept parameters values as dictionaries.\n",
    "# In example given below we have constructed dictionary for \n",
    "#different parameter values that we want to\n",
    "# try for randomForest model\n",
    "\n",
    "## find out what is bagged regressior in scikit learn : veera \n",
    "## 3rd feb\n",
    "param_dist = {\"n_estimators\":[100,200,300,500,700,1000], # number of decision tress\n",
    "              \"max_features\": [5,10,20,25,30,35], # number of columns\n",
    "              \"bootstrap\": [True, False], # number of rows \n",
    "              'class_weight':[None,'balanced'], \n",
    "                'criterion':['entropy','gini'],\n",
    "                'max_depth':[None,5,10,15,20,30,50,70],\n",
    "                'min_samples_leaf':[1,2,5,10,15,20], \n",
    "                'min_samples_split':[2,5,10,15,20]\n",
    "                  }\n",
    "\n"
   ]
  },
  {
   "cell_type": "code",
   "execution_count": 76,
   "metadata": {
    "ExecuteTime": {
     "end_time": "2023-06-18T10:11:48.430859Z",
     "start_time": "2023-06-18T10:11:48.423883Z"
    }
   },
   "outputs": [
    {
     "data": {
      "text/plain": [
       "69120"
      ]
     },
     "execution_count": 76,
     "metadata": {},
     "output_type": "execute_result"
    }
   ],
   "source": [
    "6*6*2*2*2*8*6*5"
   ]
  },
  {
   "cell_type": "code",
   "execution_count": 68,
   "metadata": {
    "ExecuteTime": {
     "end_time": "2023-06-17T11:42:00.600435Z",
     "start_time": "2023-06-17T11:42:00.591371Z"
    }
   },
   "outputs": [
    {
     "data": {
      "text/plain": [
       "(32561, 45)"
      ]
     },
     "execution_count": 68,
     "metadata": {},
     "output_type": "execute_result"
    }
   ],
   "source": [
    "x_train.shape"
   ]
  },
  {
   "cell_type": "code",
   "execution_count": 69,
   "metadata": {
    "ExecuteTime": {
     "end_time": "2023-06-17T11:42:00.900483Z",
     "start_time": "2023-06-17T11:42:00.884977Z"
    }
   },
   "outputs": [
    {
     "data": {
      "text/plain": [
       "69120"
      ]
     },
     "execution_count": 69,
     "metadata": {},
     "output_type": "execute_result"
    }
   ],
   "source": [
    "960*6*6*2"
   ]
  },
  {
   "cell_type": "code",
   "execution_count": 71,
   "metadata": {
    "ExecuteTime": {
     "end_time": "2023-06-18T06:05:54.355051Z",
     "start_time": "2023-06-18T05:49:25.289115Z"
    }
   },
   "outputs": [
    {
     "name": "stdout",
     "output_type": "stream",
     "text": [
      "Fitting 10 folds for each of 10 candidates, totalling 100 fits\n"
     ]
    },
    {
     "data": {
      "text/plain": [
       "RandomizedSearchCV(cv=10, estimator=RandomForestClassifier(), n_jobs=-1,\n",
       "                   param_distributions={'bootstrap': [True, False],\n",
       "                                        'class_weight': [None, 'balanced'],\n",
       "                                        'criterion': ['entropy', 'gini'],\n",
       "                                        'max_depth': [None, 5, 10, 15, 20, 30,\n",
       "                                                      50, 70],\n",
       "                                        'max_features': [5, 10, 20, 25, 30, 35],\n",
       "                                        'min_samples_leaf': [1, 2, 5, 10, 15,\n",
       "                                                             20],\n",
       "                                        'min_samples_split': [2, 5, 10, 15, 20],\n",
       "                                        'n_estimators': [100, 200, 300, 500,\n",
       "                                                         700, 1000]},\n",
       "                   scoring='roc_auc', verbose=20)"
      ]
     },
     "execution_count": 71,
     "metadata": {},
     "output_type": "execute_result"
    }
   ],
   "source": [
    "# run randomized search\n",
    "n_iter_search = 10\n",
    "# n_iter parameter of RandomizedSeacrhCV controls, how many \n",
    "# parameter combination will be tried; out of all possible given values\n",
    "\n",
    "random_search = RandomizedSearchCV(clf, param_distributions=param_dist,\n",
    "                                   n_iter=n_iter_search,\n",
    "                                   scoring='roc_auc',\n",
    "                                   cv=10,\n",
    "                                  n_jobs=-1,verbose=20)\n",
    "random_search.fit(x_train, y_train)"
   ]
  },
  {
   "cell_type": "code",
   "execution_count": 72,
   "metadata": {
    "ExecuteTime": {
     "end_time": "2023-06-18T06:08:37.366046Z",
     "start_time": "2023-06-18T06:08:37.349091Z"
    }
   },
   "outputs": [
    {
     "data": {
      "text/plain": [
       "RandomForestClassifier(criterion='entropy', max_depth=70, max_features=20,\n",
       "                       min_samples_leaf=15, n_estimators=300)"
      ]
     },
     "execution_count": 72,
     "metadata": {},
     "output_type": "execute_result"
    }
   ],
   "source": [
    "random_search.best_estimator_"
   ]
  },
  {
   "cell_type": "markdown",
   "metadata": {},
   "source": [
    "RandomForestClassifier(bootstrap=True, class_weight=None, criterion='gini',\n",
    "            max_depth=50, max_features=10, max_leaf_nodes=None,\n",
    "            min_impurity_split=1e-07, min_samples_leaf=10,\n",
    "            min_samples_split=20, min_weight_fraction_leaf=0.0,\n",
    "            n_estimators=300, n_jobs=1, oob_score=False, random_state=None,\n",
    "            verbose=0, warm_start=False)\n",
    "            \n",
    "**Note: This is a result from one of the runs, you can very well get different results from a different run. Your results need not match with this.**"
   ]
  },
  {
   "cell_type": "code",
   "execution_count": 77,
   "metadata": {
    "ExecuteTime": {
     "end_time": "2023-06-18T10:17:14.891660Z",
     "start_time": "2023-06-18T10:17:14.885675Z"
    }
   },
   "outputs": [
    {
     "name": "stdout",
     "output_type": "stream",
     "text": [
      "Model with rank: 1\n",
      "Mean validation score: 0.91804 (std: 0.00429)\n",
      "Parameters: {'n_estimators': 300, 'min_samples_split': 2, 'min_samples_leaf': 15, 'max_features': 20, 'max_depth': 70, 'criterion': 'entropy', 'class_weight': None, 'bootstrap': True}\n",
      "\n",
      "Model with rank: 2\n",
      "Mean validation score: 0.91729 (std: 0.00425)\n",
      "Parameters: {'n_estimators': 1000, 'min_samples_split': 5, 'min_samples_leaf': 20, 'max_features': 20, 'max_depth': 20, 'criterion': 'gini', 'class_weight': None, 'bootstrap': False}\n",
      "\n",
      "Model with rank: 3\n",
      "Mean validation score: 0.91661 (std: 0.00441)\n",
      "Parameters: {'n_estimators': 500, 'min_samples_split': 10, 'min_samples_leaf': 5, 'max_features': 30, 'max_depth': 70, 'criterion': 'entropy', 'class_weight': 'balanced', 'bootstrap': True}\n",
      "\n",
      "Model with rank: 4\n",
      "Mean validation score: 0.91531 (std: 0.00400)\n",
      "Parameters: {'n_estimators': 500, 'min_samples_split': 20, 'min_samples_leaf': 1, 'max_features': 30, 'max_depth': 15, 'criterion': 'gini', 'class_weight': 'balanced', 'bootstrap': False}\n",
      "\n",
      "Model with rank: 5\n",
      "Mean validation score: 0.91390 (std: 0.00405)\n",
      "Parameters: {'n_estimators': 1000, 'min_samples_split': 15, 'min_samples_leaf': 10, 'max_features': 30, 'max_depth': 20, 'criterion': 'entropy', 'class_weight': 'balanced', 'bootstrap': False}\n",
      "\n"
     ]
    }
   ],
   "source": [
    "report(random_search.cv_results_,5)"
   ]
  },
  {
   "cell_type": "code",
   "execution_count": 78,
   "metadata": {
    "ExecuteTime": {
     "end_time": "2023-06-18T10:17:15.480130Z",
     "start_time": "2023-06-18T10:17:15.475503Z"
    }
   },
   "outputs": [],
   "source": [
    "# select the best values from results above, they will vary slightly with each run\n",
    "rf=RandomForestClassifier(**{'n_estimators': 500, 'min_samples_split': 20, 'min_samples_leaf': 1, 'max_features': 25, 'max_depth': 15, 'criterion': 'gini', 'class_weight': 'balanced', 'bootstrap': True,\n",
    "                            'random_state': 999})"
   ]
  },
  {
   "cell_type": "code",
   "execution_count": 79,
   "metadata": {
    "ExecuteTime": {
     "end_time": "2023-06-18T10:17:52.151248Z",
     "start_time": "2023-06-18T10:17:18.404305Z"
    }
   },
   "outputs": [
    {
     "data": {
      "text/plain": [
       "RandomForestClassifier(class_weight='balanced', max_depth=15, max_features=25,\n",
       "                       min_samples_split=20, n_estimators=500)"
      ]
     },
     "execution_count": 79,
     "metadata": {},
     "output_type": "execute_result"
    }
   ],
   "source": [
    "rf.fit(x_train,y_train)"
   ]
  },
  {
   "cell_type": "code",
   "execution_count": 82,
   "metadata": {
    "ExecuteTime": {
     "end_time": "2023-06-18T10:20:23.829317Z",
     "start_time": "2023-06-18T10:20:23.823120Z"
    }
   },
   "outputs": [
    {
     "data": {
      "text/plain": [
       "(32561, 45)"
      ]
     },
     "execution_count": 82,
     "metadata": {},
     "output_type": "execute_result"
    }
   ],
   "source": [
    "x_train.shape"
   ]
  },
  {
   "cell_type": "markdown",
   "metadata": {},
   "source": [
    "## Feature Importance"
   ]
  },
  {
   "cell_type": "code",
   "execution_count": 80,
   "metadata": {
    "ExecuteTime": {
     "end_time": "2023-06-18T10:19:04.158579Z",
     "start_time": "2023-06-18T10:19:04.106369Z"
    }
   },
   "outputs": [],
   "source": [
    "feat_imp_df=pd.DataFrame({'features':x_train.columns,\n",
    "                          'importance':rf.feature_importances_})\n",
    "\n",
    "feat_imp_df=feat_imp_df.sort_values('importance',ascending=False)\n",
    "feat_imp_df['normalised_imp']=feat_imp_df['importance']/np.sum(feat_imp_df['importance'])\n",
    "feat_imp_df['cum_imp']=np.cumsum(feat_imp_df['normalised_imp'])"
   ]
  },
  {
   "cell_type": "code",
   "execution_count": 81,
   "metadata": {
    "ExecuteTime": {
     "end_time": "2023-06-18T10:19:04.360273Z",
     "start_time": "2023-06-18T10:19:04.343726Z"
    }
   },
   "outputs": [
    {
     "data": {
      "text/html": [
       "<div>\n",
       "<style scoped>\n",
       "    .dataframe tbody tr th:only-of-type {\n",
       "        vertical-align: middle;\n",
       "    }\n",
       "\n",
       "    .dataframe tbody tr th {\n",
       "        vertical-align: top;\n",
       "    }\n",
       "\n",
       "    .dataframe thead th {\n",
       "        text-align: right;\n",
       "    }\n",
       "</style>\n",
       "<table border=\"1\" class=\"dataframe\">\n",
       "  <thead>\n",
       "    <tr style=\"text-align: right;\">\n",
       "      <th></th>\n",
       "      <th>features</th>\n",
       "      <th>importance</th>\n",
       "      <th>normalised_imp</th>\n",
       "      <th>cum_imp</th>\n",
       "    </tr>\n",
       "  </thead>\n",
       "  <tbody>\n",
       "    <tr>\n",
       "      <th>7</th>\n",
       "      <td>cat_pipe__marital.status_ Married-civ-spouse</td>\n",
       "      <td>0.279700</td>\n",
       "      <td>0.279700</td>\n",
       "      <td>0.279700</td>\n",
       "    </tr>\n",
       "    <tr>\n",
       "      <th>41</th>\n",
       "      <td>num_pipe__education.num</td>\n",
       "      <td>0.148740</td>\n",
       "      <td>0.148740</td>\n",
       "      <td>0.428440</td>\n",
       "    </tr>\n",
       "    <tr>\n",
       "      <th>42</th>\n",
       "      <td>num_pipe__capital.gain</td>\n",
       "      <td>0.121649</td>\n",
       "      <td>0.121649</td>\n",
       "      <td>0.550089</td>\n",
       "    </tr>\n",
       "    <tr>\n",
       "      <th>26</th>\n",
       "      <td>cat_pipe__relationship_ Husband</td>\n",
       "      <td>0.088734</td>\n",
       "      <td>0.088734</td>\n",
       "      <td>0.638823</td>\n",
       "    </tr>\n",
       "    <tr>\n",
       "      <th>39</th>\n",
       "      <td>num_pipe__age</td>\n",
       "      <td>0.079863</td>\n",
       "      <td>0.079863</td>\n",
       "      <td>0.718686</td>\n",
       "    </tr>\n",
       "    <tr>\n",
       "      <th>44</th>\n",
       "      <td>num_pipe__hours.per.week</td>\n",
       "      <td>0.054110</td>\n",
       "      <td>0.054110</td>\n",
       "      <td>0.772796</td>\n",
       "    </tr>\n",
       "    <tr>\n",
       "      <th>40</th>\n",
       "      <td>num_pipe__fnlwgt</td>\n",
       "      <td>0.042819</td>\n",
       "      <td>0.042819</td>\n",
       "      <td>0.815615</td>\n",
       "    </tr>\n",
       "    <tr>\n",
       "      <th>8</th>\n",
       "      <td>cat_pipe__marital.status_ Never-married</td>\n",
       "      <td>0.035132</td>\n",
       "      <td>0.035132</td>\n",
       "      <td>0.850747</td>\n",
       "    </tr>\n",
       "    <tr>\n",
       "      <th>43</th>\n",
       "      <td>num_pipe__capital.loss</td>\n",
       "      <td>0.031400</td>\n",
       "      <td>0.031400</td>\n",
       "      <td>0.882147</td>\n",
       "    </tr>\n",
       "    <tr>\n",
       "      <th>30</th>\n",
       "      <td>cat_pipe__relationship_ Wife</td>\n",
       "      <td>0.021414</td>\n",
       "      <td>0.021414</td>\n",
       "      <td>0.903561</td>\n",
       "    </tr>\n",
       "    <tr>\n",
       "      <th>15</th>\n",
       "      <td>cat_pipe__occupation_ Exec-managerial</td>\n",
       "      <td>0.011171</td>\n",
       "      <td>0.011171</td>\n",
       "      <td>0.914731</td>\n",
       "    </tr>\n",
       "    <tr>\n",
       "      <th>13</th>\n",
       "      <td>cat_pipe__occupation_ Prof-specialty</td>\n",
       "      <td>0.007396</td>\n",
       "      <td>0.007396</td>\n",
       "      <td>0.922127</td>\n",
       "    </tr>\n",
       "    <tr>\n",
       "      <th>18</th>\n",
       "      <td>cat_pipe__occupation_ Other-service</td>\n",
       "      <td>0.005688</td>\n",
       "      <td>0.005688</td>\n",
       "      <td>0.927815</td>\n",
       "    </tr>\n",
       "    <tr>\n",
       "      <th>35</th>\n",
       "      <td>cat_pipe__sex_ Male</td>\n",
       "      <td>0.005610</td>\n",
       "      <td>0.005610</td>\n",
       "      <td>0.933425</td>\n",
       "    </tr>\n",
       "    <tr>\n",
       "      <th>1</th>\n",
       "      <td>cat_pipe__workclass_ Self-emp-not-inc</td>\n",
       "      <td>0.005135</td>\n",
       "      <td>0.005135</td>\n",
       "      <td>0.938560</td>\n",
       "    </tr>\n",
       "    <tr>\n",
       "      <th>23</th>\n",
       "      <td>cat_pipe__occupation_ Farming-fishing</td>\n",
       "      <td>0.003880</td>\n",
       "      <td>0.003880</td>\n",
       "      <td>0.942440</td>\n",
       "    </tr>\n",
       "    <tr>\n",
       "      <th>17</th>\n",
       "      <td>cat_pipe__occupation_ Sales</td>\n",
       "      <td>0.003530</td>\n",
       "      <td>0.003530</td>\n",
       "      <td>0.945971</td>\n",
       "    </tr>\n",
       "    <tr>\n",
       "      <th>0</th>\n",
       "      <td>cat_pipe__workclass_ Private</td>\n",
       "      <td>0.003147</td>\n",
       "      <td>0.003147</td>\n",
       "      <td>0.949118</td>\n",
       "    </tr>\n",
       "    <tr>\n",
       "      <th>28</th>\n",
       "      <td>cat_pipe__relationship_ Own-child</td>\n",
       "      <td>0.002919</td>\n",
       "      <td>0.002919</td>\n",
       "      <td>0.952036</td>\n",
       "    </tr>\n",
       "    <tr>\n",
       "      <th>5</th>\n",
       "      <td>cat_pipe__workclass_ Self-emp-inc</td>\n",
       "      <td>0.002874</td>\n",
       "      <td>0.002874</td>\n",
       "      <td>0.954910</td>\n",
       "    </tr>\n",
       "    <tr>\n",
       "      <th>9</th>\n",
       "      <td>cat_pipe__marital.status_ Divorced</td>\n",
       "      <td>0.002754</td>\n",
       "      <td>0.002754</td>\n",
       "      <td>0.957664</td>\n",
       "    </tr>\n",
       "    <tr>\n",
       "      <th>21</th>\n",
       "      <td>cat_pipe__occupation_ Transport-moving</td>\n",
       "      <td>0.002700</td>\n",
       "      <td>0.002700</td>\n",
       "      <td>0.960364</td>\n",
       "    </tr>\n",
       "    <tr>\n",
       "      <th>27</th>\n",
       "      <td>cat_pipe__relationship_ Not-in-family</td>\n",
       "      <td>0.002662</td>\n",
       "      <td>0.002662</td>\n",
       "      <td>0.963026</td>\n",
       "    </tr>\n",
       "    <tr>\n",
       "      <th>36</th>\n",
       "      <td>cat_pipe__native.country_ United-States</td>\n",
       "      <td>0.002650</td>\n",
       "      <td>0.002650</td>\n",
       "      <td>0.965675</td>\n",
       "    </tr>\n",
       "    <tr>\n",
       "      <th>2</th>\n",
       "      <td>cat_pipe__workclass_ Local-gov</td>\n",
       "      <td>0.002629</td>\n",
       "      <td>0.002629</td>\n",
       "      <td>0.968305</td>\n",
       "    </tr>\n",
       "    <tr>\n",
       "      <th>6</th>\n",
       "      <td>cat_pipe__workclass_ Federal-gov</td>\n",
       "      <td>0.002605</td>\n",
       "      <td>0.002605</td>\n",
       "      <td>0.970910</td>\n",
       "    </tr>\n",
       "    <tr>\n",
       "      <th>24</th>\n",
       "      <td>cat_pipe__occupation_ Tech-support</td>\n",
       "      <td>0.002598</td>\n",
       "      <td>0.002598</td>\n",
       "      <td>0.973508</td>\n",
       "    </tr>\n",
       "    <tr>\n",
       "      <th>14</th>\n",
       "      <td>cat_pipe__occupation_ Craft-repair</td>\n",
       "      <td>0.002555</td>\n",
       "      <td>0.002555</td>\n",
       "      <td>0.976063</td>\n",
       "    </tr>\n",
       "    <tr>\n",
       "      <th>31</th>\n",
       "      <td>cat_pipe__race_ White</td>\n",
       "      <td>0.002516</td>\n",
       "      <td>0.002516</td>\n",
       "      <td>0.978579</td>\n",
       "    </tr>\n",
       "    <tr>\n",
       "      <th>16</th>\n",
       "      <td>cat_pipe__occupation_ Adm-clerical</td>\n",
       "      <td>0.002470</td>\n",
       "      <td>0.002470</td>\n",
       "      <td>0.981049</td>\n",
       "    </tr>\n",
       "    <tr>\n",
       "      <th>4</th>\n",
       "      <td>cat_pipe__workclass_ State-gov</td>\n",
       "      <td>0.002010</td>\n",
       "      <td>0.002010</td>\n",
       "      <td>0.983059</td>\n",
       "    </tr>\n",
       "    <tr>\n",
       "      <th>22</th>\n",
       "      <td>cat_pipe__occupation_ Handlers-cleaners</td>\n",
       "      <td>0.001931</td>\n",
       "      <td>0.001931</td>\n",
       "      <td>0.984990</td>\n",
       "    </tr>\n",
       "    <tr>\n",
       "      <th>25</th>\n",
       "      <td>cat_pipe__occupation_ Protective-serv</td>\n",
       "      <td>0.001905</td>\n",
       "      <td>0.001905</td>\n",
       "      <td>0.986895</td>\n",
       "    </tr>\n",
       "    <tr>\n",
       "      <th>33</th>\n",
       "      <td>cat_pipe__race_ Asian-Pac-Islander</td>\n",
       "      <td>0.001891</td>\n",
       "      <td>0.001891</td>\n",
       "      <td>0.988785</td>\n",
       "    </tr>\n",
       "    <tr>\n",
       "      <th>19</th>\n",
       "      <td>cat_pipe__occupation_ Machine-op-inspct</td>\n",
       "      <td>0.001838</td>\n",
       "      <td>0.001838</td>\n",
       "      <td>0.990623</td>\n",
       "    </tr>\n",
       "    <tr>\n",
       "      <th>32</th>\n",
       "      <td>cat_pipe__race_ Black</td>\n",
       "      <td>0.001769</td>\n",
       "      <td>0.001769</td>\n",
       "      <td>0.992393</td>\n",
       "    </tr>\n",
       "    <tr>\n",
       "      <th>38</th>\n",
       "      <td>cat_pipe__native.country_ ?</td>\n",
       "      <td>0.001253</td>\n",
       "      <td>0.001253</td>\n",
       "      <td>0.993646</td>\n",
       "    </tr>\n",
       "    <tr>\n",
       "      <th>11</th>\n",
       "      <td>cat_pipe__marital.status_ Widowed</td>\n",
       "      <td>0.001027</td>\n",
       "      <td>0.001027</td>\n",
       "      <td>0.994673</td>\n",
       "    </tr>\n",
       "    <tr>\n",
       "      <th>37</th>\n",
       "      <td>cat_pipe__native.country_ Mexico</td>\n",
       "      <td>0.000929</td>\n",
       "      <td>0.000929</td>\n",
       "      <td>0.995602</td>\n",
       "    </tr>\n",
       "    <tr>\n",
       "      <th>29</th>\n",
       "      <td>cat_pipe__relationship_ Unmarried</td>\n",
       "      <td>0.000899</td>\n",
       "      <td>0.000899</td>\n",
       "      <td>0.996501</td>\n",
       "    </tr>\n",
       "    <tr>\n",
       "      <th>10</th>\n",
       "      <td>cat_pipe__marital.status_ Separated</td>\n",
       "      <td>0.000876</td>\n",
       "      <td>0.000876</td>\n",
       "      <td>0.997378</td>\n",
       "    </tr>\n",
       "    <tr>\n",
       "      <th>34</th>\n",
       "      <td>cat_pipe__race_ Amer-Indian-Eskimo</td>\n",
       "      <td>0.000714</td>\n",
       "      <td>0.000714</td>\n",
       "      <td>0.998092</td>\n",
       "    </tr>\n",
       "    <tr>\n",
       "      <th>20</th>\n",
       "      <td>cat_pipe__occupation_ ?</td>\n",
       "      <td>0.000642</td>\n",
       "      <td>0.000642</td>\n",
       "      <td>0.998734</td>\n",
       "    </tr>\n",
       "    <tr>\n",
       "      <th>12</th>\n",
       "      <td>cat_pipe__marital.status_ Married-spouse-absent</td>\n",
       "      <td>0.000638</td>\n",
       "      <td>0.000638</td>\n",
       "      <td>0.999372</td>\n",
       "    </tr>\n",
       "    <tr>\n",
       "      <th>3</th>\n",
       "      <td>cat_pipe__workclass_ ?</td>\n",
       "      <td>0.000628</td>\n",
       "      <td>0.000628</td>\n",
       "      <td>1.000000</td>\n",
       "    </tr>\n",
       "  </tbody>\n",
       "</table>\n",
       "</div>"
      ],
      "text/plain": [
       "                                           features  importance  \\\n",
       "7      cat_pipe__marital.status_ Married-civ-spouse    0.279700   \n",
       "41                          num_pipe__education.num    0.148740   \n",
       "42                           num_pipe__capital.gain    0.121649   \n",
       "26                  cat_pipe__relationship_ Husband    0.088734   \n",
       "39                                    num_pipe__age    0.079863   \n",
       "44                         num_pipe__hours.per.week    0.054110   \n",
       "40                                 num_pipe__fnlwgt    0.042819   \n",
       "8           cat_pipe__marital.status_ Never-married    0.035132   \n",
       "43                           num_pipe__capital.loss    0.031400   \n",
       "30                     cat_pipe__relationship_ Wife    0.021414   \n",
       "15            cat_pipe__occupation_ Exec-managerial    0.011171   \n",
       "13             cat_pipe__occupation_ Prof-specialty    0.007396   \n",
       "18              cat_pipe__occupation_ Other-service    0.005688   \n",
       "35                              cat_pipe__sex_ Male    0.005610   \n",
       "1             cat_pipe__workclass_ Self-emp-not-inc    0.005135   \n",
       "23            cat_pipe__occupation_ Farming-fishing    0.003880   \n",
       "17                      cat_pipe__occupation_ Sales    0.003530   \n",
       "0                      cat_pipe__workclass_ Private    0.003147   \n",
       "28                cat_pipe__relationship_ Own-child    0.002919   \n",
       "5                 cat_pipe__workclass_ Self-emp-inc    0.002874   \n",
       "9                cat_pipe__marital.status_ Divorced    0.002754   \n",
       "21           cat_pipe__occupation_ Transport-moving    0.002700   \n",
       "27            cat_pipe__relationship_ Not-in-family    0.002662   \n",
       "36          cat_pipe__native.country_ United-States    0.002650   \n",
       "2                    cat_pipe__workclass_ Local-gov    0.002629   \n",
       "6                  cat_pipe__workclass_ Federal-gov    0.002605   \n",
       "24               cat_pipe__occupation_ Tech-support    0.002598   \n",
       "14               cat_pipe__occupation_ Craft-repair    0.002555   \n",
       "31                            cat_pipe__race_ White    0.002516   \n",
       "16               cat_pipe__occupation_ Adm-clerical    0.002470   \n",
       "4                    cat_pipe__workclass_ State-gov    0.002010   \n",
       "22          cat_pipe__occupation_ Handlers-cleaners    0.001931   \n",
       "25            cat_pipe__occupation_ Protective-serv    0.001905   \n",
       "33               cat_pipe__race_ Asian-Pac-Islander    0.001891   \n",
       "19          cat_pipe__occupation_ Machine-op-inspct    0.001838   \n",
       "32                            cat_pipe__race_ Black    0.001769   \n",
       "38                      cat_pipe__native.country_ ?    0.001253   \n",
       "11                cat_pipe__marital.status_ Widowed    0.001027   \n",
       "37                 cat_pipe__native.country_ Mexico    0.000929   \n",
       "29                cat_pipe__relationship_ Unmarried    0.000899   \n",
       "10              cat_pipe__marital.status_ Separated    0.000876   \n",
       "34               cat_pipe__race_ Amer-Indian-Eskimo    0.000714   \n",
       "20                          cat_pipe__occupation_ ?    0.000642   \n",
       "12  cat_pipe__marital.status_ Married-spouse-absent    0.000638   \n",
       "3                            cat_pipe__workclass_ ?    0.000628   \n",
       "\n",
       "    normalised_imp   cum_imp  \n",
       "7         0.279700  0.279700  \n",
       "41        0.148740  0.428440  \n",
       "42        0.121649  0.550089  \n",
       "26        0.088734  0.638823  \n",
       "39        0.079863  0.718686  \n",
       "44        0.054110  0.772796  \n",
       "40        0.042819  0.815615  \n",
       "8         0.035132  0.850747  \n",
       "43        0.031400  0.882147  \n",
       "30        0.021414  0.903561  \n",
       "15        0.011171  0.914731  \n",
       "13        0.007396  0.922127  \n",
       "18        0.005688  0.927815  \n",
       "35        0.005610  0.933425  \n",
       "1         0.005135  0.938560  \n",
       "23        0.003880  0.942440  \n",
       "17        0.003530  0.945971  \n",
       "0         0.003147  0.949118  \n",
       "28        0.002919  0.952036  \n",
       "5         0.002874  0.954910  \n",
       "9         0.002754  0.957664  \n",
       "21        0.002700  0.960364  \n",
       "27        0.002662  0.963026  \n",
       "36        0.002650  0.965675  \n",
       "2         0.002629  0.968305  \n",
       "6         0.002605  0.970910  \n",
       "24        0.002598  0.973508  \n",
       "14        0.002555  0.976063  \n",
       "31        0.002516  0.978579  \n",
       "16        0.002470  0.981049  \n",
       "4         0.002010  0.983059  \n",
       "22        0.001931  0.984990  \n",
       "25        0.001905  0.986895  \n",
       "33        0.001891  0.988785  \n",
       "19        0.001838  0.990623  \n",
       "32        0.001769  0.992393  \n",
       "38        0.001253  0.993646  \n",
       "11        0.001027  0.994673  \n",
       "37        0.000929  0.995602  \n",
       "29        0.000899  0.996501  \n",
       "10        0.000876  0.997378  \n",
       "34        0.000714  0.998092  \n",
       "20        0.000642  0.998734  \n",
       "12        0.000638  0.999372  \n",
       "3         0.000628  1.000000  "
      ]
     },
     "execution_count": 81,
     "metadata": {},
     "output_type": "execute_result"
    }
   ],
   "source": [
    "feat_imp_df"
   ]
  },
  {
   "cell_type": "markdown",
   "metadata": {},
   "source": [
    "## Partial Dependence Plot\n",
    "\n"
   ]
  },
  {
   "cell_type": "code",
   "execution_count": 83,
   "metadata": {
    "ExecuteTime": {
     "end_time": "2023-06-18T10:25:21.521873Z",
     "start_time": "2023-06-18T10:25:21.514889Z"
    }
   },
   "outputs": [
    {
     "data": {
      "text/plain": [
       "Index(['cat_pipe__workclass_ Private', 'cat_pipe__workclass_ Self-emp-not-inc',\n",
       "       'cat_pipe__workclass_ Local-gov', 'cat_pipe__workclass_ ?',\n",
       "       'cat_pipe__workclass_ State-gov', 'cat_pipe__workclass_ Self-emp-inc',\n",
       "       'cat_pipe__workclass_ Federal-gov',\n",
       "       'cat_pipe__marital.status_ Married-civ-spouse',\n",
       "       'cat_pipe__marital.status_ Never-married',\n",
       "       'cat_pipe__marital.status_ Divorced',\n",
       "       'cat_pipe__marital.status_ Separated',\n",
       "       'cat_pipe__marital.status_ Widowed',\n",
       "       'cat_pipe__marital.status_ Married-spouse-absent',\n",
       "       'cat_pipe__occupation_ Prof-specialty',\n",
       "       'cat_pipe__occupation_ Craft-repair',\n",
       "       'cat_pipe__occupation_ Exec-managerial',\n",
       "       'cat_pipe__occupation_ Adm-clerical', 'cat_pipe__occupation_ Sales',\n",
       "       'cat_pipe__occupation_ Other-service',\n",
       "       'cat_pipe__occupation_ Machine-op-inspct', 'cat_pipe__occupation_ ?',\n",
       "       'cat_pipe__occupation_ Transport-moving',\n",
       "       'cat_pipe__occupation_ Handlers-cleaners',\n",
       "       'cat_pipe__occupation_ Farming-fishing',\n",
       "       'cat_pipe__occupation_ Tech-support',\n",
       "       'cat_pipe__occupation_ Protective-serv',\n",
       "       'cat_pipe__relationship_ Husband',\n",
       "       'cat_pipe__relationship_ Not-in-family',\n",
       "       'cat_pipe__relationship_ Own-child',\n",
       "       'cat_pipe__relationship_ Unmarried', 'cat_pipe__relationship_ Wife',\n",
       "       'cat_pipe__race_ White', 'cat_pipe__race_ Black',\n",
       "       'cat_pipe__race_ Asian-Pac-Islander',\n",
       "       'cat_pipe__race_ Amer-Indian-Eskimo', 'cat_pipe__sex_ Male',\n",
       "       'cat_pipe__native.country_ United-States',\n",
       "       'cat_pipe__native.country_ Mexico', 'cat_pipe__native.country_ ?',\n",
       "       'num_pipe__age', 'num_pipe__fnlwgt', 'num_pipe__education.num',\n",
       "       'num_pipe__capital.gain', 'num_pipe__capital.loss',\n",
       "       'num_pipe__hours.per.week'],\n",
       "      dtype='object')"
      ]
     },
     "execution_count": 83,
     "metadata": {},
     "output_type": "execute_result"
    }
   ],
   "source": [
    "x_train.columns"
   ]
  },
  {
   "cell_type": "code",
   "execution_count": 84,
   "metadata": {
    "ExecuteTime": {
     "end_time": "2023-06-18T10:25:27.919931Z",
     "start_time": "2023-06-18T10:25:25.767995Z"
    }
   },
   "outputs": [],
   "source": [
    "var_name='num_pipe__education.num'\n",
    "\n",
    "preds=rf.predict_proba(x_train)[:,1]\n",
    "# part_dep_data"
   ]
  },
  {
   "cell_type": "code",
   "execution_count": 85,
   "metadata": {
    "ExecuteTime": {
     "end_time": "2023-06-18T10:25:34.117180Z",
     "start_time": "2023-06-18T10:25:34.112186Z"
    }
   },
   "outputs": [],
   "source": [
    "var_data=pd.DataFrame({'var':x_train[var_name],'response':preds})"
   ]
  },
  {
   "cell_type": "code",
   "execution_count": 86,
   "metadata": {
    "ExecuteTime": {
     "end_time": "2023-06-18T10:25:36.737433Z",
     "start_time": "2023-06-18T10:25:36.733892Z"
    }
   },
   "outputs": [],
   "source": [
    "# var_data"
   ]
  },
  {
   "cell_type": "code",
   "execution_count": 87,
   "metadata": {
    "ExecuteTime": {
     "end_time": "2023-06-18T10:25:37.059094Z",
     "start_time": "2023-06-18T10:25:37.055055Z"
    }
   },
   "outputs": [],
   "source": [
    "%matplotlib inline"
   ]
  },
  {
   "cell_type": "code",
   "execution_count": 88,
   "metadata": {
    "ExecuteTime": {
     "end_time": "2023-06-18T10:25:37.981298Z",
     "start_time": "2023-06-18T10:25:37.630203Z"
    }
   },
   "outputs": [
    {
     "data": {
      "text/plain": [
       "<seaborn.axisgrid.FacetGrid at 0x29b62b42ec8>"
      ]
     },
     "execution_count": 88,
     "metadata": {},
     "output_type": "execute_result"
    },
    {
     "data": {
      "image/png": "[encoded data removed]",
      "text/plain": [
       "<Figure size 360x360 with 1 Axes>"
      ]
     },
     "metadata": {
      "needs_background": "light"
     },
     "output_type": "display_data"
    }
   ],
   "source": [
    "import seaborn as sns\n",
    "\n",
    "sns.lmplot(x='var',y='response',data=var_data,fit_reg=False)"
   ]
  },
  {
   "cell_type": "code",
   "execution_count": 89,
   "metadata": {
    "ExecuteTime": {
     "end_time": "2023-06-18T10:25:41.047941Z",
     "start_time": "2023-06-18T10:25:40.146835Z"
    }
   },
   "outputs": [],
   "source": [
    "import statsmodels.api as sm\n",
    "smooth_data=sm.nonparametric.lowess(var_data['response'],var_data['var'])\n",
    "\n",
    "# smooth_data"
   ]
  },
  {
   "cell_type": "code",
   "execution_count": 90,
   "metadata": {
    "ExecuteTime": {
     "end_time": "2023-06-18T10:25:41.338902Z",
     "start_time": "2023-06-18T10:25:41.049934Z"
    }
   },
   "outputs": [
    {
     "data": {
      "text/plain": [
       "<seaborn.axisgrid.FacetGrid at 0x29b5e8e74c8>"
      ]
     },
     "execution_count": 90,
     "metadata": {},
     "output_type": "execute_result"
    },
    {
     "data": {
      "image/png": "[encoded data removed]",
      "text/plain": [
       "<Figure size 360x360 with 1 Axes>"
      ]
     },
     "metadata": {
      "needs_background": "light"
     },
     "output_type": "display_data"
    }
   ],
   "source": [
    "df=pd.DataFrame({'response':smooth_data[:,1],var_name:smooth_data[:,0]})\n",
    "\n",
    "sns.lmplot(x=var_name,y='response',data=df,fit_reg=False)"
   ]
  },
  {
   "cell_type": "markdown",
   "metadata": {},
   "source": [
    "## ExtraTrees\n",
    "\n"
   ]
  },
  {
   "cell_type": "code",
   "execution_count": 91,
   "metadata": {
    "ExecuteTime": {
     "end_time": "2023-06-18T10:31:25.261406Z",
     "start_time": "2023-06-18T10:31:25.257415Z"
    }
   },
   "outputs": [],
   "source": [
    "from sklearn.ensemble import ExtraTreesClassifier"
   ]
  },
  {
   "cell_type": "code",
   "execution_count": 92,
   "metadata": {
    "ExecuteTime": {
     "end_time": "2023-06-18T10:31:25.541260Z",
     "start_time": "2023-06-18T10:31:25.535236Z"
    }
   },
   "outputs": [],
   "source": [
    "param_dist = {\"n_estimators\":[100,200,300,500,700,1000],\n",
    "              \"max_features\": [5,10,20,25,30,35],\n",
    "              \"bootstrap\": [True, False],\n",
    "              'class_weight':[None,'balanced'], \n",
    "                'criterion':['entropy','gini'],\n",
    "                'max_depth':[None,5,10,15,20,30,50,70],\n",
    "                'min_samples_leaf':[1,2,5,10,15,20], \n",
    "                'min_samples_split':[2,5,10,15,20]\n",
    "                  }"
   ]
  },
  {
   "cell_type": "code",
   "execution_count": 93,
   "metadata": {
    "ExecuteTime": {
     "end_time": "2023-06-18T10:31:25.903332Z",
     "start_time": "2023-06-18T10:31:25.899383Z"
    }
   },
   "outputs": [],
   "source": [
    "clf=ExtraTreesClassifier()"
   ]
  },
  {
   "cell_type": "code",
   "execution_count": 94,
   "metadata": {
    "ExecuteTime": {
     "end_time": "2023-06-18T10:39:17.588233Z",
     "start_time": "2023-06-18T10:31:26.359804Z"
    }
   },
   "outputs": [
    {
     "name": "stdout",
     "output_type": "stream",
     "text": [
      "Fitting 10 folds for each of 10 candidates, totalling 100 fits\n"
     ]
    },
    {
     "data": {
      "text/plain": [
       "RandomizedSearchCV(cv=10, estimator=ExtraTreesClassifier(), n_jobs=-1,\n",
       "                   param_distributions={'bootstrap': [True, False],\n",
       "                                        'class_weight': [None, 'balanced'],\n",
       "                                        'criterion': ['entropy', 'gini'],\n",
       "                                        'max_depth': [None, 5, 10, 15, 20, 30,\n",
       "                                                      50, 70],\n",
       "                                        'max_features': [5, 10, 20, 25, 30, 35],\n",
       "                                        'min_samples_leaf': [1, 2, 5, 10, 15,\n",
       "                                                             20],\n",
       "                                        'min_samples_split': [2, 5, 10, 15, 20],\n",
       "                                        'n_estimators': [100, 200, 300, 500,\n",
       "                                                         700, 1000]},\n",
       "                   scoring='roc_auc', verbose=20)"
      ]
     },
     "execution_count": 94,
     "metadata": {},
     "output_type": "execute_result"
    }
   ],
   "source": [
    "n_iter_search = 10\n",
    "\n",
    "random_search = RandomizedSearchCV(clf, param_distributions=param_dist,\n",
    "                                   n_iter=n_iter_search,\n",
    "                                   scoring='roc_auc',\n",
    "                                   cv=10,\n",
    "                                  n_jobs=-1,verbose=20)\n",
    "random_search.fit(x_train, y_train)"
   ]
  },
  {
   "cell_type": "code",
   "execution_count": 95,
   "metadata": {
    "ExecuteTime": {
     "end_time": "2023-06-18T10:39:17.597723Z",
     "start_time": "2023-06-18T10:39:17.590228Z"
    }
   },
   "outputs": [
    {
     "name": "stdout",
     "output_type": "stream",
     "text": [
      "Model with rank: 1\n",
      "Mean validation score: 0.91433 (std: 0.00527)\n",
      "Parameters: {'n_estimators': 100, 'min_samples_split': 10, 'min_samples_leaf': 2, 'max_features': 30, 'max_depth': 20, 'criterion': 'entropy', 'class_weight': None, 'bootstrap': False}\n",
      "\n",
      "Model with rank: 2\n",
      "Mean validation score: 0.91318 (std: 0.00491)\n",
      "Parameters: {'n_estimators': 1000, 'min_samples_split': 15, 'min_samples_leaf': 1, 'max_features': 30, 'max_depth': 50, 'criterion': 'gini', 'class_weight': None, 'bootstrap': True}\n",
      "\n",
      "Model with rank: 3\n",
      "Mean validation score: 0.90944 (std: 0.00456)\n",
      "Parameters: {'n_estimators': 100, 'min_samples_split': 15, 'min_samples_leaf': 5, 'max_features': 35, 'max_depth': 10, 'criterion': 'entropy', 'class_weight': None, 'bootstrap': True}\n",
      "\n",
      "Model with rank: 4\n",
      "Mean validation score: 0.90535 (std: 0.00502)\n",
      "Parameters: {'n_estimators': 1000, 'min_samples_split': 10, 'min_samples_leaf': 1, 'max_features': 5, 'max_depth': 50, 'criterion': 'entropy', 'class_weight': 'balanced', 'bootstrap': True}\n",
      "\n",
      "Model with rank: 5\n",
      "Mean validation score: 0.90303 (std: 0.00446)\n",
      "Parameters: {'n_estimators': 500, 'min_samples_split': 15, 'min_samples_leaf': 2, 'max_features': 20, 'max_depth': 10, 'criterion': 'gini', 'class_weight': 'balanced', 'bootstrap': True}\n",
      "\n"
     ]
    }
   ],
   "source": [
    "report(random_search.cv_results_,5)"
   ]
  },
  {
   "cell_type": "code",
   "execution_count": null,
   "metadata": {
    "ExecuteTime": {
     "end_time": "2023-06-17T11:44:26.805310Z",
     "start_time": "2023-06-17T11:42:13.701Z"
    }
   },
   "outputs": [],
   "source": [
    "# predictions and all other things follow the exactly same syntax as random forest models"
   ]
  },
  {
   "cell_type": "code",
   "execution_count": null,
   "metadata": {},
   "outputs": [],
   "source": []
  }
 ],
 "metadata": {
  "anaconda-cloud": {},
  "kernelspec": {
   "display_name": "Python 3",
   "language": "python",
   "name": "python3"
  },
  "language_info": {
   "codemirror_mode": {
    "name": "ipython",
    "version": 3
   },
   "file_extension": ".py",
   "mimetype": "text/x-python",
   "name": "python",
   "nbconvert_exporter": "python",
   "pygments_lexer": "ipython3",
   "version": "3.7.4"
  },
  "toc": {
   "base_numbering": 1,
   "nav_menu": {},
   "number_sections": false,
   "sideBar": true,
   "skip_h1_title": false,
   "title_cell": "Table of Contents",
   "title_sidebar": "Contents",
   "toc_cell": false,
   "toc_position": {},
   "toc_section_display": true,
   "toc_window_display": false
  }
 },
 "nbformat": 4,
 "nbformat_minor": 1
}
