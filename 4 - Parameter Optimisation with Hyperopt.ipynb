{
 "cells": [
  {
   "cell_type": "code",
   "execution_count": 1,
   "metadata": {
    "ExecuteTime": {
     "end_time": "2023-07-08T14:25:54.534780Z",
     "start_time": "2023-07-08T14:25:53.385700Z"
    }
   },
   "outputs": [],
   "source": [
    "import sklearn"
   ]
  },
  {
   "cell_type": "code",
   "execution_count": 2,
   "metadata": {
    "ExecuteTime": {
     "end_time": "2023-07-08T14:25:54.937331Z",
     "start_time": "2023-07-08T14:25:54.534780Z"
    }
   },
   "outputs": [],
   "source": [
    "import pandas as pd \n",
    "import numpy as np\n",
    "from sklearn.ensemble import RandomForestClassifier"
   ]
  },
  {
   "cell_type": "code",
   "execution_count": 3,
   "metadata": {
    "ExecuteTime": {
     "end_time": "2023-07-08T14:25:55.087338Z",
     "start_time": "2023-07-08T14:25:54.939330Z"
    }
   },
   "outputs": [
    {
     "name": "stderr",
     "output_type": "stream",
     "text": [
      "C:\\Users\\Jayanti\\Anaconda3\\lib\\site-packages\\ipykernel_launcher.py:16: FutureWarning: In a future version of pandas all arguments of DataFrame.drop except for the argument 'labels' will be keyword-only\n",
      "  app.launch_new_instance()\n"
     ]
    }
   ],
   "source": [
    "file=r'../data/census_income.csv'\n",
    "\n",
    "ci=pd.read_csv(file)\n",
    "ci.drop(['education'],axis=1,inplace=True)\n",
    "ci['Y']=(ci['Y']==' >50K').astype(int)\n",
    "cat_cols=ci.select_dtypes(['object']).columns\n",
    "\n",
    "for col in cat_cols:\n",
    "    freqs=ci[col].value_counts()\n",
    "    k=freqs.index[freqs>500][:-1]\n",
    "    for cat in k:\n",
    "        name=col+'_'+cat\n",
    "        ci[name]=(ci[col]==cat).astype(int)\n",
    "    del ci[col]\n",
    "\n",
    "x=ci.drop(['Y'],1)\n",
    "y=ci['Y']\n",
    "    "
   ]
  },
  {
   "cell_type": "code",
   "execution_count": 19,
   "metadata": {
    "ExecuteTime": {
     "end_time": "2023-07-09T06:11:52.372103Z",
     "start_time": "2023-07-09T06:11:52.341567Z"
    }
   },
   "outputs": [
    {
     "data": {
      "text/html": [
       "<div>\n",
       "<style scoped>\n",
       "    .dataframe tbody tr th:only-of-type {\n",
       "        vertical-align: middle;\n",
       "    }\n",
       "\n",
       "    .dataframe tbody tr th {\n",
       "        vertical-align: top;\n",
       "    }\n",
       "\n",
       "    .dataframe thead th {\n",
       "        text-align: right;\n",
       "    }\n",
       "</style>\n",
       "<table border=\"1\" class=\"dataframe\">\n",
       "  <thead>\n",
       "    <tr style=\"text-align: right;\">\n",
       "      <th></th>\n",
       "      <th>age</th>\n",
       "      <th>fnlwgt</th>\n",
       "      <th>education.num</th>\n",
       "      <th>capital.gain</th>\n",
       "      <th>capital.loss</th>\n",
       "      <th>hours.per.week</th>\n",
       "      <th>workclass_ Private</th>\n",
       "      <th>workclass_ Self-emp-not-inc</th>\n",
       "      <th>workclass_ Local-gov</th>\n",
       "      <th>workclass_ ?</th>\n",
       "      <th>...</th>\n",
       "      <th>relationship_ Husband</th>\n",
       "      <th>relationship_ Not-in-family</th>\n",
       "      <th>relationship_ Own-child</th>\n",
       "      <th>relationship_ Unmarried</th>\n",
       "      <th>relationship_ Wife</th>\n",
       "      <th>race_ White</th>\n",
       "      <th>race_ Black</th>\n",
       "      <th>sex_ Male</th>\n",
       "      <th>native.country_ United-States</th>\n",
       "      <th>native.country_ Mexico</th>\n",
       "    </tr>\n",
       "  </thead>\n",
       "  <tbody>\n",
       "    <tr>\n",
       "      <th>0</th>\n",
       "      <td>39</td>\n",
       "      <td>77516</td>\n",
       "      <td>13</td>\n",
       "      <td>2174</td>\n",
       "      <td>0</td>\n",
       "      <td>40</td>\n",
       "      <td>0</td>\n",
       "      <td>0</td>\n",
       "      <td>0</td>\n",
       "      <td>0</td>\n",
       "      <td>...</td>\n",
       "      <td>0</td>\n",
       "      <td>1</td>\n",
       "      <td>0</td>\n",
       "      <td>0</td>\n",
       "      <td>0</td>\n",
       "      <td>1</td>\n",
       "      <td>0</td>\n",
       "      <td>1</td>\n",
       "      <td>1</td>\n",
       "      <td>0</td>\n",
       "    </tr>\n",
       "    <tr>\n",
       "      <th>1</th>\n",
       "      <td>50</td>\n",
       "      <td>83311</td>\n",
       "      <td>13</td>\n",
       "      <td>0</td>\n",
       "      <td>0</td>\n",
       "      <td>13</td>\n",
       "      <td>0</td>\n",
       "      <td>1</td>\n",
       "      <td>0</td>\n",
       "      <td>0</td>\n",
       "      <td>...</td>\n",
       "      <td>1</td>\n",
       "      <td>0</td>\n",
       "      <td>0</td>\n",
       "      <td>0</td>\n",
       "      <td>0</td>\n",
       "      <td>1</td>\n",
       "      <td>0</td>\n",
       "      <td>1</td>\n",
       "      <td>1</td>\n",
       "      <td>0</td>\n",
       "    </tr>\n",
       "    <tr>\n",
       "      <th>2</th>\n",
       "      <td>38</td>\n",
       "      <td>215646</td>\n",
       "      <td>9</td>\n",
       "      <td>0</td>\n",
       "      <td>0</td>\n",
       "      <td>40</td>\n",
       "      <td>1</td>\n",
       "      <td>0</td>\n",
       "      <td>0</td>\n",
       "      <td>0</td>\n",
       "      <td>...</td>\n",
       "      <td>0</td>\n",
       "      <td>1</td>\n",
       "      <td>0</td>\n",
       "      <td>0</td>\n",
       "      <td>0</td>\n",
       "      <td>1</td>\n",
       "      <td>0</td>\n",
       "      <td>1</td>\n",
       "      <td>1</td>\n",
       "      <td>0</td>\n",
       "    </tr>\n",
       "    <tr>\n",
       "      <th>3</th>\n",
       "      <td>53</td>\n",
       "      <td>234721</td>\n",
       "      <td>7</td>\n",
       "      <td>0</td>\n",
       "      <td>0</td>\n",
       "      <td>40</td>\n",
       "      <td>1</td>\n",
       "      <td>0</td>\n",
       "      <td>0</td>\n",
       "      <td>0</td>\n",
       "      <td>...</td>\n",
       "      <td>1</td>\n",
       "      <td>0</td>\n",
       "      <td>0</td>\n",
       "      <td>0</td>\n",
       "      <td>0</td>\n",
       "      <td>0</td>\n",
       "      <td>1</td>\n",
       "      <td>1</td>\n",
       "      <td>1</td>\n",
       "      <td>0</td>\n",
       "    </tr>\n",
       "    <tr>\n",
       "      <th>4</th>\n",
       "      <td>28</td>\n",
       "      <td>338409</td>\n",
       "      <td>13</td>\n",
       "      <td>0</td>\n",
       "      <td>0</td>\n",
       "      <td>40</td>\n",
       "      <td>1</td>\n",
       "      <td>0</td>\n",
       "      <td>0</td>\n",
       "      <td>0</td>\n",
       "      <td>...</td>\n",
       "      <td>0</td>\n",
       "      <td>0</td>\n",
       "      <td>0</td>\n",
       "      <td>0</td>\n",
       "      <td>1</td>\n",
       "      <td>0</td>\n",
       "      <td>1</td>\n",
       "      <td>0</td>\n",
       "      <td>0</td>\n",
       "      <td>0</td>\n",
       "    </tr>\n",
       "  </tbody>\n",
       "</table>\n",
       "<p>5 rows × 38 columns</p>\n",
       "</div>"
      ],
      "text/plain": [
       "   age  fnlwgt  education.num  capital.gain  capital.loss  hours.per.week  \\\n",
       "0   39   77516             13          2174             0              40   \n",
       "1   50   83311             13             0             0              13   \n",
       "2   38  215646              9             0             0              40   \n",
       "3   53  234721              7             0             0              40   \n",
       "4   28  338409             13             0             0              40   \n",
       "\n",
       "   workclass_ Private  workclass_ Self-emp-not-inc  workclass_ Local-gov  \\\n",
       "0                   0                            0                     0   \n",
       "1                   0                            1                     0   \n",
       "2                   1                            0                     0   \n",
       "3                   1                            0                     0   \n",
       "4                   1                            0                     0   \n",
       "\n",
       "   workclass_ ?  ...  relationship_ Husband  relationship_ Not-in-family  \\\n",
       "0             0  ...                      0                            1   \n",
       "1             0  ...                      1                            0   \n",
       "2             0  ...                      0                            1   \n",
       "3             0  ...                      1                            0   \n",
       "4             0  ...                      0                            0   \n",
       "\n",
       "   relationship_ Own-child  relationship_ Unmarried  relationship_ Wife  \\\n",
       "0                        0                        0                   0   \n",
       "1                        0                        0                   0   \n",
       "2                        0                        0                   0   \n",
       "3                        0                        0                   0   \n",
       "4                        0                        0                   1   \n",
       "\n",
       "   race_ White  race_ Black  sex_ Male  native.country_ United-States  \\\n",
       "0            1            0          1                              1   \n",
       "1            1            0          1                              1   \n",
       "2            1            0          1                              1   \n",
       "3            0            1          1                              1   \n",
       "4            0            1          0                              0   \n",
       "\n",
       "   native.country_ Mexico  \n",
       "0                       0  \n",
       "1                       0  \n",
       "2                       0  \n",
       "3                       0  \n",
       "4                       0  \n",
       "\n",
       "[5 rows x 38 columns]"
      ]
     },
     "execution_count": 19,
     "metadata": {},
     "output_type": "execute_result"
    }
   ],
   "source": [
    "x.head()"
   ]
  },
  {
   "cell_type": "code",
   "execution_count": 20,
   "metadata": {
    "ExecuteTime": {
     "end_time": "2023-07-09T06:11:56.739021Z",
     "start_time": "2023-07-09T06:11:56.729063Z"
    }
   },
   "outputs": [
    {
     "data": {
      "text/plain": [
       "0        0\n",
       "1        0\n",
       "2        0\n",
       "3        0\n",
       "4        0\n",
       "        ..\n",
       "32556    0\n",
       "32557    1\n",
       "32558    0\n",
       "32559    0\n",
       "32560    1\n",
       "Name: Y, Length: 32561, dtype: int32"
      ]
     },
     "execution_count": 20,
     "metadata": {},
     "output_type": "execute_result"
    }
   ],
   "source": [
    "y"
   ]
  },
  {
   "cell_type": "code",
   "execution_count": 4,
   "metadata": {
    "ExecuteTime": {
     "end_time": "2023-07-08T14:25:55.103280Z",
     "start_time": "2023-07-08T14:25:55.087338Z"
    }
   },
   "outputs": [],
   "source": [
    "from sklearn.model_selection import train_test_split"
   ]
  },
  {
   "cell_type": "code",
   "execution_count": 5,
   "metadata": {
    "ExecuteTime": {
     "end_time": "2023-07-08T14:25:55.118891Z",
     "start_time": "2023-07-08T14:25:55.103713Z"
    }
   },
   "outputs": [],
   "source": [
    "x_train,x_test,y_train,y_test=train_test_split(x,y,test_size=0.2)"
   ]
  },
  {
   "cell_type": "code",
   "execution_count": null,
   "metadata": {},
   "outputs": [],
   "source": []
  },
  {
   "cell_type": "code",
   "execution_count": 7,
   "metadata": {
    "ExecuteTime": {
     "end_time": "2023-07-08T14:26:29.300079Z",
     "start_time": "2023-07-08T14:26:28.907553Z"
    }
   },
   "outputs": [],
   "source": [
    "from hyperopt import fmin, tpe, hp, STATUS_OK, Trials"
   ]
  },
  {
   "cell_type": "code",
   "execution_count": 8,
   "metadata": {
    "ExecuteTime": {
     "end_time": "2023-07-08T14:26:29.697636Z",
     "start_time": "2023-07-08T14:26:29.686985Z"
    }
   },
   "outputs": [],
   "source": [
    "from sklearn.model_selection import cross_val_score"
   ]
  },
  {
   "cell_type": "code",
   "execution_count": 9,
   "metadata": {
    "ExecuteTime": {
     "end_time": "2023-07-08T14:26:29.964703Z",
     "start_time": "2023-07-08T14:26:29.899253Z"
    }
   },
   "outputs": [],
   "source": [
    "cross_val_score?"
   ]
  },
  {
   "cell_type": "code",
   "execution_count": 10,
   "metadata": {
    "ExecuteTime": {
     "end_time": "2023-07-08T14:26:30.282189Z",
     "start_time": "2023-07-08T14:26:30.266780Z"
    }
   },
   "outputs": [],
   "source": [
    "def acc_model(params):\n",
    "    clf = RandomForestClassifier(**params)\n",
    "    return cross_val_score(clf, x_train, y_train).mean()\n",
    "# here you can pass other scoring function and non-default values for cv [ default cv is 5]\n"
   ]
  },
  {
   "cell_type": "code",
   "execution_count": 11,
   "metadata": {
    "ExecuteTime": {
     "end_time": "2023-07-08T14:26:34.267512Z",
     "start_time": "2023-07-08T14:26:34.251889Z"
    }
   },
   "outputs": [],
   "source": [
    "param_space = {\n",
    "    'max_depth': hp.choice('max_depth', range(1,20)),\n",
    "    'max_features': hp.choice('max_features', range(1,30)),\n",
    "    'n_estimators': hp.choice('n_estimators', range(100,500)),\n",
    "    'criterion': hp.choice('criterion', [\"gini\", \"entropy\"])}"
   ]
  },
  {
   "cell_type": "code",
   "execution_count": 12,
   "metadata": {
    "ExecuteTime": {
     "end_time": "2023-07-08T14:26:34.532688Z",
     "start_time": "2023-07-08T14:26:34.517085Z"
    }
   },
   "outputs": [],
   "source": [
    "best = 0\n",
    "\n",
    "def f(params):\n",
    "    global best\n",
    "    acc = acc_model(params)\n",
    "    if acc > best:\n",
    "        best = acc\n",
    "    print ('new best:', best, params)\n",
    "    return {'loss': -acc, 'status': STATUS_OK}"
   ]
  },
  {
   "cell_type": "code",
   "execution_count": 13,
   "metadata": {
    "ExecuteTime": {
     "end_time": "2023-07-08T14:31:14.804963Z",
     "start_time": "2023-07-08T14:26:35.843512Z"
    }
   },
   "outputs": [
    {
     "name": "stdout",
     "output_type": "stream",
     "text": [
      "new best:                                                                                                              \n",
      "0.8420225145538376                                                                                                     \n",
      "{'criterion': 'entropy', 'max_depth': 3, 'max_features': 13, 'n_estimators': 187}                                      \n",
      "new best:                                                                                                              \n",
      "0.8420225145538376                                                                                                     \n",
      "{'criterion': 'entropy', 'max_depth': 3, 'max_features': 2, 'n_estimators': 397}                                       \n",
      "new best:                                                                                                              \n",
      "0.8638282332107172                                                                                                     \n",
      "{'criterion': 'entropy', 'max_depth': 18, 'max_features': 7, 'n_estimators': 244}                                      \n",
      "new best:                                                                                                              \n",
      "0.8638282332107172                                                                                                     \n",
      "{'criterion': 'gini', 'max_depth': 14, 'max_features': 3, 'n_estimators': 149}                                         \n",
      "new best:                                                                                                              \n",
      "0.8645575777049099                                                                                                     \n",
      "{'criterion': 'entropy', 'max_depth': 15, 'max_features': 21, 'n_estimators': 454}                                     \n",
      "new best:                                                                                                              \n",
      "0.8645575777049099                                                                                                     \n",
      "{'criterion': 'gini', 'max_depth': 7, 'max_features': 29, 'n_estimators': 473}                                         \n",
      "new best:                                                                                                              \n",
      "0.8645575777049099                                                                                                     \n",
      "{'criterion': 'gini', 'max_depth': 12, 'max_features': 5, 'n_estimators': 304}                                         \n",
      "new best:                                                                                                              \n",
      "0.8645575777049099                                                                                                     \n",
      "{'criterion': 'entropy', 'max_depth': 9, 'max_features': 23, 'n_estimators': 484}                                      \n",
      "new best:                                                                                                              \n",
      "0.8645575777049099                                                                                                     \n",
      "{'criterion': 'entropy', 'max_depth': 6, 'max_features': 4, 'n_estimators': 480}                                       \n",
      "new best:                                                                                                              \n",
      "0.8645575777049099                                                                                                     \n",
      "{'criterion': 'gini', 'max_depth': 3, 'max_features': 10, 'n_estimators': 266}                                         \n",
      "100%|███████████████████████████████████████████████| 10/10 [04:38<00:00, 27.89s/trial, best loss: -0.8645575777049099]\n",
      "best:\n",
      "{'criterion': 1, 'max_depth': 14, 'max_features': 20, 'n_estimators': 354}\n"
     ]
    }
   ],
   "source": [
    "trials = Trials()\n",
    "best = fmin(f, param_space, algo=tpe.suggest, max_evals=10, trials=trials)\n",
    "print ('best:')\n",
    "print (best)\n",
    "\n",
    "# max_evals =10 is not enough , you should work with value in the range 40-60"
   ]
  },
  {
   "cell_type": "code",
   "execution_count": 14,
   "metadata": {
    "ExecuteTime": {
     "end_time": "2023-07-08T14:31:14.819879Z",
     "start_time": "2023-07-08T14:31:14.806911Z"
    }
   },
   "outputs": [],
   "source": [
    "rf=RandomForestClassifier(**{'criterion': 'gini', 'max_depth': 14,\n",
    "                             'max_features': 20, 'n_estimators': 354})"
   ]
  },
  {
   "cell_type": "code",
   "execution_count": 15,
   "metadata": {
    "ExecuteTime": {
     "end_time": "2023-07-08T14:31:23.787040Z",
     "start_time": "2023-07-08T14:31:14.821875Z"
    }
   },
   "outputs": [
    {
     "data": {
      "text/plain": [
       "RandomForestClassifier(max_depth=16, max_features=11, n_estimators=389)"
      ]
     },
     "execution_count": 15,
     "metadata": {},
     "output_type": "execute_result"
    }
   ],
   "source": [
    "rf.fit(x_train,y_train)"
   ]
  },
  {
   "cell_type": "code",
   "execution_count": 16,
   "metadata": {
    "ExecuteTime": {
     "end_time": "2023-07-08T14:31:23.803902Z",
     "start_time": "2023-07-08T14:31:23.790101Z"
    }
   },
   "outputs": [],
   "source": [
    "from sklearn.metrics import roc_auc_score"
   ]
  },
  {
   "cell_type": "code",
   "execution_count": 17,
   "metadata": {
    "ExecuteTime": {
     "end_time": "2023-07-08T14:31:24.129949Z",
     "start_time": "2023-07-08T14:31:23.803902Z"
    }
   },
   "outputs": [
    {
     "data": {
      "text/plain": [
       "0.9197218140691353"
      ]
     },
     "execution_count": 17,
     "metadata": {},
     "output_type": "execute_result"
    }
   ],
   "source": [
    "roc_auc_score(y_test,rf.predict_proba(x_test)[:,1])"
   ]
  },
  {
   "cell_type": "code",
   "execution_count": null,
   "metadata": {},
   "outputs": [],
   "source": []
  }
 ],
 "metadata": {
  "kernelspec": {
   "display_name": "Python 3",
   "language": "python",
   "name": "python3"
  },
  "language_info": {
   "codemirror_mode": {
    "name": "ipython",
    "version": 3
   },
   "file_extension": ".py",
   "mimetype": "text/x-python",
   "name": "python",
   "nbconvert_exporter": "python",
   "pygments_lexer": "ipython3",
   "version": "3.7.4"
  },
  "toc": {
   "base_numbering": 1,
   "nav_menu": {},
   "number_sections": false,
   "sideBar": true,
   "skip_h1_title": false,
   "title_cell": "Table of Contents",
   "title_sidebar": "Contents",
   "toc_cell": false,
   "toc_position": {},
   "toc_section_display": true,
   "toc_window_display": false
  }
 },
 "nbformat": 4,
 "nbformat_minor": 2
}
