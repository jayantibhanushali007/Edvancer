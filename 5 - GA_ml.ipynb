{
 "cells": [
  {
   "cell_type": "code",
   "execution_count": 1,
   "metadata": {
    "ExecuteTime": {
     "end_time": "2023-07-08T14:36:21.398104Z",
     "start_time": "2023-07-08T14:36:21.392073Z"
    }
   },
   "outputs": [],
   "source": [
    "import warnings\n",
    "warnings.filterwarnings('ignore')"
   ]
  },
  {
   "cell_type": "code",
   "execution_count": 2,
   "metadata": {
    "ExecuteTime": {
     "end_time": "2023-07-08T14:36:21.414067Z",
     "start_time": "2023-07-08T14:36:21.401052Z"
    }
   },
   "outputs": [],
   "source": [
    "file=r'../data/loans data.csv'"
   ]
  },
  {
   "cell_type": "code",
   "execution_count": 3,
   "metadata": {
    "ExecuteTime": {
     "end_time": "2023-07-08T14:36:22.906418Z",
     "start_time": "2023-07-08T14:36:21.417009Z"
    }
   },
   "outputs": [],
   "source": [
    "import pandas as pd"
   ]
  },
  {
   "cell_type": "code",
   "execution_count": 4,
   "metadata": {
    "ExecuteTime": {
     "end_time": "2023-07-08T14:36:23.392761Z",
     "start_time": "2023-07-08T14:36:22.908429Z"
    }
   },
   "outputs": [],
   "source": [
    "from sklearn.ensemble import RandomForestRegressor"
   ]
  },
  {
   "cell_type": "code",
   "execution_count": 5,
   "metadata": {
    "ExecuteTime": {
     "end_time": "2023-07-08T14:36:23.416132Z",
     "start_time": "2023-07-08T14:36:23.392761Z"
    }
   },
   "outputs": [],
   "source": [
    "data=pd.read_csv(file)"
   ]
  },
  {
   "cell_type": "code",
   "execution_count": 6,
   "metadata": {
    "ExecuteTime": {
     "end_time": "2023-07-08T14:36:23.447721Z",
     "start_time": "2023-07-08T14:36:23.418130Z"
    }
   },
   "outputs": [
    {
     "data": {
      "text/html": [
       "<div>\n",
       "<style scoped>\n",
       "    .dataframe tbody tr th:only-of-type {\n",
       "        vertical-align: middle;\n",
       "    }\n",
       "\n",
       "    .dataframe tbody tr th {\n",
       "        vertical-align: top;\n",
       "    }\n",
       "\n",
       "    .dataframe thead th {\n",
       "        text-align: right;\n",
       "    }\n",
       "</style>\n",
       "<table border=\"1\" class=\"dataframe\">\n",
       "  <thead>\n",
       "    <tr style=\"text-align: right;\">\n",
       "      <th></th>\n",
       "      <th>ID</th>\n",
       "      <th>Amount.Requested</th>\n",
       "      <th>Amount.Funded.By.Investors</th>\n",
       "      <th>Interest.Rate</th>\n",
       "      <th>Loan.Length</th>\n",
       "      <th>Loan.Purpose</th>\n",
       "      <th>Debt.To.Income.Ratio</th>\n",
       "      <th>State</th>\n",
       "      <th>Home.Ownership</th>\n",
       "      <th>Monthly.Income</th>\n",
       "      <th>FICO.Range</th>\n",
       "      <th>Open.CREDIT.Lines</th>\n",
       "      <th>Revolving.CREDIT.Balance</th>\n",
       "      <th>Inquiries.in.the.Last.6.Months</th>\n",
       "      <th>Employment.Length</th>\n",
       "    </tr>\n",
       "  </thead>\n",
       "  <tbody>\n",
       "    <tr>\n",
       "      <th>0</th>\n",
       "      <td>81174.0</td>\n",
       "      <td>20000</td>\n",
       "      <td>20000</td>\n",
       "      <td>8.90%</td>\n",
       "      <td>36 months</td>\n",
       "      <td>debt_consolidation</td>\n",
       "      <td>14.90%</td>\n",
       "      <td>SC</td>\n",
       "      <td>MORTGAGE</td>\n",
       "      <td>6541.67</td>\n",
       "      <td>735-739</td>\n",
       "      <td>14</td>\n",
       "      <td>14272</td>\n",
       "      <td>2.0</td>\n",
       "      <td>&lt; 1 year</td>\n",
       "    </tr>\n",
       "    <tr>\n",
       "      <th>1</th>\n",
       "      <td>99592.0</td>\n",
       "      <td>19200</td>\n",
       "      <td>19200</td>\n",
       "      <td>12.12%</td>\n",
       "      <td>36 months</td>\n",
       "      <td>debt_consolidation</td>\n",
       "      <td>28.36%</td>\n",
       "      <td>TX</td>\n",
       "      <td>MORTGAGE</td>\n",
       "      <td>4583.33</td>\n",
       "      <td>715-719</td>\n",
       "      <td>12</td>\n",
       "      <td>11140</td>\n",
       "      <td>1.0</td>\n",
       "      <td>2 years</td>\n",
       "    </tr>\n",
       "    <tr>\n",
       "      <th>2</th>\n",
       "      <td>80059.0</td>\n",
       "      <td>35000</td>\n",
       "      <td>35000</td>\n",
       "      <td>21.98%</td>\n",
       "      <td>60 months</td>\n",
       "      <td>debt_consolidation</td>\n",
       "      <td>23.81%</td>\n",
       "      <td>CA</td>\n",
       "      <td>MORTGAGE</td>\n",
       "      <td>11500.00</td>\n",
       "      <td>690-694</td>\n",
       "      <td>14</td>\n",
       "      <td>21977</td>\n",
       "      <td>1.0</td>\n",
       "      <td>2 years</td>\n",
       "    </tr>\n",
       "    <tr>\n",
       "      <th>3</th>\n",
       "      <td>15825.0</td>\n",
       "      <td>10000</td>\n",
       "      <td>9975</td>\n",
       "      <td>9.99%</td>\n",
       "      <td>36 months</td>\n",
       "      <td>debt_consolidation</td>\n",
       "      <td>14.30%</td>\n",
       "      <td>KS</td>\n",
       "      <td>MORTGAGE</td>\n",
       "      <td>3833.33</td>\n",
       "      <td>695-699</td>\n",
       "      <td>10</td>\n",
       "      <td>9346</td>\n",
       "      <td>0.0</td>\n",
       "      <td>5 years</td>\n",
       "    </tr>\n",
       "    <tr>\n",
       "      <th>4</th>\n",
       "      <td>33182.0</td>\n",
       "      <td>12000</td>\n",
       "      <td>12000</td>\n",
       "      <td>11.71%</td>\n",
       "      <td>36 months</td>\n",
       "      <td>credit_card</td>\n",
       "      <td>18.78%</td>\n",
       "      <td>NJ</td>\n",
       "      <td>RENT</td>\n",
       "      <td>3195.00</td>\n",
       "      <td>695-699</td>\n",
       "      <td>11</td>\n",
       "      <td>14469</td>\n",
       "      <td>0.0</td>\n",
       "      <td>9 years</td>\n",
       "    </tr>\n",
       "  </tbody>\n",
       "</table>\n",
       "</div>"
      ],
      "text/plain": [
       "        ID Amount.Requested Amount.Funded.By.Investors Interest.Rate  \\\n",
       "0  81174.0            20000                      20000         8.90%   \n",
       "1  99592.0            19200                      19200        12.12%   \n",
       "2  80059.0            35000                      35000        21.98%   \n",
       "3  15825.0            10000                       9975         9.99%   \n",
       "4  33182.0            12000                      12000        11.71%   \n",
       "\n",
       "  Loan.Length        Loan.Purpose Debt.To.Income.Ratio State Home.Ownership  \\\n",
       "0   36 months  debt_consolidation               14.90%    SC       MORTGAGE   \n",
       "1   36 months  debt_consolidation               28.36%    TX       MORTGAGE   \n",
       "2   60 months  debt_consolidation               23.81%    CA       MORTGAGE   \n",
       "3   36 months  debt_consolidation               14.30%    KS       MORTGAGE   \n",
       "4   36 months         credit_card               18.78%    NJ           RENT   \n",
       "\n",
       "   Monthly.Income FICO.Range Open.CREDIT.Lines Revolving.CREDIT.Balance  \\\n",
       "0         6541.67    735-739                14                    14272   \n",
       "1         4583.33    715-719                12                    11140   \n",
       "2        11500.00    690-694                14                    21977   \n",
       "3         3833.33    695-699                10                     9346   \n",
       "4         3195.00    695-699                11                    14469   \n",
       "\n",
       "   Inquiries.in.the.Last.6.Months Employment.Length  \n",
       "0                             2.0          < 1 year  \n",
       "1                             1.0           2 years  \n",
       "2                             1.0           2 years  \n",
       "3                             0.0           5 years  \n",
       "4                             0.0           9 years  "
      ]
     },
     "execution_count": 6,
     "metadata": {},
     "output_type": "execute_result"
    }
   ],
   "source": [
    "data.head()"
   ]
  },
  {
   "cell_type": "code",
   "execution_count": 7,
   "metadata": {
    "ExecuteTime": {
     "end_time": "2023-07-08T14:36:23.462549Z",
     "start_time": "2023-07-08T14:36:23.447721Z"
    }
   },
   "outputs": [],
   "source": [
    "y=data['Interest.Rate'].str.replace('%','').astype(float)"
   ]
  },
  {
   "cell_type": "code",
   "execution_count": 8,
   "metadata": {
    "ExecuteTime": {
     "end_time": "2023-07-08T14:36:23.478083Z",
     "start_time": "2023-07-08T14:36:23.462549Z"
    }
   },
   "outputs": [],
   "source": [
    "x=data[['Amount.Requested','FICO.Range']]"
   ]
  },
  {
   "cell_type": "code",
   "execution_count": 9,
   "metadata": {
    "ExecuteTime": {
     "end_time": "2023-07-08T14:36:23.493219Z",
     "start_time": "2023-07-08T14:36:23.479372Z"
    }
   },
   "outputs": [],
   "source": [
    "temp=x['FICO.Range'].str.split('-',expand=True).astype(int)"
   ]
  },
  {
   "cell_type": "code",
   "execution_count": 10,
   "metadata": {
    "ExecuteTime": {
     "end_time": "2023-07-08T14:36:23.511874Z",
     "start_time": "2023-07-08T14:36:23.494221Z"
    }
   },
   "outputs": [],
   "source": [
    "x['fico']=(temp[0]+temp[1])/2"
   ]
  },
  {
   "cell_type": "code",
   "execution_count": 11,
   "metadata": {
    "ExecuteTime": {
     "end_time": "2023-07-08T14:36:23.527561Z",
     "start_time": "2023-07-08T14:36:23.512675Z"
    }
   },
   "outputs": [],
   "source": [
    "del temp\n",
    "del x['FICO.Range']"
   ]
  },
  {
   "cell_type": "code",
   "execution_count": 12,
   "metadata": {
    "ExecuteTime": {
     "end_time": "2023-07-08T14:36:23.545967Z",
     "start_time": "2023-07-08T14:36:23.529583Z"
    }
   },
   "outputs": [],
   "source": [
    "x['Amount.Requested']=pd.to_numeric(x['Amount.Requested'],errors='coerce')"
   ]
  },
  {
   "cell_type": "code",
   "execution_count": 31,
   "metadata": {
    "ExecuteTime": {
     "end_time": "2023-07-09T06:39:05.274319Z",
     "start_time": "2023-07-09T06:39:05.226229Z"
    }
   },
   "outputs": [
    {
     "data": {
      "text/html": [
       "<div>\n",
       "<style scoped>\n",
       "    .dataframe tbody tr th:only-of-type {\n",
       "        vertical-align: middle;\n",
       "    }\n",
       "\n",
       "    .dataframe tbody tr th {\n",
       "        vertical-align: top;\n",
       "    }\n",
       "\n",
       "    .dataframe thead th {\n",
       "        text-align: right;\n",
       "    }\n",
       "</style>\n",
       "<table border=\"1\" class=\"dataframe\">\n",
       "  <thead>\n",
       "    <tr style=\"text-align: right;\">\n",
       "      <th></th>\n",
       "      <th>Amount.Requested</th>\n",
       "      <th>fico</th>\n",
       "    </tr>\n",
       "  </thead>\n",
       "  <tbody>\n",
       "    <tr>\n",
       "      <th>0</th>\n",
       "      <td>20000.0</td>\n",
       "      <td>737.0</td>\n",
       "    </tr>\n",
       "    <tr>\n",
       "      <th>1</th>\n",
       "      <td>19200.0</td>\n",
       "      <td>717.0</td>\n",
       "    </tr>\n",
       "    <tr>\n",
       "      <th>2</th>\n",
       "      <td>35000.0</td>\n",
       "      <td>692.0</td>\n",
       "    </tr>\n",
       "    <tr>\n",
       "      <th>3</th>\n",
       "      <td>10000.0</td>\n",
       "      <td>697.0</td>\n",
       "    </tr>\n",
       "    <tr>\n",
       "      <th>4</th>\n",
       "      <td>12000.0</td>\n",
       "      <td>697.0</td>\n",
       "    </tr>\n",
       "  </tbody>\n",
       "</table>\n",
       "</div>"
      ],
      "text/plain": [
       "   Amount.Requested   fico\n",
       "0           20000.0  737.0\n",
       "1           19200.0  717.0\n",
       "2           35000.0  692.0\n",
       "3           10000.0  697.0\n",
       "4           12000.0  697.0"
      ]
     },
     "execution_count": 31,
     "metadata": {},
     "output_type": "execute_result"
    }
   ],
   "source": [
    "x.head()"
   ]
  },
  {
   "cell_type": "code",
   "execution_count": 32,
   "metadata": {
    "ExecuteTime": {
     "end_time": "2023-07-09T06:39:12.549380Z",
     "start_time": "2023-07-09T06:39:12.533535Z"
    }
   },
   "outputs": [
    {
     "data": {
      "text/plain": [
       "0        8.90\n",
       "1       12.12\n",
       "2       21.98\n",
       "3        9.99\n",
       "4       11.71\n",
       "        ...  \n",
       "2495    16.77\n",
       "2496    14.09\n",
       "2497    13.99\n",
       "2498    12.42\n",
       "2499    13.79\n",
       "Name: Interest.Rate, Length: 2500, dtype: float64"
      ]
     },
     "execution_count": 32,
     "metadata": {},
     "output_type": "execute_result"
    }
   ],
   "source": [
    "y"
   ]
  },
  {
   "cell_type": "code",
   "execution_count": 14,
   "metadata": {
    "ExecuteTime": {
     "end_time": "2023-07-08T14:36:23.578066Z",
     "start_time": "2023-07-08T14:36:23.562623Z"
    }
   },
   "outputs": [],
   "source": [
    "for col in x:\n",
    "    x[col].fillna(x[col].mean(),inplace=True)"
   ]
  },
  {
   "cell_type": "code",
   "execution_count": 15,
   "metadata": {
    "ExecuteTime": {
     "end_time": "2023-07-08T14:36:23.594996Z",
     "start_time": "2023-07-08T14:36:23.579670Z"
    }
   },
   "outputs": [
    {
     "data": {
      "text/html": [
       "<div>\n",
       "<style scoped>\n",
       "    .dataframe tbody tr th:only-of-type {\n",
       "        vertical-align: middle;\n",
       "    }\n",
       "\n",
       "    .dataframe tbody tr th {\n",
       "        vertical-align: top;\n",
       "    }\n",
       "\n",
       "    .dataframe thead th {\n",
       "        text-align: right;\n",
       "    }\n",
       "</style>\n",
       "<table border=\"1\" class=\"dataframe\">\n",
       "  <thead>\n",
       "    <tr style=\"text-align: right;\">\n",
       "      <th></th>\n",
       "      <th>Amount.Requested</th>\n",
       "      <th>fico</th>\n",
       "    </tr>\n",
       "  </thead>\n",
       "  <tbody>\n",
       "    <tr>\n",
       "      <th>count</th>\n",
       "      <td>2500.000000</td>\n",
       "      <td>2500.000000</td>\n",
       "    </tr>\n",
       "    <tr>\n",
       "      <th>mean</th>\n",
       "      <td>12412.414830</td>\n",
       "      <td>707.888000</td>\n",
       "    </tr>\n",
       "    <tr>\n",
       "      <th>std</th>\n",
       "      <td>7797.762818</td>\n",
       "      <td>35.033161</td>\n",
       "    </tr>\n",
       "    <tr>\n",
       "      <th>min</th>\n",
       "      <td>1000.000000</td>\n",
       "      <td>642.000000</td>\n",
       "    </tr>\n",
       "    <tr>\n",
       "      <th>25%</th>\n",
       "      <td>6000.000000</td>\n",
       "      <td>682.000000</td>\n",
       "    </tr>\n",
       "    <tr>\n",
       "      <th>50%</th>\n",
       "      <td>10000.000000</td>\n",
       "      <td>702.000000</td>\n",
       "    </tr>\n",
       "    <tr>\n",
       "      <th>75%</th>\n",
       "      <td>17000.000000</td>\n",
       "      <td>727.000000</td>\n",
       "    </tr>\n",
       "    <tr>\n",
       "      <th>max</th>\n",
       "      <td>35000.000000</td>\n",
       "      <td>832.000000</td>\n",
       "    </tr>\n",
       "  </tbody>\n",
       "</table>\n",
       "</div>"
      ],
      "text/plain": [
       "       Amount.Requested         fico\n",
       "count       2500.000000  2500.000000\n",
       "mean       12412.414830   707.888000\n",
       "std         7797.762818    35.033161\n",
       "min         1000.000000   642.000000\n",
       "25%         6000.000000   682.000000\n",
       "50%        10000.000000   702.000000\n",
       "75%        17000.000000   727.000000\n",
       "max        35000.000000   832.000000"
      ]
     },
     "execution_count": 15,
     "metadata": {},
     "output_type": "execute_result"
    }
   ],
   "source": [
    "x.describe()"
   ]
  },
  {
   "cell_type": "code",
   "execution_count": 13,
   "metadata": {
    "ExecuteTime": {
     "end_time": "2023-07-08T14:36:23.561964Z",
     "start_time": "2023-07-08T14:36:23.545967Z"
    }
   },
   "outputs": [],
   "source": [
    "rf=RandomForestRegressor(n_estimators=150,max_features=2,bootstrap=True)"
   ]
  },
  {
   "cell_type": "code",
   "execution_count": 16,
   "metadata": {
    "ExecuteTime": {
     "end_time": "2023-07-08T14:36:23.976865Z",
     "start_time": "2023-07-08T14:36:23.595993Z"
    }
   },
   "outputs": [
    {
     "data": {
      "text/plain": [
       "RandomForestRegressor(max_features=2, n_estimators=150)"
      ]
     },
     "execution_count": 16,
     "metadata": {},
     "output_type": "execute_result"
    }
   ],
   "source": [
    "rf.fit(x,y)"
   ]
  },
  {
   "cell_type": "code",
   "execution_count": 17,
   "metadata": {
    "ExecuteTime": {
     "end_time": "2023-07-08T14:36:23.981624Z",
     "start_time": "2023-07-08T14:36:23.978863Z"
    }
   },
   "outputs": [],
   "source": [
    "# lets say we want to find out for what value of fico interest rate will be minimum if amount requested \n",
    "# is 10000\n",
    "\n",
    "# for implementing a GA we'll need to implement some version of crossover and mutation \n",
    "\n",
    "# we'll sample 10 random values in the range of fico to start with use their average as the value which gives us optimal point \n",
    "# a list of 10 [it could be any other number ], will help us in implementing cross over and mutation\n",
    "amount_requested=5000"
   ]
  },
  {
   "cell_type": "code",
   "execution_count": 18,
   "metadata": {
    "ExecuteTime": {
     "end_time": "2023-07-08T14:36:23.997504Z",
     "start_time": "2023-07-08T14:36:23.981624Z"
    }
   },
   "outputs": [],
   "source": [
    "def objective(values):\n",
    "    \n",
    "    data=[amount_requested,np.array(values).mean()]\n",
    "    \n",
    "    df=pd.DataFrame(data).T\n",
    "    \n",
    "    pred=rf.predict(df)[0]\n",
    "    \n",
    "    return(pred)"
   ]
  },
  {
   "cell_type": "code",
   "execution_count": 19,
   "metadata": {
    "ExecuteTime": {
     "end_time": "2023-07-08T14:36:24.012881Z",
     "start_time": "2023-07-08T14:36:23.998064Z"
    }
   },
   "outputs": [],
   "source": [
    "import numpy as np"
   ]
  },
  {
   "cell_type": "code",
   "execution_count": 20,
   "metadata": {
    "ExecuteTime": {
     "end_time": "2023-07-08T14:36:24.028450Z",
     "start_time": "2023-07-08T14:36:24.013713Z"
    }
   },
   "outputs": [
    {
     "data": {
      "text/plain": [
       "15.949897777777762"
      ]
     },
     "execution_count": 20,
     "metadata": {},
     "output_type": "execute_result"
    }
   ],
   "source": [
    "objective(np.random.randint(1,100,10))"
   ]
  },
  {
   "cell_type": "code",
   "execution_count": 21,
   "metadata": {
    "ExecuteTime": {
     "end_time": "2023-07-08T14:36:24.045898Z",
     "start_time": "2023-07-08T14:36:24.030314Z"
    }
   },
   "outputs": [],
   "source": [
    "def obj_pop(population):\n",
    "    scores=[]\n",
    "    \n",
    "    for values in population:\n",
    "        \n",
    "        scores.append([values,objective(values)])\n",
    "    return(scores)"
   ]
  },
  {
   "cell_type": "code",
   "execution_count": 22,
   "metadata": {
    "ExecuteTime": {
     "end_time": "2023-07-08T14:36:24.061902Z",
     "start_time": "2023-07-08T14:36:24.046849Z"
    }
   },
   "outputs": [],
   "source": [
    "def select_top_6(population):\n",
    "    \n",
    "    scores=obj_pop(population)\n",
    "#     print(scores)\n",
    "    scores.sort(key=lambda x:x[1])\n",
    "#     print(scores)\n",
    "    selected=scores[:6]\n",
    "    return(selected)"
   ]
  },
  {
   "cell_type": "code",
   "execution_count": 23,
   "metadata": {
    "ExecuteTime": {
     "end_time": "2023-07-08T14:36:24.077872Z",
     "start_time": "2023-07-08T14:36:24.063899Z"
    }
   },
   "outputs": [],
   "source": [
    "def crossover_mutate(parents):\n",
    "    \n",
    "    pairs=[(0,5),(1,4),(2,3)]\n",
    "    \n",
    "    # this can be made random\n",
    "    # every pair of parents makes a child , half of child's gene/values\n",
    "    # come from one parent and rest come from another \n",
    "    # then some random values in child are mutated based on some probability threshold \n",
    "    # we have taken that to be 0.7\n",
    "    children=[]\n",
    "    data=parents.copy()\n",
    "    \n",
    "    for i,j in pairs:\n",
    "        \n",
    "        rand_ind=np.random.choice(range(10),5,replace=False)\n",
    "        \n",
    "        child=parents[i].copy()\n",
    "        \n",
    "        for ind in rand_ind:\n",
    "            \n",
    "            child[ind]=parents[j][ind]\n",
    "            \n",
    "        for ind2 in range(len(child)): # mutation\n",
    "            \n",
    "            if np.random.random()>0.7:\n",
    "                child[ind2]=np.random.randint(500,850,1)\n",
    "        \n",
    "        children.append(child)\n",
    "    return(children)\n",
    "    "
   ]
  },
  {
   "cell_type": "code",
   "execution_count": 24,
   "metadata": {
    "ExecuteTime": {
     "end_time": "2023-07-08T14:36:24.096540Z",
     "start_time": "2023-07-08T14:36:24.079987Z"
    }
   },
   "outputs": [
    {
     "data": {
      "text/plain": [
       "array([1, 5, 0, 6, 4])"
      ]
     },
     "execution_count": 24,
     "metadata": {},
     "output_type": "execute_result"
    }
   ],
   "source": [
    "rand_ind=np.random.choice(range(10),5,replace=False)\n",
    "rand_ind"
   ]
  },
  {
   "cell_type": "code",
   "execution_count": 25,
   "metadata": {
    "ExecuteTime": {
     "end_time": "2023-07-08T14:36:24.111948Z",
     "start_time": "2023-07-08T14:36:24.097527Z"
    }
   },
   "outputs": [],
   "source": [
    "# we are starting with totally random values in the range\n",
    "population=np.random.randint(500,850,size=(10,10))"
   ]
  },
  {
   "cell_type": "code",
   "execution_count": 26,
   "metadata": {
    "ExecuteTime": {
     "end_time": "2023-07-08T14:36:24.127618Z",
     "start_time": "2023-07-08T14:36:24.113214Z"
    }
   },
   "outputs": [
    {
     "data": {
      "text/plain": [
       "array([[692, 721, 786, 834, 560, 795, 568, 837, 758, 789],\n",
       "       [771, 795, 718, 698, 719, 748, 825, 547, 503, 837],\n",
       "       [568, 791, 639, 755, 831, 531, 566, 838, 508, 679],\n",
       "       [583, 640, 527, 534, 740, 638, 647, 849, 690, 513],\n",
       "       [586, 662, 600, 604, 725, 805, 585, 737, 674, 645],\n",
       "       [608, 833, 731, 791, 829, 841, 745, 825, 836, 618],\n",
       "       [847, 609, 522, 754, 694, 560, 610, 813, 833, 623],\n",
       "       [554, 734, 597, 712, 777, 844, 700, 681, 674, 794],\n",
       "       [661, 838, 562, 764, 521, 758, 701, 593, 703, 638],\n",
       "       [551, 761, 696, 525, 742, 686, 756, 670, 760, 592]])"
      ]
     },
     "execution_count": 26,
     "metadata": {},
     "output_type": "execute_result"
    }
   ],
   "source": [
    "population"
   ]
  },
  {
   "cell_type": "code",
   "execution_count": 27,
   "metadata": {
    "ExecuteTime": {
     "end_time": "2023-07-08T14:36:24.143533Z",
     "start_time": "2023-07-08T14:36:24.128572Z"
    }
   },
   "outputs": [],
   "source": [
    "num_gen=100"
   ]
  },
  {
   "cell_type": "code",
   "execution_count": 28,
   "metadata": {
    "ExecuteTime": {
     "end_time": "2023-07-08T14:36:39.817014Z",
     "start_time": "2023-07-08T14:36:24.145528Z"
    }
   },
   "outputs": [
    {
     "name": "stdout",
     "output_type": "stream",
     "text": [
      "6.404199999999986\n",
      "6.404199999999986\n",
      "6.404199999999986\n",
      "6.404199999999986\n",
      "6.404199999999986\n",
      "6.404199999999986\n",
      "6.162311111111106\n",
      "6.162311111111106\n",
      "6.162311111111106\n",
      "6.162311111111106\n",
      "6.162311111111106\n",
      "6.162311111111106\n",
      "6.162311111111106\n",
      "6.162311111111106\n",
      "6.162311111111106\n",
      "6.162311111111106\n",
      "6.162311111111106\n",
      "6.162311111111106\n",
      "6.162311111111106\n",
      "6.162311111111106\n",
      "6.162311111111106\n",
      "6.162311111111106\n",
      "6.162311111111106\n",
      "6.162311111111106\n",
      "6.162311111111106\n",
      "6.162311111111106\n",
      "6.162311111111106\n",
      "6.162311111111106\n",
      "6.162311111111106\n",
      "6.162311111111106\n",
      "6.162311111111106\n",
      "6.162311111111106\n",
      "6.162311111111106\n",
      "6.162311111111106\n",
      "6.162311111111106\n",
      "6.162311111111106\n",
      "6.162311111111106\n",
      "6.162311111111106\n",
      "6.12086666666665\n",
      "6.076133333333323\n",
      "6.076133333333323\n",
      "6.076133333333323\n",
      "6.076133333333323\n",
      "6.076133333333323\n",
      "6.076133333333323\n",
      "6.076133333333323\n",
      "6.076133333333323\n",
      "6.076133333333323\n",
      "6.076133333333323\n",
      "6.076133333333323\n",
      "6.076133333333323\n",
      "6.076133333333323\n",
      "6.076133333333323\n",
      "6.076133333333323\n",
      "6.076133333333323\n",
      "6.076133333333323\n",
      "6.076133333333323\n",
      "6.076133333333323\n",
      "6.076133333333323\n",
      "6.076133333333323\n",
      "6.076133333333323\n",
      "6.076133333333323\n",
      "6.076133333333323\n",
      "6.076133333333323\n",
      "6.076133333333323\n",
      "6.076133333333323\n",
      "6.076133333333323\n",
      "6.076133333333323\n",
      "6.076133333333323\n",
      "6.076133333333323\n",
      "6.076133333333323\n",
      "6.076133333333323\n",
      "6.076133333333323\n",
      "6.076133333333323\n",
      "6.076133333333323\n",
      "6.076133333333323\n",
      "6.076133333333323\n",
      "6.076133333333323\n",
      "6.076133333333323\n",
      "6.076133333333323\n",
      "6.076133333333323\n",
      "6.076133333333323\n",
      "6.076133333333323\n",
      "6.076133333333323\n",
      "6.076133333333323\n",
      "6.076133333333323\n",
      "6.076133333333323\n",
      "6.076133333333323\n",
      "6.076133333333323\n",
      "6.076133333333323\n",
      "6.076133333333323\n",
      "6.076133333333323\n",
      "6.076133333333323\n",
      "6.076133333333323\n",
      "6.076133333333323\n",
      "6.076133333333323\n",
      "6.076133333333323\n",
      "6.076133333333323\n",
      "6.076133333333323\n",
      "6.076133333333323\n"
     ]
    }
   ],
   "source": [
    "for _ in range(num_gen):\n",
    "    \n",
    "    scored_pop=select_top_6(population)\n",
    "    \n",
    "    best_score=scored_pop[0][1]\n",
    "    \n",
    "    print(best_score)\n",
    "    \n",
    "    parents=[x for x,_ in select_top_6(population)]\n",
    "    \n",
    "    # new population will be top 6 parents + 3 children and + 3 random member\n",
    "    # as the new population evolves , we will reach to best possible outcome\n",
    "    \n",
    "    new_population=parents+crossover_mutate(parents)\n",
    "    \n",
    "    new_population.extend(np.random.randint(500,850,size=(3,10)))\n",
    "    \n",
    "    population=new_population\n"
   ]
  },
  {
   "cell_type": "code",
   "execution_count": 29,
   "metadata": {
    "ExecuteTime": {
     "end_time": "2023-07-08T14:36:39.916242Z",
     "start_time": "2023-07-08T14:36:39.817694Z"
    }
   },
   "outputs": [],
   "source": [
    "best_value=select_top_6(population)[0][0].mean()"
   ]
  },
  {
   "cell_type": "code",
   "execution_count": 30,
   "metadata": {
    "ExecuteTime": {
     "end_time": "2023-07-08T14:36:39.931956Z",
     "start_time": "2023-07-08T14:36:39.918239Z"
    }
   },
   "outputs": [
    {
     "data": {
      "text/plain": [
       "790.0"
      ]
     },
     "execution_count": 30,
     "metadata": {},
     "output_type": "execute_result"
    }
   ],
   "source": [
    "best_value"
   ]
  },
  {
   "cell_type": "code",
   "execution_count": null,
   "metadata": {},
   "outputs": [],
   "source": []
  }
 ],
 "metadata": {
  "kernelspec": {
   "display_name": "Python 3",
   "language": "python",
   "name": "python3"
  },
  "language_info": {
   "codemirror_mode": {
    "name": "ipython",
    "version": 3
   },
   "file_extension": ".py",
   "mimetype": "text/x-python",
   "name": "python",
   "nbconvert_exporter": "python",
   "pygments_lexer": "ipython3",
   "version": "3.7.4"
  },
  "toc": {
   "base_numbering": 1,
   "nav_menu": {},
   "number_sections": false,
   "sideBar": true,
   "skip_h1_title": false,
   "title_cell": "Table of Contents",
   "title_sidebar": "Contents",
   "toc_cell": false,
   "toc_position": {},
   "toc_section_display": true,
   "toc_window_display": false
  }
 },
 "nbformat": 4,
 "nbformat_minor": 2
}
