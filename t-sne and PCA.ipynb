{
 "cells": [
  {
   "cell_type": "markdown",
   "metadata": {},
   "source": [
    "# t-sne"
   ]
  },
  {
   "cell_type": "code",
   "execution_count": 1,
   "metadata": {
    "ExecuteTime": {
     "end_time": "2023-07-08T07:41:21.759057Z",
     "start_time": "2023-07-08T07:41:18.524252Z"
    }
   },
   "outputs": [],
   "source": [
    "import pandas as pd\n",
    "import numpy as np\n",
    "from sklearn.decomposition import PCA\n",
    "from sklearn.preprocessing import scale\n",
    "from sklearn.manifold import TSNE"
   ]
  },
  {
   "cell_type": "code",
   "execution_count": 51,
   "metadata": {
    "ExecuteTime": {
     "end_time": "2023-07-08T10:12:42.256527Z",
     "start_time": "2023-07-08T10:12:42.174295Z"
    }
   },
   "outputs": [],
   "source": [
    "from sklearn import datasets\n",
    "digits = datasets.load_digits()\n",
    "# Take the first 500 data points: it's hard to see 1500 points\n",
    "X = digits.data[:500]\n",
    "y = digits.target[:500]"
   ]
  },
  {
   "cell_type": "code",
   "execution_count": 52,
   "metadata": {
    "ExecuteTime": {
     "end_time": "2023-07-08T10:12:42.401968Z",
     "start_time": "2023-07-08T10:12:42.397402Z"
    }
   },
   "outputs": [
    {
     "data": {
      "text/plain": [
       "array([[ 0.,  0.,  5., ...,  0.,  0.,  0.],\n",
       "       [ 0.,  0.,  0., ..., 10.,  0.,  0.],\n",
       "       [ 0.,  0.,  0., ..., 16.,  9.,  0.],\n",
       "       ...,\n",
       "       [ 0.,  0.,  0., ...,  6.,  0.,  0.],\n",
       "       [ 0.,  0.,  2., ...,  0.,  0.,  0.],\n",
       "       [ 0.,  1., 11., ..., 15., 11.,  0.]])"
      ]
     },
     "execution_count": 52,
     "metadata": {},
     "output_type": "execute_result"
    }
   ],
   "source": [
    "X"
   ]
  },
  {
   "cell_type": "code",
   "execution_count": 53,
   "metadata": {
    "ExecuteTime": {
     "end_time": "2023-07-08T10:12:42.720510Z",
     "start_time": "2023-07-08T10:12:42.715304Z"
    }
   },
   "outputs": [
    {
     "data": {
      "text/plain": [
       "array([0, 1, 2, 3, 4, 5, 6, 7, 8, 9, 0, 1, 2, 3, 4, 5, 6, 7, 8, 9, 0, 1,\n",
       "       2, 3, 4, 5, 6, 7, 8, 9, 0, 9, 5, 5, 6, 5, 0, 9, 8, 9, 8, 4, 1, 7,\n",
       "       7, 3, 5, 1, 0, 0, 2, 2, 7, 8, 2, 0, 1, 2, 6, 3, 3, 7, 3, 3, 4, 6,\n",
       "       6, 6, 4, 9, 1, 5, 0, 9, 5, 2, 8, 2, 0, 0, 1, 7, 6, 3, 2, 1, 7, 4,\n",
       "       6, 3, 1, 3, 9, 1, 7, 6, 8, 4, 3, 1, 4, 0, 5, 3, 6, 9, 6, 1, 7, 5,\n",
       "       4, 4, 7, 2, 8, 2, 2, 5, 7, 9, 5, 4, 8, 8, 4, 9, 0, 8, 9, 8, 0, 1,\n",
       "       2, 3, 4, 5, 6, 7, 8, 9, 0, 1, 2, 3, 4, 5, 6, 7, 8, 9, 0, 1, 2, 3,\n",
       "       4, 5, 6, 7, 8, 9, 0, 9, 5, 5, 6, 5, 0, 9, 8, 9, 8, 4, 1, 7, 7, 3,\n",
       "       5, 1, 0, 0, 2, 2, 7, 8, 2, 0, 1, 2, 6, 3, 3, 7, 3, 3, 4, 6, 6, 6,\n",
       "       4, 9, 1, 5, 0, 9, 5, 2, 8, 2, 0, 0, 1, 7, 6, 3, 2, 1, 7, 3, 1, 3,\n",
       "       9, 1, 7, 6, 8, 4, 3, 1, 4, 0, 5, 3, 6, 9, 6, 1, 7, 5, 4, 4, 7, 2,\n",
       "       8, 2, 2, 5, 5, 4, 8, 8, 4, 9, 0, 8, 9, 8, 0, 1, 2, 3, 4, 5, 6, 7,\n",
       "       8, 9, 0, 1, 2, 3, 4, 5, 6, 7, 8, 9, 0, 1, 2, 3, 4, 5, 6, 7, 8, 9,\n",
       "       0, 9, 5, 5, 6, 5, 0, 9, 8, 9, 8, 4, 1, 7, 7, 3, 5, 1, 0, 0, 2, 2,\n",
       "       7, 8, 2, 0, 1, 2, 6, 3, 3, 7, 3, 3, 4, 6, 6, 6, 4, 9, 1, 5, 0, 9,\n",
       "       5, 2, 8, 2, 0, 0, 1, 7, 6, 3, 2, 1, 7, 4, 6, 3, 1, 3, 9, 1, 7, 6,\n",
       "       8, 4, 3, 1, 4, 0, 5, 3, 6, 9, 6, 1, 7, 5, 4, 4, 7, 2, 8, 2, 2, 5,\n",
       "       7, 9, 5, 4, 8, 8, 4, 9, 0, 8, 9, 3, 0, 1, 2, 3, 4, 5, 6, 7, 8, 9,\n",
       "       0, 1, 2, 3, 4, 5, 6, 7, 8, 9, 0, 1, 2, 3, 4, 5, 6, 7, 8, 9, 0, 9,\n",
       "       5, 5, 6, 5, 0, 9, 8, 9, 8, 4, 1, 7, 7, 3, 5, 1, 0, 0, 2, 2, 7, 8,\n",
       "       2, 0, 1, 2, 6, 3, 3, 7, 3, 3, 4, 6, 6, 6, 4, 9, 1, 5, 0, 9, 5, 2,\n",
       "       8, 2, 0, 0, 1, 7, 6, 3, 2, 1, 7, 4, 6, 3, 1, 3, 9, 1, 7, 6, 8, 4,\n",
       "       3, 1, 4, 0, 5, 3, 6, 9, 6, 1, 7, 5, 4, 4, 7, 2])"
      ]
     },
     "execution_count": 53,
     "metadata": {},
     "output_type": "execute_result"
    }
   ],
   "source": [
    "y"
   ]
  },
  {
   "cell_type": "code",
   "execution_count": 54,
   "metadata": {
    "ExecuteTime": {
     "end_time": "2023-07-08T10:12:43.067686Z",
     "start_time": "2023-07-08T10:12:43.062700Z"
    }
   },
   "outputs": [
    {
     "data": {
      "text/plain": [
       "(500, 64)"
      ]
     },
     "execution_count": 54,
     "metadata": {},
     "output_type": "execute_result"
    }
   ],
   "source": [
    "X.shape"
   ]
  },
  {
   "cell_type": "code",
   "execution_count": 55,
   "metadata": {
    "ExecuteTime": {
     "end_time": "2023-07-08T10:12:43.614925Z",
     "start_time": "2023-07-08T10:12:43.591289Z"
    }
   },
   "outputs": [
    {
     "data": {
      "text/html": [
       "<div>\n",
       "<style scoped>\n",
       "    .dataframe tbody tr th:only-of-type {\n",
       "        vertical-align: middle;\n",
       "    }\n",
       "\n",
       "    .dataframe tbody tr th {\n",
       "        vertical-align: top;\n",
       "    }\n",
       "\n",
       "    .dataframe thead th {\n",
       "        text-align: right;\n",
       "    }\n",
       "</style>\n",
       "<table border=\"1\" class=\"dataframe\">\n",
       "  <thead>\n",
       "    <tr style=\"text-align: right;\">\n",
       "      <th></th>\n",
       "      <th>0</th>\n",
       "      <th>1</th>\n",
       "      <th>2</th>\n",
       "      <th>3</th>\n",
       "      <th>4</th>\n",
       "      <th>5</th>\n",
       "      <th>6</th>\n",
       "      <th>7</th>\n",
       "      <th>8</th>\n",
       "      <th>9</th>\n",
       "      <th>...</th>\n",
       "      <th>54</th>\n",
       "      <th>55</th>\n",
       "      <th>56</th>\n",
       "      <th>57</th>\n",
       "      <th>58</th>\n",
       "      <th>59</th>\n",
       "      <th>60</th>\n",
       "      <th>61</th>\n",
       "      <th>62</th>\n",
       "      <th>63</th>\n",
       "    </tr>\n",
       "  </thead>\n",
       "  <tbody>\n",
       "    <tr>\n",
       "      <th>0</th>\n",
       "      <td>0.0</td>\n",
       "      <td>0.0</td>\n",
       "      <td>5.0</td>\n",
       "      <td>13.0</td>\n",
       "      <td>9.0</td>\n",
       "      <td>1.0</td>\n",
       "      <td>0.0</td>\n",
       "      <td>0.0</td>\n",
       "      <td>0.0</td>\n",
       "      <td>0.0</td>\n",
       "      <td>...</td>\n",
       "      <td>0.0</td>\n",
       "      <td>0.0</td>\n",
       "      <td>0.0</td>\n",
       "      <td>0.0</td>\n",
       "      <td>6.0</td>\n",
       "      <td>13.0</td>\n",
       "      <td>10.0</td>\n",
       "      <td>0.0</td>\n",
       "      <td>0.0</td>\n",
       "      <td>0.0</td>\n",
       "    </tr>\n",
       "    <tr>\n",
       "      <th>1</th>\n",
       "      <td>0.0</td>\n",
       "      <td>0.0</td>\n",
       "      <td>0.0</td>\n",
       "      <td>12.0</td>\n",
       "      <td>13.0</td>\n",
       "      <td>5.0</td>\n",
       "      <td>0.0</td>\n",
       "      <td>0.0</td>\n",
       "      <td>0.0</td>\n",
       "      <td>0.0</td>\n",
       "      <td>...</td>\n",
       "      <td>0.0</td>\n",
       "      <td>0.0</td>\n",
       "      <td>0.0</td>\n",
       "      <td>0.0</td>\n",
       "      <td>0.0</td>\n",
       "      <td>11.0</td>\n",
       "      <td>16.0</td>\n",
       "      <td>10.0</td>\n",
       "      <td>0.0</td>\n",
       "      <td>0.0</td>\n",
       "    </tr>\n",
       "    <tr>\n",
       "      <th>2</th>\n",
       "      <td>0.0</td>\n",
       "      <td>0.0</td>\n",
       "      <td>0.0</td>\n",
       "      <td>4.0</td>\n",
       "      <td>15.0</td>\n",
       "      <td>12.0</td>\n",
       "      <td>0.0</td>\n",
       "      <td>0.0</td>\n",
       "      <td>0.0</td>\n",
       "      <td>0.0</td>\n",
       "      <td>...</td>\n",
       "      <td>5.0</td>\n",
       "      <td>0.0</td>\n",
       "      <td>0.0</td>\n",
       "      <td>0.0</td>\n",
       "      <td>0.0</td>\n",
       "      <td>3.0</td>\n",
       "      <td>11.0</td>\n",
       "      <td>16.0</td>\n",
       "      <td>9.0</td>\n",
       "      <td>0.0</td>\n",
       "    </tr>\n",
       "    <tr>\n",
       "      <th>3</th>\n",
       "      <td>0.0</td>\n",
       "      <td>0.0</td>\n",
       "      <td>7.0</td>\n",
       "      <td>15.0</td>\n",
       "      <td>13.0</td>\n",
       "      <td>1.0</td>\n",
       "      <td>0.0</td>\n",
       "      <td>0.0</td>\n",
       "      <td>0.0</td>\n",
       "      <td>8.0</td>\n",
       "      <td>...</td>\n",
       "      <td>9.0</td>\n",
       "      <td>0.0</td>\n",
       "      <td>0.0</td>\n",
       "      <td>0.0</td>\n",
       "      <td>7.0</td>\n",
       "      <td>13.0</td>\n",
       "      <td>13.0</td>\n",
       "      <td>9.0</td>\n",
       "      <td>0.0</td>\n",
       "      <td>0.0</td>\n",
       "    </tr>\n",
       "    <tr>\n",
       "      <th>4</th>\n",
       "      <td>0.0</td>\n",
       "      <td>0.0</td>\n",
       "      <td>0.0</td>\n",
       "      <td>1.0</td>\n",
       "      <td>11.0</td>\n",
       "      <td>0.0</td>\n",
       "      <td>0.0</td>\n",
       "      <td>0.0</td>\n",
       "      <td>0.0</td>\n",
       "      <td>0.0</td>\n",
       "      <td>...</td>\n",
       "      <td>0.0</td>\n",
       "      <td>0.0</td>\n",
       "      <td>0.0</td>\n",
       "      <td>0.0</td>\n",
       "      <td>0.0</td>\n",
       "      <td>2.0</td>\n",
       "      <td>16.0</td>\n",
       "      <td>4.0</td>\n",
       "      <td>0.0</td>\n",
       "      <td>0.0</td>\n",
       "    </tr>\n",
       "  </tbody>\n",
       "</table>\n",
       "<p>5 rows × 64 columns</p>\n",
       "</div>"
      ],
      "text/plain": [
       "    0    1    2     3     4     5    6    7    8    9   ...   54   55   56  \\\n",
       "0  0.0  0.0  5.0  13.0   9.0   1.0  0.0  0.0  0.0  0.0  ...  0.0  0.0  0.0   \n",
       "1  0.0  0.0  0.0  12.0  13.0   5.0  0.0  0.0  0.0  0.0  ...  0.0  0.0  0.0   \n",
       "2  0.0  0.0  0.0   4.0  15.0  12.0  0.0  0.0  0.0  0.0  ...  5.0  0.0  0.0   \n",
       "3  0.0  0.0  7.0  15.0  13.0   1.0  0.0  0.0  0.0  8.0  ...  9.0  0.0  0.0   \n",
       "4  0.0  0.0  0.0   1.0  11.0   0.0  0.0  0.0  0.0  0.0  ...  0.0  0.0  0.0   \n",
       "\n",
       "    57   58    59    60    61   62   63  \n",
       "0  0.0  6.0  13.0  10.0   0.0  0.0  0.0  \n",
       "1  0.0  0.0  11.0  16.0  10.0  0.0  0.0  \n",
       "2  0.0  0.0   3.0  11.0  16.0  9.0  0.0  \n",
       "3  0.0  7.0  13.0  13.0   9.0  0.0  0.0  \n",
       "4  0.0  0.0   2.0  16.0   4.0  0.0  0.0  \n",
       "\n",
       "[5 rows x 64 columns]"
      ]
     },
     "execution_count": 55,
     "metadata": {},
     "output_type": "execute_result"
    }
   ],
   "source": [
    "pd.DataFrame(X).head()"
   ]
  },
  {
   "cell_type": "code",
   "execution_count": 56,
   "metadata": {
    "ExecuteTime": {
     "end_time": "2023-07-08T10:12:44.415211Z",
     "start_time": "2023-07-08T10:12:44.408225Z"
    }
   },
   "outputs": [
    {
     "data": {
      "text/plain": [
       "(500, 64)"
      ]
     },
     "execution_count": 56,
     "metadata": {},
     "output_type": "execute_result"
    }
   ],
   "source": [
    "pd.DataFrame(X).shape"
   ]
  },
  {
   "cell_type": "code",
   "execution_count": 57,
   "metadata": {
    "ExecuteTime": {
     "end_time": "2023-07-08T10:13:51.476106Z",
     "start_time": "2023-07-08T10:13:51.472165Z"
    }
   },
   "outputs": [],
   "source": [
    "from sklearn.manifold import TSNE\n",
    "tsne = TSNE(n_components=2, random_state=0)"
   ]
  },
  {
   "cell_type": "code",
   "execution_count": 58,
   "metadata": {
    "ExecuteTime": {
     "end_time": "2023-07-08T10:13:54.002231Z",
     "start_time": "2023-07-08T10:13:51.792052Z"
    }
   },
   "outputs": [
    {
     "name": "stderr",
     "output_type": "stream",
     "text": [
      "C:\\Users\\Jayanti\\Anaconda3\\lib\\site-packages\\sklearn\\manifold\\_t_sne.py:783: FutureWarning: The default initialization in TSNE will change from 'random' to 'pca' in 1.2.\n",
      "  FutureWarning,\n",
      "C:\\Users\\Jayanti\\Anaconda3\\lib\\site-packages\\sklearn\\manifold\\_t_sne.py:793: FutureWarning: The default learning rate in TSNE will change from 200.0 to 'auto' in 1.2.\n",
      "  FutureWarning,\n"
     ]
    }
   ],
   "source": [
    "X_2d = tsne.fit_transform(X)"
   ]
  },
  {
   "cell_type": "code",
   "execution_count": 59,
   "metadata": {
    "ExecuteTime": {
     "end_time": "2023-07-08T10:13:54.012225Z",
     "start_time": "2023-07-08T10:13:54.005223Z"
    }
   },
   "outputs": [],
   "source": [
    "mydata=pd.DataFrame(X_2d,columns=['X','Y'])"
   ]
  },
  {
   "cell_type": "code",
   "execution_count": 60,
   "metadata": {
    "ExecuteTime": {
     "end_time": "2023-07-08T10:13:54.536391Z",
     "start_time": "2023-07-08T10:13:54.531026Z"
    }
   },
   "outputs": [],
   "source": [
    "mydata['digits']=y"
   ]
  },
  {
   "cell_type": "code",
   "execution_count": 61,
   "metadata": {
    "ExecuteTime": {
     "end_time": "2023-07-08T10:14:01.390907Z",
     "start_time": "2023-07-08T10:14:01.379662Z"
    }
   },
   "outputs": [
    {
     "data": {
      "text/html": [
       "<div>\n",
       "<style scoped>\n",
       "    .dataframe tbody tr th:only-of-type {\n",
       "        vertical-align: middle;\n",
       "    }\n",
       "\n",
       "    .dataframe tbody tr th {\n",
       "        vertical-align: top;\n",
       "    }\n",
       "\n",
       "    .dataframe thead th {\n",
       "        text-align: right;\n",
       "    }\n",
       "</style>\n",
       "<table border=\"1\" class=\"dataframe\">\n",
       "  <thead>\n",
       "    <tr style=\"text-align: right;\">\n",
       "      <th></th>\n",
       "      <th>X</th>\n",
       "      <th>Y</th>\n",
       "      <th>digits</th>\n",
       "    </tr>\n",
       "  </thead>\n",
       "  <tbody>\n",
       "    <tr>\n",
       "      <th>0</th>\n",
       "      <td>-9.528194</td>\n",
       "      <td>-35.816334</td>\n",
       "      <td>0</td>\n",
       "    </tr>\n",
       "    <tr>\n",
       "      <th>1</th>\n",
       "      <td>-10.197384</td>\n",
       "      <td>15.818356</td>\n",
       "      <td>1</td>\n",
       "    </tr>\n",
       "    <tr>\n",
       "      <th>2</th>\n",
       "      <td>-2.283238</td>\n",
       "      <td>14.149137</td>\n",
       "      <td>2</td>\n",
       "    </tr>\n",
       "    <tr>\n",
       "      <th>3</th>\n",
       "      <td>14.482607</td>\n",
       "      <td>-14.260045</td>\n",
       "      <td>3</td>\n",
       "    </tr>\n",
       "    <tr>\n",
       "      <th>4</th>\n",
       "      <td>-20.389830</td>\n",
       "      <td>16.636208</td>\n",
       "      <td>4</td>\n",
       "    </tr>\n",
       "  </tbody>\n",
       "</table>\n",
       "</div>"
      ],
      "text/plain": [
       "           X          Y  digits\n",
       "0  -9.528194 -35.816334       0\n",
       "1 -10.197384  15.818356       1\n",
       "2  -2.283238  14.149137       2\n",
       "3  14.482607 -14.260045       3\n",
       "4 -20.389830  16.636208       4"
      ]
     },
     "execution_count": 61,
     "metadata": {},
     "output_type": "execute_result"
    }
   ],
   "source": [
    "mydata.head()"
   ]
  },
  {
   "cell_type": "code",
   "execution_count": 10,
   "metadata": {
    "ExecuteTime": {
     "end_time": "2023-07-08T07:41:24.727191Z",
     "start_time": "2023-07-08T07:41:24.081730Z"
    }
   },
   "outputs": [],
   "source": [
    "import seaborn as sns\n",
    "%matplotlib inline"
   ]
  },
  {
   "cell_type": "code",
   "execution_count": 11,
   "metadata": {
    "ExecuteTime": {
     "end_time": "2023-07-08T07:41:25.309904Z",
     "start_time": "2023-07-08T07:41:24.728489Z"
    }
   },
   "outputs": [
    {
     "data": {
      "text/plain": [
       "<seaborn.axisgrid.FacetGrid at 0x22b5b870348>"
      ]
     },
     "execution_count": 11,
     "metadata": {},
     "output_type": "execute_result"
    },
    {
     "data": {
      "image/png": "[encoded data removed]",
      "text/plain": [
       "<Figure size 402.375x360 with 1 Axes>"
      ]
     },
     "metadata": {
      "needs_background": "light"
     },
     "output_type": "display_data"
    }
   ],
   "source": [
    "sns.lmplot(x='X',y='Y',hue='digits',data=mydata,fit_reg=False)"
   ]
  },
  {
   "cell_type": "markdown",
   "metadata": {},
   "source": [
    "# tsne on wine data"
   ]
  },
  {
   "cell_type": "code",
   "execution_count": 63,
   "metadata": {
    "ExecuteTime": {
     "end_time": "2023-07-08T10:37:09.329224Z",
     "start_time": "2023-07-08T10:37:09.304273Z"
    }
   },
   "outputs": [],
   "source": [
    "wine=pd.read_csv(r'../data/winequality-white.csv',sep=\";\")"
   ]
  },
  {
   "cell_type": "code",
   "execution_count": 64,
   "metadata": {
    "ExecuteTime": {
     "end_time": "2023-07-08T10:37:09.453140Z",
     "start_time": "2023-07-08T10:37:09.446159Z"
    }
   },
   "outputs": [
    {
     "data": {
      "text/plain": [
       "(4898, 12)"
      ]
     },
     "execution_count": 64,
     "metadata": {},
     "output_type": "execute_result"
    }
   ],
   "source": [
    "wine.shape"
   ]
  },
  {
   "cell_type": "code",
   "execution_count": 65,
   "metadata": {
    "ExecuteTime": {
     "end_time": "2023-07-08T10:37:09.625187Z",
     "start_time": "2023-07-08T10:37:09.609045Z"
    }
   },
   "outputs": [
    {
     "data": {
      "text/html": [
       "<div>\n",
       "<style scoped>\n",
       "    .dataframe tbody tr th:only-of-type {\n",
       "        vertical-align: middle;\n",
       "    }\n",
       "\n",
       "    .dataframe tbody tr th {\n",
       "        vertical-align: top;\n",
       "    }\n",
       "\n",
       "    .dataframe thead th {\n",
       "        text-align: right;\n",
       "    }\n",
       "</style>\n",
       "<table border=\"1\" class=\"dataframe\">\n",
       "  <thead>\n",
       "    <tr style=\"text-align: right;\">\n",
       "      <th></th>\n",
       "      <th>fixed acidity</th>\n",
       "      <th>volatile acidity</th>\n",
       "      <th>citric acid</th>\n",
       "      <th>residual sugar</th>\n",
       "      <th>chlorides</th>\n",
       "      <th>free sulfur dioxide</th>\n",
       "      <th>total sulfur dioxide</th>\n",
       "      <th>density</th>\n",
       "      <th>pH</th>\n",
       "      <th>sulphates</th>\n",
       "      <th>alcohol</th>\n",
       "      <th>quality</th>\n",
       "    </tr>\n",
       "  </thead>\n",
       "  <tbody>\n",
       "    <tr>\n",
       "      <th>0</th>\n",
       "      <td>7.0</td>\n",
       "      <td>0.27</td>\n",
       "      <td>0.36</td>\n",
       "      <td>20.7</td>\n",
       "      <td>0.045</td>\n",
       "      <td>45.0</td>\n",
       "      <td>170.0</td>\n",
       "      <td>1.0010</td>\n",
       "      <td>3.00</td>\n",
       "      <td>0.45</td>\n",
       "      <td>8.8</td>\n",
       "      <td>6</td>\n",
       "    </tr>\n",
       "    <tr>\n",
       "      <th>1</th>\n",
       "      <td>6.3</td>\n",
       "      <td>0.30</td>\n",
       "      <td>0.34</td>\n",
       "      <td>1.6</td>\n",
       "      <td>0.049</td>\n",
       "      <td>14.0</td>\n",
       "      <td>132.0</td>\n",
       "      <td>0.9940</td>\n",
       "      <td>3.30</td>\n",
       "      <td>0.49</td>\n",
       "      <td>9.5</td>\n",
       "      <td>6</td>\n",
       "    </tr>\n",
       "    <tr>\n",
       "      <th>2</th>\n",
       "      <td>8.1</td>\n",
       "      <td>0.28</td>\n",
       "      <td>0.40</td>\n",
       "      <td>6.9</td>\n",
       "      <td>0.050</td>\n",
       "      <td>30.0</td>\n",
       "      <td>97.0</td>\n",
       "      <td>0.9951</td>\n",
       "      <td>3.26</td>\n",
       "      <td>0.44</td>\n",
       "      <td>10.1</td>\n",
       "      <td>6</td>\n",
       "    </tr>\n",
       "    <tr>\n",
       "      <th>3</th>\n",
       "      <td>7.2</td>\n",
       "      <td>0.23</td>\n",
       "      <td>0.32</td>\n",
       "      <td>8.5</td>\n",
       "      <td>0.058</td>\n",
       "      <td>47.0</td>\n",
       "      <td>186.0</td>\n",
       "      <td>0.9956</td>\n",
       "      <td>3.19</td>\n",
       "      <td>0.40</td>\n",
       "      <td>9.9</td>\n",
       "      <td>6</td>\n",
       "    </tr>\n",
       "    <tr>\n",
       "      <th>4</th>\n",
       "      <td>7.2</td>\n",
       "      <td>0.23</td>\n",
       "      <td>0.32</td>\n",
       "      <td>8.5</td>\n",
       "      <td>0.058</td>\n",
       "      <td>47.0</td>\n",
       "      <td>186.0</td>\n",
       "      <td>0.9956</td>\n",
       "      <td>3.19</td>\n",
       "      <td>0.40</td>\n",
       "      <td>9.9</td>\n",
       "      <td>6</td>\n",
       "    </tr>\n",
       "  </tbody>\n",
       "</table>\n",
       "</div>"
      ],
      "text/plain": [
       "   fixed acidity  volatile acidity  citric acid  residual sugar  chlorides  \\\n",
       "0            7.0              0.27         0.36            20.7      0.045   \n",
       "1            6.3              0.30         0.34             1.6      0.049   \n",
       "2            8.1              0.28         0.40             6.9      0.050   \n",
       "3            7.2              0.23         0.32             8.5      0.058   \n",
       "4            7.2              0.23         0.32             8.5      0.058   \n",
       "\n",
       "   free sulfur dioxide  total sulfur dioxide  density    pH  sulphates  \\\n",
       "0                 45.0                 170.0   1.0010  3.00       0.45   \n",
       "1                 14.0                 132.0   0.9940  3.30       0.49   \n",
       "2                 30.0                  97.0   0.9951  3.26       0.44   \n",
       "3                 47.0                 186.0   0.9956  3.19       0.40   \n",
       "4                 47.0                 186.0   0.9956  3.19       0.40   \n",
       "\n",
       "   alcohol  quality  \n",
       "0      8.8        6  \n",
       "1      9.5        6  \n",
       "2     10.1        6  \n",
       "3      9.9        6  \n",
       "4      9.9        6  "
      ]
     },
     "execution_count": 65,
     "metadata": {},
     "output_type": "execute_result"
    }
   ],
   "source": [
    "wine.head()"
   ]
  },
  {
   "cell_type": "code",
   "execution_count": 66,
   "metadata": {
    "ExecuteTime": {
     "end_time": "2023-07-08T10:37:09.854193Z",
     "start_time": "2023-07-08T10:37:09.842224Z"
    }
   },
   "outputs": [],
   "source": [
    "X=scale(wine.iloc[:,:-1])"
   ]
  },
  {
   "cell_type": "code",
   "execution_count": 67,
   "metadata": {
    "ExecuteTime": {
     "end_time": "2023-07-08T10:37:10.331100Z",
     "start_time": "2023-07-08T10:37:10.329065Z"
    }
   },
   "outputs": [],
   "source": [
    "from sklearn.cluster import KMeans\n",
    "from sklearn.metrics import silhouette_score"
   ]
  },
  {
   "cell_type": "code",
   "execution_count": 68,
   "metadata": {
    "ExecuteTime": {
     "end_time": "2023-07-08T10:37:17.032637Z",
     "start_time": "2023-07-08T10:37:10.681359Z"
    }
   },
   "outputs": [
    {
     "name": "stdout",
     "output_type": "stream",
     "text": [
      "2 0.21442808761228568\n",
      "3 0.14466254062837328\n",
      "4 0.15906508009103487\n",
      "5 0.14379484561427175\n",
      "6 0.14588278206716804\n",
      "7 0.1257603360456576\n",
      "8 0.12416393922936866\n",
      "9 0.12862919183035665\n"
     ]
    }
   ],
   "source": [
    "for k in range(2,10):\n",
    "    kmeans=KMeans(n_clusters=k)\n",
    "    kmeans.fit(X)\n",
    "    \n",
    "    print(k,silhouette_score(X,kmeans.labels_))"
   ]
  },
  {
   "cell_type": "code",
   "execution_count": 69,
   "metadata": {
    "ExecuteTime": {
     "end_time": "2023-07-08T10:37:17.038061Z",
     "start_time": "2023-07-08T10:37:17.033635Z"
    }
   },
   "outputs": [],
   "source": [
    "kmeans=KMeans(n_clusters=3)"
   ]
  },
  {
   "cell_type": "code",
   "execution_count": 70,
   "metadata": {
    "ExecuteTime": {
     "end_time": "2023-07-08T10:37:17.237246Z",
     "start_time": "2023-07-08T10:37:17.042049Z"
    }
   },
   "outputs": [
    {
     "data": {
      "text/plain": [
       "KMeans(n_clusters=3)"
      ]
     },
     "execution_count": 70,
     "metadata": {},
     "output_type": "execute_result"
    }
   ],
   "source": [
    "kmeans.fit(X)"
   ]
  },
  {
   "cell_type": "code",
   "execution_count": 71,
   "metadata": {
    "ExecuteTime": {
     "end_time": "2023-07-08T10:37:47.226344Z",
     "start_time": "2023-07-08T10:37:17.241239Z"
    }
   },
   "outputs": [
    {
     "name": "stderr",
     "output_type": "stream",
     "text": [
      "C:\\Users\\Jayanti\\Anaconda3\\lib\\site-packages\\sklearn\\manifold\\_t_sne.py:783: FutureWarning: The default initialization in TSNE will change from 'random' to 'pca' in 1.2.\n",
      "  FutureWarning,\n",
      "C:\\Users\\Jayanti\\Anaconda3\\lib\\site-packages\\sklearn\\manifold\\_t_sne.py:793: FutureWarning: The default learning rate in TSNE will change from 200.0 to 'auto' in 1.2.\n",
      "  FutureWarning,\n"
     ]
    }
   ],
   "source": [
    "tsne = TSNE(n_components=2, random_state=0)\n",
    "X_2d=tsne.fit_transform(X)"
   ]
  },
  {
   "cell_type": "code",
   "execution_count": 72,
   "metadata": {
    "ExecuteTime": {
     "end_time": "2023-07-08T10:37:47.235841Z",
     "start_time": "2023-07-08T10:37:47.229339Z"
    }
   },
   "outputs": [],
   "source": [
    "mydata=pd.DataFrame(X_2d,columns=['X','Y'])"
   ]
  },
  {
   "cell_type": "code",
   "execution_count": 73,
   "metadata": {
    "ExecuteTime": {
     "end_time": "2023-07-08T10:37:47.245873Z",
     "start_time": "2023-07-08T10:37:47.239885Z"
    }
   },
   "outputs": [],
   "source": [
    "mydata['cluster']=kmeans.labels_"
   ]
  },
  {
   "cell_type": "code",
   "execution_count": 74,
   "metadata": {
    "ExecuteTime": {
     "end_time": "2023-07-08T10:37:47.264340Z",
     "start_time": "2023-07-08T10:37:47.249862Z"
    }
   },
   "outputs": [
    {
     "data": {
      "text/html": [
       "<div>\n",
       "<style scoped>\n",
       "    .dataframe tbody tr th:only-of-type {\n",
       "        vertical-align: middle;\n",
       "    }\n",
       "\n",
       "    .dataframe tbody tr th {\n",
       "        vertical-align: top;\n",
       "    }\n",
       "\n",
       "    .dataframe thead th {\n",
       "        text-align: right;\n",
       "    }\n",
       "</style>\n",
       "<table border=\"1\" class=\"dataframe\">\n",
       "  <thead>\n",
       "    <tr style=\"text-align: right;\">\n",
       "      <th></th>\n",
       "      <th>X</th>\n",
       "      <th>Y</th>\n",
       "      <th>cluster</th>\n",
       "    </tr>\n",
       "  </thead>\n",
       "  <tbody>\n",
       "    <tr>\n",
       "      <th>0</th>\n",
       "      <td>14.653028</td>\n",
       "      <td>-84.427635</td>\n",
       "      <td>0</td>\n",
       "    </tr>\n",
       "    <tr>\n",
       "      <th>1</th>\n",
       "      <td>-28.825043</td>\n",
       "      <td>18.209070</td>\n",
       "      <td>1</td>\n",
       "    </tr>\n",
       "    <tr>\n",
       "      <th>2</th>\n",
       "      <td>35.722305</td>\n",
       "      <td>-6.403913</td>\n",
       "      <td>2</td>\n",
       "    </tr>\n",
       "    <tr>\n",
       "      <th>3</th>\n",
       "      <td>-8.328627</td>\n",
       "      <td>-30.027126</td>\n",
       "      <td>0</td>\n",
       "    </tr>\n",
       "    <tr>\n",
       "      <th>4</th>\n",
       "      <td>-8.328627</td>\n",
       "      <td>-30.027126</td>\n",
       "      <td>0</td>\n",
       "    </tr>\n",
       "  </tbody>\n",
       "</table>\n",
       "</div>"
      ],
      "text/plain": [
       "           X          Y  cluster\n",
       "0  14.653028 -84.427635        0\n",
       "1 -28.825043  18.209070        1\n",
       "2  35.722305  -6.403913        2\n",
       "3  -8.328627 -30.027126        0\n",
       "4  -8.328627 -30.027126        0"
      ]
     },
     "execution_count": 74,
     "metadata": {},
     "output_type": "execute_result"
    }
   ],
   "source": [
    "mydata.head()"
   ]
  },
  {
   "cell_type": "code",
   "execution_count": 23,
   "metadata": {
    "ExecuteTime": {
     "end_time": "2023-07-08T07:41:57.474059Z",
     "start_time": "2023-07-08T07:41:57.464474Z"
    }
   },
   "outputs": [],
   "source": [
    "import seaborn as sns"
   ]
  },
  {
   "cell_type": "code",
   "execution_count": 24,
   "metadata": {
    "ExecuteTime": {
     "end_time": "2023-07-08T07:41:57.723251Z",
     "start_time": "2023-07-08T07:41:57.478049Z"
    }
   },
   "outputs": [
    {
     "data": {
      "text/plain": [
       "<seaborn.axisgrid.FacetGrid at 0x22b5c1f4c48>"
      ]
     },
     "execution_count": 24,
     "metadata": {},
     "output_type": "execute_result"
    },
    {
     "data": {
      "image/png": "[encoded data removed]",
      "text/plain": [
       "<Figure size 360x360 with 1 Axes>"
      ]
     },
     "metadata": {
      "needs_background": "light"
     },
     "output_type": "display_data"
    }
   ],
   "source": [
    "sns.lmplot(x='X',y='Y',data=mydata,fit_reg=False)"
   ]
  },
  {
   "cell_type": "code",
   "execution_count": 25,
   "metadata": {
    "ExecuteTime": {
     "end_time": "2023-07-08T07:41:58.065623Z",
     "start_time": "2023-07-08T07:41:57.723251Z"
    }
   },
   "outputs": [
    {
     "data": {
      "text/plain": [
       "<seaborn.axisgrid.FacetGrid at 0x22b5c368608>"
      ]
     },
     "execution_count": 25,
     "metadata": {},
     "output_type": "execute_result"
    },
    {
     "data": {
      "image/png": "[encoded data removed]",
      "text/plain": [
       "<Figure size 402.375x360 with 1 Axes>"
      ]
     },
     "metadata": {
      "needs_background": "light"
     },
     "output_type": "display_data"
    }
   ],
   "source": [
    "sns.lmplot(x='X',y='Y',hue='cluster',data=mydata,fit_reg=False)"
   ]
  },
  {
   "cell_type": "markdown",
   "metadata": {},
   "source": [
    "# PCA"
   ]
  },
  {
   "cell_type": "code",
   "execution_count": 76,
   "metadata": {
    "ExecuteTime": {
     "end_time": "2023-07-08T10:48:09.037919Z",
     "start_time": "2023-07-08T10:48:09.032410Z"
    }
   },
   "outputs": [],
   "source": [
    "import pandas as pd\n",
    "import numpy as np\n",
    "from sklearn.decomposition import PCA\n",
    "from sklearn.preprocessing import scale"
   ]
  },
  {
   "cell_type": "code",
   "execution_count": 77,
   "metadata": {
    "ExecuteTime": {
     "end_time": "2023-07-08T10:48:09.354596Z",
     "start_time": "2023-07-08T10:48:09.350603Z"
    }
   },
   "outputs": [],
   "source": [
    "file=r'../data/rg_train.csv'"
   ]
  },
  {
   "cell_type": "code",
   "execution_count": 78,
   "metadata": {
    "ExecuteTime": {
     "end_time": "2023-07-08T10:48:09.729414Z",
     "start_time": "2023-07-08T10:48:09.680514Z"
    }
   },
   "outputs": [],
   "source": [
    "bd=pd.read_csv(file)"
   ]
  },
  {
   "cell_type": "code",
   "execution_count": 79,
   "metadata": {
    "ExecuteTime": {
     "end_time": "2023-07-08T10:48:10.164854Z",
     "start_time": "2023-07-08T10:48:10.137341Z"
    }
   },
   "outputs": [
    {
     "data": {
      "text/html": [
       "<div>\n",
       "<style scoped>\n",
       "    .dataframe tbody tr th:only-of-type {\n",
       "        vertical-align: middle;\n",
       "    }\n",
       "\n",
       "    .dataframe tbody tr th {\n",
       "        vertical-align: top;\n",
       "    }\n",
       "\n",
       "    .dataframe thead th {\n",
       "        text-align: right;\n",
       "    }\n",
       "</style>\n",
       "<table border=\"1\" class=\"dataframe\">\n",
       "  <thead>\n",
       "    <tr style=\"text-align: right;\">\n",
       "      <th></th>\n",
       "      <th>REF_NO</th>\n",
       "      <th>children</th>\n",
       "      <th>age_band</th>\n",
       "      <th>status</th>\n",
       "      <th>occupation</th>\n",
       "      <th>occupation_partner</th>\n",
       "      <th>home_status</th>\n",
       "      <th>family_income</th>\n",
       "      <th>self_employed</th>\n",
       "      <th>self_employed_partner</th>\n",
       "      <th>...</th>\n",
       "      <th>Investment.Tax.Saving.Bond</th>\n",
       "      <th>Home.Loan</th>\n",
       "      <th>Online.Purchase.Amount</th>\n",
       "      <th>Revenue.Grid</th>\n",
       "      <th>gender</th>\n",
       "      <th>region</th>\n",
       "      <th>Investment.in.Commudity</th>\n",
       "      <th>Investment.in.Equity</th>\n",
       "      <th>Investment.in.Derivative</th>\n",
       "      <th>Portfolio.Balance</th>\n",
       "    </tr>\n",
       "  </thead>\n",
       "  <tbody>\n",
       "    <tr>\n",
       "      <th>0</th>\n",
       "      <td>2148</td>\n",
       "      <td>1</td>\n",
       "      <td>45-50</td>\n",
       "      <td>Partner</td>\n",
       "      <td>Professional</td>\n",
       "      <td>Professional</td>\n",
       "      <td>Rent Privately</td>\n",
       "      <td>&gt;=35,000</td>\n",
       "      <td>Yes</td>\n",
       "      <td>Yes</td>\n",
       "      <td>...</td>\n",
       "      <td>7.49</td>\n",
       "      <td>2.48</td>\n",
       "      <td>0.0</td>\n",
       "      <td>2</td>\n",
       "      <td>Female</td>\n",
       "      <td>South West</td>\n",
       "      <td>65.87</td>\n",
       "      <td>9.27</td>\n",
       "      <td>30.93</td>\n",
       "      <td>87.48</td>\n",
       "    </tr>\n",
       "    <tr>\n",
       "      <th>1</th>\n",
       "      <td>8099</td>\n",
       "      <td>1</td>\n",
       "      <td>61-65</td>\n",
       "      <td>Partner</td>\n",
       "      <td>Retired</td>\n",
       "      <td>Retired</td>\n",
       "      <td>Own Home</td>\n",
       "      <td>&lt;12,500, &gt;=10,000</td>\n",
       "      <td>No</td>\n",
       "      <td>No</td>\n",
       "      <td>...</td>\n",
       "      <td>0.00</td>\n",
       "      <td>3.99</td>\n",
       "      <td>0.0</td>\n",
       "      <td>2</td>\n",
       "      <td>Female</td>\n",
       "      <td>Unknown</td>\n",
       "      <td>42.46</td>\n",
       "      <td>4.49</td>\n",
       "      <td>26.23</td>\n",
       "      <td>110.73</td>\n",
       "    </tr>\n",
       "    <tr>\n",
       "      <th>2</th>\n",
       "      <td>6611</td>\n",
       "      <td>3</td>\n",
       "      <td>31-35</td>\n",
       "      <td>Partner</td>\n",
       "      <td>Professional</td>\n",
       "      <td>Professional</td>\n",
       "      <td>Own Home</td>\n",
       "      <td>&gt;=35,000</td>\n",
       "      <td>No</td>\n",
       "      <td>No</td>\n",
       "      <td>...</td>\n",
       "      <td>0.00</td>\n",
       "      <td>0.00</td>\n",
       "      <td>0.0</td>\n",
       "      <td>2</td>\n",
       "      <td>Male</td>\n",
       "      <td>East Anglia</td>\n",
       "      <td>75.38</td>\n",
       "      <td>0.00</td>\n",
       "      <td>26.66</td>\n",
       "      <td>127.57</td>\n",
       "    </tr>\n",
       "    <tr>\n",
       "      <th>3</th>\n",
       "      <td>1950</td>\n",
       "      <td>Zero</td>\n",
       "      <td>55-60</td>\n",
       "      <td>Partner</td>\n",
       "      <td>Professional</td>\n",
       "      <td>Professional</td>\n",
       "      <td>Own Home</td>\n",
       "      <td>&gt;=35,000</td>\n",
       "      <td>No</td>\n",
       "      <td>No</td>\n",
       "      <td>...</td>\n",
       "      <td>2.00</td>\n",
       "      <td>0.00</td>\n",
       "      <td>0.0</td>\n",
       "      <td>2</td>\n",
       "      <td>Female</td>\n",
       "      <td>North West</td>\n",
       "      <td>34.78</td>\n",
       "      <td>6.91</td>\n",
       "      <td>29.24</td>\n",
       "      <td>33.79</td>\n",
       "    </tr>\n",
       "    <tr>\n",
       "      <th>4</th>\n",
       "      <td>10857</td>\n",
       "      <td>2</td>\n",
       "      <td>51-55</td>\n",
       "      <td>Partner</td>\n",
       "      <td>Manual Worker</td>\n",
       "      <td>Manual Worker</td>\n",
       "      <td>Own Home</td>\n",
       "      <td>&lt;27,500, &gt;=25,000</td>\n",
       "      <td>Yes</td>\n",
       "      <td>Yes</td>\n",
       "      <td>...</td>\n",
       "      <td>0.00</td>\n",
       "      <td>0.00</td>\n",
       "      <td>0.0</td>\n",
       "      <td>2</td>\n",
       "      <td>Female</td>\n",
       "      <td>South West</td>\n",
       "      <td>48.58</td>\n",
       "      <td>9.58</td>\n",
       "      <td>20.65</td>\n",
       "      <td>56.17</td>\n",
       "    </tr>\n",
       "  </tbody>\n",
       "</table>\n",
       "<p>5 rows × 32 columns</p>\n",
       "</div>"
      ],
      "text/plain": [
       "   REF_NO children age_band   status     occupation occupation_partner  \\\n",
       "0    2148        1    45-50  Partner   Professional       Professional   \n",
       "1    8099        1    61-65  Partner        Retired            Retired   \n",
       "2    6611        3    31-35  Partner   Professional       Professional   \n",
       "3    1950     Zero    55-60  Partner   Professional       Professional   \n",
       "4   10857        2    51-55  Partner  Manual Worker      Manual Worker   \n",
       "\n",
       "      home_status      family_income self_employed self_employed_partner  ...  \\\n",
       "0  Rent Privately           >=35,000           Yes                   Yes  ...   \n",
       "1        Own Home  <12,500, >=10,000            No                    No  ...   \n",
       "2        Own Home           >=35,000            No                    No  ...   \n",
       "3        Own Home           >=35,000            No                    No  ...   \n",
       "4        Own Home  <27,500, >=25,000           Yes                   Yes  ...   \n",
       "\n",
       "   Investment.Tax.Saving.Bond Home.Loan Online.Purchase.Amount Revenue.Grid  \\\n",
       "0                        7.49      2.48                    0.0            2   \n",
       "1                        0.00      3.99                    0.0            2   \n",
       "2                        0.00      0.00                    0.0            2   \n",
       "3                        2.00      0.00                    0.0            2   \n",
       "4                        0.00      0.00                    0.0            2   \n",
       "\n",
       "   gender       region  Investment.in.Commudity  Investment.in.Equity  \\\n",
       "0  Female   South West                    65.87                  9.27   \n",
       "1  Female      Unknown                    42.46                  4.49   \n",
       "2    Male  East Anglia                    75.38                  0.00   \n",
       "3  Female   North West                    34.78                  6.91   \n",
       "4  Female   South West                    48.58                  9.58   \n",
       "\n",
       "   Investment.in.Derivative  Portfolio.Balance  \n",
       "0                     30.93              87.48  \n",
       "1                     26.23             110.73  \n",
       "2                     26.66             127.57  \n",
       "3                     29.24              33.79  \n",
       "4                     20.65              56.17  \n",
       "\n",
       "[5 rows x 32 columns]"
      ]
     },
     "execution_count": 79,
     "metadata": {},
     "output_type": "execute_result"
    }
   ],
   "source": [
    "bd.head()"
   ]
  },
  {
   "cell_type": "code",
   "execution_count": 80,
   "metadata": {
    "ExecuteTime": {
     "end_time": "2023-07-08T10:48:12.036296Z",
     "start_time": "2023-07-08T10:48:12.029947Z"
    }
   },
   "outputs": [
    {
     "data": {
      "text/plain": [
       "(8124, 32)"
      ]
     },
     "execution_count": 80,
     "metadata": {},
     "output_type": "execute_result"
    }
   ],
   "source": [
    "bd.shape"
   ]
  },
  {
   "cell_type": "code",
   "execution_count": 81,
   "metadata": {
    "ExecuteTime": {
     "end_time": "2023-07-08T10:48:16.038023Z",
     "start_time": "2023-07-08T10:48:16.031499Z"
    }
   },
   "outputs": [
    {
     "name": "stderr",
     "output_type": "stream",
     "text": [
      "C:\\Users\\Jayanti\\Anaconda3\\lib\\site-packages\\ipykernel_launcher.py:2: FutureWarning: In a future version of pandas all arguments of DataFrame.drop except for the argument 'labels' will be keyword-only\n",
      "  \n"
     ]
    }
   ],
   "source": [
    "bd=bd.select_dtypes(exclude=['object']) # remove categorical columns\n",
    "bd.drop(['REF_NO','year_last_moved','Revenue.Grid'],1,inplace=True) # remove irrelevant columns"
   ]
  },
  {
   "cell_type": "code",
   "execution_count": 82,
   "metadata": {
    "ExecuteTime": {
     "end_time": "2023-07-08T10:48:38.215894Z",
     "start_time": "2023-07-08T10:48:38.212400Z"
    }
   },
   "outputs": [
    {
     "data": {
      "text/plain": [
       "Index(['Average.Credit.Card.Transaction', 'Balance.Transfer', 'Term.Deposit',\n",
       "       'Life.Insurance', 'Medical.Insurance', 'Average.A.C.Balance',\n",
       "       'Personal.Loan', 'Investment.in.Mutual.Fund',\n",
       "       'Investment.Tax.Saving.Bond', 'Home.Loan', 'Online.Purchase.Amount',\n",
       "       'Investment.in.Commudity', 'Investment.in.Equity',\n",
       "       'Investment.in.Derivative', 'Portfolio.Balance'],\n",
       "      dtype='object')"
      ]
     },
     "execution_count": 82,
     "metadata": {},
     "output_type": "execute_result"
    }
   ],
   "source": [
    "bd.columns"
   ]
  },
  {
   "cell_type": "code",
   "execution_count": 83,
   "metadata": {
    "ExecuteTime": {
     "end_time": "2023-07-08T10:48:38.594904Z",
     "start_time": "2023-07-08T10:48:38.589405Z"
    }
   },
   "outputs": [
    {
     "data": {
      "text/plain": [
       "(8124, 15)"
      ]
     },
     "execution_count": 83,
     "metadata": {},
     "output_type": "execute_result"
    }
   ],
   "source": [
    "bd.shape"
   ]
  },
  {
   "cell_type": "code",
   "execution_count": 33,
   "metadata": {
    "ExecuteTime": {
     "end_time": "2023-07-08T07:41:58.242076Z",
     "start_time": "2023-07-08T07:41:58.210155Z"
    }
   },
   "outputs": [
    {
     "data": {
      "text/html": [
       "<div>\n",
       "<style scoped>\n",
       "    .dataframe tbody tr th:only-of-type {\n",
       "        vertical-align: middle;\n",
       "    }\n",
       "\n",
       "    .dataframe tbody tr th {\n",
       "        vertical-align: top;\n",
       "    }\n",
       "\n",
       "    .dataframe thead th {\n",
       "        text-align: right;\n",
       "    }\n",
       "</style>\n",
       "<table border=\"1\" class=\"dataframe\">\n",
       "  <thead>\n",
       "    <tr style=\"text-align: right;\">\n",
       "      <th></th>\n",
       "      <th>Average.Credit.Card.Transaction</th>\n",
       "      <th>Balance.Transfer</th>\n",
       "      <th>Term.Deposit</th>\n",
       "      <th>Life.Insurance</th>\n",
       "      <th>Medical.Insurance</th>\n",
       "      <th>Average.A.C.Balance</th>\n",
       "      <th>Personal.Loan</th>\n",
       "      <th>Investment.in.Mutual.Fund</th>\n",
       "      <th>Investment.Tax.Saving.Bond</th>\n",
       "      <th>Home.Loan</th>\n",
       "      <th>Online.Purchase.Amount</th>\n",
       "      <th>Investment.in.Commudity</th>\n",
       "      <th>Investment.in.Equity</th>\n",
       "      <th>Investment.in.Derivative</th>\n",
       "      <th>Portfolio.Balance</th>\n",
       "    </tr>\n",
       "  </thead>\n",
       "  <tbody>\n",
       "    <tr>\n",
       "      <th>Average.Credit.Card.Transaction</th>\n",
       "      <td>1.000000</td>\n",
       "      <td>0.131247</td>\n",
       "      <td>0.327683</td>\n",
       "      <td>0.151843</td>\n",
       "      <td>0.412965</td>\n",
       "      <td>0.182275</td>\n",
       "      <td>0.088369</td>\n",
       "      <td>0.160531</td>\n",
       "      <td>0.144391</td>\n",
       "      <td>0.103755</td>\n",
       "      <td>0.143003</td>\n",
       "      <td>0.500684</td>\n",
       "      <td>0.217414</td>\n",
       "      <td>0.235417</td>\n",
       "      <td>0.343141</td>\n",
       "    </tr>\n",
       "    <tr>\n",
       "      <th>Balance.Transfer</th>\n",
       "      <td>0.131247</td>\n",
       "      <td>1.000000</td>\n",
       "      <td>0.231907</td>\n",
       "      <td>0.575132</td>\n",
       "      <td>0.165961</td>\n",
       "      <td>0.366227</td>\n",
       "      <td>0.379167</td>\n",
       "      <td>0.472585</td>\n",
       "      <td>0.170320</td>\n",
       "      <td>0.158646</td>\n",
       "      <td>0.118873</td>\n",
       "      <td>0.745583</td>\n",
       "      <td>0.491684</td>\n",
       "      <td>0.598631</td>\n",
       "      <td>0.655342</td>\n",
       "    </tr>\n",
       "    <tr>\n",
       "      <th>Term.Deposit</th>\n",
       "      <td>0.327683</td>\n",
       "      <td>0.231907</td>\n",
       "      <td>1.000000</td>\n",
       "      <td>0.271555</td>\n",
       "      <td>0.511208</td>\n",
       "      <td>0.279363</td>\n",
       "      <td>0.138317</td>\n",
       "      <td>0.209032</td>\n",
       "      <td>0.177183</td>\n",
       "      <td>0.181207</td>\n",
       "      <td>0.101145</td>\n",
       "      <td>0.619214</td>\n",
       "      <td>0.266787</td>\n",
       "      <td>0.348581</td>\n",
       "      <td>0.450340</td>\n",
       "    </tr>\n",
       "    <tr>\n",
       "      <th>Life.Insurance</th>\n",
       "      <td>0.151843</td>\n",
       "      <td>0.575132</td>\n",
       "      <td>0.271555</td>\n",
       "      <td>1.000000</td>\n",
       "      <td>0.235929</td>\n",
       "      <td>0.525849</td>\n",
       "      <td>0.397697</td>\n",
       "      <td>0.558936</td>\n",
       "      <td>0.275477</td>\n",
       "      <td>0.287668</td>\n",
       "      <td>0.134576</td>\n",
       "      <td>0.805671</td>\n",
       "      <td>0.588279</td>\n",
       "      <td>0.846322</td>\n",
       "      <td>0.796641</td>\n",
       "    </tr>\n",
       "    <tr>\n",
       "      <th>Medical.Insurance</th>\n",
       "      <td>0.412965</td>\n",
       "      <td>0.165961</td>\n",
       "      <td>0.511208</td>\n",
       "      <td>0.235929</td>\n",
       "      <td>1.000000</td>\n",
       "      <td>0.269954</td>\n",
       "      <td>0.096484</td>\n",
       "      <td>0.210393</td>\n",
       "      <td>0.200833</td>\n",
       "      <td>0.149944</td>\n",
       "      <td>0.149406</td>\n",
       "      <td>0.548275</td>\n",
       "      <td>0.268001</td>\n",
       "      <td>0.385559</td>\n",
       "      <td>0.437802</td>\n",
       "    </tr>\n",
       "    <tr>\n",
       "      <th>Average.A.C.Balance</th>\n",
       "      <td>0.182275</td>\n",
       "      <td>0.366227</td>\n",
       "      <td>0.279363</td>\n",
       "      <td>0.525849</td>\n",
       "      <td>0.269954</td>\n",
       "      <td>1.000000</td>\n",
       "      <td>0.213168</td>\n",
       "      <td>0.445579</td>\n",
       "      <td>0.310369</td>\n",
       "      <td>0.370177</td>\n",
       "      <td>0.165889</td>\n",
       "      <td>0.528605</td>\n",
       "      <td>0.600676</td>\n",
       "      <td>0.654116</td>\n",
       "      <td>0.617890</td>\n",
       "    </tr>\n",
       "    <tr>\n",
       "      <th>Personal.Loan</th>\n",
       "      <td>0.088369</td>\n",
       "      <td>0.379167</td>\n",
       "      <td>0.138317</td>\n",
       "      <td>0.397697</td>\n",
       "      <td>0.096484</td>\n",
       "      <td>0.213168</td>\n",
       "      <td>1.000000</td>\n",
       "      <td>0.405653</td>\n",
       "      <td>0.219133</td>\n",
       "      <td>0.115966</td>\n",
       "      <td>0.058534</td>\n",
       "      <td>0.390915</td>\n",
       "      <td>0.684679</td>\n",
       "      <td>0.694960</td>\n",
       "      <td>0.607273</td>\n",
       "    </tr>\n",
       "    <tr>\n",
       "      <th>Investment.in.Mutual.Fund</th>\n",
       "      <td>0.160531</td>\n",
       "      <td>0.472585</td>\n",
       "      <td>0.209032</td>\n",
       "      <td>0.558936</td>\n",
       "      <td>0.210393</td>\n",
       "      <td>0.445579</td>\n",
       "      <td>0.405653</td>\n",
       "      <td>1.000000</td>\n",
       "      <td>0.271395</td>\n",
       "      <td>0.264976</td>\n",
       "      <td>0.112027</td>\n",
       "      <td>0.550775</td>\n",
       "      <td>0.711307</td>\n",
       "      <td>0.771541</td>\n",
       "      <td>0.707945</td>\n",
       "    </tr>\n",
       "    <tr>\n",
       "      <th>Investment.Tax.Saving.Bond</th>\n",
       "      <td>0.144391</td>\n",
       "      <td>0.170320</td>\n",
       "      <td>0.177183</td>\n",
       "      <td>0.275477</td>\n",
       "      <td>0.200833</td>\n",
       "      <td>0.310369</td>\n",
       "      <td>0.219133</td>\n",
       "      <td>0.271395</td>\n",
       "      <td>1.000000</td>\n",
       "      <td>0.262854</td>\n",
       "      <td>0.211065</td>\n",
       "      <td>0.297435</td>\n",
       "      <td>0.440509</td>\n",
       "      <td>0.403580</td>\n",
       "      <td>0.396257</td>\n",
       "    </tr>\n",
       "    <tr>\n",
       "      <th>Home.Loan</th>\n",
       "      <td>0.103755</td>\n",
       "      <td>0.158646</td>\n",
       "      <td>0.181207</td>\n",
       "      <td>0.287668</td>\n",
       "      <td>0.149944</td>\n",
       "      <td>0.370177</td>\n",
       "      <td>0.115966</td>\n",
       "      <td>0.264976</td>\n",
       "      <td>0.262854</td>\n",
       "      <td>1.000000</td>\n",
       "      <td>0.104253</td>\n",
       "      <td>0.282282</td>\n",
       "      <td>0.347139</td>\n",
       "      <td>0.334980</td>\n",
       "      <td>0.330888</td>\n",
       "    </tr>\n",
       "    <tr>\n",
       "      <th>Online.Purchase.Amount</th>\n",
       "      <td>0.143003</td>\n",
       "      <td>0.118873</td>\n",
       "      <td>0.101145</td>\n",
       "      <td>0.134576</td>\n",
       "      <td>0.149406</td>\n",
       "      <td>0.165889</td>\n",
       "      <td>0.058534</td>\n",
       "      <td>0.112027</td>\n",
       "      <td>0.211065</td>\n",
       "      <td>0.104253</td>\n",
       "      <td>1.000000</td>\n",
       "      <td>0.187210</td>\n",
       "      <td>0.575307</td>\n",
       "      <td>0.169098</td>\n",
       "      <td>0.301363</td>\n",
       "    </tr>\n",
       "    <tr>\n",
       "      <th>Investment.in.Commudity</th>\n",
       "      <td>0.500684</td>\n",
       "      <td>0.745583</td>\n",
       "      <td>0.619214</td>\n",
       "      <td>0.805671</td>\n",
       "      <td>0.548275</td>\n",
       "      <td>0.528605</td>\n",
       "      <td>0.390915</td>\n",
       "      <td>0.550775</td>\n",
       "      <td>0.297435</td>\n",
       "      <td>0.282282</td>\n",
       "      <td>0.187210</td>\n",
       "      <td>1.000000</td>\n",
       "      <td>0.608082</td>\n",
       "      <td>0.807197</td>\n",
       "      <td>0.865238</td>\n",
       "    </tr>\n",
       "    <tr>\n",
       "      <th>Investment.in.Equity</th>\n",
       "      <td>0.217414</td>\n",
       "      <td>0.491684</td>\n",
       "      <td>0.266787</td>\n",
       "      <td>0.588279</td>\n",
       "      <td>0.268001</td>\n",
       "      <td>0.600676</td>\n",
       "      <td>0.684679</td>\n",
       "      <td>0.711307</td>\n",
       "      <td>0.440509</td>\n",
       "      <td>0.347139</td>\n",
       "      <td>0.575307</td>\n",
       "      <td>0.608082</td>\n",
       "      <td>1.000000</td>\n",
       "      <td>0.851228</td>\n",
       "      <td>0.840657</td>\n",
       "    </tr>\n",
       "    <tr>\n",
       "      <th>Investment.in.Derivative</th>\n",
       "      <td>0.235417</td>\n",
       "      <td>0.598631</td>\n",
       "      <td>0.348581</td>\n",
       "      <td>0.846322</td>\n",
       "      <td>0.385559</td>\n",
       "      <td>0.654116</td>\n",
       "      <td>0.694960</td>\n",
       "      <td>0.771541</td>\n",
       "      <td>0.403580</td>\n",
       "      <td>0.334980</td>\n",
       "      <td>0.169098</td>\n",
       "      <td>0.807197</td>\n",
       "      <td>0.851228</td>\n",
       "      <td>1.000000</td>\n",
       "      <td>0.931004</td>\n",
       "    </tr>\n",
       "    <tr>\n",
       "      <th>Portfolio.Balance</th>\n",
       "      <td>0.343141</td>\n",
       "      <td>0.655342</td>\n",
       "      <td>0.450340</td>\n",
       "      <td>0.796641</td>\n",
       "      <td>0.437802</td>\n",
       "      <td>0.617890</td>\n",
       "      <td>0.607273</td>\n",
       "      <td>0.707945</td>\n",
       "      <td>0.396257</td>\n",
       "      <td>0.330888</td>\n",
       "      <td>0.301363</td>\n",
       "      <td>0.865238</td>\n",
       "      <td>0.840657</td>\n",
       "      <td>0.931004</td>\n",
       "      <td>1.000000</td>\n",
       "    </tr>\n",
       "  </tbody>\n",
       "</table>\n",
       "</div>"
      ],
      "text/plain": [
       "                                 Average.Credit.Card.Transaction  \\\n",
       "Average.Credit.Card.Transaction                         1.000000   \n",
       "Balance.Transfer                                        0.131247   \n",
       "Term.Deposit                                            0.327683   \n",
       "Life.Insurance                                          0.151843   \n",
       "Medical.Insurance                                       0.412965   \n",
       "Average.A.C.Balance                                     0.182275   \n",
       "Personal.Loan                                           0.088369   \n",
       "Investment.in.Mutual.Fund                               0.160531   \n",
       "Investment.Tax.Saving.Bond                              0.144391   \n",
       "Home.Loan                                               0.103755   \n",
       "Online.Purchase.Amount                                  0.143003   \n",
       "Investment.in.Commudity                                 0.500684   \n",
       "Investment.in.Equity                                    0.217414   \n",
       "Investment.in.Derivative                                0.235417   \n",
       "Portfolio.Balance                                       0.343141   \n",
       "\n",
       "                                 Balance.Transfer  Term.Deposit  \\\n",
       "Average.Credit.Card.Transaction          0.131247      0.327683   \n",
       "Balance.Transfer                         1.000000      0.231907   \n",
       "Term.Deposit                             0.231907      1.000000   \n",
       "Life.Insurance                           0.575132      0.271555   \n",
       "Medical.Insurance                        0.165961      0.511208   \n",
       "Average.A.C.Balance                      0.366227      0.279363   \n",
       "Personal.Loan                            0.379167      0.138317   \n",
       "Investment.in.Mutual.Fund                0.472585      0.209032   \n",
       "Investment.Tax.Saving.Bond               0.170320      0.177183   \n",
       "Home.Loan                                0.158646      0.181207   \n",
       "Online.Purchase.Amount                   0.118873      0.101145   \n",
       "Investment.in.Commudity                  0.745583      0.619214   \n",
       "Investment.in.Equity                     0.491684      0.266787   \n",
       "Investment.in.Derivative                 0.598631      0.348581   \n",
       "Portfolio.Balance                        0.655342      0.450340   \n",
       "\n",
       "                                 Life.Insurance  Medical.Insurance  \\\n",
       "Average.Credit.Card.Transaction        0.151843           0.412965   \n",
       "Balance.Transfer                       0.575132           0.165961   \n",
       "Term.Deposit                           0.271555           0.511208   \n",
       "Life.Insurance                         1.000000           0.235929   \n",
       "Medical.Insurance                      0.235929           1.000000   \n",
       "Average.A.C.Balance                    0.525849           0.269954   \n",
       "Personal.Loan                          0.397697           0.096484   \n",
       "Investment.in.Mutual.Fund              0.558936           0.210393   \n",
       "Investment.Tax.Saving.Bond             0.275477           0.200833   \n",
       "Home.Loan                              0.287668           0.149944   \n",
       "Online.Purchase.Amount                 0.134576           0.149406   \n",
       "Investment.in.Commudity                0.805671           0.548275   \n",
       "Investment.in.Equity                   0.588279           0.268001   \n",
       "Investment.in.Derivative               0.846322           0.385559   \n",
       "Portfolio.Balance                      0.796641           0.437802   \n",
       "\n",
       "                                 Average.A.C.Balance  Personal.Loan  \\\n",
       "Average.Credit.Card.Transaction             0.182275       0.088369   \n",
       "Balance.Transfer                            0.366227       0.379167   \n",
       "Term.Deposit                                0.279363       0.138317   \n",
       "Life.Insurance                              0.525849       0.397697   \n",
       "Medical.Insurance                           0.269954       0.096484   \n",
       "Average.A.C.Balance                         1.000000       0.213168   \n",
       "Personal.Loan                               0.213168       1.000000   \n",
       "Investment.in.Mutual.Fund                   0.445579       0.405653   \n",
       "Investment.Tax.Saving.Bond                  0.310369       0.219133   \n",
       "Home.Loan                                   0.370177       0.115966   \n",
       "Online.Purchase.Amount                      0.165889       0.058534   \n",
       "Investment.in.Commudity                     0.528605       0.390915   \n",
       "Investment.in.Equity                        0.600676       0.684679   \n",
       "Investment.in.Derivative                    0.654116       0.694960   \n",
       "Portfolio.Balance                           0.617890       0.607273   \n",
       "\n",
       "                                 Investment.in.Mutual.Fund  \\\n",
       "Average.Credit.Card.Transaction                   0.160531   \n",
       "Balance.Transfer                                  0.472585   \n",
       "Term.Deposit                                      0.209032   \n",
       "Life.Insurance                                    0.558936   \n",
       "Medical.Insurance                                 0.210393   \n",
       "Average.A.C.Balance                               0.445579   \n",
       "Personal.Loan                                     0.405653   \n",
       "Investment.in.Mutual.Fund                         1.000000   \n",
       "Investment.Tax.Saving.Bond                        0.271395   \n",
       "Home.Loan                                         0.264976   \n",
       "Online.Purchase.Amount                            0.112027   \n",
       "Investment.in.Commudity                           0.550775   \n",
       "Investment.in.Equity                              0.711307   \n",
       "Investment.in.Derivative                          0.771541   \n",
       "Portfolio.Balance                                 0.707945   \n",
       "\n",
       "                                 Investment.Tax.Saving.Bond  Home.Loan  \\\n",
       "Average.Credit.Card.Transaction                    0.144391   0.103755   \n",
       "Balance.Transfer                                   0.170320   0.158646   \n",
       "Term.Deposit                                       0.177183   0.181207   \n",
       "Life.Insurance                                     0.275477   0.287668   \n",
       "Medical.Insurance                                  0.200833   0.149944   \n",
       "Average.A.C.Balance                                0.310369   0.370177   \n",
       "Personal.Loan                                      0.219133   0.115966   \n",
       "Investment.in.Mutual.Fund                          0.271395   0.264976   \n",
       "Investment.Tax.Saving.Bond                         1.000000   0.262854   \n",
       "Home.Loan                                          0.262854   1.000000   \n",
       "Online.Purchase.Amount                             0.211065   0.104253   \n",
       "Investment.in.Commudity                            0.297435   0.282282   \n",
       "Investment.in.Equity                               0.440509   0.347139   \n",
       "Investment.in.Derivative                           0.403580   0.334980   \n",
       "Portfolio.Balance                                  0.396257   0.330888   \n",
       "\n",
       "                                 Online.Purchase.Amount  \\\n",
       "Average.Credit.Card.Transaction                0.143003   \n",
       "Balance.Transfer                               0.118873   \n",
       "Term.Deposit                                   0.101145   \n",
       "Life.Insurance                                 0.134576   \n",
       "Medical.Insurance                              0.149406   \n",
       "Average.A.C.Balance                            0.165889   \n",
       "Personal.Loan                                  0.058534   \n",
       "Investment.in.Mutual.Fund                      0.112027   \n",
       "Investment.Tax.Saving.Bond                     0.211065   \n",
       "Home.Loan                                      0.104253   \n",
       "Online.Purchase.Amount                         1.000000   \n",
       "Investment.in.Commudity                        0.187210   \n",
       "Investment.in.Equity                           0.575307   \n",
       "Investment.in.Derivative                       0.169098   \n",
       "Portfolio.Balance                              0.301363   \n",
       "\n",
       "                                 Investment.in.Commudity  \\\n",
       "Average.Credit.Card.Transaction                 0.500684   \n",
       "Balance.Transfer                                0.745583   \n",
       "Term.Deposit                                    0.619214   \n",
       "Life.Insurance                                  0.805671   \n",
       "Medical.Insurance                               0.548275   \n",
       "Average.A.C.Balance                             0.528605   \n",
       "Personal.Loan                                   0.390915   \n",
       "Investment.in.Mutual.Fund                       0.550775   \n",
       "Investment.Tax.Saving.Bond                      0.297435   \n",
       "Home.Loan                                       0.282282   \n",
       "Online.Purchase.Amount                          0.187210   \n",
       "Investment.in.Commudity                         1.000000   \n",
       "Investment.in.Equity                            0.608082   \n",
       "Investment.in.Derivative                        0.807197   \n",
       "Portfolio.Balance                               0.865238   \n",
       "\n",
       "                                 Investment.in.Equity  \\\n",
       "Average.Credit.Card.Transaction              0.217414   \n",
       "Balance.Transfer                             0.491684   \n",
       "Term.Deposit                                 0.266787   \n",
       "Life.Insurance                               0.588279   \n",
       "Medical.Insurance                            0.268001   \n",
       "Average.A.C.Balance                          0.600676   \n",
       "Personal.Loan                                0.684679   \n",
       "Investment.in.Mutual.Fund                    0.711307   \n",
       "Investment.Tax.Saving.Bond                   0.440509   \n",
       "Home.Loan                                    0.347139   \n",
       "Online.Purchase.Amount                       0.575307   \n",
       "Investment.in.Commudity                      0.608082   \n",
       "Investment.in.Equity                         1.000000   \n",
       "Investment.in.Derivative                     0.851228   \n",
       "Portfolio.Balance                            0.840657   \n",
       "\n",
       "                                 Investment.in.Derivative  Portfolio.Balance  \n",
       "Average.Credit.Card.Transaction                  0.235417           0.343141  \n",
       "Balance.Transfer                                 0.598631           0.655342  \n",
       "Term.Deposit                                     0.348581           0.450340  \n",
       "Life.Insurance                                   0.846322           0.796641  \n",
       "Medical.Insurance                                0.385559           0.437802  \n",
       "Average.A.C.Balance                              0.654116           0.617890  \n",
       "Personal.Loan                                    0.694960           0.607273  \n",
       "Investment.in.Mutual.Fund                        0.771541           0.707945  \n",
       "Investment.Tax.Saving.Bond                       0.403580           0.396257  \n",
       "Home.Loan                                        0.334980           0.330888  \n",
       "Online.Purchase.Amount                           0.169098           0.301363  \n",
       "Investment.in.Commudity                          0.807197           0.865238  \n",
       "Investment.in.Equity                             0.851228           0.840657  \n",
       "Investment.in.Derivative                         1.000000           0.931004  \n",
       "Portfolio.Balance                                0.931004           1.000000  "
      ]
     },
     "execution_count": 33,
     "metadata": {},
     "output_type": "execute_result"
    }
   ],
   "source": [
    "bd.corr()"
   ]
  },
  {
   "cell_type": "code",
   "execution_count": 34,
   "metadata": {
    "ExecuteTime": {
     "end_time": "2023-07-08T07:41:58.257710Z",
     "start_time": "2023-07-08T07:41:58.244069Z"
    }
   },
   "outputs": [],
   "source": [
    "import seaborn as sns\n",
    "%matplotlib inline"
   ]
  },
  {
   "cell_type": "code",
   "execution_count": 35,
   "metadata": {
    "ExecuteTime": {
     "end_time": "2023-07-08T07:41:58.575998Z",
     "start_time": "2023-07-08T07:41:58.259213Z"
    }
   },
   "outputs": [
    {
     "data": {
      "text/plain": [
       "<AxesSubplot:>"
      ]
     },
     "execution_count": 35,
     "metadata": {},
     "output_type": "execute_result"
    },
    {
     "data": {
      "image/png": "[encoded data removed]",
      "text/plain": [
       "<Figure size 432x288 with 2 Axes>"
      ]
     },
     "metadata": {
      "needs_background": "light"
     },
     "output_type": "display_data"
    }
   ],
   "source": [
    "sns.heatmap(bd.corr())"
   ]
  },
  {
   "cell_type": "code",
   "execution_count": 36,
   "metadata": {
    "ExecuteTime": {
     "end_time": "2023-07-08T07:41:58.591218Z",
     "start_time": "2023-07-08T07:41:58.575998Z"
    }
   },
   "outputs": [
    {
     "data": {
      "text/plain": [
       "(8124, 15)"
      ]
     },
     "execution_count": 36,
     "metadata": {},
     "output_type": "execute_result"
    }
   ],
   "source": [
    "bd.shape"
   ]
  },
  {
   "cell_type": "code",
   "execution_count": 37,
   "metadata": {
    "ExecuteTime": {
     "end_time": "2023-07-08T07:41:58.680878Z",
     "start_time": "2023-07-08T07:41:58.593213Z"
    }
   },
   "outputs": [
    {
     "data": {
      "text/plain": [
       "(15, 15)"
      ]
     },
     "execution_count": 37,
     "metadata": {},
     "output_type": "execute_result"
    }
   ],
   "source": [
    "X=bd.copy()\n",
    "X = scale(X)\n",
    "pca = PCA(n_components=15)\n",
    "\n",
    "pca.fit(X)\n",
    "pca.components_.shape"
   ]
  },
  {
   "cell_type": "code",
   "execution_count": 92,
   "metadata": {
    "ExecuteTime": {
     "end_time": "2023-07-08T10:59:53.662976Z",
     "start_time": "2023-07-08T10:59:53.646269Z"
    }
   },
   "outputs": [
    {
     "data": {
      "text/html": [
       "<div>\n",
       "<style scoped>\n",
       "    .dataframe tbody tr th:only-of-type {\n",
       "        vertical-align: middle;\n",
       "    }\n",
       "\n",
       "    .dataframe tbody tr th {\n",
       "        vertical-align: top;\n",
       "    }\n",
       "\n",
       "    .dataframe thead th {\n",
       "        text-align: right;\n",
       "    }\n",
       "</style>\n",
       "<table border=\"1\" class=\"dataframe\">\n",
       "  <thead>\n",
       "    <tr style=\"text-align: right;\">\n",
       "      <th></th>\n",
       "      <th>0</th>\n",
       "      <th>1</th>\n",
       "      <th>2</th>\n",
       "      <th>3</th>\n",
       "      <th>4</th>\n",
       "      <th>5</th>\n",
       "      <th>6</th>\n",
       "      <th>7</th>\n",
       "      <th>8</th>\n",
       "      <th>9</th>\n",
       "      <th>10</th>\n",
       "      <th>11</th>\n",
       "      <th>12</th>\n",
       "      <th>13</th>\n",
       "      <th>14</th>\n",
       "    </tr>\n",
       "  </thead>\n",
       "  <tbody>\n",
       "    <tr>\n",
       "      <th>0</th>\n",
       "      <td>0.141067</td>\n",
       "      <td>0.255946</td>\n",
       "      <td>0.185642</td>\n",
       "      <td>0.305974</td>\n",
       "      <td>0.179882</td>\n",
       "      <td>0.256776</td>\n",
       "      <td>0.225371</td>\n",
       "      <td>0.279387</td>\n",
       "      <td>0.172674</td>\n",
       "      <td>0.153239</td>\n",
       "      <td>0.118247</td>\n",
       "      <td>0.341109</td>\n",
       "      <td>0.330390</td>\n",
       "      <td>0.363187</td>\n",
       "      <td>0.366972</td>\n",
       "    </tr>\n",
       "    <tr>\n",
       "      <th>1</th>\n",
       "      <td>-0.483064</td>\n",
       "      <td>0.107528</td>\n",
       "      <td>-0.477091</td>\n",
       "      <td>0.115878</td>\n",
       "      <td>-0.516507</td>\n",
       "      <td>0.023722</td>\n",
       "      <td>0.305231</td>\n",
       "      <td>0.198693</td>\n",
       "      <td>0.018568</td>\n",
       "      <td>0.003668</td>\n",
       "      <td>-0.014623</td>\n",
       "      <td>-0.222669</td>\n",
       "      <td>0.205080</td>\n",
       "      <td>0.145479</td>\n",
       "      <td>0.026092</td>\n",
       "    </tr>\n",
       "    <tr>\n",
       "      <th>2</th>\n",
       "      <td>0.040456</td>\n",
       "      <td>-0.309449</td>\n",
       "      <td>-0.085262</td>\n",
       "      <td>-0.206433</td>\n",
       "      <td>0.022034</td>\n",
       "      <td>0.109840</td>\n",
       "      <td>-0.107915</td>\n",
       "      <td>-0.072846</td>\n",
       "      <td>0.413855</td>\n",
       "      <td>0.275563</td>\n",
       "      <td>0.657982</td>\n",
       "      <td>-0.216651</td>\n",
       "      <td>0.292211</td>\n",
       "      <td>-0.096100</td>\n",
       "      <td>-0.038809</td>\n",
       "    </tr>\n",
       "    <tr>\n",
       "      <th>3</th>\n",
       "      <td>0.189780</td>\n",
       "      <td>0.102514</td>\n",
       "      <td>-0.033459</td>\n",
       "      <td>-0.104053</td>\n",
       "      <td>0.037950</td>\n",
       "      <td>-0.348390</td>\n",
       "      <td>0.304796</td>\n",
       "      <td>-0.036587</td>\n",
       "      <td>-0.195419</td>\n",
       "      <td>-0.673680</td>\n",
       "      <td>0.435953</td>\n",
       "      <td>0.033211</td>\n",
       "      <td>0.190146</td>\n",
       "      <td>-0.014471</td>\n",
       "      <td>0.070122</td>\n",
       "    </tr>\n",
       "    <tr>\n",
       "      <th>4</th>\n",
       "      <td>-0.144266</td>\n",
       "      <td>0.354215</td>\n",
       "      <td>-0.056868</td>\n",
       "      <td>0.213573</td>\n",
       "      <td>-0.150980</td>\n",
       "      <td>0.208405</td>\n",
       "      <td>-0.526445</td>\n",
       "      <td>-0.042050</td>\n",
       "      <td>-0.474385</td>\n",
       "      <td>0.053921</td>\n",
       "      <td>0.438311</td>\n",
       "      <td>0.155962</td>\n",
       "      <td>-0.031623</td>\n",
       "      <td>-0.119691</td>\n",
       "      <td>0.004033</td>\n",
       "    </tr>\n",
       "    <tr>\n",
       "      <th>5</th>\n",
       "      <td>0.516469</td>\n",
       "      <td>-0.203845</td>\n",
       "      <td>-0.235630</td>\n",
       "      <td>-0.129658</td>\n",
       "      <td>-0.073586</td>\n",
       "      <td>-0.000431</td>\n",
       "      <td>0.216113</td>\n",
       "      <td>0.158877</td>\n",
       "      <td>-0.587967</td>\n",
       "      <td>0.416142</td>\n",
       "      <td>-0.025013</td>\n",
       "      <td>-0.082915</td>\n",
       "      <td>0.122035</td>\n",
       "      <td>0.026671</td>\n",
       "      <td>0.005389</td>\n",
       "    </tr>\n",
       "    <tr>\n",
       "      <th>6</th>\n",
       "      <td>-0.580959</td>\n",
       "      <td>-0.189959</td>\n",
       "      <td>0.496828</td>\n",
       "      <td>-0.117414</td>\n",
       "      <td>0.240941</td>\n",
       "      <td>-0.046822</td>\n",
       "      <td>0.270072</td>\n",
       "      <td>-0.054352</td>\n",
       "      <td>-0.399469</td>\n",
       "      <td>0.179801</td>\n",
       "      <td>0.107501</td>\n",
       "      <td>-0.097663</td>\n",
       "      <td>0.122731</td>\n",
       "      <td>0.037008</td>\n",
       "      <td>0.014457</td>\n",
       "    </tr>\n",
       "    <tr>\n",
       "      <th>7</th>\n",
       "      <td>-0.062080</td>\n",
       "      <td>-0.421664</td>\n",
       "      <td>-0.154827</td>\n",
       "      <td>0.007631</td>\n",
       "      <td>0.271077</td>\n",
       "      <td>0.526600</td>\n",
       "      <td>-0.216416</td>\n",
       "      <td>0.328907</td>\n",
       "      <td>-0.146671</td>\n",
       "      <td>-0.454128</td>\n",
       "      <td>-0.088555</td>\n",
       "      <td>-0.165851</td>\n",
       "      <td>0.067065</td>\n",
       "      <td>0.144341</td>\n",
       "      <td>0.009182</td>\n",
       "    </tr>\n",
       "    <tr>\n",
       "      <th>8</th>\n",
       "      <td>0.145097</td>\n",
       "      <td>-0.077170</td>\n",
       "      <td>0.171967</td>\n",
       "      <td>0.046500</td>\n",
       "      <td>-0.350242</td>\n",
       "      <td>0.562610</td>\n",
       "      <td>0.282077</td>\n",
       "      <td>-0.632534</td>\n",
       "      <td>-0.042238</td>\n",
       "      <td>-0.136923</td>\n",
       "      <td>-0.032606</td>\n",
       "      <td>0.017581</td>\n",
       "      <td>0.020524</td>\n",
       "      <td>0.004978</td>\n",
       "      <td>0.006438</td>\n",
       "    </tr>\n",
       "    <tr>\n",
       "      <th>9</th>\n",
       "      <td>0.131591</td>\n",
       "      <td>-0.052166</td>\n",
       "      <td>0.562202</td>\n",
       "      <td>-0.216226</td>\n",
       "      <td>-0.588835</td>\n",
       "      <td>0.012757</td>\n",
       "      <td>-0.148964</td>\n",
       "      <td>0.466830</td>\n",
       "      <td>0.043516</td>\n",
       "      <td>-0.106886</td>\n",
       "      <td>-0.026147</td>\n",
       "      <td>-0.031519</td>\n",
       "      <td>0.080763</td>\n",
       "      <td>-0.089380</td>\n",
       "      <td>-0.024913</td>\n",
       "    </tr>\n",
       "    <tr>\n",
       "      <th>10</th>\n",
       "      <td>-0.030116</td>\n",
       "      <td>0.571702</td>\n",
       "      <td>-0.078431</td>\n",
       "      <td>-0.675755</td>\n",
       "      <td>0.200999</td>\n",
       "      <td>0.325141</td>\n",
       "      <td>0.087455</td>\n",
       "      <td>0.069622</td>\n",
       "      <td>0.019773</td>\n",
       "      <td>0.011495</td>\n",
       "      <td>-0.103269</td>\n",
       "      <td>-0.090007</td>\n",
       "      <td>0.095704</td>\n",
       "      <td>-0.133093</td>\n",
       "      <td>-0.068407</td>\n",
       "    </tr>\n",
       "  </tbody>\n",
       "</table>\n",
       "</div>"
      ],
      "text/plain": [
       "          0         1         2         3         4         5         6   \\\n",
       "0   0.141067  0.255946  0.185642  0.305974  0.179882  0.256776  0.225371   \n",
       "1  -0.483064  0.107528 -0.477091  0.115878 -0.516507  0.023722  0.305231   \n",
       "2   0.040456 -0.309449 -0.085262 -0.206433  0.022034  0.109840 -0.107915   \n",
       "3   0.189780  0.102514 -0.033459 -0.104053  0.037950 -0.348390  0.304796   \n",
       "4  -0.144266  0.354215 -0.056868  0.213573 -0.150980  0.208405 -0.526445   \n",
       "5   0.516469 -0.203845 -0.235630 -0.129658 -0.073586 -0.000431  0.216113   \n",
       "6  -0.580959 -0.189959  0.496828 -0.117414  0.240941 -0.046822  0.270072   \n",
       "7  -0.062080 -0.421664 -0.154827  0.007631  0.271077  0.526600 -0.216416   \n",
       "8   0.145097 -0.077170  0.171967  0.046500 -0.350242  0.562610  0.282077   \n",
       "9   0.131591 -0.052166  0.562202 -0.216226 -0.588835  0.012757 -0.148964   \n",
       "10 -0.030116  0.571702 -0.078431 -0.675755  0.200999  0.325141  0.087455   \n",
       "\n",
       "          7         8         9         10        11        12        13  \\\n",
       "0   0.279387  0.172674  0.153239  0.118247  0.341109  0.330390  0.363187   \n",
       "1   0.198693  0.018568  0.003668 -0.014623 -0.222669  0.205080  0.145479   \n",
       "2  -0.072846  0.413855  0.275563  0.657982 -0.216651  0.292211 -0.096100   \n",
       "3  -0.036587 -0.195419 -0.673680  0.435953  0.033211  0.190146 -0.014471   \n",
       "4  -0.042050 -0.474385  0.053921  0.438311  0.155962 -0.031623 -0.119691   \n",
       "5   0.158877 -0.587967  0.416142 -0.025013 -0.082915  0.122035  0.026671   \n",
       "6  -0.054352 -0.399469  0.179801  0.107501 -0.097663  0.122731  0.037008   \n",
       "7   0.328907 -0.146671 -0.454128 -0.088555 -0.165851  0.067065  0.144341   \n",
       "8  -0.632534 -0.042238 -0.136923 -0.032606  0.017581  0.020524  0.004978   \n",
       "9   0.466830  0.043516 -0.106886 -0.026147 -0.031519  0.080763 -0.089380   \n",
       "10  0.069622  0.019773  0.011495 -0.103269 -0.090007  0.095704 -0.133093   \n",
       "\n",
       "          14  \n",
       "0   0.366972  \n",
       "1   0.026092  \n",
       "2  -0.038809  \n",
       "3   0.070122  \n",
       "4   0.004033  \n",
       "5   0.005389  \n",
       "6   0.014457  \n",
       "7   0.009182  \n",
       "8   0.006438  \n",
       "9  -0.024913  \n",
       "10 -0.068407  "
      ]
     },
     "execution_count": 92,
     "metadata": {},
     "output_type": "execute_result"
    }
   ],
   "source": [
    "pd.DataFrame(pca.components_)"
   ]
  },
  {
   "cell_type": "code",
   "execution_count": 38,
   "metadata": {
    "ExecuteTime": {
     "end_time": "2023-07-08T07:41:58.693287Z",
     "start_time": "2023-07-08T07:41:58.683051Z"
    }
   },
   "outputs": [
    {
     "name": "stdout",
     "output_type": "stream",
     "text": [
      "[0.463 0.108 0.082 0.068 0.054 0.046 0.044 0.04  0.033 0.031 0.027 0.004\n",
      " 0.    0.    0.   ]\n"
     ]
    }
   ],
   "source": [
    "var= np.round(pca.explained_variance_ratio_,3)\n",
    "\n",
    "print(var)"
   ]
  },
  {
   "cell_type": "code",
   "execution_count": 39,
   "metadata": {
    "ExecuteTime": {
     "end_time": "2023-07-08T07:41:58.708873Z",
     "start_time": "2023-07-08T07:41:58.693287Z"
    }
   },
   "outputs": [
    {
     "name": "stdout",
     "output_type": "stream",
     "text": [
      "[ 46.29  57.06  65.3   72.06  77.49  82.07  86.51  90.56  93.84  96.92\n",
      "  99.58 100.01 100.01 100.01 100.01]\n"
     ]
    }
   ],
   "source": [
    "var1=np.cumsum(np.round(pca.explained_variance_ratio_, decimals=4)*100)\n",
    "\n",
    "print(var1)"
   ]
  },
  {
   "cell_type": "code",
   "execution_count": 91,
   "metadata": {
    "ExecuteTime": {
     "end_time": "2023-07-08T10:59:36.483053Z",
     "start_time": "2023-07-08T10:59:36.476037Z"
    }
   },
   "outputs": [
    {
     "data": {
      "text/html": [
       "<div>\n",
       "<style scoped>\n",
       "    .dataframe tbody tr th:only-of-type {\n",
       "        vertical-align: middle;\n",
       "    }\n",
       "\n",
       "    .dataframe tbody tr th {\n",
       "        vertical-align: top;\n",
       "    }\n",
       "\n",
       "    .dataframe thead th {\n",
       "        text-align: right;\n",
       "    }\n",
       "</style>\n",
       "<table border=\"1\" class=\"dataframe\">\n",
       "  <thead>\n",
       "    <tr style=\"text-align: right;\">\n",
       "      <th></th>\n",
       "      <th>Cum_Sum_Variance</th>\n",
       "    </tr>\n",
       "  </thead>\n",
       "  <tbody>\n",
       "    <tr>\n",
       "      <th>0</th>\n",
       "      <td>46.29</td>\n",
       "    </tr>\n",
       "    <tr>\n",
       "      <th>1</th>\n",
       "      <td>57.06</td>\n",
       "    </tr>\n",
       "    <tr>\n",
       "      <th>2</th>\n",
       "      <td>65.30</td>\n",
       "    </tr>\n",
       "    <tr>\n",
       "      <th>3</th>\n",
       "      <td>72.06</td>\n",
       "    </tr>\n",
       "    <tr>\n",
       "      <th>4</th>\n",
       "      <td>77.49</td>\n",
       "    </tr>\n",
       "    <tr>\n",
       "      <th>5</th>\n",
       "      <td>82.07</td>\n",
       "    </tr>\n",
       "    <tr>\n",
       "      <th>6</th>\n",
       "      <td>86.51</td>\n",
       "    </tr>\n",
       "    <tr>\n",
       "      <th>7</th>\n",
       "      <td>90.56</td>\n",
       "    </tr>\n",
       "    <tr>\n",
       "      <th>8</th>\n",
       "      <td>93.84</td>\n",
       "    </tr>\n",
       "    <tr>\n",
       "      <th>9</th>\n",
       "      <td>96.92</td>\n",
       "    </tr>\n",
       "    <tr>\n",
       "      <th>10</th>\n",
       "      <td>99.58</td>\n",
       "    </tr>\n",
       "    <tr>\n",
       "      <th>11</th>\n",
       "      <td>100.01</td>\n",
       "    </tr>\n",
       "    <tr>\n",
       "      <th>12</th>\n",
       "      <td>100.01</td>\n",
       "    </tr>\n",
       "    <tr>\n",
       "      <th>13</th>\n",
       "      <td>100.01</td>\n",
       "    </tr>\n",
       "    <tr>\n",
       "      <th>14</th>\n",
       "      <td>100.01</td>\n",
       "    </tr>\n",
       "  </tbody>\n",
       "</table>\n",
       "</div>"
      ],
      "text/plain": [
       "    Cum_Sum_Variance\n",
       "0              46.29\n",
       "1              57.06\n",
       "2              65.30\n",
       "3              72.06\n",
       "4              77.49\n",
       "5              82.07\n",
       "6              86.51\n",
       "7              90.56\n",
       "8              93.84\n",
       "9              96.92\n",
       "10             99.58\n",
       "11            100.01\n",
       "12            100.01\n",
       "13            100.01\n",
       "14            100.01"
      ]
     },
     "execution_count": 91,
     "metadata": {},
     "output_type": "execute_result"
    }
   ],
   "source": [
    "pd.DataFrame(var1, columns = ['Cum_Sum_Variance'])"
   ]
  },
  {
   "cell_type": "code",
   "execution_count": 40,
   "metadata": {
    "ExecuteTime": {
     "end_time": "2023-07-08T07:41:58.758821Z",
     "start_time": "2023-07-08T07:41:58.710868Z"
    }
   },
   "outputs": [
    {
     "data": {
      "text/plain": [
       "(11, 15)"
      ]
     },
     "execution_count": 40,
     "metadata": {},
     "output_type": "execute_result"
    }
   ],
   "source": [
    "pca = PCA(n_components=11)\n",
    "pca.fit(X)\n",
    "pca.components_.shape"
   ]
  },
  {
   "cell_type": "code",
   "execution_count": 41,
   "metadata": {
    "ExecuteTime": {
     "end_time": "2023-07-08T07:41:58.774524Z",
     "start_time": "2023-07-08T07:41:58.759403Z"
    }
   },
   "outputs": [
    {
     "data": {
      "text/plain": [
       "(8124, 15)"
      ]
     },
     "execution_count": 41,
     "metadata": {},
     "output_type": "execute_result"
    }
   ],
   "source": [
    "X.shape"
   ]
  },
  {
   "cell_type": "code",
   "execution_count": 42,
   "metadata": {
    "ExecuteTime": {
     "end_time": "2023-07-08T07:41:58.790203Z",
     "start_time": "2023-07-08T07:41:58.776521Z"
    }
   },
   "outputs": [],
   "source": [
    "X1=pd.DataFrame(pca.transform(X))"
   ]
  },
  {
   "cell_type": "code",
   "execution_count": 43,
   "metadata": {
    "ExecuteTime": {
     "end_time": "2023-07-08T07:41:58.809289Z",
     "start_time": "2023-07-08T07:41:58.792195Z"
    }
   },
   "outputs": [
    {
     "data": {
      "text/plain": [
       "(8124, 11)"
      ]
     },
     "execution_count": 43,
     "metadata": {},
     "output_type": "execute_result"
    }
   ],
   "source": [
    "X1.shape"
   ]
  },
  {
   "cell_type": "code",
   "execution_count": 44,
   "metadata": {
    "ExecuteTime": {
     "end_time": "2023-07-08T07:41:58.874543Z",
     "start_time": "2023-07-08T07:41:58.809289Z"
    }
   },
   "outputs": [
    {
     "data": {
      "text/html": [
       "<div>\n",
       "<style scoped>\n",
       "    .dataframe tbody tr th:only-of-type {\n",
       "        vertical-align: middle;\n",
       "    }\n",
       "\n",
       "    .dataframe tbody tr th {\n",
       "        vertical-align: top;\n",
       "    }\n",
       "\n",
       "    .dataframe thead th {\n",
       "        text-align: right;\n",
       "    }\n",
       "</style>\n",
       "<table border=\"1\" class=\"dataframe\">\n",
       "  <thead>\n",
       "    <tr style=\"text-align: right;\">\n",
       "      <th></th>\n",
       "      <th>0</th>\n",
       "      <th>1</th>\n",
       "      <th>2</th>\n",
       "      <th>3</th>\n",
       "      <th>4</th>\n",
       "      <th>5</th>\n",
       "      <th>6</th>\n",
       "      <th>7</th>\n",
       "      <th>8</th>\n",
       "      <th>9</th>\n",
       "      <th>10</th>\n",
       "    </tr>\n",
       "  </thead>\n",
       "  <tbody>\n",
       "    <tr>\n",
       "      <th>0</th>\n",
       "      <td>0.219023</td>\n",
       "      <td>-1.225702</td>\n",
       "      <td>-0.704840</td>\n",
       "      <td>-0.133726</td>\n",
       "      <td>-0.225244</td>\n",
       "      <td>-1.179293</td>\n",
       "      <td>1.488343</td>\n",
       "      <td>-0.846796</td>\n",
       "      <td>0.538255</td>\n",
       "      <td>1.735882</td>\n",
       "      <td>-1.452645</td>\n",
       "    </tr>\n",
       "    <tr>\n",
       "      <th>1</th>\n",
       "      <td>-0.536690</td>\n",
       "      <td>0.552568</td>\n",
       "      <td>-0.774464</td>\n",
       "      <td>-0.004869</td>\n",
       "      <td>0.634582</td>\n",
       "      <td>-0.187944</td>\n",
       "      <td>-0.179863</td>\n",
       "      <td>-0.636877</td>\n",
       "      <td>0.154433</td>\n",
       "      <td>-0.506403</td>\n",
       "      <td>-0.583435</td>\n",
       "    </tr>\n",
       "    <tr>\n",
       "      <th>2</th>\n",
       "      <td>0.451136</td>\n",
       "      <td>-4.430763</td>\n",
       "      <td>-0.461111</td>\n",
       "      <td>0.891647</td>\n",
       "      <td>-1.015495</td>\n",
       "      <td>0.340722</td>\n",
       "      <td>0.651389</td>\n",
       "      <td>0.656770</td>\n",
       "      <td>-0.977120</td>\n",
       "      <td>-1.703000</td>\n",
       "      <td>0.388787</td>\n",
       "    </tr>\n",
       "    <tr>\n",
       "      <th>3</th>\n",
       "      <td>-0.821123</td>\n",
       "      <td>0.513644</td>\n",
       "      <td>-0.498847</td>\n",
       "      <td>-0.147921</td>\n",
       "      <td>0.563338</td>\n",
       "      <td>-0.363394</td>\n",
       "      <td>-0.282702</td>\n",
       "      <td>0.156067</td>\n",
       "      <td>0.568836</td>\n",
       "      <td>-0.374686</td>\n",
       "      <td>-0.583131</td>\n",
       "    </tr>\n",
       "    <tr>\n",
       "      <th>4</th>\n",
       "      <td>-0.370655</td>\n",
       "      <td>0.267894</td>\n",
       "      <td>-0.880087</td>\n",
       "      <td>0.024170</td>\n",
       "      <td>1.113919</td>\n",
       "      <td>-0.582590</td>\n",
       "      <td>-0.272975</td>\n",
       "      <td>-0.315076</td>\n",
       "      <td>0.617274</td>\n",
       "      <td>-0.261043</td>\n",
       "      <td>0.940379</td>\n",
       "    </tr>\n",
       "  </tbody>\n",
       "</table>\n",
       "</div>"
      ],
      "text/plain": [
       "         0         1         2         3         4         5         6   \\\n",
       "0  0.219023 -1.225702 -0.704840 -0.133726 -0.225244 -1.179293  1.488343   \n",
       "1 -0.536690  0.552568 -0.774464 -0.004869  0.634582 -0.187944 -0.179863   \n",
       "2  0.451136 -4.430763 -0.461111  0.891647 -1.015495  0.340722  0.651389   \n",
       "3 -0.821123  0.513644 -0.498847 -0.147921  0.563338 -0.363394 -0.282702   \n",
       "4 -0.370655  0.267894 -0.880087  0.024170  1.113919 -0.582590 -0.272975   \n",
       "\n",
       "         7         8         9         10  \n",
       "0 -0.846796  0.538255  1.735882 -1.452645  \n",
       "1 -0.636877  0.154433 -0.506403 -0.583435  \n",
       "2  0.656770 -0.977120 -1.703000  0.388787  \n",
       "3  0.156067  0.568836 -0.374686 -0.583131  \n",
       "4 -0.315076  0.617274 -0.261043  0.940379  "
      ]
     },
     "execution_count": 44,
     "metadata": {},
     "output_type": "execute_result"
    }
   ],
   "source": [
    "X1.head()"
   ]
  },
  {
   "cell_type": "markdown",
   "metadata": {},
   "source": [
    "### individual pc loadings"
   ]
  },
  {
   "cell_type": "code",
   "execution_count": 45,
   "metadata": {
    "ExecuteTime": {
     "end_time": "2023-07-08T07:41:58.881797Z",
     "start_time": "2023-07-08T07:41:58.876537Z"
    }
   },
   "outputs": [],
   "source": [
    "# pc1\n",
    "loadings=pca.components_[0]\n",
    "# loadings"
   ]
  },
  {
   "cell_type": "code",
   "execution_count": 46,
   "metadata": {
    "ExecuteTime": {
     "end_time": "2023-07-08T07:41:58.894999Z",
     "start_time": "2023-07-08T07:41:58.881797Z"
    }
   },
   "outputs": [
    {
     "data": {
      "text/plain": [
       "[('Average.Credit.Card.Transaction', 0.14106723701819618),\n",
       " ('Balance.Transfer', 0.255945737991378),\n",
       " ('Term.Deposit', 0.18564206278911888),\n",
       " ('Life.Insurance', 0.30597397853133634),\n",
       " ('Medical.Insurance', 0.17988232863184972),\n",
       " ('Average.A.C.Balance', 0.2567761774376232),\n",
       " ('Personal.Loan', 0.22537142367159296),\n",
       " ('Investment.in.Mutual.Fund', 0.27938710659734356),\n",
       " ('Investment.Tax.Saving.Bond', 0.17267427434360388),\n",
       " ('Home.Loan', 0.15323888165413976),\n",
       " ('Online.Purchase.Amount', 0.118246878694911),\n",
       " ('Investment.in.Commudity', 0.34110934379978247),\n",
       " ('Investment.in.Equity', 0.3303903209689079),\n",
       " ('Investment.in.Derivative', 0.3631872584235068),\n",
       " ('Portfolio.Balance', 0.3669720070314468)]"
      ]
     },
     "execution_count": 46,
     "metadata": {},
     "output_type": "execute_result"
    }
   ],
   "source": [
    "list(zip(bd.columns,loadings)) # Your PCs loadinfs and Original Columns"
   ]
  },
  {
   "cell_type": "code",
   "execution_count": 47,
   "metadata": {
    "ExecuteTime": {
     "end_time": "2023-07-08T07:41:59.106041Z",
     "start_time": "2023-07-08T07:41:58.894999Z"
    }
   },
   "outputs": [
    {
     "data": {
      "text/plain": [
       "<AxesSubplot:>"
      ]
     },
     "execution_count": 47,
     "metadata": {},
     "output_type": "execute_result"
    },
    {
     "data": {
      "image/png": "[encoded data removed]",
      "text/plain": [
       "<Figure size 432x288 with 2 Axes>"
      ]
     },
     "metadata": {
      "needs_background": "light"
     },
     "output_type": "display_data"
    }
   ],
   "source": [
    "sns.heatmap(X1.corr()) # PCs and the 8k rows"
   ]
  },
  {
   "cell_type": "code",
   "execution_count": 93,
   "metadata": {
    "ExecuteTime": {
     "end_time": "2023-07-08T11:32:42.792546Z",
     "start_time": "2023-07-08T11:32:42.786998Z"
    }
   },
   "outputs": [
    {
     "data": {
      "text/plain": [
       "(8124, 11)"
      ]
     },
     "execution_count": 93,
     "metadata": {},
     "output_type": "execute_result"
    }
   ],
   "source": [
    "X1.shape"
   ]
  },
  {
   "cell_type": "code",
   "execution_count": null,
   "metadata": {},
   "outputs": [],
   "source": []
  }
 ],
 "metadata": {
  "kernelspec": {
   "display_name": "Python 3",
   "language": "python",
   "name": "python3"
  },
  "language_info": {
   "codemirror_mode": {
    "name": "ipython",
    "version": 3
   },
   "file_extension": ".py",
   "mimetype": "text/x-python",
   "name": "python",
   "nbconvert_exporter": "python",
   "pygments_lexer": "ipython3",
   "version": "3.7.4"
  },
  "toc": {
   "base_numbering": 1,
   "nav_menu": {},
   "number_sections": false,
   "sideBar": true,
   "skip_h1_title": false,
   "title_cell": "Table of Contents",
   "title_sidebar": "Contents",
   "toc_cell": false,
   "toc_position": {},
   "toc_section_display": true,
   "toc_window_display": false
  }
 },
 "nbformat": 4,
 "nbformat_minor": 2
}
