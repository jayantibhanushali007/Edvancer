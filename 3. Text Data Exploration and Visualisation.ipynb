{
 "cells": [
  {
   "cell_type": "markdown",
   "metadata": {},
   "source": [
    "# Example of Collecting Data from multiple files"
   ]
  },
  {
   "cell_type": "markdown",
   "metadata": {},
   "source": [
    "download reuters_data from here : https://www.dropbox.com/sh/865xeu4xwbyo2yt/AACd0pQEbeOSfvNjiV7aur4Ka"
   ]
  },
  {
   "cell_type": "code",
   "execution_count": 1,
   "metadata": {
    "ExecuteTime": {
     "end_time": "2023-07-11T12:33:21.525378Z",
     "start_time": "2023-07-11T12:33:21.509749Z"
    }
   },
   "outputs": [],
   "source": [
    "# !wget -O reuters_data.zip https://www.dropbox.com/sh/865xeu4xwbyo2yt/AACd0pQEbeOSfvNjiV7aur4Ka\n",
    "# !unzip reuters_data.zip -d reuters_data\n",
    "# you can manually unzip the file as well if the above commandline does not work for your machine"
   ]
  },
  {
   "cell_type": "code",
   "execution_count": 3,
   "metadata": {
    "ExecuteTime": {
     "end_time": "2023-07-23T10:15:43.027056Z",
     "start_time": "2023-07-23T10:15:43.019075Z"
    }
   },
   "outputs": [],
   "source": [
    "import os\n",
    "import pandas as pd\n",
    "import nltk\n",
    "path=r\"../data/reuters_data/\"\n",
    "files=os.listdir(path)"
   ]
  },
  {
   "cell_type": "code",
   "execution_count": 4,
   "metadata": {
    "ExecuteTime": {
     "end_time": "2023-07-23T10:15:46.257629Z",
     "start_time": "2023-07-23T10:15:46.247127Z"
    }
   },
   "outputs": [
    {
     "data": {
      "text/plain": [
       "['training_crude_10011.txt',\n",
       " 'training_crude_10078.txt',\n",
       " 'training_crude_10080.txt',\n",
       " 'training_crude_10106.txt',\n",
       " 'training_crude_10168.txt',\n",
       " 'training_crude_10190.txt',\n",
       " 'training_crude_10192.txt',\n",
       " 'training_crude_10200.txt',\n",
       " 'training_crude_10228.txt',\n",
       " 'training_crude_1026.txt',\n",
       " 'training_crude_10268.txt',\n",
       " 'training_crude_10395.txt',\n",
       " 'training_crude_10406.txt',\n",
       " 'training_crude_10452.txt',\n",
       " 'training_crude_10539.txt',\n",
       " 'training_crude_10567.txt',\n",
       " 'training_crude_10588.txt',\n",
       " 'training_crude_10620.txt',\n",
       " 'training_crude_10621.txt',\n",
       " 'training_crude_10627.txt',\n",
       " 'training_crude_10632.txt',\n",
       " 'training_crude_10641.txt',\n",
       " 'training_crude_10669.txt',\n",
       " 'training_crude_10693.txt',\n",
       " 'training_crude_10750.txt',\n",
       " 'training_crude_10797.txt',\n",
       " 'training_crude_10845.txt',\n",
       " 'training_crude_10873.txt',\n",
       " 'training_crude_10947.txt',\n",
       " 'training_crude_11007.txt',\n",
       " 'training_crude_11025.txt',\n",
       " 'training_crude_11100.txt',\n",
       " 'training_crude_11118.txt',\n",
       " 'training_crude_11149.txt',\n",
       " 'training_crude_11213.txt',\n",
       " 'training_crude_11231.txt',\n",
       " 'training_crude_11350.txt',\n",
       " 'training_crude_11388.txt',\n",
       " 'training_crude_11403.txt',\n",
       " 'training_crude_11421.txt',\n",
       " 'training_crude_11444.txt',\n",
       " 'training_crude_11455.txt',\n",
       " 'training_crude_11491.txt',\n",
       " 'training_crude_11559.txt',\n",
       " 'training_crude_11632.txt',\n",
       " 'training_crude_11639.txt',\n",
       " 'training_crude_11699.txt',\n",
       " 'training_crude_11723.txt',\n",
       " 'training_crude_11731.txt',\n",
       " 'training_crude_12267.txt',\n",
       " 'training_crude_12286.txt',\n",
       " 'training_crude_12371.txt',\n",
       " 'training_crude_12503.txt',\n",
       " 'training_crude_12533.txt',\n",
       " 'training_crude_127.txt',\n",
       " 'training_crude_12775.txt',\n",
       " 'training_crude_12803.txt',\n",
       " 'training_crude_12940.txt',\n",
       " 'training_crude_1306.txt',\n",
       " 'training_crude_13096.txt',\n",
       " 'training_crude_13102.txt',\n",
       " 'training_crude_13115.txt',\n",
       " 'training_crude_13142.txt',\n",
       " 'training_crude_13184.txt',\n",
       " 'training_crude_13200.txt',\n",
       " 'training_crude_1324.txt',\n",
       " 'training_crude_13256.txt',\n",
       " 'training_crude_13266.txt',\n",
       " 'training_crude_1331.txt',\n",
       " 'training_crude_1335.txt',\n",
       " 'training_crude_1343.txt',\n",
       " 'training_crude_13542.txt',\n",
       " 'training_crude_13611.txt',\n",
       " 'training_crude_13633.txt',\n",
       " 'training_crude_1387.txt',\n",
       " 'training_crude_13963.txt',\n",
       " 'training_crude_14211.txt',\n",
       " 'training_crude_14395.txt',\n",
       " 'training_crude_144.txt',\n",
       " 'training_crude_14698.txt',\n",
       " 'training_crude_14704.txt',\n",
       " 'training_crude_14709.txt',\n",
       " 'training_crude_14732.txt',\n",
       " 'training_crude_1521.txt',\n",
       " 'training_crude_1556.txt',\n",
       " 'training_crude_1616.txt',\n",
       " 'training_crude_1661.txt',\n",
       " 'training_crude_1686.txt',\n",
       " 'training_crude_1692.txt',\n",
       " 'training_crude_1709.txt',\n",
       " 'training_crude_1711.txt',\n",
       " 'training_crude_1799.txt',\n",
       " 'training_crude_1851.txt',\n",
       " 'training_crude_1856.txt',\n",
       " 'training_crude_1875.txt',\n",
       " 'training_crude_1878.txt',\n",
       " 'training_crude_189.txt',\n",
       " 'training_crude_1904.txt',\n",
       " 'training_crude_1909.txt',\n",
       " 'training_crude_191.txt',\n",
       " 'training_crude_194.txt',\n",
       " 'training_crude_1948.txt',\n",
       " 'training_crude_1980.txt',\n",
       " 'training_crude_1990.txt',\n",
       " 'training_crude_2004.txt',\n",
       " 'training_crude_2007.txt',\n",
       " 'training_crude_2046.txt',\n",
       " 'training_crude_2061.txt',\n",
       " 'training_crude_211.txt',\n",
       " 'training_crude_2121.txt',\n",
       " 'training_crude_2174.txt',\n",
       " 'training_crude_2175.txt',\n",
       " 'training_crude_2187.txt',\n",
       " 'training_crude_2231.txt',\n",
       " 'training_crude_236.txt',\n",
       " 'training_crude_237.txt',\n",
       " 'training_crude_2383.txt',\n",
       " 'training_crude_242.txt',\n",
       " 'training_crude_2449.txt',\n",
       " 'training_crude_246.txt',\n",
       " 'training_crude_248.txt',\n",
       " 'training_crude_2511.txt',\n",
       " 'training_crude_2515.txt',\n",
       " 'training_crude_2517.txt',\n",
       " 'training_crude_2522.txt',\n",
       " 'training_crude_2530.txt',\n",
       " 'training_crude_2585.txt',\n",
       " 'training_crude_2688.txt',\n",
       " 'training_crude_273.txt',\n",
       " 'training_crude_2767.txt',\n",
       " 'training_crude_2775.txt',\n",
       " 'training_crude_2838.txt',\n",
       " 'training_crude_2925.txt',\n",
       " 'training_crude_2957.txt',\n",
       " 'training_crude_2970.txt',\n",
       " 'training_crude_2973.txt',\n",
       " 'training_crude_2998.txt',\n",
       " 'training_crude_3003.txt',\n",
       " 'training_crude_3015.txt',\n",
       " 'training_crude_3017.txt',\n",
       " 'training_crude_3048.txt',\n",
       " 'training_crude_3065.txt',\n",
       " 'training_crude_3115.txt',\n",
       " 'training_crude_3145.txt',\n",
       " 'training_crude_3146.txt',\n",
       " 'training_crude_3162.txt',\n",
       " 'training_crude_3169.txt',\n",
       " 'training_crude_3174.txt',\n",
       " 'training_crude_3189.txt',\n",
       " 'training_crude_3204.txt',\n",
       " 'training_crude_3303.txt',\n",
       " 'training_crude_3332.txt',\n",
       " 'training_crude_3342.txt',\n",
       " 'training_crude_3354.txt',\n",
       " 'training_crude_3364.txt',\n",
       " 'training_crude_3389.txt',\n",
       " 'training_crude_3430.txt',\n",
       " 'training_crude_3452.txt',\n",
       " 'training_crude_3455.txt',\n",
       " 'training_crude_349.txt',\n",
       " 'training_crude_3507.txt',\n",
       " 'training_crude_3509.txt',\n",
       " 'training_crude_352.txt',\n",
       " 'training_crude_353.txt',\n",
       " 'training_crude_3556.txt',\n",
       " 'training_crude_3563.txt',\n",
       " 'training_crude_3571.txt',\n",
       " 'training_crude_3592.txt',\n",
       " 'training_crude_3594.txt',\n",
       " 'training_crude_3609.txt',\n",
       " 'training_crude_368.txt',\n",
       " 'training_crude_3798.txt',\n",
       " 'training_crude_3843.txt',\n",
       " 'training_crude_3869.txt',\n",
       " 'training_crude_3906.txt',\n",
       " 'training_crude_3959.txt',\n",
       " 'training_crude_3976.txt',\n",
       " 'training_crude_3980.txt',\n",
       " 'training_crude_3985.txt',\n",
       " 'training_crude_3995.txt',\n",
       " 'training_crude_4016.txt',\n",
       " 'training_crude_4028.txt',\n",
       " 'training_crude_4039.txt',\n",
       " 'training_crude_4041.txt',\n",
       " 'training_crude_4125.txt',\n",
       " 'training_crude_4129.txt',\n",
       " 'training_crude_4162.txt',\n",
       " 'training_crude_4171.txt',\n",
       " 'training_crude_4174.txt',\n",
       " 'training_crude_4232.txt',\n",
       " 'training_crude_4246.txt',\n",
       " 'training_crude_4315.txt',\n",
       " 'training_crude_4333.txt',\n",
       " 'training_crude_4340.txt',\n",
       " 'training_crude_4365.txt',\n",
       " 'training_crude_4367.txt',\n",
       " 'training_crude_4386.txt',\n",
       " 'training_crude_4425.txt',\n",
       " 'training_crude_4429.txt',\n",
       " 'training_crude_4445.txt',\n",
       " 'training_crude_4453.txt',\n",
       " 'training_crude_4462.txt',\n",
       " 'training_crude_4466.txt',\n",
       " 'training_crude_4467.txt',\n",
       " 'training_crude_4474.txt',\n",
       " 'training_crude_4481.txt',\n",
       " 'training_crude_4525.txt',\n",
       " 'training_crude_4558.txt',\n",
       " 'training_crude_4569.txt',\n",
       " 'training_crude_4576.txt',\n",
       " 'training_crude_4578.txt',\n",
       " 'training_crude_4584.txt',\n",
       " 'training_crude_459.txt',\n",
       " 'training_crude_4590.txt',\n",
       " 'training_crude_4593.txt',\n",
       " 'training_crude_4600.txt',\n",
       " 'training_crude_4604.txt',\n",
       " 'training_crude_4609.txt',\n",
       " 'training_crude_4658.txt',\n",
       " 'training_crude_4662.txt',\n",
       " 'training_crude_4664.txt',\n",
       " 'training_crude_4689.txt',\n",
       " 'training_crude_4713.txt',\n",
       " 'training_crude_4714.txt',\n",
       " 'training_crude_4742.txt',\n",
       " 'training_crude_4831.txt',\n",
       " 'training_crude_4848.txt',\n",
       " 'training_crude_4867.txt',\n",
       " 'training_crude_489.txt',\n",
       " 'training_crude_4951.txt',\n",
       " 'training_crude_4953.txt',\n",
       " 'training_crude_4962.txt',\n",
       " 'training_crude_4983.txt',\n",
       " 'training_crude_502.txt',\n",
       " 'training_crude_5037.txt',\n",
       " 'training_crude_5061.txt',\n",
       " 'training_crude_511.txt',\n",
       " 'training_crude_5116.txt',\n",
       " 'training_crude_5118.txt',\n",
       " 'training_crude_5119.txt',\n",
       " 'training_crude_5123.txt',\n",
       " 'training_crude_5125.txt',\n",
       " 'training_crude_5150.txt',\n",
       " 'training_crude_5156.txt',\n",
       " 'training_crude_5166.txt',\n",
       " 'training_crude_5167.txt',\n",
       " 'training_crude_5171.txt',\n",
       " 'training_crude_5244.txt',\n",
       " 'training_crude_5268.txt',\n",
       " 'training_crude_5270.txt',\n",
       " 'training_crude_5273.txt',\n",
       " 'training_crude_5281.txt',\n",
       " 'training_crude_543.txt',\n",
       " 'training_crude_5542.txt',\n",
       " 'training_crude_5553.txt',\n",
       " 'training_crude_5630.txt',\n",
       " 'training_crude_5683.txt',\n",
       " 'training_crude_5796.txt',\n",
       " 'training_crude_5852.txt',\n",
       " 'training_crude_5866.txt',\n",
       " 'training_crude_6023.txt',\n",
       " 'training_crude_6060.txt',\n",
       " 'training_crude_6086.txt',\n",
       " 'training_crude_6111.txt',\n",
       " 'training_crude_6119.txt',\n",
       " 'training_crude_6125.txt',\n",
       " 'training_crude_6159.txt',\n",
       " 'training_crude_6163.txt',\n",
       " 'training_crude_6166.txt',\n",
       " 'training_crude_6169.txt',\n",
       " 'training_crude_6177.txt',\n",
       " 'training_crude_6184.txt',\n",
       " 'training_crude_6201.txt',\n",
       " 'training_crude_6208.txt',\n",
       " 'training_crude_6264.txt',\n",
       " 'training_crude_6294.txt',\n",
       " 'training_crude_6301.txt',\n",
       " 'training_crude_6348.txt',\n",
       " 'training_crude_6404.txt',\n",
       " 'training_crude_6413.txt',\n",
       " 'training_crude_6432.txt',\n",
       " 'training_crude_6578.txt',\n",
       " 'training_crude_6598.txt',\n",
       " 'training_crude_6606.txt',\n",
       " 'training_crude_6652.txt',\n",
       " 'training_crude_6656.txt',\n",
       " 'training_crude_6722.txt',\n",
       " 'training_crude_6742.txt',\n",
       " 'training_crude_6746.txt',\n",
       " 'training_crude_6760.txt',\n",
       " 'training_crude_6791.txt',\n",
       " 'training_crude_6871.txt',\n",
       " 'training_crude_6876.txt',\n",
       " 'training_crude_6893.txt',\n",
       " 'training_crude_6905.txt',\n",
       " 'training_crude_6913.txt',\n",
       " 'training_crude_6996.txt',\n",
       " 'training_crude_704.txt',\n",
       " 'training_crude_7067.txt',\n",
       " 'training_crude_708.txt',\n",
       " 'training_crude_7097.txt',\n",
       " 'training_crude_7150.txt',\n",
       " 'training_crude_7152.txt',\n",
       " 'training_crude_7174.txt',\n",
       " 'training_crude_7287.txt',\n",
       " 'training_crude_7355.txt',\n",
       " 'training_crude_7423.txt',\n",
       " 'training_crude_7496.txt',\n",
       " 'training_crude_7528.txt',\n",
       " 'training_crude_7529.txt',\n",
       " 'training_crude_7611.txt',\n",
       " 'training_crude_7618.txt',\n",
       " 'training_crude_7639.txt',\n",
       " 'training_crude_7684.txt',\n",
       " 'training_crude_7742.txt',\n",
       " 'training_crude_7854.txt',\n",
       " 'training_crude_791.txt',\n",
       " 'training_crude_8015.txt',\n",
       " 'training_crude_8041.txt',\n",
       " 'training_crude_8069.txt',\n",
       " 'training_crude_8089.txt',\n",
       " 'training_crude_8100.txt',\n",
       " 'training_crude_8117.txt',\n",
       " 'training_crude_8131.txt',\n",
       " 'training_crude_8134.txt',\n",
       " 'training_crude_8160.txt',\n",
       " 'training_crude_8167.txt',\n",
       " 'training_crude_8188.txt',\n",
       " 'training_crude_8209.txt',\n",
       " 'training_crude_8210.txt',\n",
       " 'training_crude_8288.txt',\n",
       " 'training_crude_835.txt',\n",
       " 'training_crude_8402.txt',\n",
       " 'training_crude_8405.txt',\n",
       " 'training_crude_8421.txt',\n",
       " 'training_crude_8440.txt',\n",
       " 'training_crude_8478.txt',\n",
       " 'training_crude_8493.txt',\n",
       " 'training_crude_8516.txt',\n",
       " 'training_crude_8553.txt',\n",
       " 'training_crude_8598.txt',\n",
       " 'training_crude_8600.txt',\n",
       " 'training_crude_8606.txt',\n",
       " 'training_crude_8610.txt',\n",
       " 'training_crude_8623.txt',\n",
       " 'training_crude_8630.txt',\n",
       " 'training_crude_8672.txt',\n",
       " 'training_crude_8675.txt',\n",
       " 'training_crude_873.txt',\n",
       " 'training_crude_8749.txt',\n",
       " 'training_crude_8755.txt',\n",
       " 'training_crude_8765.txt',\n",
       " 'training_crude_8812.txt',\n",
       " 'training_crude_8815.txt',\n",
       " 'training_crude_8820.txt',\n",
       " 'training_crude_8835.txt',\n",
       " 'training_crude_8856.txt',\n",
       " 'training_crude_8882.txt',\n",
       " 'training_crude_8914.txt',\n",
       " 'training_crude_8959.txt',\n",
       " 'training_crude_8964.txt',\n",
       " 'training_crude_8971.txt',\n",
       " 'training_crude_9031.txt',\n",
       " 'training_crude_9039.txt',\n",
       " 'training_crude_9065.txt',\n",
       " 'training_crude_9155.txt',\n",
       " 'training_crude_918.txt',\n",
       " 'training_crude_9208.txt',\n",
       " 'training_crude_9253.txt',\n",
       " 'training_crude_9279.txt',\n",
       " 'training_crude_9293.txt',\n",
       " 'training_crude_930.txt',\n",
       " 'training_crude_9436.txt',\n",
       " 'training_crude_9445.txt',\n",
       " 'training_crude_945.txt',\n",
       " 'training_crude_952.txt',\n",
       " 'training_crude_9527.txt',\n",
       " 'training_crude_9583.txt',\n",
       " 'training_crude_9614.txt',\n",
       " 'training_crude_9634.txt',\n",
       " 'training_crude_9639.txt',\n",
       " 'training_crude_9650.txt',\n",
       " 'training_crude_9674.txt',\n",
       " 'training_crude_9718.txt',\n",
       " 'training_crude_9801.txt',\n",
       " 'training_crude_9849.txt',\n",
       " 'training_crude_988.txt',\n",
       " 'training_crude_9913.txt',\n",
       " 'training_crude_9947.txt',\n",
       " 'training_money-fx_10048.txt',\n",
       " 'training_money-fx_10075.txt',\n",
       " 'training_money-fx_1008.txt',\n",
       " 'training_money-fx_10081.txt',\n",
       " 'training_money-fx_10091.txt',\n",
       " 'training_money-fx_10136.txt',\n",
       " 'training_money-fx_10191.txt',\n",
       " 'training_money-fx_10263.txt',\n",
       " 'training_money-fx_10308.txt',\n",
       " 'training_money-fx_10321.txt',\n",
       " 'training_money-fx_10323.txt',\n",
       " 'training_money-fx_10337.txt',\n",
       " 'training_money-fx_10340.txt',\n",
       " 'training_money-fx_10344.txt',\n",
       " 'training_money-fx_10354.txt',\n",
       " 'training_money-fx_10356.txt',\n",
       " 'training_money-fx_10357.txt',\n",
       " 'training_money-fx_10358.txt',\n",
       " 'training_money-fx_10359.txt',\n",
       " 'training_money-fx_10364.txt',\n",
       " 'training_money-fx_10368.txt',\n",
       " 'training_money-fx_10370.txt',\n",
       " 'training_money-fx_10382.txt',\n",
       " 'training_money-fx_10416.txt',\n",
       " 'training_money-fx_10418.txt',\n",
       " 'training_money-fx_10475.txt',\n",
       " 'training_money-fx_10503.txt',\n",
       " 'training_money-fx_10546.txt',\n",
       " 'training_money-fx_10606.txt',\n",
       " 'training_money-fx_10617.txt',\n",
       " 'training_money-fx_10618.txt',\n",
       " 'training_money-fx_10622.txt',\n",
       " 'training_money-fx_10633.txt',\n",
       " 'training_money-fx_10636.txt',\n",
       " 'training_money-fx_10638.txt',\n",
       " 'training_money-fx_10650.txt',\n",
       " 'training_money-fx_10651.txt',\n",
       " 'training_money-fx_10652.txt',\n",
       " 'training_money-fx_10653.txt',\n",
       " 'training_money-fx_10654.txt',\n",
       " 'training_money-fx_10657.txt',\n",
       " 'training_money-fx_10658.txt',\n",
       " 'training_money-fx_10659.txt',\n",
       " 'training_money-fx_10660.txt',\n",
       " 'training_money-fx_10661.txt',\n",
       " 'training_money-fx_10679.txt',\n",
       " 'training_money-fx_10681.txt',\n",
       " 'training_money-fx_10684.txt',\n",
       " 'training_money-fx_10689.txt',\n",
       " 'training_money-fx_10696.txt',\n",
       " 'training_money-fx_10704.txt',\n",
       " 'training_money-fx_10710.txt',\n",
       " 'training_money-fx_10718.txt',\n",
       " 'training_money-fx_10731.txt',\n",
       " 'training_money-fx_10734.txt',\n",
       " 'training_money-fx_10736.txt',\n",
       " 'training_money-fx_10749.txt',\n",
       " 'training_money-fx_10751.txt',\n",
       " 'training_money-fx_10755.txt',\n",
       " 'training_money-fx_10756.txt',\n",
       " 'training_money-fx_10762.txt',\n",
       " 'training_money-fx_10766.txt',\n",
       " 'training_money-fx_10769.txt',\n",
       " 'training_money-fx_10770.txt',\n",
       " 'training_money-fx_10771.txt',\n",
       " 'training_money-fx_10773.txt',\n",
       " 'training_money-fx_10774.txt',\n",
       " 'training_money-fx_10780.txt',\n",
       " 'training_money-fx_10782.txt',\n",
       " 'training_money-fx_10796.txt',\n",
       " 'training_money-fx_10804.txt',\n",
       " 'training_money-fx_10807.txt',\n",
       " 'training_money-fx_10808.txt',\n",
       " 'training_money-fx_10809.txt',\n",
       " 'training_money-fx_10859.txt',\n",
       " 'training_money-fx_10864.txt',\n",
       " 'training_money-fx_1088.txt',\n",
       " 'training_money-fx_10913.txt',\n",
       " 'training_money-fx_11000.txt',\n",
       " 'training_money-fx_11059.txt',\n",
       " 'training_money-fx_11103.txt',\n",
       " 'training_money-fx_1112.txt',\n",
       " 'training_money-fx_11120.txt',\n",
       " 'training_money-fx_11135.txt',\n",
       " 'training_money-fx_11193.txt',\n",
       " 'training_money-fx_11200.txt',\n",
       " 'training_money-fx_11203.txt',\n",
       " 'training_money-fx_11209.txt',\n",
       " 'training_money-fx_11212.txt',\n",
       " 'training_money-fx_11228.txt',\n",
       " 'training_money-fx_11234.txt',\n",
       " 'training_money-fx_11238.txt',\n",
       " 'training_money-fx_11244.txt',\n",
       " 'training_money-fx_11256.txt',\n",
       " 'training_money-fx_11263.txt',\n",
       " 'training_money-fx_11281.txt',\n",
       " 'training_money-fx_11284.txt',\n",
       " 'training_money-fx_11297.txt',\n",
       " 'training_money-fx_11322.txt',\n",
       " 'training_money-fx_11365.txt',\n",
       " 'training_money-fx_11417.txt',\n",
       " 'training_money-fx_11430.txt',\n",
       " 'training_money-fx_11447.txt',\n",
       " 'training_money-fx_11450.txt',\n",
       " 'training_money-fx_1154.txt',\n",
       " 'training_money-fx_11551.txt',\n",
       " 'training_money-fx_11734.txt',\n",
       " 'training_money-fx_11753.txt',\n",
       " 'training_money-fx_11764.txt',\n",
       " 'training_money-fx_11772.txt',\n",
       " 'training_money-fx_11774.txt',\n",
       " 'training_money-fx_11776.txt',\n",
       " 'training_money-fx_11783.txt',\n",
       " 'training_money-fx_11794.txt',\n",
       " 'training_money-fx_11798.txt',\n",
       " 'training_money-fx_11820.txt',\n",
       " 'training_money-fx_11832.txt',\n",
       " 'training_money-fx_11844.txt',\n",
       " 'training_money-fx_11864.txt',\n",
       " 'training_money-fx_11938.txt',\n",
       " 'training_money-fx_11944.txt',\n",
       " 'training_money-fx_11946.txt',\n",
       " 'training_money-fx_11972.txt',\n",
       " 'training_money-fx_12121.txt',\n",
       " 'training_money-fx_12136.txt',\n",
       " 'training_money-fx_12145.txt',\n",
       " 'training_money-fx_12177.txt',\n",
       " 'training_money-fx_12183.txt',\n",
       " 'training_money-fx_12396.txt',\n",
       " 'training_money-fx_12406.txt',\n",
       " 'training_money-fx_12410.txt',\n",
       " 'training_money-fx_12413.txt',\n",
       " 'training_money-fx_12416.txt',\n",
       " 'training_money-fx_12418.txt',\n",
       " 'training_money-fx_12422.txt',\n",
       " 'training_money-fx_12437.txt',\n",
       " 'training_money-fx_12447.txt',\n",
       " 'training_money-fx_12453.txt',\n",
       " 'training_money-fx_12456.txt',\n",
       " 'training_money-fx_12470.txt',\n",
       " 'training_money-fx_12471.txt',\n",
       " 'training_money-fx_12494.txt',\n",
       " 'training_money-fx_12501.txt',\n",
       " 'training_money-fx_12522.txt',\n",
       " 'training_money-fx_12523.txt',\n",
       " 'training_money-fx_12554.txt',\n",
       " 'training_money-fx_12588.txt',\n",
       " 'training_money-fx_12593.txt',\n",
       " 'training_money-fx_12741.txt',\n",
       " 'training_money-fx_12745.txt',\n",
       " 'training_money-fx_12780.txt',\n",
       " 'training_money-fx_12785.txt',\n",
       " 'training_money-fx_12789.txt',\n",
       " 'training_money-fx_12791.txt',\n",
       " 'training_money-fx_12795.txt',\n",
       " 'training_money-fx_12801.txt',\n",
       " 'training_money-fx_12806.txt',\n",
       " 'training_money-fx_12812.txt',\n",
       " 'training_money-fx_12815.txt',\n",
       " 'training_money-fx_12819.txt',\n",
       " 'training_money-fx_12840.txt',\n",
       " 'training_money-fx_12842.txt',\n",
       " 'training_money-fx_12877.txt',\n",
       " 'training_money-fx_12923.txt',\n",
       " 'training_money-fx_13053.txt',\n",
       " 'training_money-fx_13243.txt',\n",
       " 'training_money-fx_13244.txt',\n",
       " 'training_money-fx_13245.txt',\n",
       " 'training_money-fx_13261.txt',\n",
       " 'training_money-fx_13270.txt',\n",
       " 'training_money-fx_13315.txt',\n",
       " 'training_money-fx_13398.txt',\n",
       " 'training_money-fx_13404.txt',\n",
       " 'training_money-fx_13512.txt',\n",
       " 'training_money-fx_13524.txt',\n",
       " 'training_money-fx_13530.txt',\n",
       " 'training_money-fx_13531.txt',\n",
       " 'training_money-fx_13544.txt',\n",
       " 'training_money-fx_13552.txt',\n",
       " 'training_money-fx_13660.txt',\n",
       " 'training_money-fx_13739.txt',\n",
       " 'training_money-fx_13831.txt',\n",
       " 'training_money-fx_13869.txt',\n",
       " 'training_money-fx_13903.txt',\n",
       " 'training_money-fx_13919.txt',\n",
       " 'training_money-fx_13949.txt',\n",
       " 'training_money-fx_13950.txt',\n",
       " 'training_money-fx_13958.txt',\n",
       " 'training_money-fx_13988.txt',\n",
       " 'training_money-fx_13994.txt',\n",
       " 'training_money-fx_14034.txt',\n",
       " 'training_money-fx_14055.txt',\n",
       " 'training_money-fx_14150.txt',\n",
       " 'training_money-fx_14178.txt',\n",
       " 'training_money-fx_14207.txt',\n",
       " 'training_money-fx_1421.txt',\n",
       " 'training_money-fx_1457.txt',\n",
       " 'training_money-fx_14655.txt',\n",
       " 'training_money-fx_14686.txt',\n",
       " 'training_money-fx_14757.txt',\n",
       " 'training_money-fx_14767.txt',\n",
       " 'training_money-fx_14770.txt',\n",
       " 'training_money-fx_14777.txt',\n",
       " 'training_money-fx_14779.txt',\n",
       " 'training_money-fx_14785.txt',\n",
       " 'training_money-fx_1503.txt',\n",
       " 'training_money-fx_1514.txt',\n",
       " 'training_money-fx_1533.txt',\n",
       " 'training_money-fx_1553.txt',\n",
       " 'training_money-fx_1560.txt',\n",
       " 'training_money-fx_1724.txt',\n",
       " 'training_money-fx_1811.txt',\n",
       " 'training_money-fx_1926.txt',\n",
       " 'training_money-fx_1931.txt',\n",
       " 'training_money-fx_1943.txt',\n",
       " 'training_money-fx_1949.txt',\n",
       " 'training_money-fx_1967.txt',\n",
       " 'training_money-fx_1976.txt',\n",
       " 'training_money-fx_1982.txt',\n",
       " 'training_money-fx_1983.txt',\n",
       " 'training_money-fx_2022.txt',\n",
       " 'training_money-fx_2025.txt',\n",
       " 'training_money-fx_2178.txt',\n",
       " 'training_money-fx_2181.txt',\n",
       " 'training_money-fx_2190.txt',\n",
       " 'training_money-fx_221.txt',\n",
       " 'training_money-fx_2286.txt',\n",
       " 'training_money-fx_2327.txt',\n",
       " 'training_money-fx_2352.txt',\n",
       " 'training_money-fx_2354.txt',\n",
       " 'training_money-fx_2406.txt',\n",
       " 'training_money-fx_2452.txt',\n",
       " 'training_money-fx_247.txt',\n",
       " 'training_money-fx_256.txt',\n",
       " 'training_money-fx_2565.txt',\n",
       " 'training_money-fx_2576.txt',\n",
       " 'training_money-fx_2601.txt',\n",
       " 'training_money-fx_2623.txt',\n",
       " 'training_money-fx_2626.txt',\n",
       " 'training_money-fx_2633.txt',\n",
       " 'training_money-fx_2678.txt',\n",
       " 'training_money-fx_2683.txt',\n",
       " 'training_money-fx_2697.txt',\n",
       " 'training_money-fx_2765.txt',\n",
       " 'training_money-fx_296.txt',\n",
       " 'training_money-fx_2966.txt',\n",
       " 'training_money-fx_2993.txt',\n",
       " 'training_money-fx_2996.txt',\n",
       " 'training_money-fx_3001.txt',\n",
       " 'training_money-fx_3002.txt',\n",
       " 'training_money-fx_3020.txt',\n",
       " 'training_money-fx_3031.txt',\n",
       " 'training_money-fx_3044.txt',\n",
       " 'training_money-fx_3060.txt',\n",
       " 'training_money-fx_3065.txt',\n",
       " 'training_money-fx_3067.txt',\n",
       " 'training_money-fx_3068.txt',\n",
       " 'training_money-fx_307.txt',\n",
       " 'training_money-fx_3076.txt',\n",
       " 'training_money-fx_3121.txt',\n",
       " 'training_money-fx_3137.txt',\n",
       " 'training_money-fx_3159.txt',\n",
       " 'training_money-fx_3164.txt',\n",
       " 'training_money-fx_3222.txt',\n",
       " 'training_money-fx_3267.txt',\n",
       " 'training_money-fx_3292.txt',\n",
       " 'training_money-fx_3338.txt',\n",
       " 'training_money-fx_336.txt',\n",
       " 'training_money-fx_341.txt',\n",
       " 'training_money-fx_3411.txt',\n",
       " 'training_money-fx_3419.txt',\n",
       " 'training_money-fx_3421.txt',\n",
       " 'training_money-fx_3433.txt',\n",
       " 'training_money-fx_3435.txt',\n",
       " 'training_money-fx_3442.txt',\n",
       " 'training_money-fx_3461.txt',\n",
       " 'training_money-fx_3482.txt',\n",
       " 'training_money-fx_3483.txt',\n",
       " 'training_money-fx_3493.txt',\n",
       " 'training_money-fx_3514.txt',\n",
       " 'training_money-fx_3526.txt',\n",
       " 'training_money-fx_3532.txt',\n",
       " 'training_money-fx_3533.txt',\n",
       " 'training_money-fx_3535.txt',\n",
       " 'training_money-fx_3554.txt',\n",
       " 'training_money-fx_3584.txt',\n",
       " 'training_money-fx_3593.txt',\n",
       " 'training_money-fx_3612.txt',\n",
       " 'training_money-fx_3666.txt',\n",
       " 'training_money-fx_3694.txt',\n",
       " 'training_money-fx_3729.txt',\n",
       " 'training_money-fx_3735.txt',\n",
       " 'training_money-fx_4038.txt',\n",
       " 'training_money-fx_4088.txt',\n",
       " 'training_money-fx_4090.txt',\n",
       " 'training_money-fx_4093.txt',\n",
       " 'training_money-fx_411.txt',\n",
       " 'training_money-fx_4131.txt',\n",
       " 'training_money-fx_4139.txt',\n",
       " 'training_money-fx_4170.txt',\n",
       " 'training_money-fx_4188.txt',\n",
       " 'training_money-fx_4275.txt',\n",
       " 'training_money-fx_4293.txt',\n",
       " 'training_money-fx_4298.txt',\n",
       " 'training_money-fx_4616.txt',\n",
       " 'training_money-fx_4633.txt',\n",
       " 'training_money-fx_4666.txt',\n",
       " 'training_money-fx_4675.txt',\n",
       " 'training_money-fx_4680.txt',\n",
       " 'training_money-fx_4682.txt',\n",
       " 'training_money-fx_4703.txt',\n",
       " 'training_money-fx_4709.txt',\n",
       " 'training_money-fx_4712.txt',\n",
       " 'training_money-fx_4720.txt',\n",
       " 'training_money-fx_475.txt',\n",
       " 'training_money-fx_4768.txt',\n",
       " 'training_money-fx_4783.txt',\n",
       " 'training_money-fx_4809.txt',\n",
       " 'training_money-fx_4822.txt',\n",
       " 'training_money-fx_4829.txt',\n",
       " 'training_money-fx_4882.txt',\n",
       " 'training_money-fx_5070.txt',\n",
       " 'training_money-fx_5176.txt',\n",
       " 'training_money-fx_5181.txt',\n",
       " 'training_money-fx_5183.txt',\n",
       " 'training_money-fx_519.txt',\n",
       " 'training_money-fx_5190.txt',\n",
       " 'training_money-fx_5193.txt',\n",
       " 'training_money-fx_5201.txt',\n",
       " 'training_money-fx_5204.txt',\n",
       " 'training_money-fx_5206.txt',\n",
       " 'training_money-fx_522.txt',\n",
       " 'training_money-fx_5223.txt',\n",
       " 'training_money-fx_5232.txt',\n",
       " 'training_money-fx_5241.txt',\n",
       " 'training_money-fx_5269.txt',\n",
       " 'training_money-fx_5271.txt',\n",
       " 'training_money-fx_5277.txt',\n",
       " 'training_money-fx_5279.txt',\n",
       " 'training_money-fx_5280.txt',\n",
       " 'training_money-fx_5290.txt',\n",
       " 'training_money-fx_5336.txt',\n",
       " 'training_money-fx_5338.txt',\n",
       " 'training_money-fx_5344.txt',\n",
       " 'training_money-fx_5360.txt',\n",
       " 'training_money-fx_5394.txt',\n",
       " 'training_money-fx_5404.txt',\n",
       " 'training_money-fx_5412.txt',\n",
       " 'training_money-fx_5434.txt',\n",
       " 'training_money-fx_5439.txt',\n",
       " 'training_money-fx_5778.txt',\n",
       " 'training_money-fx_5779.txt',\n",
       " 'training_money-fx_5811.txt',\n",
       " 'training_money-fx_5814.txt',\n",
       " 'training_money-fx_5819.txt',\n",
       " 'training_money-fx_5841.txt',\n",
       " 'training_money-fx_5858.txt',\n",
       " 'training_money-fx_5861.txt',\n",
       " 'training_money-fx_5905.txt',\n",
       " 'training_money-fx_5909.txt',\n",
       " 'training_money-fx_5945.txt',\n",
       " 'training_money-fx_5998.txt',\n",
       " 'training_money-fx_6044.txt',\n",
       " 'training_money-fx_6046.txt',\n",
       " 'training_money-fx_6083.txt',\n",
       " 'training_money-fx_6108.txt',\n",
       " 'training_money-fx_6137.txt',\n",
       " 'training_money-fx_6338.txt',\n",
       " 'training_money-fx_6357.txt',\n",
       " 'training_money-fx_6359.txt',\n",
       " 'training_money-fx_6394.txt',\n",
       " 'training_money-fx_6399.txt',\n",
       " 'training_money-fx_6400.txt',\n",
       " 'training_money-fx_6426.txt',\n",
       " 'training_money-fx_6445.txt',\n",
       " 'training_money-fx_6452.txt',\n",
       " 'training_money-fx_6531.txt',\n",
       " 'training_money-fx_6543.txt',\n",
       " 'training_money-fx_6576.txt',\n",
       " 'training_money-fx_6945.txt',\n",
       " 'training_money-fx_6981.txt',\n",
       " 'training_money-fx_7020.txt',\n",
       " 'training_money-fx_7027.txt',\n",
       " 'training_money-fx_7036.txt',\n",
       " 'training_money-fx_7043.txt',\n",
       " 'training_money-fx_7080.txt',\n",
       " 'training_money-fx_7100.txt',\n",
       " 'training_money-fx_7159.txt',\n",
       " 'training_money-fx_7204.txt',\n",
       " 'training_money-fx_7207.txt',\n",
       " 'training_money-fx_7312.txt',\n",
       " 'training_money-fx_7313.txt',\n",
       " 'training_money-fx_7375.txt',\n",
       " 'training_money-fx_7394.txt',\n",
       " 'training_money-fx_7429.txt',\n",
       " 'training_money-fx_7460.txt',\n",
       " 'training_money-fx_7538.txt',\n",
       " 'training_money-fx_7559.txt',\n",
       " 'training_money-fx_7562.txt',\n",
       " 'training_money-fx_7568.txt',\n",
       " 'training_money-fx_7571.txt',\n",
       " 'training_money-fx_7587.txt',\n",
       " 'training_money-fx_7599.txt',\n",
       " 'training_money-fx_7614.txt',\n",
       " 'training_money-fx_7628.txt',\n",
       " 'training_money-fx_7652.txt',\n",
       " 'training_money-fx_7669.txt',\n",
       " 'training_money-fx_7710.txt',\n",
       " 'training_money-fx_7716.txt',\n",
       " 'training_money-fx_7764.txt',\n",
       " 'training_money-fx_7769.txt',\n",
       " 'training_money-fx_7804.txt',\n",
       " 'training_money-fx_7950.txt',\n",
       " 'training_money-fx_8064.txt',\n",
       " 'training_money-fx_8074.txt',\n",
       " 'training_money-fx_8097.txt',\n",
       " 'training_money-fx_8098.txt',\n",
       " 'training_money-fx_8145.txt',\n",
       " 'training_money-fx_8147.txt',\n",
       " 'training_money-fx_8153.txt',\n",
       " 'training_money-fx_8168.txt',\n",
       " 'training_money-fx_8182.txt',\n",
       " 'training_money-fx_8189.txt',\n",
       " 'training_money-fx_8194.txt',\n",
       " 'training_money-fx_8199.txt',\n",
       " 'training_money-fx_8234.txt',\n",
       " 'training_money-fx_8247.txt',\n",
       " 'training_money-fx_8299.txt',\n",
       " 'training_money-fx_8302.txt',\n",
       " 'training_money-fx_8309.txt',\n",
       " 'training_money-fx_8563.txt',\n",
       " 'training_money-fx_8578.txt',\n",
       " 'training_money-fx_8584.txt',\n",
       " 'training_money-fx_8586.txt',\n",
       " 'training_money-fx_8587.txt',\n",
       " 'training_money-fx_8588.txt',\n",
       " 'training_money-fx_8590.txt',\n",
       " 'training_money-fx_8591.txt',\n",
       " 'training_money-fx_8597.txt',\n",
       " 'training_money-fx_8605.txt',\n",
       " 'training_money-fx_8607.txt',\n",
       " 'training_money-fx_8621.txt',\n",
       " 'training_money-fx_8629.txt',\n",
       " 'training_money-fx_8641.txt',\n",
       " 'training_money-fx_8657.txt',\n",
       " 'training_money-fx_8658.txt',\n",
       " 'training_money-fx_8664.txt',\n",
       " 'training_money-fx_8670.txt',\n",
       " 'training_money-fx_8674.txt',\n",
       " 'training_money-fx_8678.txt',\n",
       " 'training_money-fx_8710.txt',\n",
       " 'training_money-fx_8714.txt',\n",
       " 'training_money-fx_872.txt',\n",
       " 'training_money-fx_8723.txt',\n",
       " 'training_money-fx_8728.txt',\n",
       " 'training_money-fx_8735.txt',\n",
       " 'training_money-fx_8760.txt',\n",
       " 'training_money-fx_8796.txt',\n",
       " 'training_money-fx_8845.txt',\n",
       " 'training_money-fx_8884.txt',\n",
       " 'training_money-fx_8922.txt',\n",
       " 'training_money-fx_8984.txt',\n",
       " 'training_money-fx_9007.txt',\n",
       " 'training_money-fx_9022.txt',\n",
       " 'training_money-fx_903.txt',\n",
       " 'training_money-fx_9054.txt',\n",
       " 'training_money-fx_9055.txt',\n",
       " 'training_money-fx_9061.txt',\n",
       " 'training_money-fx_9079.txt',\n",
       " 'training_money-fx_9118.txt',\n",
       " 'training_money-fx_9120.txt',\n",
       " 'training_money-fx_9128.txt',\n",
       " 'training_money-fx_9129.txt',\n",
       " 'training_money-fx_913.txt',\n",
       " 'training_money-fx_9131.txt',\n",
       " 'training_money-fx_9132.txt',\n",
       " 'training_money-fx_9134.txt',\n",
       " 'training_money-fx_9138.txt',\n",
       " 'training_money-fx_9149.txt',\n",
       " 'training_money-fx_915.txt',\n",
       " 'training_money-fx_9162.txt',\n",
       " 'training_money-fx_9164.txt',\n",
       " 'training_money-fx_9166.txt',\n",
       " 'training_money-fx_9170.txt',\n",
       " 'training_money-fx_9213.txt',\n",
       " 'training_money-fx_9214.txt',\n",
       " 'training_money-fx_9216.txt',\n",
       " 'training_money-fx_9217.txt',\n",
       " 'training_money-fx_9218.txt',\n",
       " 'training_money-fx_9220.txt',\n",
       " 'training_money-fx_9222.txt',\n",
       " 'training_money-fx_9224.txt',\n",
       " 'training_money-fx_926.txt',\n",
       " 'training_money-fx_9261.txt',\n",
       " 'training_money-fx_9282.txt',\n",
       " 'training_money-fx_9295.txt',\n",
       " 'training_money-fx_9299.txt',\n",
       " 'training_money-fx_9361.txt',\n",
       " 'training_money-fx_9377.txt',\n",
       " 'training_money-fx_942.txt',\n",
       " 'training_money-fx_943.txt',\n",
       " 'training_money-fx_9498.txt',\n",
       " 'training_money-fx_953.txt',\n",
       " 'training_money-fx_9534.txt',\n",
       " 'training_money-fx_9535.txt',\n",
       " 'training_money-fx_9656.txt',\n",
       " 'training_money-fx_9681.txt',\n",
       " 'training_money-fx_9686.txt',\n",
       " 'training_money-fx_9689.txt',\n",
       " 'training_money-fx_9698.txt',\n",
       " 'training_money-fx_9699.txt',\n",
       " 'training_money-fx_9701.txt',\n",
       " 'training_money-fx_9720.txt',\n",
       " 'training_money-fx_9727.txt',\n",
       " 'training_money-fx_9730.txt',\n",
       " 'training_money-fx_9745.txt',\n",
       " 'training_money-fx_9753.txt',\n",
       " 'training_money-fx_9764.txt',\n",
       " 'training_money-fx_9781.txt',\n",
       " 'training_money-fx_9783.txt',\n",
       " 'training_money-fx_9784.txt',\n",
       " 'training_money-fx_9792.txt',\n",
       " 'training_money-fx_9797.txt',\n",
       " 'training_money-fx_9848.txt',\n",
       " 'training_money-fx_9851.txt',\n",
       " 'training_money-fx_9852.txt',\n",
       " 'training_money-fx_9855.txt',\n",
       " 'training_money-fx_9857.txt',\n",
       " 'training_money-fx_9862.txt',\n",
       " 'training_money-fx_9864.txt',\n",
       " 'training_money-fx_9871.txt',\n",
       " 'training_money-fx_9880.txt',\n",
       " 'training_money-fx_9923.txt',\n",
       " 'training_money-fx_9946.txt',\n",
       " 'training_money-fx_9955.txt',\n",
       " 'training_money-fx_9957.txt',\n",
       " 'training_money-fx_9975.txt',\n",
       " 'training_money-fx_999.txt']"
      ]
     },
     "execution_count": 4,
     "metadata": {},
     "output_type": "execute_result"
    }
   ],
   "source": [
    "files"
   ]
  },
  {
   "cell_type": "code",
   "execution_count": 2,
   "metadata": {
    "ExecuteTime": {
     "end_time": "2023-07-23T10:12:09.897275Z",
     "start_time": "2023-07-23T10:11:13.109481Z"
    }
   },
   "outputs": [
    {
     "name": "stdout",
     "output_type": "stream",
     "text": [
      "showing info https://raw.githubusercontent.com/nltk/nltk_data/gh-pages/index.xml\n"
     ]
    },
    {
     "data": {
      "text/plain": [
       "True"
      ]
     },
     "execution_count": 2,
     "metadata": {},
     "output_type": "execute_result"
    }
   ],
   "source": [
    "nltk.download()"
   ]
  },
  {
   "cell_type": "code",
   "execution_count": 3,
   "metadata": {
    "ExecuteTime": {
     "end_time": "2023-07-11T12:33:23.411778Z",
     "start_time": "2023-07-11T12:33:23.398299Z"
    }
   },
   "outputs": [],
   "source": [
    "# files"
   ]
  },
  {
   "cell_type": "code",
   "execution_count": 4,
   "metadata": {
    "ExecuteTime": {
     "end_time": "2023-07-11T12:33:23.427373Z",
     "start_time": "2023-07-11T12:33:23.412776Z"
    }
   },
   "outputs": [],
   "source": [
    "f=open(path+'training_money-fx_3593.txt','r',encoding='latin-1')"
   ]
  },
  {
   "cell_type": "code",
   "execution_count": 5,
   "metadata": {
    "ExecuteTime": {
     "end_time": "2023-07-11T12:33:23.442689Z",
     "start_time": "2023-07-11T12:33:23.428208Z"
    }
   },
   "outputs": [],
   "source": [
    "# text=\"\"\n",
    "# for line in f:\n",
    "#     if line.strip()==\"\":continue\n",
    "#     else:\n",
    "#         text+=' '+line.strip()\n",
    "# print(text)\n",
    "\n",
    "\n",
    "temp=[line.strip() for line in f if line.strip()!=\"\"]\n",
    "f.close()"
   ]
  },
  {
   "cell_type": "code",
   "execution_count": 6,
   "metadata": {
    "ExecuteTime": {
     "end_time": "2023-07-11T12:33:23.458182Z",
     "start_time": "2023-07-11T12:33:23.443690Z"
    }
   },
   "outputs": [
    {
     "data": {
      "text/plain": [
       "'HUNGARY HOPES DEVALUATION WILL END TRADE DEFICIT National Bank of Hungary first vice-president Janos Fekete said he hoped a planned eight pct devaluation of the forint will spur exports and redress last year\\'s severe trade deficit with the West. Fekete told Reuters in an interview Hungary must achieve at least equilibrium on its hard currency trade. \"It is useful to have a devaluation,\" he said. \"There is now a real push to our exports and a bit of a curb to our imports.\" The official news agency MTI said today Hungary would devalue by eight pct and it expected the new rates to be announced later today. Fekete said the rates would come into effect tomorrow. He said one reason for the devaluation was that Hungary had a higher rate of inflation over the past two years than its main partners (around eight pct in 1985 and between five and 5.5 pct in 1986). This was partly an after-effect of action Hungary took to prevent inflation from soaring during the oil price shocks of the 1970s, he added. Hungary devalued by a similar amount last September and by between three and four pct early last year. But the country\\'s hard currency trade balance nevertheless fell into a deficit of 539.4 mln dlrs from a surplus of 295.3 mln in 1986 and 1.2 billion in 1985. Fekete said Hungary was hoping for a hard currency trade surplus of between 200 and 300 mln dlrs this year, but that a more likely outcome would be closer to equilibrium on total hard currency trade of around 10 billion dlrs. One Western commercial attache here said: \"Devaluation of itself will not change anything. It will only be useful if they also make efforts to restructure industry and improve the quality of their export goods.\" Fekete said he hoped to raise credits on good terms this year to invest in restructuring industry. It would be his role to persuade international banks to cooperate in this process. He noted Hungary had been given an AA rating enabling it to raise money on the Japanese Samurai bond market. Hungary\\'s net hard currency debt soared to 7.79 billion dlrs last year from 5.01 billion in 1985, partly because of a current account deficit of 1.42 billion dlrs and partly because the fall in the dollar increased the dollar value of debt denominated in marks or yen. He said he feared net debt would also rise slightly this year, but he was in favour of borrowing for the purpose of modernisation. \"I am for credits to invest for that purpose,\" he said. \"I am against credits for consumption.\" He forecast gross domestic product growth of two pct this year, from one pct in 1986. Fekete said Hungary would continue to restructure its debt profile by prepaying high interest shorter and medium term loans with cheaper long term money for which it was looking more and more to the fixed interest rate bond market, where he considered rates to be low. Hard currency foreign exchange reserves would stay at around 3.5 billion dlrs, he said. On the budget deficit, which tripled to a provisional 47 billion forints last year after quadrupling in 1985, Fekete said the finance ministry was working out measures to reduce an approved target deficit for this year of 43.8 billion forints to between 30 and 35 billion forints.'"
      ]
     },
     "execution_count": 6,
     "metadata": {},
     "output_type": "execute_result"
    }
   ],
   "source": [
    "' '.join(temp)"
   ]
  },
  {
   "cell_type": "code",
   "execution_count": 7,
   "metadata": {
    "ExecuteTime": {
     "end_time": "2023-07-11T12:33:23.473388Z",
     "start_time": "2023-07-11T12:33:23.459059Z"
    }
   },
   "outputs": [],
   "source": [
    "# files"
   ]
  },
  {
   "cell_type": "code",
   "execution_count": 7,
   "metadata": {
    "ExecuteTime": {
     "end_time": "2023-07-23T10:26:15.440535Z",
     "start_time": "2023-07-23T10:26:11.219081Z"
    }
   },
   "outputs": [],
   "source": [
    "target=[]\n",
    "article_text=[]\n",
    "for file in files:\n",
    "    if '.txt' not in file:continue\n",
    "    f=open(path+file,encoding='latin-1')\n",
    "    article_text.append(\" \".join([line.strip() for line in\n",
    "                                       f if line.strip()!=\"\"]))\n",
    "    if \"crude\" in file:\n",
    "        target.append(\"crude\")\n",
    "    else:\n",
    "        target.append(\"money\")\n",
    "    f.close()"
   ]
  },
  {
   "cell_type": "code",
   "execution_count": 8,
   "metadata": {
    "ExecuteTime": {
     "end_time": "2023-07-23T10:26:15.447669Z",
     "start_time": "2023-07-23T10:26:15.442644Z"
    }
   },
   "outputs": [],
   "source": [
    "mydata=pd.DataFrame({'target':target,'article_text':article_text})"
   ]
  },
  {
   "cell_type": "code",
   "execution_count": 9,
   "metadata": {
    "ExecuteTime": {
     "end_time": "2023-07-23T10:26:15.464544Z",
     "start_time": "2023-07-23T10:26:15.451025Z"
    }
   },
   "outputs": [
    {
     "data": {
      "text/html": [
       "<div>\n",
       "<style scoped>\n",
       "    .dataframe tbody tr th:only-of-type {\n",
       "        vertical-align: middle;\n",
       "    }\n",
       "\n",
       "    .dataframe tbody tr th {\n",
       "        vertical-align: top;\n",
       "    }\n",
       "\n",
       "    .dataframe thead th {\n",
       "        text-align: right;\n",
       "    }\n",
       "</style>\n",
       "<table border=\"1\" class=\"dataframe\">\n",
       "  <thead>\n",
       "    <tr style=\"text-align: right;\">\n",
       "      <th></th>\n",
       "      <th>target</th>\n",
       "      <th>article_text</th>\n",
       "    </tr>\n",
       "  </thead>\n",
       "  <tbody>\n",
       "    <tr>\n",
       "      <th>0</th>\n",
       "      <td>crude</td>\n",
       "      <td>CANADA OIL EXPORTS RISE 20 PCT IN 1986 Canadia...</td>\n",
       "    </tr>\n",
       "    <tr>\n",
       "      <th>1</th>\n",
       "      <td>crude</td>\n",
       "      <td>BP &amp;lt;BP&gt; DOES NOT PLAN TO HIKE STANDARD &amp;lt;...</td>\n",
       "    </tr>\n",
       "    <tr>\n",
       "      <th>2</th>\n",
       "      <td>crude</td>\n",
       "      <td>BP&amp;lt;BP&gt; OFFER RAISES EXPECTATIONS FOR OIL VA...</td>\n",
       "    </tr>\n",
       "    <tr>\n",
       "      <th>3</th>\n",
       "      <td>crude</td>\n",
       "      <td>USX &amp;lt;X&gt; SAYS TALKS ENDED WITH BRITISH PETRO...</td>\n",
       "    </tr>\n",
       "    <tr>\n",
       "      <th>4</th>\n",
       "      <td>crude</td>\n",
       "      <td>BP &amp;lt;BP&gt; MAY HAVE TO RAISE BID -  ANALYSTS B...</td>\n",
       "    </tr>\n",
       "  </tbody>\n",
       "</table>\n",
       "</div>"
      ],
      "text/plain": [
       "  target                                       article_text\n",
       "0  crude  CANADA OIL EXPORTS RISE 20 PCT IN 1986 Canadia...\n",
       "1  crude  BP &lt;BP> DOES NOT PLAN TO HIKE STANDARD &lt;...\n",
       "2  crude  BP&lt;BP> OFFER RAISES EXPECTATIONS FOR OIL VA...\n",
       "3  crude  USX &lt;X> SAYS TALKS ENDED WITH BRITISH PETRO...\n",
       "4  crude  BP &lt;BP> MAY HAVE TO RAISE BID -  ANALYSTS B..."
      ]
     },
     "execution_count": 9,
     "metadata": {},
     "output_type": "execute_result"
    }
   ],
   "source": [
    "mydata.head()"
   ]
  },
  {
   "cell_type": "markdown",
   "metadata": {},
   "source": [
    "# Text Data Exploration with word cloud"
   ]
  },
  {
   "cell_type": "code",
   "execution_count": 10,
   "metadata": {
    "ExecuteTime": {
     "end_time": "2023-07-23T10:26:15.717197Z",
     "start_time": "2023-07-23T10:26:15.468537Z"
    }
   },
   "outputs": [],
   "source": [
    "from wordcloud import WordCloud"
   ]
  },
  {
   "cell_type": "code",
   "execution_count": 11,
   "metadata": {
    "ExecuteTime": {
     "end_time": "2023-07-23T10:26:16.107825Z",
     "start_time": "2023-07-23T10:26:15.719192Z"
    }
   },
   "outputs": [],
   "source": [
    "import matplotlib.pyplot as plt\n",
    "%matplotlib inline"
   ]
  },
  {
   "cell_type": "code",
   "execution_count": 12,
   "metadata": {
    "ExecuteTime": {
     "end_time": "2023-07-23T10:26:16.114058Z",
     "start_time": "2023-07-23T10:26:16.108771Z"
    }
   },
   "outputs": [],
   "source": [
    "all_articles=' '.join(mydata['article_text'])"
   ]
  },
  {
   "cell_type": "code",
   "execution_count": 13,
   "metadata": {
    "ExecuteTime": {
     "end_time": "2023-07-23T10:26:16.120605Z",
     "start_time": "2023-07-23T10:26:16.116051Z"
    }
   },
   "outputs": [],
   "source": [
    "crude_articles=\" \".join(mydata.loc[mydata['target']=='crude','article_text'])"
   ]
  },
  {
   "cell_type": "code",
   "execution_count": 14,
   "metadata": {
    "ExecuteTime": {
     "end_time": "2023-07-23T10:26:16.127607Z",
     "start_time": "2023-07-23T10:26:16.122618Z"
    }
   },
   "outputs": [],
   "source": [
    "money_articles=\" \".join(mydata.loc[mydata['target']=='money','article_text'])"
   ]
  },
  {
   "cell_type": "code",
   "execution_count": 15,
   "metadata": {
    "ExecuteTime": {
     "end_time": "2023-07-23T10:26:17.307901Z",
     "start_time": "2023-07-23T10:26:16.129602Z"
    }
   },
   "outputs": [
    {
     "data": {
      "text/plain": [
       "(-0.5, 399.5, 199.5, -0.5)"
      ]
     },
     "execution_count": 15,
     "metadata": {},
     "output_type": "execute_result"
    },
    {
     "data": {
      "image/png": "[encoded data removed]",
      "text/plain": [
       "<Figure size 432x288 with 1 Axes>"
      ]
     },
     "metadata": {
      "needs_background": "light"
     },
     "output_type": "display_data"
    }
   ],
   "source": [
    "wordcloud = WordCloud().generate(all_articles)\n",
    "plt.imshow(wordcloud, interpolation='bilinear')\n",
    "plt.axis(\"off\")"
   ]
  },
  {
   "cell_type": "code",
   "execution_count": 16,
   "metadata": {
    "ExecuteTime": {
     "end_time": "2023-07-23T10:26:18.122797Z",
     "start_time": "2023-07-23T10:26:17.310105Z"
    }
   },
   "outputs": [
    {
     "data": {
      "text/plain": [
       "(-0.5, 399.5, 199.5, -0.5)"
      ]
     },
     "execution_count": 16,
     "metadata": {},
     "output_type": "execute_result"
    },
    {
     "data": {
      "image/png": "[encoded data removed]",
      "text/plain": [
       "<Figure size 432x288 with 1 Axes>"
      ]
     },
     "metadata": {
      "needs_background": "light"
     },
     "output_type": "display_data"
    }
   ],
   "source": [
    "wordcloud = WordCloud().generate(crude_articles)\n",
    "plt.imshow(wordcloud, interpolation='bilinear')\n",
    "plt.axis(\"off\")"
   ]
  },
  {
   "cell_type": "code",
   "execution_count": 17,
   "metadata": {
    "ExecuteTime": {
     "end_time": "2023-07-23T10:26:18.948270Z",
     "start_time": "2023-07-23T10:26:18.124792Z"
    }
   },
   "outputs": [
    {
     "data": {
      "text/plain": [
       "(-0.5, 399.5, 199.5, -0.5)"
      ]
     },
     "execution_count": 17,
     "metadata": {},
     "output_type": "execute_result"
    },
    {
     "data": {
      "image/png": "[encoded data removed]",
      "text/plain": [
       "<Figure size 432x288 with 1 Axes>"
      ]
     },
     "metadata": {
      "needs_background": "light"
     },
     "output_type": "display_data"
    }
   ],
   "source": [
    "wordcloud = WordCloud().generate(money_articles)\n",
    "plt.imshow(wordcloud, interpolation='bilinear')\n",
    "plt.axis(\"off\")"
   ]
  },
  {
   "cell_type": "markdown",
   "metadata": {},
   "source": [
    "# Text Data Exploration with nltk"
   ]
  },
  {
   "cell_type": "code",
   "execution_count": 18,
   "metadata": {
    "ExecuteTime": {
     "end_time": "2023-07-23T10:26:18.953800Z",
     "start_time": "2023-07-23T10:26:18.949266Z"
    }
   },
   "outputs": [],
   "source": [
    "from nltk import word_tokenize"
   ]
  },
  {
   "cell_type": "code",
   "execution_count": 19,
   "metadata": {
    "ExecuteTime": {
     "end_time": "2023-07-23T10:26:18.960784Z",
     "start_time": "2023-07-23T10:26:18.955794Z"
    }
   },
   "outputs": [
    {
     "data": {
      "text/plain": [
       "['how',\n",
       " 'do',\n",
       " 'i',\n",
       " 'use',\n",
       " 'nltk',\n",
       " '.',\n",
       " 'what',\n",
       " 'a',\n",
       " 'good',\n",
       " 'package',\n",
       " 'it',\n",
       " 'is',\n",
       " '!',\n",
       " 'lets',\n",
       " 'work',\n",
       " 'with',\n",
       " 'it']"
      ]
     },
     "execution_count": 19,
     "metadata": {},
     "output_type": "execute_result"
    }
   ],
   "source": [
    "word_tokenize('how do i use nltk. what a good package it is! lets work with it')"
   ]
  },
  {
   "cell_type": "code",
   "execution_count": 20,
   "metadata": {
    "ExecuteTime": {
     "end_time": "2023-07-23T10:26:19.613860Z",
     "start_time": "2023-07-23T10:26:18.962779Z"
    }
   },
   "outputs": [],
   "source": [
    "tokens=word_tokenize(money_articles)"
   ]
  },
  {
   "cell_type": "code",
   "execution_count": 21,
   "metadata": {
    "ExecuteTime": {
     "end_time": "2023-07-23T10:26:19.619844Z",
     "start_time": "2023-07-23T10:26:19.614857Z"
    }
   },
   "outputs": [],
   "source": [
    "money_articles_Text=nltk.Text(tokens)"
   ]
  },
  {
   "cell_type": "code",
   "execution_count": 22,
   "metadata": {
    "ExecuteTime": {
     "end_time": "2023-07-23T10:26:20.311705Z",
     "start_time": "2023-07-23T10:26:20.247226Z"
    }
   },
   "outputs": [
    {
     "name": "stdout",
     "output_type": "stream",
     "text": [
      "Displaying 25 of 1025 matches:\n",
      "T GIVEN FURTHER 437 MLN STG HELP The Bank of England said it had provided the \n",
      " afternoon session . This brings the Bank 's total help so far today to 461 ml\n",
      "orecast of 450 mln stg . The central bank made purchases of bank bills outrigh\n",
      ". The central bank made purchases of bank bills outright comprising 120 mln st\n",
      " market reports of concerted central bank intervention this week . `` The doll\n",
      "EET SET NO TARGETS - LEIGH-PEMBERTON Bank of England Governor Robin Leigh-Pemb\n",
      "erton said that , in principle , the Bank of England favoured full EMS members\n",
      " he added . Leigh-Pemberton said the Bank of England had not wanted base rates\n",
      "l might suggest a level of 74 on the Bank of England 's sterling index , when \n",
      "er chief currency dealer of Herstatt Bank , which collapsed in 1974 on foreign\n",
      "they accuse of causing losses at the bank of over 500 mln marks by manipulatin\n",
      " . The crash of the private Herstatt bank with losses of over one billion mark\n",
      " Herstatt , managing director of the bank when it collapsed , was sentenced to\n",
      "Six other people associated with the bank were jailed in 1983 . But Dattel was\n",
      " have led him to take his own life . Bank of Japan buys dollars around 149.00 \n",
      "rs around 149.00 yen - Tokyo dealers Bank of Japan buys dollars around 149.00 \n",
      " DEFICIT FORECAST AT 700 MLN STG The Bank of England said it forecast a shorta\n",
      "me 120 mln stg to the system today . Bank of France buying dollars for yen - b\n",
      "ng dollars for yen - banking sources Bank of France buying dollars for yen - b\n",
      "some bankers to question the Central Bank 's policy of pegging the guilder fir\n",
      "ate policy . While agreeing with the Bank 's commitment to defend the guilder \n",
      "der strongly , some bankers want the Bank to make more use of the range within\n",
      "en , chairman of Amsterdam-Rotterdam Bank NV ( Amro ) said the Central Bank 's\n",
      "am Bank NV ( Amro ) said the Central Bank 's policy was overcautious . `` I wo\n",
      " `` I would like to suggest that the Bank use more freely the range given to t\n"
     ]
    }
   ],
   "source": [
    "money_articles_Text.concordance('bank')"
   ]
  },
  {
   "cell_type": "code",
   "execution_count": 24,
   "metadata": {
    "ExecuteTime": {
     "end_time": "2023-07-11T12:33:31.162947Z",
     "start_time": "2023-07-11T12:33:30.679252Z"
    }
   },
   "outputs": [
    {
     "name": "stdout",
     "output_type": "stream",
     "text": [
      "dollar market fed bundesbank yen banks government treasury system\n",
      "pound currencies rate economy currency meeting ems accord budget\n",
      "report time\n"
     ]
    }
   ],
   "source": [
    "money_articles_Text.similar('bank')\n",
    "\n",
    "# this is not as such context aware , but dependant on the words in the neighbourhood"
   ]
  },
  {
   "cell_type": "code",
   "execution_count": 28,
   "metadata": {
    "ExecuteTime": {
     "end_time": "2023-07-23T10:33:10.455567Z",
     "start_time": "2023-07-23T10:33:10.451560Z"
    }
   },
   "outputs": [
    {
     "name": "stdout",
     "output_type": "stream",
     "text": [
      "billion_surplus the_,\n"
     ]
    }
   ],
   "source": [
    "money_articles_Text.common_contexts(['dlr','yen'])"
   ]
  },
  {
   "cell_type": "markdown",
   "metadata": {},
   "source": [
    "# Sentiment Analysis with nltk"
   ]
  },
  {
   "cell_type": "code",
   "execution_count": 26,
   "metadata": {
    "ExecuteTime": {
     "end_time": "2023-07-11T12:33:31.209039Z",
     "start_time": "2023-07-11T12:33:31.180432Z"
    }
   },
   "outputs": [],
   "source": [
    "from nltk.sentiment.vader import SentimentIntensityAnalyzer\n",
    "analyzer=SentimentIntensityAnalyzer()"
   ]
  },
  {
   "cell_type": "code",
   "execution_count": 27,
   "metadata": {
    "ExecuteTime": {
     "end_time": "2023-07-11T12:33:31.225052Z",
     "start_time": "2023-07-11T12:33:31.209039Z"
    }
   },
   "outputs": [
    {
     "name": "stdout",
     "output_type": "stream",
     "text": [
      "VADER is smart, handsome, and funny. {'neg': 0.0, 'neu': 0.254, 'pos': 0.746, 'compound': 0.8316}\n",
      "VADER is not smart, handsome, nor funny. {'neg': 0.646, 'neu': 0.354, 'pos': 0.0, 'compound': -0.7424}\n",
      "VADER is smart, handsome, and funny! {'neg': 0.0, 'neu': 0.248, 'pos': 0.752, 'compound': 0.8439}\n",
      "VADER is very smart, handsome, and funny. {'neg': 0.0, 'neu': 0.299, 'pos': 0.701, 'compound': 0.8545}\n",
      "VADER is VERY SMART, handsome, and FUNNY. {'neg': 0.0, 'neu': 0.246, 'pos': 0.754, 'compound': 0.9227}\n",
      "VADER is VERY SMART, handsome, and FUNNY!!! {'neg': 0.0, 'neu': 0.233, 'pos': 0.767, 'compound': 0.9342}\n",
      "VADER is VERY SMART, uber handsome, and FRIGGIN FUNNY!!! {'neg': 0.0, 'neu': 0.294, 'pos': 0.706, 'compound': 0.9469}\n",
      "The book was good. {'neg': 0.0, 'neu': 0.508, 'pos': 0.492, 'compound': 0.4404}\n",
      "The book was kind of good. {'neg': 0.0, 'neu': 0.657, 'pos': 0.343, 'compound': 0.3832}\n",
      "The plot was good, but the characters are uncompelling and \n",
      "             the dialog is not great. {'neg': 0.327, 'neu': 0.579, 'pos': 0.094, 'compound': -0.7042}\n",
      "At least it isn't a horrible book. {'neg': 0.0, 'neu': 0.637, 'pos': 0.363, 'compound': 0.431}\n",
      "Make sure you :) or :D today! {'neg': 0.0, 'neu': 0.294, 'pos': 0.706, 'compound': 0.8633}\n",
      "Today SUX! {'neg': 0.779, 'neu': 0.221, 'pos': 0.0, 'compound': -0.5461}\n",
      "Today only kinda sux! But I'll get by, lol {'neg': 0.179, 'neu': 0.569, 'pos': 0.251, 'compound': 0.2228}\n"
     ]
    }
   ],
   "source": [
    "sentences = [\"VADER is smart, handsome, and funny.\",      # positive sentence example\n",
    "            \"VADER is not smart, handsome, nor funny.\",   # negation sentence example\n",
    "            \"VADER is smart, handsome, and funny!\",       # punctuation emphasis handled correctly (sentiment intensity adjusted)\n",
    "            \"VADER is very smart, handsome, and funny.\",  # booster words handled correctly (sentiment intensity adjusted)\n",
    "            \"VADER is VERY SMART, handsome, and FUNNY.\",  # emphasis for ALLCAPS handled\n",
    "            \"VADER is VERY SMART, handsome, and FUNNY!!!\",# combination of signals - VADER appropriately adjusts intensity\n",
    "            \"VADER is VERY SMART, uber handsome, and FRIGGIN FUNNY!!!\",# booster words & punctuation make this close to ceiling for score\n",
    "            \"The book was good.\",                                     # positive sentence\n",
    "            \"The book was kind of good.\",                 # qualified positive sentence is handled correctly (intensity adjusted)\n",
    "        '''The plot was good, but the characters are uncompelling and \n",
    "             the dialog is not great.''', # mixed negation sentence\n",
    "            \"At least it isn't a horrible book.\",         # negated negative sentence with contraction\n",
    "            \"Make sure you :) or :D today!\",              # emoticons handled\n",
    "            \"Today SUX!\",                                 # negative slang with capitalization emphasis\n",
    "            \"Today only kinda sux! But I'll get by, lol\"  # mixed sentiment example with slang and constrastive conjunction \"but\"\n",
    "             ]\n",
    "\n",
    "\n",
    "for sentence in sentences:\n",
    "    vs = analyzer.polarity_scores(sentence)\n",
    "    print(sentence, str(vs))"
   ]
  },
  {
   "cell_type": "markdown",
   "metadata": {},
   "source": [
    "__VADER Reference__\n",
    "\n",
    "https://www.geeksforgeeks.org/python-sentiment-analysis-using-vader/"
   ]
  },
  {
   "cell_type": "markdown",
   "metadata": {},
   "source": [
    "# Language Correction, sentiment and POS Tagging with TextBlob and nltk"
   ]
  },
  {
   "cell_type": "code",
   "execution_count": 29,
   "metadata": {
    "ExecuteTime": {
     "end_time": "2023-07-23T10:51:13.885521Z",
     "start_time": "2023-07-23T10:51:13.837185Z"
    }
   },
   "outputs": [],
   "source": [
    "from textblob import TextBlob "
   ]
  },
  {
   "cell_type": "code",
   "execution_count": 31,
   "metadata": {
    "ExecuteTime": {
     "end_time": "2023-07-23T10:51:19.920131Z",
     "start_time": "2023-07-23T10:51:19.743344Z"
    }
   },
   "outputs": [
    {
     "data": {
      "text/plain": [
       "TextBlob(\"I had good colour !\")"
      ]
     },
     "execution_count": 31,
     "metadata": {},
     "output_type": "execute_result"
    }
   ],
   "source": [
    "b = TextBlob(\"I hadh goodh colovrr !\")\n",
    "b.correct()"
   ]
  },
  {
   "cell_type": "code",
   "execution_count": 32,
   "metadata": {
    "ExecuteTime": {
     "end_time": "2023-07-23T10:52:17.176763Z",
     "start_time": "2023-07-23T10:52:17.173752Z"
    }
   },
   "outputs": [],
   "source": [
    "text='''Agata Imielska from the Bureau of Meteorology warned of localised intense rainfall and damaging winds, saying the public should be aware of \"dangerous conditions\" that can change quite quickly.\n",
    "\"If you don't need to travel, if you don't need to head out today, this is the day to stay at home,\" Ms Imielska was quoted as saying by the Sydney Morning Herald.\n",
    "More storms are forecast in the coming days, and parts of eastern Australia could receive up to a metre of rain in the space of just a week, the BBC's Phil Mercer in Sydney reports.'''"
   ]
  },
  {
   "cell_type": "code",
   "execution_count": 34,
   "metadata": {
    "ExecuteTime": {
     "end_time": "2023-07-23T10:53:06.292137Z",
     "start_time": "2023-07-23T10:53:05.260839Z"
    }
   },
   "outputs": [
    {
     "data": {
      "text/plain": [
       "TextBlob(\"Gate Imielska from the Bureau of Meteorology warned of localised intense rainfall and damaging winds, saying the public should be aware of \"dangerous conditions\" that can change quite quickly.\n",
       "\"Of you don't need to travel, if you don't need to head out today, this is the day to stay at home,\" Is Imielska was quoted as saying by the Sydney Morning Herald.\n",
       "More storms are forecast in the coming days, and parts of eastern Australia could receive up to a metre of rain in the space of just a week, the BBC's Phil Verser in Sydney reports.\")"
      ]
     },
     "execution_count": 34,
     "metadata": {},
     "output_type": "execute_result"
    }
   ],
   "source": [
    "text_blob = TextBlob(text)\n",
    "text_blob.correct()"
   ]
  },
  {
   "cell_type": "code",
   "execution_count": 31,
   "metadata": {
    "ExecuteTime": {
     "end_time": "2023-07-11T12:33:31.365312Z",
     "start_time": "2023-07-11T12:33:31.351473Z"
    }
   },
   "outputs": [],
   "source": [
    "b=TextBlob(text)"
   ]
  },
  {
   "cell_type": "code",
   "execution_count": 32,
   "metadata": {
    "ExecuteTime": {
     "end_time": "2023-07-11T12:33:31.467071Z",
     "start_time": "2023-07-11T12:33:31.367309Z"
    }
   },
   "outputs": [
    {
     "data": {
      "text/plain": [
       "[('Agata', 'NNP'),\n",
       " ('Imielska', 'NNP'),\n",
       " ('from', 'IN'),\n",
       " ('the', 'DT'),\n",
       " ('Bureau', 'NNP'),\n",
       " ('of', 'IN'),\n",
       " ('Meteorology', 'NNP'),\n",
       " ('warned', 'VBD'),\n",
       " ('of', 'IN'),\n",
       " ('localised', 'JJ'),\n",
       " ('intense', 'JJ'),\n",
       " ('rainfall', 'NN'),\n",
       " ('and', 'CC'),\n",
       " ('damaging', 'JJ'),\n",
       " ('winds', 'NNS'),\n",
       " ('saying', 'VBG'),\n",
       " ('the', 'DT'),\n",
       " ('public', 'NN'),\n",
       " ('should', 'MD'),\n",
       " ('be', 'VB'),\n",
       " ('aware', 'JJ'),\n",
       " ('of', 'IN'),\n",
       " ('dangerous', 'JJ'),\n",
       " ('conditions', 'NNS'),\n",
       " ('that', 'WDT'),\n",
       " ('can', 'MD'),\n",
       " ('change', 'VB'),\n",
       " ('quite', 'RB'),\n",
       " ('quickly', 'RB'),\n",
       " ('If', 'IN'),\n",
       " ('you', 'PRP'),\n",
       " ('do', 'VBP'),\n",
       " (\"n't\", 'RB'),\n",
       " ('need', 'VB'),\n",
       " ('to', 'TO'),\n",
       " ('travel', 'VB'),\n",
       " ('if', 'IN'),\n",
       " ('you', 'PRP'),\n",
       " ('do', 'VBP'),\n",
       " (\"n't\", 'RB'),\n",
       " ('need', 'VB'),\n",
       " ('to', 'TO'),\n",
       " ('head', 'VB'),\n",
       " ('out', 'RP'),\n",
       " ('today', 'NN'),\n",
       " ('this', 'DT'),\n",
       " ('is', 'VBZ'),\n",
       " ('the', 'DT'),\n",
       " ('day', 'NN'),\n",
       " ('to', 'TO'),\n",
       " ('stay', 'VB'),\n",
       " ('at', 'IN'),\n",
       " ('home', 'NN'),\n",
       " ('Ms', 'NNP'),\n",
       " ('Imielska', 'NNP'),\n",
       " ('was', 'VBD'),\n",
       " ('quoted', 'VBN'),\n",
       " ('as', 'IN'),\n",
       " ('saying', 'VBG'),\n",
       " ('by', 'IN'),\n",
       " ('the', 'DT'),\n",
       " ('Sydney', 'NNP'),\n",
       " ('Morning', 'NNP'),\n",
       " ('Herald', 'NNP'),\n",
       " ('More', 'JJR'),\n",
       " ('storms', 'NNS'),\n",
       " ('are', 'VBP'),\n",
       " ('forecast', 'VBN'),\n",
       " ('in', 'IN'),\n",
       " ('the', 'DT'),\n",
       " ('coming', 'JJ'),\n",
       " ('days', 'NNS'),\n",
       " ('and', 'CC'),\n",
       " ('parts', 'NNS'),\n",
       " ('of', 'IN'),\n",
       " ('eastern', 'JJ'),\n",
       " ('Australia', 'NNP'),\n",
       " ('could', 'MD'),\n",
       " ('receive', 'VB'),\n",
       " ('up', 'RP'),\n",
       " ('to', 'TO'),\n",
       " ('a', 'DT'),\n",
       " ('metre', 'NN'),\n",
       " ('of', 'IN'),\n",
       " ('rain', 'NN'),\n",
       " ('in', 'IN'),\n",
       " ('the', 'DT'),\n",
       " ('space', 'NN'),\n",
       " ('of', 'IN'),\n",
       " ('just', 'RB'),\n",
       " ('a', 'DT'),\n",
       " ('week', 'NN'),\n",
       " ('the', 'DT'),\n",
       " ('BBC', 'NNP'),\n",
       " (\"'s\", 'POS'),\n",
       " ('Phil', 'NNP'),\n",
       " ('Mercer', 'NNP'),\n",
       " ('in', 'IN'),\n",
       " ('Sydney', 'NNP'),\n",
       " ('reports', 'NNS')]"
      ]
     },
     "execution_count": 32,
     "metadata": {},
     "output_type": "execute_result"
    }
   ],
   "source": [
    "b.tags"
   ]
  },
  {
   "cell_type": "code",
   "execution_count": 33,
   "metadata": {
    "ExecuteTime": {
     "end_time": "2023-07-11T12:33:34.511380Z",
     "start_time": "2023-07-11T12:33:31.468544Z"
    }
   },
   "outputs": [
    {
     "data": {
      "text/plain": [
       "WordList(['agata imielska', 'meteorology', 'intense rainfall', 'dangerous conditions', \"n't need\", \"n't need\", 'ms imielska', 'sydney morning herald', 'australia', 'bbc', 'phil mercer', 'sydney'])"
      ]
     },
     "execution_count": 33,
     "metadata": {},
     "output_type": "execute_result"
    }
   ],
   "source": [
    "b.noun_phrases"
   ]
  },
  {
   "cell_type": "code",
   "execution_count": 34,
   "metadata": {
    "ExecuteTime": {
     "end_time": "2023-07-11T12:33:34.565727Z",
     "start_time": "2023-07-11T12:33:34.511380Z"
    }
   },
   "outputs": [
    {
     "data": {
      "text/plain": [
       "Sentiment(polarity=0.11388888888888889, subjectivity=0.5361111111111111)"
      ]
     },
     "execution_count": 34,
     "metadata": {},
     "output_type": "execute_result"
    }
   ],
   "source": [
    "b.sentiment"
   ]
  },
  {
   "cell_type": "code",
   "execution_count": 35,
   "metadata": {
    "ExecuteTime": {
     "end_time": "2023-07-11T12:33:34.581685Z",
     "start_time": "2023-07-11T12:33:34.567674Z"
    }
   },
   "outputs": [
    {
     "data": {
      "text/plain": [
       "4"
      ]
     },
     "execution_count": 35,
     "metadata": {},
     "output_type": "execute_result"
    }
   ],
   "source": [
    "b.word_counts['to']"
   ]
  },
  {
   "cell_type": "code",
   "execution_count": 36,
   "metadata": {
    "ExecuteTime": {
     "end_time": "2023-07-11T12:33:34.597635Z",
     "start_time": "2023-07-11T12:33:34.583631Z"
    }
   },
   "outputs": [
    {
     "data": {
      "text/plain": [
       "[('We', 'PRP'),\n",
       " ('hope', 'VBP'),\n",
       " ('you', 'PRP'),\n",
       " ('love', 'VB'),\n",
       " ('your', 'PRP$'),\n",
       " ('sleepycat', 'NN'),\n",
       " ('mattress', 'NN'),\n",
       " ('.', '.'),\n",
       " ('Welcom', 'NNP'),\n",
       " ('to', 'TO'),\n",
       " ('the', 'DT'),\n",
       " ('sleepycat', 'NN'),\n",
       " ('community', 'NN'),\n",
       " ('.', '.')]"
      ]
     },
     "execution_count": 36,
     "metadata": {},
     "output_type": "execute_result"
    }
   ],
   "source": [
    "sentence = \"We hope you love your sleepycat mattress. Welcom to the sleepycat community.\"\n",
    "\n",
    "import nltk\n",
    "\n",
    "nltk.pos_tag(word_tokenize(sentence))\n",
    "\n",
    "# Affine \n",
    "# spacy "
   ]
  },
  {
   "cell_type": "markdown",
   "metadata": {},
   "source": [
    "# Meaning of POS TAGS Abbreviations"
   ]
  },
  {
   "cell_type": "markdown",
   "metadata": {},
   "source": [
    "source : https://stackoverflow.com/questions/1833252/java-stanford-nlp-part-of-speech-labels\n",
    "\n",
    "* CC: conjunction, coordinating\n",
    "\n",
    "    & 'n and both but either et for less minus neither nor or plus so\n",
    "    therefore times v. versus vs. whether yet\n",
    "    \n",
    "* CD: numeral, cardinal\n",
    "\n",
    "    mid-1890 nine-thirty forty-two one-tenth ten million 0.5 one forty-\n",
    "    seven 1987 twenty '79 zero two 78-degrees eighty-four IX '60s .025\n",
    "    fifteen 271,124 dozen quintillion DM2,000 ...\n",
    "    \n",
    "* DT: determiner\n",
    "\n",
    "    all an another any both del each either every half la many much nary\n",
    "    neither no some such that the them these this those\n",
    "    \n",
    "* EX: existential there\n",
    "    there\n",
    "    \n",
    "* FW: foreign word\n",
    "\n",
    "    gemeinschaft hund ich jeux habeas Haementeria Herr K'ang-si vous\n",
    "    lutihaw alai je jour objets salutaris fille quibusdam pas trop Monte\n",
    "    terram fiche oui corporis ...\n",
    "    \n",
    "* IN: preposition or conjunction, subordinating\n",
    "\n",
    "    astride among uppon whether out inside pro despite on by throughout\n",
    "    below within for towards near behind atop around if like until below\n",
    "    next into if beside ...\n",
    "    \n",
    "* JJ: adjective or numeral, ordinal\n",
    "\n",
    "    third ill-mannered pre-war regrettable oiled calamitous first separable\n",
    "    ectoplasmic battery-powered participatory fourth still-to-be-named\n",
    "    multilingual multi-disciplinary ...\n",
    "    \n",
    "* JJR: adjective, comparative\n",
    "\n",
    "    bleaker braver breezier briefer brighter brisker broader bumper busier\n",
    "    calmer cheaper choosier cleaner clearer closer colder commoner costlier\n",
    "    cozier creamier crunchier cuter ...\n",
    "    \n",
    "* JJS: adjective, superlative\n",
    "\n",
    "    calmest cheapest choicest classiest cleanest clearest closest commonest\n",
    "    corniest costliest crassest creepiest crudest cutest darkest deadliest\n",
    "    dearest deepest densest dinkiest ...\n",
    "    \n",
    "* LS: list item marker\n",
    "\n",
    "    A A. B B. C C. D E F First G H I J K One SP-44001 SP-44002 SP-44005\n",
    "    SP-44007 Second Third Three Two * a b c d first five four one six three\n",
    "    two\n",
    "    \n",
    "* MD: modal auxiliary\n",
    "\n",
    "    can cannot could couldn't dare may might must need ought shall should\n",
    "    shouldn't will would\n",
    "    \n",
    "* NN: noun, common, singular or mass\n",
    "\n",
    "    common-carrier cabbage knuckle-duster Casino afghan shed thermostat\n",
    "    investment slide humour falloff slick wind hyena override subhumanity\n",
    "    machinist ...\n",
    "    \n",
    "* NNS: noun, common, plural\n",
    "\n",
    "    undergraduates scotches bric-a-brac products bodyguards facets coasts\n",
    "    divestitures storehouses designs clubs fragrances averages\n",
    "    subjectivists apprehensions muses factory-jobs ...\n",
    "    \n",
    "* NNP: noun, proper, singular\n",
    "\n",
    "    Motown Venneboerger Czestochwa Ranzer Conchita Trumplane Christos\n",
    "    Oceanside Escobar Kreisler Sawyer Cougar Yvette Ervin ODI Darryl CTCA\n",
    "    Shannon A.K.C. Meltex Liverpool ...\n",
    "    \n",
    "* NNPS: noun, proper, plural\n",
    "\n",
    "    Americans Americas Amharas Amityvilles Amusements Anarcho-Syndicalists\n",
    "    Andalusians Andes Andruses Angels Animals Anthony Antilles Antiques\n",
    "    Apache Apaches Apocrypha ...\n",
    "    \n",
    "* PDT: pre-determiner\n",
    "\n",
    "    all both half many quite such sure this\n",
    "    \n",
    "* POS: genitive marker\n",
    "    ' 's\n",
    "\n",
    "* PRP: pronoun, personal\n",
    "\n",
    "    hers herself him himself hisself it itself me myself one oneself ours\n",
    "    ourselves ownself self she thee theirs them themselves they thou thy us\n",
    "    \n",
    "* PRP$': pronoun, possessive\n",
    "\n",
    "    her his mine my our ours their thy your\n",
    "    \n",
    "* RB: adverb\n",
    "\n",
    "    occasionally unabatingly maddeningly adventurously professedly\n",
    "    stirringly prominently technologically magisterially predominately\n",
    "    swiftly fiscally pitilessly ...\n",
    "    \n",
    "* RBR: adverb, comparative\n",
    "\n",
    "    further gloomier grander graver greater grimmer harder harsher\n",
    "    healthier heavier higher however larger later leaner lengthier less-\n",
    "    perfectly lesser lonelier longer louder lower more ...\n",
    "    \n",
    "* RBS: adverb, superlative\n",
    "\n",
    "    best biggest bluntest earliest farthest first furthest hardest\n",
    "    heartiest highest largest least less most nearest second tightest worst\n",
    "    \n",
    "* RP: particle\n",
    "\n",
    "    aboard about across along apart around aside at away back before behind\n",
    "    by crop down ever fast for forth from go high i.e. in into just later\n",
    "    low more off on open out over per pie raising start teeth that through\n",
    "    under unto up up-pp upon whole with you\n",
    "    \n",
    "* SYM: symbol\n",
    "\n",
    "    % & ' '' ''. ) ). * + ,. < = > @ A[fj] U.S U.S.S.R * ** ***\n",
    "    \n",
    "* TO: \"to\" as preposition or infinitive marker\n",
    "\n",
    "    to\n",
    "    \n",
    "* UH: interjection\n",
    "\n",
    "    Goodbye Goody Gosh Wow Jeepers Jee-sus Hubba Hey Kee-reist Oops amen\n",
    "    huh howdy uh dammit whammo shucks heck anyways whodunnit honey golly\n",
    "    man baby diddle hush sonuvabitch ...\n",
    "    \n",
    "* VB: verb, base form\n",
    "\n",
    "    ask assemble assess assign assume atone attention avoid bake balkanize\n",
    "    bank begin behold believe bend benefit bevel beware bless boil bomb\n",
    "    boost brace break bring broil brush build ...\n",
    "    \n",
    "* VBD: verb, past tense\n",
    "\n",
    "    dipped pleaded swiped regummed soaked tidied convened halted registered\n",
    "    cushioned exacted snubbed strode aimed adopted belied figgered\n",
    "    speculated wore appreciated contemplated ...\n",
    "    \n",
    "* VBG: verb, present participle or gerund\n",
    "\n",
    "    telegraphing stirring focusing angering judging stalling lactating\n",
    "    hankerin' alleging veering capping approaching traveling besieging\n",
    "    encrypting interrupting erasing wincing ...\n",
    "    \n",
    "* VBN: verb, past participle\n",
    "\n",
    "    multihulled dilapidated aerosolized chaired languished panelized used\n",
    "    experimented flourished imitated reunifed factored condensed sheared\n",
    "    unsettled primed dubbed desired ...\n",
    "    \n",
    "* VBP: verb, present tense, not 3rd person singular\n",
    "\n",
    "    predominate wrap resort sue twist spill cure lengthen brush terminate\n",
    "    appear tend stray glisten obtain comprise detest tease attract\n",
    "    emphasize mold postpone sever return wag ...\n",
    "    \n",
    "* VBZ: verb, present tense, 3rd person singular\n",
    "\n",
    "    bases reconstructs marks mixes displeases seals carps weaves snatches\n",
    "    slumps stretches authorizes smolders pictures emerges stockpiles\n",
    "    seduces fizzes uses bolsters slaps speaks pleads ...\n",
    "    \n",
    "* WDT: WH-determiner\n",
    "    that what whatever which whichever\n",
    "    \n",
    "* WP: WH-pronoun\n",
    "\n",
    "    that what whatever whatsoever which who whom whosoever\n",
    "    \n",
    "* WP$: WH-pronoun, possessive\n",
    "\n",
    "    whose\n",
    "    \n",
    "* WRB: Wh-adverb\n",
    "\n",
    "    how however whence whenever where whereby whereever wherein whereof why"
   ]
  }
 ],
 "metadata": {
  "kernelspec": {
   "display_name": "Python 3",
   "language": "python",
   "name": "python3"
  },
  "language_info": {
   "codemirror_mode": {
    "name": "ipython",
    "version": 3
   },
   "file_extension": ".py",
   "mimetype": "text/x-python",
   "name": "python",
   "nbconvert_exporter": "python",
   "pygments_lexer": "ipython3",
   "version": "3.7.4"
  },
  "toc": {
   "base_numbering": 1,
   "nav_menu": {},
   "number_sections": false,
   "sideBar": true,
   "skip_h1_title": false,
   "title_cell": "Table of Contents",
   "title_sidebar": "Contents",
   "toc_cell": false,
   "toc_position": {},
   "toc_section_display": true,
   "toc_window_display": false
  }
 },
 "nbformat": 4,
 "nbformat_minor": 2
}
