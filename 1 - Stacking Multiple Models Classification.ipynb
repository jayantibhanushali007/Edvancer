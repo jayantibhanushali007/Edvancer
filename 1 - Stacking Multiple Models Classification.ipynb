{
 "cells": [
  {
   "cell_type": "code",
   "execution_count": 1,
   "metadata": {
    "ExecuteTime": {
     "end_time": "2023-07-08T11:48:54.863185Z",
     "start_time": "2023-07-08T11:48:54.848226Z"
    }
   },
   "outputs": [],
   "source": [
    "## build a stack regression model for loan data"
   ]
  },
  {
   "cell_type": "code",
   "execution_count": 2,
   "metadata": {
    "ExecuteTime": {
     "end_time": "2023-07-08T11:48:57.924007Z",
     "start_time": "2023-07-08T11:48:54.866177Z"
    }
   },
   "outputs": [
    {
     "name": "stderr",
     "output_type": "stream",
     "text": [
      "C:\\Users\\Jayanti\\Anaconda3\\lib\\site-packages\\dask\\dataframe\\utils.py:14: FutureWarning: pandas.util.testing is deprecated. Use the functions in the public API at pandas.testing instead.\n",
      "  import pandas.util.testing as tm\n"
     ]
    }
   ],
   "source": [
    "import pandas as pd\n",
    "import numpy as np\n",
    "from xgboost.sklearn import XGBClassifier\n",
    "from sklearn.model_selection import KFold, train_test_split\n",
    "from sklearn.neighbors import KNeighborsClassifier\n",
    "from sklearn.ensemble import RandomForestClassifier\n",
    "from sklearn.linear_model import LogisticRegression\n",
    "from sklearn.metrics import roc_auc_score\n",
    "import warnings \n",
    "warnings.filterwarnings('ignore')\n",
    "from mypipes import *"
   ]
  },
  {
   "cell_type": "code",
   "execution_count": 3,
   "metadata": {
    "ExecuteTime": {
     "end_time": "2023-07-08T11:48:58.022968Z",
     "start_time": "2023-07-08T11:48:57.924007Z"
    }
   },
   "outputs": [],
   "source": [
    "file=r'../data/census_income.csv'\n",
    "\n",
    "cd= pd.read_csv(file)"
   ]
  },
  {
   "cell_type": "code",
   "execution_count": 4,
   "metadata": {
    "ExecuteTime": {
     "end_time": "2023-07-08T11:48:58.056133Z",
     "start_time": "2023-07-08T11:48:58.024081Z"
    }
   },
   "outputs": [
    {
     "data": {
      "text/html": [
       "<div>\n",
       "<style scoped>\n",
       "    .dataframe tbody tr th:only-of-type {\n",
       "        vertical-align: middle;\n",
       "    }\n",
       "\n",
       "    .dataframe tbody tr th {\n",
       "        vertical-align: top;\n",
       "    }\n",
       "\n",
       "    .dataframe thead th {\n",
       "        text-align: right;\n",
       "    }\n",
       "</style>\n",
       "<table border=\"1\" class=\"dataframe\">\n",
       "  <thead>\n",
       "    <tr style=\"text-align: right;\">\n",
       "      <th></th>\n",
       "      <th>age</th>\n",
       "      <th>workclass</th>\n",
       "      <th>fnlwgt</th>\n",
       "      <th>education</th>\n",
       "      <th>education.num</th>\n",
       "      <th>marital.status</th>\n",
       "      <th>occupation</th>\n",
       "      <th>relationship</th>\n",
       "      <th>race</th>\n",
       "      <th>sex</th>\n",
       "      <th>capital.gain</th>\n",
       "      <th>capital.loss</th>\n",
       "      <th>hours.per.week</th>\n",
       "      <th>native.country</th>\n",
       "      <th>Y</th>\n",
       "    </tr>\n",
       "  </thead>\n",
       "  <tbody>\n",
       "    <tr>\n",
       "      <th>0</th>\n",
       "      <td>39</td>\n",
       "      <td>State-gov</td>\n",
       "      <td>77516</td>\n",
       "      <td>Bachelors</td>\n",
       "      <td>13</td>\n",
       "      <td>Never-married</td>\n",
       "      <td>Adm-clerical</td>\n",
       "      <td>Not-in-family</td>\n",
       "      <td>White</td>\n",
       "      <td>Male</td>\n",
       "      <td>2174</td>\n",
       "      <td>0</td>\n",
       "      <td>40</td>\n",
       "      <td>United-States</td>\n",
       "      <td>&lt;=50K</td>\n",
       "    </tr>\n",
       "    <tr>\n",
       "      <th>1</th>\n",
       "      <td>50</td>\n",
       "      <td>Self-emp-not-inc</td>\n",
       "      <td>83311</td>\n",
       "      <td>Bachelors</td>\n",
       "      <td>13</td>\n",
       "      <td>Married-civ-spouse</td>\n",
       "      <td>Exec-managerial</td>\n",
       "      <td>Husband</td>\n",
       "      <td>White</td>\n",
       "      <td>Male</td>\n",
       "      <td>0</td>\n",
       "      <td>0</td>\n",
       "      <td>13</td>\n",
       "      <td>United-States</td>\n",
       "      <td>&lt;=50K</td>\n",
       "    </tr>\n",
       "    <tr>\n",
       "      <th>2</th>\n",
       "      <td>38</td>\n",
       "      <td>Private</td>\n",
       "      <td>215646</td>\n",
       "      <td>HS-grad</td>\n",
       "      <td>9</td>\n",
       "      <td>Divorced</td>\n",
       "      <td>Handlers-cleaners</td>\n",
       "      <td>Not-in-family</td>\n",
       "      <td>White</td>\n",
       "      <td>Male</td>\n",
       "      <td>0</td>\n",
       "      <td>0</td>\n",
       "      <td>40</td>\n",
       "      <td>United-States</td>\n",
       "      <td>&lt;=50K</td>\n",
       "    </tr>\n",
       "    <tr>\n",
       "      <th>3</th>\n",
       "      <td>53</td>\n",
       "      <td>Private</td>\n",
       "      <td>234721</td>\n",
       "      <td>11th</td>\n",
       "      <td>7</td>\n",
       "      <td>Married-civ-spouse</td>\n",
       "      <td>Handlers-cleaners</td>\n",
       "      <td>Husband</td>\n",
       "      <td>Black</td>\n",
       "      <td>Male</td>\n",
       "      <td>0</td>\n",
       "      <td>0</td>\n",
       "      <td>40</td>\n",
       "      <td>United-States</td>\n",
       "      <td>&lt;=50K</td>\n",
       "    </tr>\n",
       "    <tr>\n",
       "      <th>4</th>\n",
       "      <td>28</td>\n",
       "      <td>Private</td>\n",
       "      <td>338409</td>\n",
       "      <td>Bachelors</td>\n",
       "      <td>13</td>\n",
       "      <td>Married-civ-spouse</td>\n",
       "      <td>Prof-specialty</td>\n",
       "      <td>Wife</td>\n",
       "      <td>Black</td>\n",
       "      <td>Female</td>\n",
       "      <td>0</td>\n",
       "      <td>0</td>\n",
       "      <td>40</td>\n",
       "      <td>Cuba</td>\n",
       "      <td>&lt;=50K</td>\n",
       "    </tr>\n",
       "  </tbody>\n",
       "</table>\n",
       "</div>"
      ],
      "text/plain": [
       "   age          workclass  fnlwgt   education  education.num  \\\n",
       "0   39          State-gov   77516   Bachelors             13   \n",
       "1   50   Self-emp-not-inc   83311   Bachelors             13   \n",
       "2   38            Private  215646     HS-grad              9   \n",
       "3   53            Private  234721        11th              7   \n",
       "4   28            Private  338409   Bachelors             13   \n",
       "\n",
       "        marital.status          occupation    relationship    race      sex  \\\n",
       "0        Never-married        Adm-clerical   Not-in-family   White     Male   \n",
       "1   Married-civ-spouse     Exec-managerial         Husband   White     Male   \n",
       "2             Divorced   Handlers-cleaners   Not-in-family   White     Male   \n",
       "3   Married-civ-spouse   Handlers-cleaners         Husband   Black     Male   \n",
       "4   Married-civ-spouse      Prof-specialty            Wife   Black   Female   \n",
       "\n",
       "   capital.gain  capital.loss  hours.per.week  native.country       Y  \n",
       "0          2174             0              40   United-States   <=50K  \n",
       "1             0             0              13   United-States   <=50K  \n",
       "2             0             0              40   United-States   <=50K  \n",
       "3             0             0              40   United-States   <=50K  \n",
       "4             0             0              40            Cuba   <=50K  "
      ]
     },
     "execution_count": 4,
     "metadata": {},
     "output_type": "execute_result"
    }
   ],
   "source": [
    "cd.head()"
   ]
  },
  {
   "cell_type": "code",
   "execution_count": 5,
   "metadata": {
    "ExecuteTime": {
     "end_time": "2023-07-08T11:48:58.073794Z",
     "start_time": "2023-07-08T11:48:58.058192Z"
    }
   },
   "outputs": [],
   "source": [
    "cd['Y']=(cd['Y']==' >50K').astype(int)"
   ]
  },
  {
   "cell_type": "code",
   "execution_count": 6,
   "metadata": {
    "ExecuteTime": {
     "end_time": "2023-07-08T11:48:58.089305Z",
     "start_time": "2023-07-08T11:48:58.076785Z"
    }
   },
   "outputs": [
    {
     "data": {
      "text/plain": [
       "0    24720\n",
       "1     7841\n",
       "Name: Y, dtype: int64"
      ]
     },
     "execution_count": 6,
     "metadata": {},
     "output_type": "execute_result"
    }
   ],
   "source": [
    "cd['Y'].value_counts()"
   ]
  },
  {
   "cell_type": "code",
   "execution_count": 7,
   "metadata": {
    "ExecuteTime": {
     "end_time": "2023-07-08T11:48:58.120094Z",
     "start_time": "2023-07-08T11:48:58.091300Z"
    }
   },
   "outputs": [],
   "source": [
    "cd_train,cd_test=train_test_split(cd,test_size=0.2,random_state=2)"
   ]
  },
  {
   "cell_type": "code",
   "execution_count": 8,
   "metadata": {
    "ExecuteTime": {
     "end_time": "2023-07-08T11:48:58.135527Z",
     "start_time": "2023-07-08T11:48:58.120094Z"
    }
   },
   "outputs": [],
   "source": [
    "cd_train.reset_index(drop=True,inplace=True)\n",
    "cd_test.reset_index(drop=True,inplace=True)"
   ]
  },
  {
   "cell_type": "code",
   "execution_count": 9,
   "metadata": {
    "ExecuteTime": {
     "end_time": "2023-07-08T11:48:58.150789Z",
     "start_time": "2023-07-08T11:48:58.140415Z"
    }
   },
   "outputs": [],
   "source": [
    "cat_vars=list(cd_train.select_dtypes(include=['object']).columns)"
   ]
  },
  {
   "cell_type": "code",
   "execution_count": 10,
   "metadata": {
    "ExecuteTime": {
     "end_time": "2023-07-08T11:48:58.166784Z",
     "start_time": "2023-07-08T11:48:58.152750Z"
    }
   },
   "outputs": [],
   "source": [
    "cat_vars=[_ for _ in cat_vars if _ not in ['Y','education']]"
   ]
  },
  {
   "cell_type": "code",
   "execution_count": 11,
   "metadata": {
    "ExecuteTime": {
     "end_time": "2023-07-08T11:48:58.182217Z",
     "start_time": "2023-07-08T11:48:58.168813Z"
    }
   },
   "outputs": [],
   "source": [
    "num_vars=list(cd_train.select_dtypes(exclude=['object']).columns)"
   ]
  },
  {
   "cell_type": "code",
   "execution_count": 12,
   "metadata": {
    "ExecuteTime": {
     "end_time": "2023-07-08T11:48:58.203179Z",
     "start_time": "2023-07-08T11:48:58.184280Z"
    }
   },
   "outputs": [],
   "source": [
    "p1=pdPipeline([\n",
    "    ('cat_select',VarSelector(cat_vars)),\n",
    "    ('missing_trt',DataFrameImputer()),\n",
    "    ('create_dummies',get_dummies_Pipe(300))\n",
    "])\n",
    "\n",
    "p2=pdPipeline([\n",
    "    ('num_select',VarSelector(num_vars)),\n",
    "    ('missing_trt',DataFrameImputer())\n",
    "])\n",
    "\n",
    "data_pipe=FeatureUnion([\n",
    "    ('cat_pipe',p1),\n",
    "    ('num_pipe',p2)\n",
    "])"
   ]
  },
  {
   "cell_type": "code",
   "execution_count": 13,
   "metadata": {
    "ExecuteTime": {
     "end_time": "2023-07-08T11:48:58.273112Z",
     "start_time": "2023-07-08T11:48:58.203179Z"
    }
   },
   "outputs": [
    {
     "data": {
      "text/plain": [
       "FeatureUnion(transformer_list=[('cat_pipe',\n",
       "                                pdPipeline(steps=[('cat_select',\n",
       "                                                   VarSelector(feature_names=['workclass',\n",
       "                                                                              'marital.status',\n",
       "                                                                              'occupation',\n",
       "                                                                              'relationship',\n",
       "                                                                              'race',\n",
       "                                                                              'sex',\n",
       "                                                                              'native.country'])),\n",
       "                                                  ('missing_trt',\n",
       "                                                   DataFrameImputer()),\n",
       "                                                  ('create_dummies',\n",
       "                                                   get_dummies_Pipe(freq_cutoff=300))])),\n",
       "                               ('num_pipe',\n",
       "                                pdPipeline(steps=[('num_select',\n",
       "                                                   VarSelector(feature_names=['age',\n",
       "                                                                              'fnlwgt',\n",
       "                                                                              'education.num',\n",
       "                                                                              'capital.gain',\n",
       "                                                                              'capital.loss',\n",
       "                                                                              'hours.per.week',\n",
       "                                                                              'Y'])),\n",
       "                                                  ('missing_trt',\n",
       "                                                   DataFrameImputer())]))])"
      ]
     },
     "execution_count": 13,
     "metadata": {},
     "output_type": "execute_result"
    }
   ],
   "source": [
    "data_pipe.fit(cd_train)"
   ]
  },
  {
   "cell_type": "code",
   "execution_count": 14,
   "metadata": {
    "ExecuteTime": {
     "end_time": "2023-07-08T11:48:58.490667Z",
     "start_time": "2023-07-08T11:48:58.274052Z"
    }
   },
   "outputs": [],
   "source": [
    "x_train=pd.DataFrame(data=data_pipe.transform(cd_train),\n",
    "                     columns=data_pipe.get_feature_names())\n",
    "x_test=pd.DataFrame(data=data_pipe.transform(cd_test),\n",
    "                     columns=data_pipe.get_feature_names())\n",
    "y_train=cd_train['Y']\n",
    "y_test=cd_test['Y']"
   ]
  },
  {
   "cell_type": "code",
   "execution_count": 33,
   "metadata": {
    "ExecuteTime": {
     "end_time": "2023-07-09T09:06:35.968707Z",
     "start_time": "2023-07-09T09:06:35.906387Z"
    }
   },
   "outputs": [
    {
     "data": {
      "text/html": [
       "<div>\n",
       "<style scoped>\n",
       "    .dataframe tbody tr th:only-of-type {\n",
       "        vertical-align: middle;\n",
       "    }\n",
       "\n",
       "    .dataframe tbody tr th {\n",
       "        vertical-align: top;\n",
       "    }\n",
       "\n",
       "    .dataframe thead th {\n",
       "        text-align: right;\n",
       "    }\n",
       "</style>\n",
       "<table border=\"1\" class=\"dataframe\">\n",
       "  <thead>\n",
       "    <tr style=\"text-align: right;\">\n",
       "      <th></th>\n",
       "      <th>cat_pipe__workclass_ Private</th>\n",
       "      <th>cat_pipe__workclass_ Self-emp-not-inc</th>\n",
       "      <th>cat_pipe__workclass_ Local-gov</th>\n",
       "      <th>cat_pipe__workclass_ ?</th>\n",
       "      <th>cat_pipe__workclass_ State-gov</th>\n",
       "      <th>cat_pipe__workclass_ Self-emp-inc</th>\n",
       "      <th>cat_pipe__workclass_ Federal-gov</th>\n",
       "      <th>cat_pipe__marital.status_ Married-civ-spouse</th>\n",
       "      <th>cat_pipe__marital.status_ Never-married</th>\n",
       "      <th>cat_pipe__marital.status_ Divorced</th>\n",
       "      <th>...</th>\n",
       "      <th>cat_pipe__native.country_ United-States</th>\n",
       "      <th>cat_pipe__native.country_ Mexico</th>\n",
       "      <th>cat_pipe__native.country_ ?</th>\n",
       "      <th>num_pipe__age</th>\n",
       "      <th>num_pipe__fnlwgt</th>\n",
       "      <th>num_pipe__education.num</th>\n",
       "      <th>num_pipe__capital.gain</th>\n",
       "      <th>num_pipe__capital.loss</th>\n",
       "      <th>num_pipe__hours.per.week</th>\n",
       "      <th>num_pipe__Y</th>\n",
       "    </tr>\n",
       "  </thead>\n",
       "  <tbody>\n",
       "    <tr>\n",
       "      <th>0</th>\n",
       "      <td>1</td>\n",
       "      <td>0</td>\n",
       "      <td>0</td>\n",
       "      <td>0</td>\n",
       "      <td>0</td>\n",
       "      <td>0</td>\n",
       "      <td>0</td>\n",
       "      <td>1</td>\n",
       "      <td>0</td>\n",
       "      <td>0</td>\n",
       "      <td>...</td>\n",
       "      <td>0</td>\n",
       "      <td>0</td>\n",
       "      <td>0</td>\n",
       "      <td>31</td>\n",
       "      <td>247444</td>\n",
       "      <td>11</td>\n",
       "      <td>0</td>\n",
       "      <td>0</td>\n",
       "      <td>40</td>\n",
       "      <td>0</td>\n",
       "    </tr>\n",
       "    <tr>\n",
       "      <th>1</th>\n",
       "      <td>0</td>\n",
       "      <td>0</td>\n",
       "      <td>0</td>\n",
       "      <td>0</td>\n",
       "      <td>1</td>\n",
       "      <td>0</td>\n",
       "      <td>0</td>\n",
       "      <td>0</td>\n",
       "      <td>0</td>\n",
       "      <td>0</td>\n",
       "      <td>...</td>\n",
       "      <td>1</td>\n",
       "      <td>0</td>\n",
       "      <td>0</td>\n",
       "      <td>37</td>\n",
       "      <td>34996</td>\n",
       "      <td>9</td>\n",
       "      <td>0</td>\n",
       "      <td>0</td>\n",
       "      <td>40</td>\n",
       "      <td>0</td>\n",
       "    </tr>\n",
       "    <tr>\n",
       "      <th>2</th>\n",
       "      <td>1</td>\n",
       "      <td>0</td>\n",
       "      <td>0</td>\n",
       "      <td>0</td>\n",
       "      <td>0</td>\n",
       "      <td>0</td>\n",
       "      <td>0</td>\n",
       "      <td>0</td>\n",
       "      <td>1</td>\n",
       "      <td>0</td>\n",
       "      <td>...</td>\n",
       "      <td>1</td>\n",
       "      <td>0</td>\n",
       "      <td>0</td>\n",
       "      <td>18</td>\n",
       "      <td>194059</td>\n",
       "      <td>8</td>\n",
       "      <td>0</td>\n",
       "      <td>0</td>\n",
       "      <td>40</td>\n",
       "      <td>0</td>\n",
       "    </tr>\n",
       "    <tr>\n",
       "      <th>3</th>\n",
       "      <td>1</td>\n",
       "      <td>0</td>\n",
       "      <td>0</td>\n",
       "      <td>0</td>\n",
       "      <td>0</td>\n",
       "      <td>0</td>\n",
       "      <td>0</td>\n",
       "      <td>1</td>\n",
       "      <td>0</td>\n",
       "      <td>0</td>\n",
       "      <td>...</td>\n",
       "      <td>1</td>\n",
       "      <td>0</td>\n",
       "      <td>0</td>\n",
       "      <td>38</td>\n",
       "      <td>224566</td>\n",
       "      <td>11</td>\n",
       "      <td>0</td>\n",
       "      <td>0</td>\n",
       "      <td>50</td>\n",
       "      <td>0</td>\n",
       "    </tr>\n",
       "    <tr>\n",
       "      <th>4</th>\n",
       "      <td>1</td>\n",
       "      <td>0</td>\n",
       "      <td>0</td>\n",
       "      <td>0</td>\n",
       "      <td>0</td>\n",
       "      <td>0</td>\n",
       "      <td>0</td>\n",
       "      <td>0</td>\n",
       "      <td>1</td>\n",
       "      <td>0</td>\n",
       "      <td>...</td>\n",
       "      <td>1</td>\n",
       "      <td>0</td>\n",
       "      <td>0</td>\n",
       "      <td>30</td>\n",
       "      <td>363296</td>\n",
       "      <td>9</td>\n",
       "      <td>0</td>\n",
       "      <td>0</td>\n",
       "      <td>72</td>\n",
       "      <td>0</td>\n",
       "    </tr>\n",
       "    <tr>\n",
       "      <th>...</th>\n",
       "      <td>...</td>\n",
       "      <td>...</td>\n",
       "      <td>...</td>\n",
       "      <td>...</td>\n",
       "      <td>...</td>\n",
       "      <td>...</td>\n",
       "      <td>...</td>\n",
       "      <td>...</td>\n",
       "      <td>...</td>\n",
       "      <td>...</td>\n",
       "      <td>...</td>\n",
       "      <td>...</td>\n",
       "      <td>...</td>\n",
       "      <td>...</td>\n",
       "      <td>...</td>\n",
       "      <td>...</td>\n",
       "      <td>...</td>\n",
       "      <td>...</td>\n",
       "      <td>...</td>\n",
       "      <td>...</td>\n",
       "      <td>...</td>\n",
       "    </tr>\n",
       "    <tr>\n",
       "      <th>26043</th>\n",
       "      <td>0</td>\n",
       "      <td>0</td>\n",
       "      <td>0</td>\n",
       "      <td>0</td>\n",
       "      <td>0</td>\n",
       "      <td>1</td>\n",
       "      <td>0</td>\n",
       "      <td>1</td>\n",
       "      <td>0</td>\n",
       "      <td>0</td>\n",
       "      <td>...</td>\n",
       "      <td>1</td>\n",
       "      <td>0</td>\n",
       "      <td>0</td>\n",
       "      <td>59</td>\n",
       "      <td>223215</td>\n",
       "      <td>13</td>\n",
       "      <td>0</td>\n",
       "      <td>1977</td>\n",
       "      <td>50</td>\n",
       "      <td>1</td>\n",
       "    </tr>\n",
       "    <tr>\n",
       "      <th>26044</th>\n",
       "      <td>1</td>\n",
       "      <td>0</td>\n",
       "      <td>0</td>\n",
       "      <td>0</td>\n",
       "      <td>0</td>\n",
       "      <td>0</td>\n",
       "      <td>0</td>\n",
       "      <td>1</td>\n",
       "      <td>0</td>\n",
       "      <td>0</td>\n",
       "      <td>...</td>\n",
       "      <td>1</td>\n",
       "      <td>0</td>\n",
       "      <td>0</td>\n",
       "      <td>25</td>\n",
       "      <td>169124</td>\n",
       "      <td>9</td>\n",
       "      <td>0</td>\n",
       "      <td>0</td>\n",
       "      <td>45</td>\n",
       "      <td>0</td>\n",
       "    </tr>\n",
       "    <tr>\n",
       "      <th>26045</th>\n",
       "      <td>0</td>\n",
       "      <td>0</td>\n",
       "      <td>0</td>\n",
       "      <td>0</td>\n",
       "      <td>0</td>\n",
       "      <td>0</td>\n",
       "      <td>1</td>\n",
       "      <td>0</td>\n",
       "      <td>1</td>\n",
       "      <td>0</td>\n",
       "      <td>...</td>\n",
       "      <td>1</td>\n",
       "      <td>0</td>\n",
       "      <td>0</td>\n",
       "      <td>46</td>\n",
       "      <td>43206</td>\n",
       "      <td>16</td>\n",
       "      <td>0</td>\n",
       "      <td>1564</td>\n",
       "      <td>50</td>\n",
       "      <td>1</td>\n",
       "    </tr>\n",
       "    <tr>\n",
       "      <th>26046</th>\n",
       "      <td>1</td>\n",
       "      <td>0</td>\n",
       "      <td>0</td>\n",
       "      <td>0</td>\n",
       "      <td>0</td>\n",
       "      <td>0</td>\n",
       "      <td>0</td>\n",
       "      <td>0</td>\n",
       "      <td>1</td>\n",
       "      <td>0</td>\n",
       "      <td>...</td>\n",
       "      <td>1</td>\n",
       "      <td>0</td>\n",
       "      <td>0</td>\n",
       "      <td>19</td>\n",
       "      <td>446219</td>\n",
       "      <td>6</td>\n",
       "      <td>0</td>\n",
       "      <td>0</td>\n",
       "      <td>40</td>\n",
       "      <td>0</td>\n",
       "    </tr>\n",
       "    <tr>\n",
       "      <th>26047</th>\n",
       "      <td>1</td>\n",
       "      <td>0</td>\n",
       "      <td>0</td>\n",
       "      <td>0</td>\n",
       "      <td>0</td>\n",
       "      <td>0</td>\n",
       "      <td>0</td>\n",
       "      <td>0</td>\n",
       "      <td>1</td>\n",
       "      <td>0</td>\n",
       "      <td>...</td>\n",
       "      <td>1</td>\n",
       "      <td>0</td>\n",
       "      <td>0</td>\n",
       "      <td>27</td>\n",
       "      <td>168470</td>\n",
       "      <td>13</td>\n",
       "      <td>0</td>\n",
       "      <td>0</td>\n",
       "      <td>40</td>\n",
       "      <td>0</td>\n",
       "    </tr>\n",
       "  </tbody>\n",
       "</table>\n",
       "<p>26048 rows × 45 columns</p>\n",
       "</div>"
      ],
      "text/plain": [
       "       cat_pipe__workclass_ Private  cat_pipe__workclass_ Self-emp-not-inc  \\\n",
       "0                                 1                                      0   \n",
       "1                                 0                                      0   \n",
       "2                                 1                                      0   \n",
       "3                                 1                                      0   \n",
       "4                                 1                                      0   \n",
       "...                             ...                                    ...   \n",
       "26043                             0                                      0   \n",
       "26044                             1                                      0   \n",
       "26045                             0                                      0   \n",
       "26046                             1                                      0   \n",
       "26047                             1                                      0   \n",
       "\n",
       "       cat_pipe__workclass_ Local-gov  cat_pipe__workclass_ ?  \\\n",
       "0                                   0                       0   \n",
       "1                                   0                       0   \n",
       "2                                   0                       0   \n",
       "3                                   0                       0   \n",
       "4                                   0                       0   \n",
       "...                               ...                     ...   \n",
       "26043                               0                       0   \n",
       "26044                               0                       0   \n",
       "26045                               0                       0   \n",
       "26046                               0                       0   \n",
       "26047                               0                       0   \n",
       "\n",
       "       cat_pipe__workclass_ State-gov  cat_pipe__workclass_ Self-emp-inc  \\\n",
       "0                                   0                                  0   \n",
       "1                                   1                                  0   \n",
       "2                                   0                                  0   \n",
       "3                                   0                                  0   \n",
       "4                                   0                                  0   \n",
       "...                               ...                                ...   \n",
       "26043                               0                                  1   \n",
       "26044                               0                                  0   \n",
       "26045                               0                                  0   \n",
       "26046                               0                                  0   \n",
       "26047                               0                                  0   \n",
       "\n",
       "       cat_pipe__workclass_ Federal-gov  \\\n",
       "0                                     0   \n",
       "1                                     0   \n",
       "2                                     0   \n",
       "3                                     0   \n",
       "4                                     0   \n",
       "...                                 ...   \n",
       "26043                                 0   \n",
       "26044                                 0   \n",
       "26045                                 1   \n",
       "26046                                 0   \n",
       "26047                                 0   \n",
       "\n",
       "       cat_pipe__marital.status_ Married-civ-spouse  \\\n",
       "0                                                 1   \n",
       "1                                                 0   \n",
       "2                                                 0   \n",
       "3                                                 1   \n",
       "4                                                 0   \n",
       "...                                             ...   \n",
       "26043                                             1   \n",
       "26044                                             1   \n",
       "26045                                             0   \n",
       "26046                                             0   \n",
       "26047                                             0   \n",
       "\n",
       "       cat_pipe__marital.status_ Never-married  \\\n",
       "0                                            0   \n",
       "1                                            0   \n",
       "2                                            1   \n",
       "3                                            0   \n",
       "4                                            1   \n",
       "...                                        ...   \n",
       "26043                                        0   \n",
       "26044                                        0   \n",
       "26045                                        1   \n",
       "26046                                        1   \n",
       "26047                                        1   \n",
       "\n",
       "       cat_pipe__marital.status_ Divorced  ...  \\\n",
       "0                                       0  ...   \n",
       "1                                       0  ...   \n",
       "2                                       0  ...   \n",
       "3                                       0  ...   \n",
       "4                                       0  ...   \n",
       "...                                   ...  ...   \n",
       "26043                                   0  ...   \n",
       "26044                                   0  ...   \n",
       "26045                                   0  ...   \n",
       "26046                                   0  ...   \n",
       "26047                                   0  ...   \n",
       "\n",
       "       cat_pipe__native.country_ United-States  \\\n",
       "0                                            0   \n",
       "1                                            1   \n",
       "2                                            1   \n",
       "3                                            1   \n",
       "4                                            1   \n",
       "...                                        ...   \n",
       "26043                                        1   \n",
       "26044                                        1   \n",
       "26045                                        1   \n",
       "26046                                        1   \n",
       "26047                                        1   \n",
       "\n",
       "       cat_pipe__native.country_ Mexico  cat_pipe__native.country_ ?  \\\n",
       "0                                     0                            0   \n",
       "1                                     0                            0   \n",
       "2                                     0                            0   \n",
       "3                                     0                            0   \n",
       "4                                     0                            0   \n",
       "...                                 ...                          ...   \n",
       "26043                                 0                            0   \n",
       "26044                                 0                            0   \n",
       "26045                                 0                            0   \n",
       "26046                                 0                            0   \n",
       "26047                                 0                            0   \n",
       "\n",
       "       num_pipe__age  num_pipe__fnlwgt  num_pipe__education.num  \\\n",
       "0                 31            247444                       11   \n",
       "1                 37             34996                        9   \n",
       "2                 18            194059                        8   \n",
       "3                 38            224566                       11   \n",
       "4                 30            363296                        9   \n",
       "...              ...               ...                      ...   \n",
       "26043             59            223215                       13   \n",
       "26044             25            169124                        9   \n",
       "26045             46             43206                       16   \n",
       "26046             19            446219                        6   \n",
       "26047             27            168470                       13   \n",
       "\n",
       "       num_pipe__capital.gain  num_pipe__capital.loss  \\\n",
       "0                           0                       0   \n",
       "1                           0                       0   \n",
       "2                           0                       0   \n",
       "3                           0                       0   \n",
       "4                           0                       0   \n",
       "...                       ...                     ...   \n",
       "26043                       0                    1977   \n",
       "26044                       0                       0   \n",
       "26045                       0                    1564   \n",
       "26046                       0                       0   \n",
       "26047                       0                       0   \n",
       "\n",
       "       num_pipe__hours.per.week  num_pipe__Y  \n",
       "0                            40            0  \n",
       "1                            40            0  \n",
       "2                            40            0  \n",
       "3                            50            0  \n",
       "4                            72            0  \n",
       "...                         ...          ...  \n",
       "26043                        50            1  \n",
       "26044                        45            0  \n",
       "26045                        50            1  \n",
       "26046                        40            0  \n",
       "26047                        40            0  \n",
       "\n",
       "[26048 rows x 45 columns]"
      ]
     },
     "execution_count": 33,
     "metadata": {},
     "output_type": "execute_result"
    }
   ],
   "source": [
    "x_train"
   ]
  },
  {
   "cell_type": "code",
   "execution_count": 35,
   "metadata": {
    "ExecuteTime": {
     "end_time": "2023-07-09T09:11:11.350337Z",
     "start_time": "2023-07-09T09:11:11.312786Z"
    }
   },
   "outputs": [],
   "source": [
    "clf1=KNeighborsClassifier(n_neighbors=50)\n",
    "clf2=RandomForestClassifier(class_weight='balanced',n_estimators=200)\n",
    "clf3=RandomForestClassifier(class_weight=None,n_estimators=100)\n",
    "clf4=RandomForestClassifier(n_estimators=50)\n",
    "clf5=RandomForestClassifier(n_estimators=10)\n",
    "\n",
    "Algos=[clf1,clf2,clf3,clf4,clf5]"
   ]
  },
  {
   "cell_type": "code",
   "execution_count": 36,
   "metadata": {
    "ExecuteTime": {
     "end_time": "2023-07-09T09:11:11.745262Z",
     "start_time": "2023-07-09T09:11:11.740267Z"
    }
   },
   "outputs": [],
   "source": [
    "rows=x_train.shape[0]"
   ]
  },
  {
   "cell_type": "code",
   "execution_count": 37,
   "metadata": {
    "ExecuteTime": {
     "end_time": "2023-07-09T09:11:12.012167Z",
     "start_time": "2023-07-09T09:11:12.006181Z"
    }
   },
   "outputs": [
    {
     "data": {
      "text/plain": [
       "26048"
      ]
     },
     "execution_count": 37,
     "metadata": {},
     "output_type": "execute_result"
    }
   ],
   "source": [
    "rows"
   ]
  },
  {
   "cell_type": "code",
   "execution_count": 38,
   "metadata": {
    "ExecuteTime": {
     "end_time": "2023-07-09T09:11:13.398963Z",
     "start_time": "2023-07-09T09:11:13.392431Z"
    }
   },
   "outputs": [],
   "source": [
    "layer1=pd.DataFrame({'clf'+str(i):np.zeros(rows) for i in range(1,len(Algos)+1)})"
   ]
  },
  {
   "cell_type": "code",
   "execution_count": 39,
   "metadata": {
    "ExecuteTime": {
     "end_time": "2023-07-09T09:11:13.775652Z",
     "start_time": "2023-07-09T09:11:13.771158Z"
    }
   },
   "outputs": [
    {
     "data": {
      "text/plain": [
       "(26048, 5)"
      ]
     },
     "execution_count": 39,
     "metadata": {},
     "output_type": "execute_result"
    }
   ],
   "source": [
    "layer1.shape"
   ]
  },
  {
   "cell_type": "code",
   "execution_count": 40,
   "metadata": {
    "ExecuteTime": {
     "end_time": "2023-07-09T09:11:14.626854Z",
     "start_time": "2023-07-09T09:11:14.609367Z"
    }
   },
   "outputs": [
    {
     "data": {
      "text/html": [
       "<div>\n",
       "<style scoped>\n",
       "    .dataframe tbody tr th:only-of-type {\n",
       "        vertical-align: middle;\n",
       "    }\n",
       "\n",
       "    .dataframe tbody tr th {\n",
       "        vertical-align: top;\n",
       "    }\n",
       "\n",
       "    .dataframe thead th {\n",
       "        text-align: right;\n",
       "    }\n",
       "</style>\n",
       "<table border=\"1\" class=\"dataframe\">\n",
       "  <thead>\n",
       "    <tr style=\"text-align: right;\">\n",
       "      <th></th>\n",
       "      <th>clf1</th>\n",
       "      <th>clf2</th>\n",
       "      <th>clf3</th>\n",
       "      <th>clf4</th>\n",
       "      <th>clf5</th>\n",
       "    </tr>\n",
       "  </thead>\n",
       "  <tbody>\n",
       "    <tr>\n",
       "      <th>0</th>\n",
       "      <td>0.0</td>\n",
       "      <td>0.0</td>\n",
       "      <td>0.0</td>\n",
       "      <td>0.0</td>\n",
       "      <td>0.0</td>\n",
       "    </tr>\n",
       "    <tr>\n",
       "      <th>1</th>\n",
       "      <td>0.0</td>\n",
       "      <td>0.0</td>\n",
       "      <td>0.0</td>\n",
       "      <td>0.0</td>\n",
       "      <td>0.0</td>\n",
       "    </tr>\n",
       "    <tr>\n",
       "      <th>2</th>\n",
       "      <td>0.0</td>\n",
       "      <td>0.0</td>\n",
       "      <td>0.0</td>\n",
       "      <td>0.0</td>\n",
       "      <td>0.0</td>\n",
       "    </tr>\n",
       "    <tr>\n",
       "      <th>3</th>\n",
       "      <td>0.0</td>\n",
       "      <td>0.0</td>\n",
       "      <td>0.0</td>\n",
       "      <td>0.0</td>\n",
       "      <td>0.0</td>\n",
       "    </tr>\n",
       "    <tr>\n",
       "      <th>4</th>\n",
       "      <td>0.0</td>\n",
       "      <td>0.0</td>\n",
       "      <td>0.0</td>\n",
       "      <td>0.0</td>\n",
       "      <td>0.0</td>\n",
       "    </tr>\n",
       "    <tr>\n",
       "      <th>...</th>\n",
       "      <td>...</td>\n",
       "      <td>...</td>\n",
       "      <td>...</td>\n",
       "      <td>...</td>\n",
       "      <td>...</td>\n",
       "    </tr>\n",
       "    <tr>\n",
       "      <th>26043</th>\n",
       "      <td>0.0</td>\n",
       "      <td>0.0</td>\n",
       "      <td>0.0</td>\n",
       "      <td>0.0</td>\n",
       "      <td>0.0</td>\n",
       "    </tr>\n",
       "    <tr>\n",
       "      <th>26044</th>\n",
       "      <td>0.0</td>\n",
       "      <td>0.0</td>\n",
       "      <td>0.0</td>\n",
       "      <td>0.0</td>\n",
       "      <td>0.0</td>\n",
       "    </tr>\n",
       "    <tr>\n",
       "      <th>26045</th>\n",
       "      <td>0.0</td>\n",
       "      <td>0.0</td>\n",
       "      <td>0.0</td>\n",
       "      <td>0.0</td>\n",
       "      <td>0.0</td>\n",
       "    </tr>\n",
       "    <tr>\n",
       "      <th>26046</th>\n",
       "      <td>0.0</td>\n",
       "      <td>0.0</td>\n",
       "      <td>0.0</td>\n",
       "      <td>0.0</td>\n",
       "      <td>0.0</td>\n",
       "    </tr>\n",
       "    <tr>\n",
       "      <th>26047</th>\n",
       "      <td>0.0</td>\n",
       "      <td>0.0</td>\n",
       "      <td>0.0</td>\n",
       "      <td>0.0</td>\n",
       "      <td>0.0</td>\n",
       "    </tr>\n",
       "  </tbody>\n",
       "</table>\n",
       "<p>26048 rows × 5 columns</p>\n",
       "</div>"
      ],
      "text/plain": [
       "       clf1  clf2  clf3  clf4  clf5\n",
       "0       0.0   0.0   0.0   0.0   0.0\n",
       "1       0.0   0.0   0.0   0.0   0.0\n",
       "2       0.0   0.0   0.0   0.0   0.0\n",
       "3       0.0   0.0   0.0   0.0   0.0\n",
       "4       0.0   0.0   0.0   0.0   0.0\n",
       "...     ...   ...   ...   ...   ...\n",
       "26043   0.0   0.0   0.0   0.0   0.0\n",
       "26044   0.0   0.0   0.0   0.0   0.0\n",
       "26045   0.0   0.0   0.0   0.0   0.0\n",
       "26046   0.0   0.0   0.0   0.0   0.0\n",
       "26047   0.0   0.0   0.0   0.0   0.0\n",
       "\n",
       "[26048 rows x 5 columns]"
      ]
     },
     "execution_count": 40,
     "metadata": {},
     "output_type": "execute_result"
    }
   ],
   "source": [
    "layer1"
   ]
  },
  {
   "cell_type": "code",
   "execution_count": 41,
   "metadata": {
    "ExecuteTime": {
     "end_time": "2023-07-09T09:11:18.784296Z",
     "start_time": "2023-07-09T09:11:18.780308Z"
    }
   },
   "outputs": [],
   "source": [
    "kf=KFold(n_splits=10)"
   ]
  },
  {
   "cell_type": "code",
   "execution_count": 43,
   "metadata": {
    "ExecuteTime": {
     "end_time": "2023-07-09T09:13:10.043844Z",
     "start_time": "2023-07-09T09:12:12.883112Z"
    }
   },
   "outputs": [
    {
     "name": "stdout",
     "output_type": "stream",
     "text": [
      "fold number :  1\n",
      "Algo number : 1\n",
      "Algo number : 2\n",
      "Algo number : 3\n",
      "Algo number : 4\n",
      "Algo number : 5\n",
      "**************************************************\n",
      "\n",
      "fold number :  2\n",
      "Algo number : 1\n",
      "Algo number : 2\n",
      "Algo number : 3\n",
      "Algo number : 4\n",
      "Algo number : 5\n",
      "**************************************************\n",
      "\n",
      "fold number :  3\n",
      "Algo number : 1\n",
      "Algo number : 2\n",
      "Algo number : 3\n",
      "Algo number : 4\n",
      "Algo number : 5\n",
      "**************************************************\n",
      "\n",
      "fold number :  4\n",
      "Algo number : 1\n",
      "Algo number : 2\n",
      "Algo number : 3\n",
      "Algo number : 4\n",
      "Algo number : 5\n",
      "**************************************************\n",
      "\n",
      "fold number :  5\n",
      "Algo number : 1\n",
      "Algo number : 2\n",
      "Algo number : 3\n",
      "Algo number : 4\n",
      "Algo number : 5\n",
      "**************************************************\n",
      "\n",
      "fold number :  6\n",
      "Algo number : 1\n",
      "Algo number : 2\n",
      "Algo number : 3\n",
      "Algo number : 4\n",
      "Algo number : 5\n",
      "**************************************************\n",
      "\n",
      "fold number :  7\n",
      "Algo number : 1\n",
      "Algo number : 2\n",
      "Algo number : 3\n",
      "Algo number : 4\n",
      "Algo number : 5\n",
      "**************************************************\n",
      "\n",
      "fold number :  8\n",
      "Algo number : 1\n",
      "Algo number : 2\n",
      "Algo number : 3\n",
      "Algo number : 4\n",
      "Algo number : 5\n",
      "**************************************************\n",
      "\n",
      "fold number :  9\n",
      "Algo number : 1\n",
      "Algo number : 2\n",
      "Algo number : 3\n",
      "Algo number : 4\n",
      "Algo number : 5\n",
      "**************************************************\n",
      "\n",
      "fold number :  10\n",
      "Algo number : 1\n",
      "Algo number : 2\n",
      "Algo number : 3\n",
      "Algo number : 4\n",
      "Algo number : 5\n",
      "**************************************************\n",
      "\n"
     ]
    }
   ],
   "source": [
    "fold=1\n",
    "for train,left_out_chunk in kf.split(x_train):\n",
    "    print('fold number : ', fold)\n",
    "    \n",
    "    for i,clf in enumerate(Algos):\n",
    "        print('Algo number :',i+1)\n",
    "        \n",
    "        x_train_train=x_train.loc[train]\n",
    "        y_train_train=y_train[train]\n",
    "        \n",
    "        x_train_left_out_chunk=x_train.loc[left_out_chunk]\n",
    "        \n",
    "        \n",
    "        clf.fit(x_train_train,y_train_train)\n",
    "        p=clf.predict_proba(x_train_left_out_chunk)[:,1]\n",
    "        \n",
    "        layer1.iloc[left_out_chunk,i]=p\n",
    "        \n",
    "    fold+=1\n",
    "    print(\"*\"*50)\n",
    "    print()\n",
    "    "
   ]
  },
  {
   "cell_type": "code",
   "execution_count": 22,
   "metadata": {
    "ExecuteTime": {
     "end_time": "2023-07-08T11:49:48.745515Z",
     "start_time": "2023-07-08T11:49:48.713442Z"
    }
   },
   "outputs": [
    {
     "data": {
      "text/html": [
       "<div>\n",
       "<style scoped>\n",
       "    .dataframe tbody tr th:only-of-type {\n",
       "        vertical-align: middle;\n",
       "    }\n",
       "\n",
       "    .dataframe tbody tr th {\n",
       "        vertical-align: top;\n",
       "    }\n",
       "\n",
       "    .dataframe thead th {\n",
       "        text-align: right;\n",
       "    }\n",
       "</style>\n",
       "<table border=\"1\" class=\"dataframe\">\n",
       "  <thead>\n",
       "    <tr style=\"text-align: right;\">\n",
       "      <th></th>\n",
       "      <th>clf1</th>\n",
       "      <th>clf2</th>\n",
       "      <th>clf3</th>\n",
       "      <th>clf4</th>\n",
       "      <th>clf5</th>\n",
       "    </tr>\n",
       "  </thead>\n",
       "  <tbody>\n",
       "    <tr>\n",
       "      <th>0</th>\n",
       "      <td>0.16</td>\n",
       "      <td>0.000</td>\n",
       "      <td>0.01</td>\n",
       "      <td>0.00</td>\n",
       "      <td>0.0</td>\n",
       "    </tr>\n",
       "    <tr>\n",
       "      <th>1</th>\n",
       "      <td>0.12</td>\n",
       "      <td>0.000</td>\n",
       "      <td>0.00</td>\n",
       "      <td>0.00</td>\n",
       "      <td>0.0</td>\n",
       "    </tr>\n",
       "    <tr>\n",
       "      <th>2</th>\n",
       "      <td>0.10</td>\n",
       "      <td>0.000</td>\n",
       "      <td>0.00</td>\n",
       "      <td>0.00</td>\n",
       "      <td>0.0</td>\n",
       "    </tr>\n",
       "    <tr>\n",
       "      <th>3</th>\n",
       "      <td>0.18</td>\n",
       "      <td>0.005</td>\n",
       "      <td>0.01</td>\n",
       "      <td>0.00</td>\n",
       "      <td>0.1</td>\n",
       "    </tr>\n",
       "    <tr>\n",
       "      <th>4</th>\n",
       "      <td>0.20</td>\n",
       "      <td>0.000</td>\n",
       "      <td>0.00</td>\n",
       "      <td>0.00</td>\n",
       "      <td>0.0</td>\n",
       "    </tr>\n",
       "    <tr>\n",
       "      <th>...</th>\n",
       "      <td>...</td>\n",
       "      <td>...</td>\n",
       "      <td>...</td>\n",
       "      <td>...</td>\n",
       "      <td>...</td>\n",
       "    </tr>\n",
       "    <tr>\n",
       "      <th>26043</th>\n",
       "      <td>0.14</td>\n",
       "      <td>0.990</td>\n",
       "      <td>0.98</td>\n",
       "      <td>0.98</td>\n",
       "      <td>1.0</td>\n",
       "    </tr>\n",
       "    <tr>\n",
       "      <th>26044</th>\n",
       "      <td>0.12</td>\n",
       "      <td>0.010</td>\n",
       "      <td>0.01</td>\n",
       "      <td>0.00</td>\n",
       "      <td>0.0</td>\n",
       "    </tr>\n",
       "    <tr>\n",
       "      <th>26045</th>\n",
       "      <td>0.32</td>\n",
       "      <td>0.955</td>\n",
       "      <td>0.93</td>\n",
       "      <td>0.96</td>\n",
       "      <td>1.0</td>\n",
       "    </tr>\n",
       "    <tr>\n",
       "      <th>26046</th>\n",
       "      <td>0.14</td>\n",
       "      <td>0.000</td>\n",
       "      <td>0.00</td>\n",
       "      <td>0.00</td>\n",
       "      <td>0.0</td>\n",
       "    </tr>\n",
       "    <tr>\n",
       "      <th>26047</th>\n",
       "      <td>0.26</td>\n",
       "      <td>0.005</td>\n",
       "      <td>0.00</td>\n",
       "      <td>0.00</td>\n",
       "      <td>0.0</td>\n",
       "    </tr>\n",
       "  </tbody>\n",
       "</table>\n",
       "<p>26048 rows × 5 columns</p>\n",
       "</div>"
      ],
      "text/plain": [
       "       clf1   clf2  clf3  clf4  clf5\n",
       "0      0.16  0.000  0.01  0.00   0.0\n",
       "1      0.12  0.000  0.00  0.00   0.0\n",
       "2      0.10  0.000  0.00  0.00   0.0\n",
       "3      0.18  0.005  0.01  0.00   0.1\n",
       "4      0.20  0.000  0.00  0.00   0.0\n",
       "...     ...    ...   ...   ...   ...\n",
       "26043  0.14  0.990  0.98  0.98   1.0\n",
       "26044  0.12  0.010  0.01  0.00   0.0\n",
       "26045  0.32  0.955  0.93  0.96   1.0\n",
       "26046  0.14  0.000  0.00  0.00   0.0\n",
       "26047  0.26  0.005  0.00  0.00   0.0\n",
       "\n",
       "[26048 rows x 5 columns]"
      ]
     },
     "execution_count": 22,
     "metadata": {},
     "output_type": "execute_result"
    }
   ],
   "source": [
    "layer1"
   ]
  },
  {
   "cell_type": "code",
   "execution_count": 44,
   "metadata": {
    "ExecuteTime": {
     "end_time": "2023-07-09T09:13:57.262271Z",
     "start_time": "2023-07-09T09:13:57.256287Z"
    }
   },
   "outputs": [],
   "source": [
    "rows=x_test.shape[0]\n",
    "layer2_test=pd.DataFrame({'clf'+str(i):np.zeros(rows) for i in range(1,len(Algos)+1)})"
   ]
  },
  {
   "cell_type": "code",
   "execution_count": 45,
   "metadata": {
    "ExecuteTime": {
     "end_time": "2023-07-09T09:13:57.625527Z",
     "start_time": "2023-07-09T09:13:57.619031Z"
    }
   },
   "outputs": [
    {
     "data": {
      "text/plain": [
       "(6513, 5)"
      ]
     },
     "execution_count": 45,
     "metadata": {},
     "output_type": "execute_result"
    }
   ],
   "source": [
    "layer2_test.shape"
   ]
  },
  {
   "cell_type": "code",
   "execution_count": 46,
   "metadata": {
    "ExecuteTime": {
     "end_time": "2023-07-09T09:14:05.762561Z",
     "start_time": "2023-07-09T09:13:58.039562Z"
    }
   },
   "outputs": [
    {
     "name": "stdout",
     "output_type": "stream",
     "text": [
      "Algo number 1\n",
      "Algo number 2\n",
      "Algo number 3\n",
      "Algo number 4\n",
      "Algo number 5\n"
     ]
    }
   ],
   "source": [
    "for i,clf in enumerate(Algos):\n",
    "    \n",
    "    print( 'Algo number',i+1)\n",
    "    clf.fit(x_train,y_train)\n",
    "    p=clf.predict_proba(x_test)[:,1]\n",
    "    \n",
    "    layer2_test.iloc[:,i]=p\n"
   ]
  },
  {
   "cell_type": "code",
   "execution_count": 26,
   "metadata": {
    "ExecuteTime": {
     "end_time": "2023-07-08T11:49:54.955320Z",
     "start_time": "2023-07-08T11:49:54.940066Z"
    }
   },
   "outputs": [],
   "source": [
    "# layer2_test"
   ]
  },
  {
   "cell_type": "code",
   "execution_count": 47,
   "metadata": {
    "ExecuteTime": {
     "end_time": "2023-07-09T09:14:15.611758Z",
     "start_time": "2023-07-09T09:14:15.607767Z"
    }
   },
   "outputs": [],
   "source": [
    "# second layer linear model \n",
    "logr=LogisticRegression(class_weight='balanced')\n"
   ]
  },
  {
   "cell_type": "code",
   "execution_count": 48,
   "metadata": {
    "ExecuteTime": {
     "end_time": "2023-07-09T09:14:37.087687Z",
     "start_time": "2023-07-09T09:14:37.028205Z"
    }
   },
   "outputs": [
    {
     "data": {
      "text/plain": [
       "LogisticRegression(class_weight='balanced')"
      ]
     },
     "execution_count": 48,
     "metadata": {},
     "output_type": "execute_result"
    }
   ],
   "source": [
    "logr.fit(layer1,y_train)"
   ]
  },
  {
   "cell_type": "code",
   "execution_count": 49,
   "metadata": {
    "ExecuteTime": {
     "end_time": "2023-07-09T09:14:37.349671Z",
     "start_time": "2023-07-09T09:14:37.336228Z"
    }
   },
   "outputs": [
    {
     "data": {
      "text/plain": [
       "1.0"
      ]
     },
     "execution_count": 49,
     "metadata": {},
     "output_type": "execute_result"
    }
   ],
   "source": [
    "roc_auc_score(y_test,logr.predict_proba(layer2_test)[:,1])"
   ]
  },
  {
   "cell_type": "code",
   "execution_count": 50,
   "metadata": {
    "ExecuteTime": {
     "end_time": "2023-07-09T09:14:38.846345Z",
     "start_time": "2023-07-09T09:14:38.843328Z"
    }
   },
   "outputs": [],
   "source": [
    "xgb2=XGBClassifier(objective='binary:logistic',n_estimators=100,\n",
    "                   max_depth=3,learning_rate=.1,scale_pos_weight=3)"
   ]
  },
  {
   "cell_type": "code",
   "execution_count": 51,
   "metadata": {
    "ExecuteTime": {
     "end_time": "2023-07-09T09:14:39.919389Z",
     "start_time": "2023-07-09T09:14:39.504216Z"
    }
   },
   "outputs": [
    {
     "data": {
      "text/plain": [
       "XGBClassifier(base_score=0.5, booster=None, colsample_bylevel=1,\n",
       "              colsample_bynode=1, colsample_bytree=1, gamma=0, gpu_id=-1,\n",
       "              importance_type='gain', interaction_constraints=None,\n",
       "              learning_rate=0.1, max_delta_step=0, max_depth=3,\n",
       "              min_child_weight=1, missing=nan, monotone_constraints=None,\n",
       "              n_estimators=100, n_jobs=0, num_parallel_tree=1, random_state=0,\n",
       "              reg_alpha=0, reg_lambda=1, scale_pos_weight=3, subsample=1,\n",
       "              tree_method=None, validate_parameters=False, verbosity=None)"
      ]
     },
     "execution_count": 51,
     "metadata": {},
     "output_type": "execute_result"
    }
   ],
   "source": [
    "xgb2.fit(layer1,y_train)"
   ]
  },
  {
   "cell_type": "code",
   "execution_count": 57,
   "metadata": {
    "ExecuteTime": {
     "end_time": "2023-07-09T09:20:18.316625Z",
     "start_time": "2023-07-09T09:20:18.301199Z"
    }
   },
   "outputs": [
    {
     "data": {
      "text/plain": [
       "1.0"
      ]
     },
     "execution_count": 57,
     "metadata": {},
     "output_type": "execute_result"
    }
   ],
   "source": [
    "roc_auc_score(y_test,xgb2.predict_proba(layer2_test)[:,1])"
   ]
  },
  {
   "cell_type": "code",
   "execution_count": 56,
   "metadata": {
    "ExecuteTime": {
     "end_time": "2023-07-09T09:19:44.357215Z",
     "start_time": "2023-07-09T09:19:44.347237Z"
    }
   },
   "outputs": [
    {
     "data": {
      "text/plain": [
       "array([1, 0, 0, ..., 1, 0, 0])"
      ]
     },
     "execution_count": 56,
     "metadata": {},
     "output_type": "execute_result"
    }
   ],
   "source": [
    "xgb2.predict(layer2_test)"
   ]
  },
  {
   "cell_type": "code",
   "execution_count": null,
   "metadata": {},
   "outputs": [],
   "source": []
  }
 ],
 "metadata": {
  "kernelspec": {
   "display_name": "Python 3",
   "language": "python",
   "name": "python3"
  },
  "language_info": {
   "codemirror_mode": {
    "name": "ipython",
    "version": 3
   },
   "file_extension": ".py",
   "mimetype": "text/x-python",
   "name": "python",
   "nbconvert_exporter": "python",
   "pygments_lexer": "ipython3",
   "version": "3.7.4"
  },
  "toc": {
   "base_numbering": 1,
   "nav_menu": {},
   "number_sections": false,
   "sideBar": true,
   "skip_h1_title": false,
   "title_cell": "Table of Contents",
   "title_sidebar": "Contents",
   "toc_cell": false,
   "toc_position": {},
   "toc_section_display": true,
   "toc_window_display": false
  }
 },
 "nbformat": 4,
 "nbformat_minor": 2
}
