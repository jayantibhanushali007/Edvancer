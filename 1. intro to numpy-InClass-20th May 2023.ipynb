{
 "cells": [
  {
   "cell_type": "markdown",
   "metadata": {},
   "source": [
    "In this module we are going to learn to handle datasets, creating , reading from external files , modifying , summarising and visualising  in python with  packages numpy , pandas and seaborn .  this first video focuses on pacakge numpy . Through numpy we will learn to create and handle arrays. Functions that we'll learn here will serve a major purpose\n",
    "\n",
    "* They will set background for handling columns in our datasets when we eventually move to pandas dataframes\n",
    "\n",
    "\n",
    "In this video we are going to look at following aspect of numpy arrays\n",
    "    \n",
    "    a. creating nd arrays\n",
    "    \n",
    "\tb. subsetting with indices and conditions\n",
    "    \n",
    "    c. comparison with np and math functions [np.sqrt , log etc ], special numpy functions  \n",
    "\n",
    "Lets get started with creating  two dimensional arrays . Technically you can create arrays with more than two dimensions, but we dont need them for the purpose of this course or most of the machine learning algorithms even the ones which are not covered in the course\n"
   ]
  },
  {
   "cell_type": "code",
   "execution_count": 1,
   "metadata": {
    "ExecuteTime": {
     "end_time": "2023-05-20T08:59:05.687463Z",
     "start_time": "2023-05-20T08:59:05.127641Z"
    }
   },
   "outputs": [],
   "source": [
    "import numpy as np"
   ]
  },
  {
   "cell_type": "code",
   "execution_count": 2,
   "metadata": {
    "ExecuteTime": {
     "end_time": "2023-05-20T09:00:07.935547Z",
     "start_time": "2023-05-20T09:00:07.924573Z"
    }
   },
   "outputs": [
    {
     "data": {
      "text/plain": [
       "array([[  3. ,  20. ,  99. ],\n",
       "       [-13. ,   4.5,  26. ],\n",
       "       [  0. ,  -1. ,  20. ],\n",
       "       [  5. ,  78. , -19. ]])"
      ]
     },
     "execution_count": 2,
     "metadata": {},
     "output_type": "execute_result"
    }
   ],
   "source": [
    "b = np.array([[3,20,99],[-13,4.5,26],[0,-1,20],[5,78,-19]])   \n",
    "b"
   ]
  },
  {
   "cell_type": "code",
   "execution_count": 3,
   "metadata": {
    "ExecuteTime": {
     "end_time": "2023-05-20T09:00:53.063930Z",
     "start_time": "2023-05-20T09:00:53.057901Z"
    }
   },
   "outputs": [
    {
     "data": {
      "text/plain": [
       "numpy.ndarray"
      ]
     },
     "execution_count": 3,
     "metadata": {},
     "output_type": "execute_result"
    }
   ],
   "source": [
    "type(b)"
   ]
  },
  {
   "cell_type": "code",
   "execution_count": 4,
   "metadata": {
    "ExecuteTime": {
     "end_time": "2023-05-20T09:02:20.960974Z",
     "start_time": "2023-05-20T09:02:20.953789Z"
    }
   },
   "outputs": [
    {
     "name": "stdout",
     "output_type": "stream",
     "text": [
      "<class 'list'>\n",
      "[[3, 20, 99], [-13, 4.5, 26], [0, -1, 20], [5, 78, -19]]\n"
     ]
    }
   ],
   "source": [
    "temp_list = [[3,20,99],[-13,4.5,26],[0,-1,20],[5,78,-19]]\n",
    "print(type(temp_list))\n",
    "print(temp_list)"
   ]
  },
  {
   "cell_type": "code",
   "execution_count": 5,
   "metadata": {
    "ExecuteTime": {
     "end_time": "2023-05-20T09:03:03.016485Z",
     "start_time": "2023-05-20T09:03:03.010502Z"
    }
   },
   "outputs": [
    {
     "name": "stdout",
     "output_type": "stream",
     "text": [
      "<class 'numpy.ndarray'>\n",
      "[[  3.   20.   99. ]\n",
      " [-13.    4.5  26. ]\n",
      " [  0.   -1.   20. ]\n",
      " [  5.   78.  -19. ]]\n"
     ]
    }
   ],
   "source": [
    "temp_b = np.array(temp_list)\n",
    "print(type(temp_b))\n",
    "print(temp_b)"
   ]
  },
  {
   "cell_type": "markdown",
   "metadata": {},
   "source": [
    "b here is a 2 dimensional array , you can quickly determine size of each dimension by looking at shape attribute of an array "
   ]
  },
  {
   "cell_type": "code",
   "execution_count": 6,
   "metadata": {
    "ExecuteTime": {
     "end_time": "2023-05-20T09:03:37.276475Z",
     "start_time": "2023-05-20T09:03:37.271523Z"
    }
   },
   "outputs": [
    {
     "data": {
      "text/plain": [
       "(4, 3)"
      ]
     },
     "execution_count": 6,
     "metadata": {},
     "output_type": "execute_result"
    }
   ],
   "source": [
    "b.shape"
   ]
  },
  {
   "cell_type": "markdown",
   "metadata": {},
   "source": [
    "dimension in numpy arrays are refered as axis, 2d arrays have two axis , labeled as 0 and 1. "
   ]
  },
  {
   "cell_type": "markdown",
   "metadata": {},
   "source": [
    "Since there are two dimension here we'll need to pass double indices while accessing them. counting along both the axes starts with 0"
   ]
  },
  {
   "cell_type": "markdown",
   "metadata": {},
   "source": [
    "if we want to extract value -1 from the array created above , we will need to access it with its indices across both the axes. which are 2 and 1"
   ]
  },
  {
   "cell_type": "code",
   "execution_count": 7,
   "metadata": {
    "ExecuteTime": {
     "end_time": "2023-05-20T09:07:39.851669Z",
     "start_time": "2023-05-20T09:07:39.845681Z"
    }
   },
   "outputs": [
    {
     "data": {
      "text/plain": [
       "array([[  3. ,  20. ,  99. ],\n",
       "       [-13. ,   4.5,  26. ],\n",
       "       [  0. ,  -1. ,  20. ],\n",
       "       [  5. ,  78. , -19. ]])"
      ]
     },
     "execution_count": 7,
     "metadata": {},
     "output_type": "execute_result"
    }
   ],
   "source": [
    "b"
   ]
  },
  {
   "cell_type": "code",
   "execution_count": 8,
   "metadata": {
    "ExecuteTime": {
     "end_time": "2023-05-20T09:08:22.736808Z",
     "start_time": "2023-05-20T09:08:22.731354Z"
    }
   },
   "outputs": [
    {
     "data": {
      "text/plain": [
       "-1.0"
      ]
     },
     "execution_count": 8,
     "metadata": {},
     "output_type": "execute_result"
    }
   ],
   "source": [
    "b[2,1]"
   ]
  },
  {
   "cell_type": "markdown",
   "metadata": {},
   "source": [
    "For better understanding we can consider the first index to be index of the list where the element is , and second to be its index within that list. Indexing and slicing here works just as it worked for lists , just in two dimensions. lets look at few more examples"
   ]
  },
  {
   "cell_type": "code",
   "execution_count": 9,
   "metadata": {
    "ExecuteTime": {
     "end_time": "2023-05-20T09:13:14.080223Z",
     "start_time": "2023-05-20T09:13:14.073693Z"
    }
   },
   "outputs": [
    {
     "name": "stdout",
     "output_type": "stream",
     "text": [
      "[[  3.   20.   99. ]\n",
      " [-13.    4.5  26. ]\n",
      " [  0.   -1.   20. ]\n",
      " [  5.   78.  -19. ]]\n"
     ]
    },
    {
     "data": {
      "text/plain": [
       "array([20. ,  4.5, -1. , 78. ])"
      ]
     },
     "execution_count": 9,
     "metadata": {},
     "output_type": "execute_result"
    }
   ],
   "source": [
    "print(b)\n",
    "b[:,1]"
   ]
  },
  {
   "cell_type": "markdown",
   "metadata": {},
   "source": [
    "as you can see , this simply gives us 2nd element from all the lists, and this gives us all the elements from the 2nd ist"
   ]
  },
  {
   "cell_type": "code",
   "execution_count": 10,
   "metadata": {
    "ExecuteTime": {
     "end_time": "2023-05-20T09:13:42.753652Z",
     "start_time": "2023-05-20T09:13:42.748664Z"
    }
   },
   "outputs": [
    {
     "data": {
      "text/plain": [
       "array([-13. ,   4.5,  26. ])"
      ]
     },
     "execution_count": 10,
     "metadata": {},
     "output_type": "execute_result"
    }
   ],
   "source": [
    "b[1,:]"
   ]
  },
  {
   "cell_type": "markdown",
   "metadata": {},
   "source": [
    "by default you can access all the elements of a single list in a 2d array by providing a single index as well"
   ]
  },
  {
   "cell_type": "code",
   "execution_count": 11,
   "metadata": {
    "ExecuteTime": {
     "end_time": "2023-05-20T09:14:00.784698Z",
     "start_time": "2023-05-20T09:14:00.778708Z"
    }
   },
   "outputs": [
    {
     "data": {
      "text/plain": [
       "array([-13. ,   4.5,  26. ])"
      ]
     },
     "execution_count": 11,
     "metadata": {},
     "output_type": "execute_result"
    }
   ],
   "source": [
    "b[1]"
   ]
  },
  {
   "cell_type": "markdown",
   "metadata": {},
   "source": [
    "you can pass lists of indices as well to access multiple elements of a 2d array"
   ]
  },
  {
   "cell_type": "code",
   "execution_count": 12,
   "metadata": {
    "ExecuteTime": {
     "end_time": "2023-05-20T09:14:37.068959Z",
     "start_time": "2023-05-20T09:14:37.063442Z"
    },
    "scrolled": true
   },
   "outputs": [
    {
     "data": {
      "text/plain": [
       "array([[  3. ,  20. ,  99. ],\n",
       "       [-13. ,   4.5,  26. ],\n",
       "       [  0. ,  -1. ,  20. ],\n",
       "       [  5. ,  78. , -19. ]])"
      ]
     },
     "execution_count": 12,
     "metadata": {},
     "output_type": "execute_result"
    }
   ],
   "source": [
    "b"
   ]
  },
  {
   "cell_type": "code",
   "execution_count": 13,
   "metadata": {
    "ExecuteTime": {
     "end_time": "2023-05-20T09:14:55.121525Z",
     "start_time": "2023-05-20T09:14:55.115547Z"
    }
   },
   "outputs": [
    {
     "data": {
      "text/plain": [
       "array([20. , 26. ,  4.5])"
      ]
     },
     "execution_count": 13,
     "metadata": {},
     "output_type": "execute_result"
    }
   ],
   "source": [
    "b[[0,1,1],[1,2,1]]"
   ]
  },
  {
   "cell_type": "markdown",
   "metadata": {},
   "source": [
    "here elements will come from pairing of indices , (0,1) , (1,2) and (1,1)"
   ]
  },
  {
   "cell_type": "markdown",
   "metadata": {},
   "source": [
    "you can use thin index access for modification as well"
   ]
  },
  {
   "cell_type": "code",
   "execution_count": 14,
   "metadata": {
    "ExecuteTime": {
     "end_time": "2023-05-20T09:21:43.752115Z",
     "start_time": "2023-05-20T09:21:43.747128Z"
    }
   },
   "outputs": [
    {
     "name": "stdout",
     "output_type": "stream",
     "text": [
      "[[  3.   20.   99. ]\n",
      " [-13.    4.5  26. ]\n",
      " [  0.   -1.   20. ]\n",
      " [  5.   78.  -19. ]]\n",
      "[[  3. -10.  99.]\n",
      " [-13. -30. -20.]\n",
      " [  0.  -1.  20.]\n",
      " [  5.  78. -19.]]\n"
     ]
    }
   ],
   "source": [
    "print(b)\n",
    "b[[0,1,1],[1,2,1]]=[-10,-20,-30]\n",
    "print(b)"
   ]
  },
  {
   "cell_type": "markdown",
   "metadata": {},
   "source": [
    "you can see that corresponding elements are now changed to new values "
   ]
  },
  {
   "cell_type": "markdown",
   "metadata": {},
   "source": [
    "you subset an array on the basis of condition also"
   ]
  },
  {
   "cell_type": "code",
   "execution_count": 15,
   "metadata": {
    "ExecuteTime": {
     "end_time": "2023-05-20T09:22:17.935144Z",
     "start_time": "2023-05-20T09:22:17.928396Z"
    }
   },
   "outputs": [
    {
     "data": {
      "text/plain": [
       "array([[  3., -10.,  99.],\n",
       "       [-13., -30., -20.],\n",
       "       [  0.,  -1.,  20.],\n",
       "       [  5.,  78., -19.]])"
      ]
     },
     "execution_count": 15,
     "metadata": {},
     "output_type": "execute_result"
    }
   ],
   "source": [
    "b"
   ]
  },
  {
   "cell_type": "code",
   "execution_count": 16,
   "metadata": {
    "ExecuteTime": {
     "end_time": "2023-05-20T09:23:04.874772Z",
     "start_time": "2023-05-20T09:23:04.869785Z"
    }
   },
   "outputs": [
    {
     "data": {
      "text/plain": [
       "array([[ True, False,  True],\n",
       "       [False, False, False],\n",
       "       [False, False,  True],\n",
       "       [ True,  True, False]])"
      ]
     },
     "execution_count": 16,
     "metadata": {},
     "output_type": "execute_result"
    }
   ],
   "source": [
    "b>0"
   ]
  },
  {
   "cell_type": "code",
   "execution_count": 17,
   "metadata": {
    "ExecuteTime": {
     "end_time": "2023-05-20T09:24:01.088431Z",
     "start_time": "2023-05-20T09:24:01.082185Z"
    }
   },
   "outputs": [
    {
     "data": {
      "text/plain": [
       "array([ 3., 99., 20.,  5., 78.])"
      ]
     },
     "execution_count": 17,
     "metadata": {},
     "output_type": "execute_result"
    }
   ],
   "source": [
    "#object[condition]\n",
    "b[b>0] # select values from object b which satisfies the condition"
   ]
  },
  {
   "cell_type": "code",
   "execution_count": 18,
   "metadata": {
    "ExecuteTime": {
     "end_time": "2023-05-20T09:28:54.625849Z",
     "start_time": "2023-05-20T09:28:54.621354Z"
    }
   },
   "outputs": [
    {
     "data": {
      "text/plain": [
       "array([0.])"
      ]
     },
     "execution_count": 18,
     "metadata": {},
     "output_type": "execute_result"
    }
   ],
   "source": [
    "#object[condition]\n",
    "b[b==0] # select values from object b which satisfies the condition"
   ]
  },
  {
   "cell_type": "code",
   "execution_count": 19,
   "metadata": {
    "ExecuteTime": {
     "end_time": "2023-05-20T09:30:30.917553Z",
     "start_time": "2023-05-20T09:30:30.912483Z"
    }
   },
   "outputs": [
    {
     "data": {
      "text/plain": [
       "array([[  3., -10.,  99.],\n",
       "       [-13., -30., -20.],\n",
       "       [  0.,  -1.,  20.],\n",
       "       [  5.,  78., -19.]])"
      ]
     },
     "execution_count": 19,
     "metadata": {},
     "output_type": "execute_result"
    }
   ],
   "source": [
    "b"
   ]
  },
  {
   "cell_type": "code",
   "execution_count": 20,
   "metadata": {
    "ExecuteTime": {
     "end_time": "2023-05-20T09:30:37.982464Z",
     "start_time": "2023-05-20T09:30:37.976465Z"
    }
   },
   "outputs": [
    {
     "data": {
      "text/plain": [
       "array([ True, False,  True])"
      ]
     },
     "execution_count": 20,
     "metadata": {},
     "output_type": "execute_result"
    }
   ],
   "source": [
    "b[2]>=0"
   ]
  },
  {
   "cell_type": "code",
   "execution_count": 22,
   "metadata": {
    "ExecuteTime": {
     "end_time": "2023-05-20T09:33:47.466529Z",
     "start_time": "2023-05-20T09:33:47.459543Z"
    }
   },
   "outputs": [
    {
     "name": "stdout",
     "output_type": "stream",
     "text": [
      "[[  3. -10.  99.]\n",
      " [-13. -30. -20.]\n",
      " [  0.  -1.  20.]\n",
      " [  5.  78. -19.]]\n"
     ]
    },
    {
     "data": {
      "text/plain": [
       "array([[  3.,  99.],\n",
       "       [-13., -20.],\n",
       "       [  0.,  20.],\n",
       "       [  5., -19.]])"
      ]
     },
     "execution_count": 22,
     "metadata": {},
     "output_type": "execute_result"
    }
   ],
   "source": [
    "print(b)\n",
    "b[:,[0,2]]"
   ]
  },
  {
   "cell_type": "code",
   "execution_count": 21,
   "metadata": {
    "ExecuteTime": {
     "end_time": "2023-05-20T09:32:05.110570Z",
     "start_time": "2023-05-20T09:32:05.104585Z"
    }
   },
   "outputs": [
    {
     "name": "stdout",
     "output_type": "stream",
     "text": [
      "[[  3. -10.  99.]\n",
      " [-13. -30. -20.]\n",
      " [  0.  -1.  20.]\n",
      " [  5.  78. -19.]]\n"
     ]
    },
    {
     "data": {
      "text/plain": [
       "array([[  3.,  99.],\n",
       "       [-13., -20.],\n",
       "       [  0.,  20.],\n",
       "       [  5., -19.]])"
      ]
     },
     "execution_count": 21,
     "metadata": {},
     "output_type": "execute_result"
    }
   ],
   "source": [
    "print(b)\n",
    "b[:,b[2]>=0]"
   ]
  },
  {
   "cell_type": "markdown",
   "metadata": {},
   "source": [
    "keep in mind that applied condition should match in dimension size to which it is being applied if we want to apply it across a single dimension"
   ]
  },
  {
   "cell_type": "code",
   "execution_count": 26,
   "metadata": {
    "ExecuteTime": {
     "end_time": "2023-05-20T09:39:01.731031Z",
     "start_time": "2023-05-20T09:39:01.726040Z"
    }
   },
   "outputs": [
    {
     "data": {
      "text/plain": [
       "array([[  3., -10.,  99.],\n",
       "       [-13., -30., -20.],\n",
       "       [  0.,  -1.,  20.],\n",
       "       [  5.,  78., -19.]])"
      ]
     },
     "execution_count": 26,
     "metadata": {},
     "output_type": "execute_result"
    }
   ],
   "source": [
    "b"
   ]
  },
  {
   "cell_type": "code",
   "execution_count": 25,
   "metadata": {
    "ExecuteTime": {
     "end_time": "2023-05-20T09:37:31.801125Z",
     "start_time": "2023-05-20T09:37:31.792919Z"
    }
   },
   "outputs": [
    {
     "data": {
      "text/plain": [
       "[array([[ True, False,  True],\n",
       "        [False, False, False],\n",
       "        [False, False,  True],\n",
       "        [ True,  True, False]])]"
      ]
     },
     "execution_count": 25,
     "metadata": {},
     "output_type": "execute_result"
    }
   ],
   "source": [
    "[b>0]"
   ]
  },
  {
   "cell_type": "code",
   "execution_count": 24,
   "metadata": {
    "ExecuteTime": {
     "end_time": "2023-05-20T09:37:11.489443Z",
     "start_time": "2023-05-20T09:37:11.484458Z"
    }
   },
   "outputs": [
    {
     "data": {
      "text/plain": [
       "array([[[False, False, False],\n",
       "        [False, False, False],\n",
       "        [ True, False, False],\n",
       "        [False, False, False]]])"
      ]
     },
     "execution_count": 24,
     "metadata": {},
     "output_type": "execute_result"
    }
   ],
   "source": [
    "  b==[b>0]"
   ]
  },
  {
   "cell_type": "code",
   "execution_count": null,
   "metadata": {},
   "outputs": [],
   "source": []
  },
  {
   "cell_type": "code",
   "execution_count": 23,
   "metadata": {
    "ExecuteTime": {
     "end_time": "2023-05-20T09:36:45.639985Z",
     "start_time": "2023-05-20T09:36:45.635041Z"
    }
   },
   "outputs": [
    {
     "data": {
      "text/plain": [
       "array([ True, False,  True])"
      ]
     },
     "execution_count": 23,
     "metadata": {},
     "output_type": "execute_result"
    }
   ],
   "source": [
    "b[2]>=0"
   ]
  },
  {
   "cell_type": "markdown",
   "metadata": {},
   "source": [
    "this condition gets applied across all the lists and they have dimension size as 3 "
   ]
  },
  {
   "cell_type": "markdown",
   "metadata": {},
   "source": [
    "if we wanted to apply the condition to first element of each list and then wanted to keep all corresponding elements across lists, we will have to write it like this "
   ]
  },
  {
   "cell_type": "code",
   "execution_count": 27,
   "metadata": {
    "ExecuteTime": {
     "end_time": "2023-05-20T09:40:23.709985Z",
     "start_time": "2023-05-20T09:40:23.704001Z"
    }
   },
   "outputs": [
    {
     "data": {
      "text/plain": [
       "array([[  3., -10.,  99.],\n",
       "       [-13., -30., -20.],\n",
       "       [  0.,  -1.,  20.],\n",
       "       [  5.,  78., -19.]])"
      ]
     },
     "execution_count": 27,
     "metadata": {},
     "output_type": "execute_result"
    }
   ],
   "source": [
    "b"
   ]
  },
  {
   "cell_type": "code",
   "execution_count": null,
   "metadata": {},
   "outputs": [],
   "source": [
    "b[:,2]>=0"
   ]
  },
  {
   "cell_type": "code",
   "execution_count": null,
   "metadata": {},
   "outputs": [],
   "source": [
    "print(b)\n",
    "b[b[:,2]>=0,:]"
   ]
  },
  {
   "cell_type": "markdown",
   "metadata": {},
   "source": [
    "If we wanted to apply functions which work on multiple values or across a full dimension instead of single value , we will need to use numpy function instead of math package function because they work on scalars of single values . Lets try using them anyway , lets say we wanted to replace the entire 2nd list ( index =1 ) with its aboslute values."
   ]
  },
  {
   "cell_type": "code",
   "execution_count": null,
   "metadata": {},
   "outputs": [],
   "source": [
    "import math as m\n"
   ]
  },
  {
   "cell_type": "code",
   "execution_count": null,
   "metadata": {},
   "outputs": [],
   "source": [
    "b[1]"
   ]
  },
  {
   "cell_type": "code",
   "execution_count": null,
   "metadata": {},
   "outputs": [],
   "source": [
    "m.fabs(b[1])"
   ]
  },
  {
   "cell_type": "code",
   "execution_count": null,
   "metadata": {},
   "outputs": [],
   "source": [
    "b[1]=m.fabs(b[1])"
   ]
  },
  {
   "cell_type": "code",
   "execution_count": null,
   "metadata": {},
   "outputs": [],
   "source": [
    "np.abs(b[1])"
   ]
  },
  {
   "cell_type": "code",
   "execution_count": null,
   "metadata": {},
   "outputs": [],
   "source": [
    "print(b)\n",
    "b[1]=np.abs(b[1])\n",
    "print(b)"
   ]
  },
  {
   "cell_type": "markdown",
   "metadata": {},
   "source": [
    "there are multiple such functions available in numpy you can write np. and then hit tab to show you the list of such functions "
   ]
  },
  {
   "cell_type": "code",
   "execution_count": null,
   "metadata": {},
   "outputs": [],
   "source": []
  },
  {
   "cell_type": "code",
   "execution_count": null,
   "metadata": {},
   "outputs": [],
   "source": [
    "print(b)\n",
    "b[1]=np.sqrt(b[1])\n",
    "print(b)"
   ]
  },
  {
   "cell_type": "markdown",
   "metadata": {},
   "source": [
    "these functions can work across dimensions or multiple values at once "
   ]
  },
  {
   "cell_type": "markdown",
   "metadata": {},
   "source": [
    "to better understand idea of axis labels 0 and 1 , we will look at a function which collapses the array "
   ]
  },
  {
   "cell_type": "code",
   "execution_count": 28,
   "metadata": {
    "ExecuteTime": {
     "end_time": "2023-05-20T09:42:56.865212Z",
     "start_time": "2023-05-20T09:42:56.859646Z"
    }
   },
   "outputs": [
    {
     "data": {
      "text/plain": [
       "array([[  3., -10.,  99.],\n",
       "       [-13., -30., -20.],\n",
       "       [  0.,  -1.,  20.],\n",
       "       [  5.,  78., -19.]])"
      ]
     },
     "execution_count": 28,
     "metadata": {},
     "output_type": "execute_result"
    }
   ],
   "source": [
    "b"
   ]
  },
  {
   "cell_type": "code",
   "execution_count": 29,
   "metadata": {
    "ExecuteTime": {
     "end_time": "2023-05-20T09:43:17.508481Z",
     "start_time": "2023-05-20T09:43:17.502010Z"
    }
   },
   "outputs": [
    {
     "data": {
      "text/plain": [
       "112.0"
      ]
     },
     "execution_count": 29,
     "metadata": {},
     "output_type": "execute_result"
    }
   ],
   "source": [
    "np.sum(b)"
   ]
  },
  {
   "cell_type": "markdown",
   "metadata": {},
   "source": [
    "this simply sums the entire array , now lets instead of this we wanted sum across axis 0 "
   ]
  },
  {
   "cell_type": "code",
   "execution_count": null,
   "metadata": {},
   "outputs": [],
   "source": [
    "b"
   ]
  },
  {
   "cell_type": "code",
   "execution_count": 30,
   "metadata": {
    "ExecuteTime": {
     "end_time": "2023-05-20T09:43:44.587639Z",
     "start_time": "2023-05-20T09:43:44.582629Z"
    }
   },
   "outputs": [
    {
     "name": "stdout",
     "output_type": "stream",
     "text": [
      "[[  3. -10.  99.]\n",
      " [-13. -30. -20.]\n",
      " [  0.  -1.  20.]\n",
      " [  5.  78. -19.]]\n"
     ]
    },
    {
     "data": {
      "text/plain": [
       "array([-5., 37., 80.])"
      ]
     },
     "execution_count": 30,
     "metadata": {},
     "output_type": "execute_result"
    }
   ],
   "source": [
    "print(b)\n",
    "np.sum(b,axis=0)"
   ]
  },
  {
   "cell_type": "markdown",
   "metadata": {},
   "source": [
    "axis 0 here corresponds to elements across the lists , axis=1 corresponds to with in the list elements "
   ]
  },
  {
   "cell_type": "code",
   "execution_count": 31,
   "metadata": {
    "ExecuteTime": {
     "end_time": "2023-05-20T09:43:48.907497Z",
     "start_time": "2023-05-20T09:43:48.899516Z"
    }
   },
   "outputs": [
    {
     "name": "stdout",
     "output_type": "stream",
     "text": [
      "[[  3. -10.  99.]\n",
      " [-13. -30. -20.]\n",
      " [  0.  -1.  20.]\n",
      " [  5.  78. -19.]]\n"
     ]
    },
    {
     "data": {
      "text/plain": [
       "array([ 92., -63.,  19.,  64.])"
      ]
     },
     "execution_count": 31,
     "metadata": {},
     "output_type": "execute_result"
    }
   ],
   "source": [
    "\n",
    "print(b)\n",
    "np.sum(b,axis=1)"
   ]
  },
  {
   "cell_type": "markdown",
   "metadata": {},
   "source": [
    "As note keep in mind that when we start to work with pandas dataframes which are in a way 2d numpy arrays , each list will correspond to a column in the data. In that respect you can say axis=0 represent rows and axis=1 represent columns of a data frame"
   ]
  },
  {
   "cell_type": "markdown",
   "metadata": {},
   "source": [
    "Next we will look at a small subset of numpy functions which are commonly used a lot , rarely used functions of numpy we will learn about as and when we comes across their specific use cases "
   ]
  },
  {
   "cell_type": "markdown",
   "metadata": {
    "collapsed": true
   },
   "source": [
    "These functions help in quickly creating special kind of numpy arrays"
   ]
  },
  {
   "cell_type": "code",
   "execution_count": 32,
   "metadata": {
    "ExecuteTime": {
     "end_time": "2023-05-20T09:47:10.816934Z",
     "start_time": "2023-05-20T09:47:10.810442Z"
    }
   },
   "outputs": [
    {
     "data": {
      "text/plain": [
       "[0, 1, 2, 3, 4, 5, 6, 7, 8, 9]"
      ]
     },
     "execution_count": 32,
     "metadata": {},
     "output_type": "execute_result"
    }
   ],
   "source": [
    "list(range(10))"
   ]
  },
  {
   "cell_type": "code",
   "execution_count": 33,
   "metadata": {
    "ExecuteTime": {
     "end_time": "2023-05-20T09:48:31.703739Z",
     "start_time": "2023-05-20T09:48:31.699258Z"
    }
   },
   "outputs": [
    {
     "data": {
      "text/plain": [
       "array([0, 1, 2, 3, 4, 5])"
      ]
     },
     "execution_count": 33,
     "metadata": {},
     "output_type": "execute_result"
    }
   ],
   "source": [
    "np.arange(6)"
   ]
  },
  {
   "cell_type": "code",
   "execution_count": 34,
   "metadata": {
    "ExecuteTime": {
     "end_time": "2023-05-20T09:49:15.811518Z",
     "start_time": "2023-05-20T09:49:15.806785Z"
    }
   },
   "outputs": [
    {
     "data": {
      "text/plain": [
       "array([2. , 2.5, 3. , 3.5, 4. , 4.5, 5. , 5.5, 6. , 6.5, 7. , 7.5])"
      ]
     },
     "execution_count": 34,
     "metadata": {},
     "output_type": "execute_result"
    }
   ],
   "source": [
    "np.arange(2,8,0.5)"
   ]
  },
  {
   "cell_type": "markdown",
   "metadata": {},
   "source": [
    "As you can see arange function can be used to create sequence of integers with increment of 1. For creating a more custom sequence we can use linspace"
   ]
  },
  {
   "cell_type": "code",
   "execution_count": 39,
   "metadata": {
    "ExecuteTime": {
     "end_time": "2023-05-20T09:51:29.972702Z",
     "start_time": "2023-05-20T09:51:29.966380Z"
    }
   },
   "outputs": [
    {
     "data": {
      "text/plain": [
       "array([ 2.,  4.,  6.,  8., 10.])"
      ]
     },
     "execution_count": 39,
     "metadata": {},
     "output_type": "execute_result"
    }
   ],
   "source": [
    "np.linspace(start=2,stop=10,num=5)"
   ]
  },
  {
   "cell_type": "markdown",
   "metadata": {
    "ExecuteTime": {
     "end_time": "2023-05-20T09:51:38.267748Z",
     "start_time": "2023-05-20T09:51:38.262339Z"
    }
   },
   "source": [
    "a\n",
    "a+s\n",
    "a+2s\n",
    ".\n",
    ".\n",
    ".\n",
    ".\n",
    ".\n",
    "a+(n-1)*s\n",
    "\n",
    "\n",
    "b=a+(n-1)*s\n",
    "\n",
    "s=(b-a)/(n-1)\n"
   ]
  },
  {
   "cell_type": "code",
   "execution_count": null,
   "metadata": {},
   "outputs": [],
   "source": [
    "(10-2)/14"
   ]
  },
  {
   "cell_type": "markdown",
   "metadata": {},
   "source": [
    "here argument num essentially represent number of elements in sequence , elements in sequence are natuarlly equally spaced ."
   ]
  },
  {
   "cell_type": "markdown",
   "metadata": {},
   "source": [
    "you can also create new arrays by randomly sampling an original array, or simply creating an array with random numbers using random package within numpy"
   ]
  },
  {
   "cell_type": "code",
   "execution_count": 41,
   "metadata": {
    "ExecuteTime": {
     "end_time": "2023-05-20T10:17:27.417083Z",
     "start_time": "2023-05-20T10:17:27.410806Z"
    }
   },
   "outputs": [
    {
     "data": {
      "text/plain": [
       "array([[1, 3, 3],\n",
       "       [4, 1, 1]])"
      ]
     },
     "execution_count": 41,
     "metadata": {},
     "output_type": "execute_result"
    }
   ],
   "source": [
    "np.random.randint(high=10,low=1,size=(2,3))"
   ]
  },
  {
   "cell_type": "code",
   "execution_count": 42,
   "metadata": {
    "ExecuteTime": {
     "end_time": "2023-05-20T10:17:27.844123Z",
     "start_time": "2023-05-20T10:17:27.839136Z"
    }
   },
   "outputs": [
    {
     "data": {
      "text/plain": [
       "array([6, 2])"
      ]
     },
     "execution_count": 42,
     "metadata": {},
     "output_type": "execute_result"
    }
   ],
   "source": [
    "np.random.randint(high=10,low=1,size=(2,))"
   ]
  },
  {
   "cell_type": "code",
   "execution_count": 49,
   "metadata": {
    "ExecuteTime": {
     "end_time": "2023-05-20T10:18:56.092830Z",
     "start_time": "2023-05-20T10:18:56.087469Z"
    }
   },
   "outputs": [
    {
     "data": {
      "text/plain": [
       "array([2, 4])"
      ]
     },
     "execution_count": 49,
     "metadata": {},
     "output_type": "execute_result"
    }
   ],
   "source": [
    "np.random.randint(high=10,low=1,size=2)"
   ]
  },
  {
   "cell_type": "code",
   "execution_count": 48,
   "metadata": {
    "ExecuteTime": {
     "end_time": "2023-05-20T10:18:51.775660Z",
     "start_time": "2023-05-20T10:18:51.770657Z"
    }
   },
   "outputs": [
    {
     "data": {
      "text/plain": [
       "array([6, 9])"
      ]
     },
     "execution_count": 48,
     "metadata": {},
     "output_type": "execute_result"
    }
   ],
   "source": [
    "np.random.randint(high=10,low=1,size=[2])"
   ]
  },
  {
   "cell_type": "code",
   "execution_count": 45,
   "metadata": {
    "ExecuteTime": {
     "end_time": "2023-05-20T10:17:30.881943Z",
     "start_time": "2023-05-20T10:17:30.876444Z"
    }
   },
   "outputs": [
    {
     "data": {
      "text/plain": [
       "array([[0.72963096, 0.43439222, 0.78975919, 0.76974863],\n",
       "       [0.817911  , 0.46151806, 0.09644925, 0.35409799],\n",
       "       [0.57199344, 0.43739619, 0.39499823, 0.03582045]])"
      ]
     },
     "execution_count": 45,
     "metadata": {},
     "output_type": "execute_result"
    }
   ],
   "source": [
    "np.random.random(size=(3,4))"
   ]
  },
  {
   "cell_type": "code",
   "execution_count": 50,
   "metadata": {
    "ExecuteTime": {
     "end_time": "2023-05-20T10:27:07.677764Z",
     "start_time": "2023-05-20T10:27:07.673784Z"
    }
   },
   "outputs": [],
   "source": [
    "x=np.arange(10)"
   ]
  },
  {
   "cell_type": "code",
   "execution_count": 51,
   "metadata": {
    "ExecuteTime": {
     "end_time": "2023-05-20T10:27:07.862234Z",
     "start_time": "2023-05-20T10:27:07.857246Z"
    }
   },
   "outputs": [
    {
     "data": {
      "text/plain": [
       "array([0, 1, 2, 3, 4, 5, 6, 7, 8, 9])"
      ]
     },
     "execution_count": 51,
     "metadata": {},
     "output_type": "execute_result"
    }
   ],
   "source": [
    "x"
   ]
  },
  {
   "cell_type": "code",
   "execution_count": 52,
   "metadata": {
    "ExecuteTime": {
     "end_time": "2023-05-20T10:27:08.072144Z",
     "start_time": "2023-05-20T10:27:08.067156Z"
    }
   },
   "outputs": [
    {
     "data": {
      "text/plain": [
       "array([7, 9, 8, 5])"
      ]
     },
     "execution_count": 52,
     "metadata": {},
     "output_type": "execute_result"
    }
   ],
   "source": [
    "np.random.choice(x,4)"
   ]
  },
  {
   "cell_type": "code",
   "execution_count": 53,
   "metadata": {
    "ExecuteTime": {
     "end_time": "2023-05-20T10:27:09.859541Z",
     "start_time": "2023-05-20T10:27:09.853987Z"
    }
   },
   "outputs": [
    {
     "data": {
      "text/plain": [
       "array([2, 7, 0, 8, 4, 1])"
      ]
     },
     "execution_count": 53,
     "metadata": {},
     "output_type": "execute_result"
    }
   ],
   "source": [
    "np.random.choice(x,6,replace=False)"
   ]
  },
  {
   "cell_type": "code",
   "execution_count": 54,
   "metadata": {
    "ExecuteTime": {
     "end_time": "2023-05-20T10:27:10.329080Z",
     "start_time": "2023-05-20T10:27:10.324551Z"
    }
   },
   "outputs": [
    {
     "name": "stdout",
     "output_type": "stream",
     "text": [
      "['b' 'a' 'a' 'b' 'b' 'a']\n"
     ]
    }
   ],
   "source": [
    "y=np.random.choice(['a','b'],6)\n",
    "print(y)"
   ]
  },
  {
   "cell_type": "code",
   "execution_count": 55,
   "metadata": {
    "ExecuteTime": {
     "end_time": "2023-05-20T10:27:11.957498Z",
     "start_time": "2023-05-20T10:27:11.953996Z"
    }
   },
   "outputs": [],
   "source": [
    "y=np.random.choice(['a','b'],1000)\n"
   ]
  },
  {
   "cell_type": "code",
   "execution_count": 56,
   "metadata": {
    "ExecuteTime": {
     "end_time": "2023-05-20T10:27:12.204179Z",
     "start_time": "2023-05-20T10:27:12.197196Z"
    }
   },
   "outputs": [
    {
     "data": {
      "text/plain": [
       "array(['b', 'b', 'b', 'a', 'b', 'b', 'a', 'b', 'a', 'b', 'a', 'b', 'b',\n",
       "       'b', 'b', 'a', 'b', 'b', 'a', 'b', 'b', 'a', 'a', 'b', 'a', 'b',\n",
       "       'b', 'b', 'b', 'b', 'b', 'a', 'b', 'a', 'a', 'b', 'a', 'b', 'a',\n",
       "       'a', 'b', 'b', 'b', 'a', 'a', 'b', 'a', 'b', 'a', 'b', 'a', 'b',\n",
       "       'a', 'b', 'a', 'b', 'b', 'a', 'a', 'a', 'b', 'a', 'a', 'a', 'b',\n",
       "       'b', 'a', 'a', 'a', 'b', 'b', 'b', 'a', 'a', 'b', 'a', 'a', 'b',\n",
       "       'b', 'a', 'b', 'a', 'a', 'b', 'a', 'b', 'b', 'b', 'b', 'b', 'b',\n",
       "       'b', 'a', 'b', 'b', 'a', 'b', 'a', 'b', 'b', 'a', 'b', 'a', 'a',\n",
       "       'b', 'a', 'b', 'b', 'a', 'b', 'b', 'b', 'a', 'b', 'a', 'a', 'b',\n",
       "       'a', 'b', 'a', 'a', 'a', 'a', 'b', 'b', 'a', 'a', 'a', 'b', 'b',\n",
       "       'b', 'b', 'b', 'a', 'b', 'a', 'b', 'a', 'b', 'a', 'a', 'a', 'a',\n",
       "       'a', 'a', 'a', 'a', 'b', 'a', 'a', 'b', 'b', 'b', 'a', 'b', 'b',\n",
       "       'a', 'a', 'b', 'b', 'b', 'a', 'a', 'b', 'b', 'a', 'a', 'b', 'a',\n",
       "       'b', 'b', 'b', 'b', 'a', 'a', 'a', 'a', 'a', 'b', 'b', 'b', 'b',\n",
       "       'a', 'a', 'a', 'b', 'a', 'a', 'a', 'b', 'b', 'a', 'a', 'b', 'b',\n",
       "       'a', 'b', 'a', 'b', 'b', 'b', 'b', 'a', 'a', 'a', 'b', 'a', 'b',\n",
       "       'a', 'b', 'a', 'b', 'b', 'b', 'a', 'a', 'a', 'a', 'a', 'b', 'b',\n",
       "       'b', 'a', 'b', 'b', 'a', 'b', 'b', 'b', 'a', 'a', 'b', 'a', 'a',\n",
       "       'b', 'a', 'a', 'b', 'b', 'b', 'a', 'b', 'a', 'b', 'b', 'b', 'b',\n",
       "       'a', 'b', 'b', 'a', 'a', 'b', 'b', 'a', 'b', 'a', 'a', 'a', 'b',\n",
       "       'b', 'a', 'a', 'b', 'b', 'b', 'a', 'a', 'a', 'a', 'b', 'b', 'b',\n",
       "       'a', 'a', 'a', 'a', 'a', 'a', 'a', 'b', 'a', 'a', 'a', 'b', 'a',\n",
       "       'a', 'a', 'b', 'b', 'a', 'a', 'b', 'b', 'b', 'b', 'a', 'b', 'a',\n",
       "       'a', 'a', 'a', 'b', 'b', 'a', 'a', 'a', 'a', 'b', 'a', 'b', 'b',\n",
       "       'a', 'b', 'a', 'a', 'a', 'b', 'b', 'b', 'b', 'b', 'a', 'b', 'a',\n",
       "       'b', 'a', 'b', 'a', 'a', 'b', 'a', 'b', 'a', 'b', 'b', 'b', 'a',\n",
       "       'b', 'b', 'a', 'a', 'a', 'b', 'a', 'a', 'a', 'a', 'b', 'b', 'b',\n",
       "       'b', 'a', 'b', 'a', 'b', 'a', 'b', 'b', 'b', 'a', 'b', 'a', 'b',\n",
       "       'a', 'b', 'a', 'b', 'b', 'b', 'a', 'b', 'a', 'b', 'a', 'a', 'b',\n",
       "       'b', 'b', 'a', 'b', 'b', 'a', 'b', 'a', 'a', 'a', 'a', 'b', 'b',\n",
       "       'a', 'b', 'a', 'a', 'a', 'b', 'b', 'a', 'b', 'b', 'a', 'a', 'b',\n",
       "       'b', 'b', 'a', 'a', 'a', 'a', 'b', 'a', 'a', 'a', 'b', 'b', 'a',\n",
       "       'b', 'b', 'b', 'a', 'b', 'a', 'a', 'b', 'b', 'b', 'a', 'a', 'b',\n",
       "       'a', 'b', 'b', 'a', 'b', 'b', 'b', 'a', 'b', 'b', 'b', 'b', 'a',\n",
       "       'b', 'b', 'b', 'a', 'b', 'b', 'a', 'b', 'a', 'a', 'a', 'b', 'a',\n",
       "       'b', 'b', 'a', 'b', 'a', 'b', 'b', 'b', 'b', 'a', 'a', 'a', 'a',\n",
       "       'b', 'a', 'b', 'a', 'b', 'a', 'b', 'a', 'b', 'a', 'a', 'b', 'a',\n",
       "       'b', 'b', 'a', 'b', 'b', 'b', 'b', 'a', 'a', 'a', 'b', 'a', 'a',\n",
       "       'a', 'b', 'b', 'a', 'a', 'b', 'b', 'a', 'b', 'a', 'a', 'b', 'b',\n",
       "       'b', 'a', 'b', 'b', 'b', 'b', 'a', 'a', 'a', 'a', 'b', 'b', 'b',\n",
       "       'a', 'b', 'a', 'a', 'b', 'a', 'a', 'b', 'b', 'b', 'b', 'a', 'b',\n",
       "       'b', 'b', 'a', 'a', 'b', 'a', 'b', 'a', 'a', 'a', 'a', 'b', 'a',\n",
       "       'a', 'a', 'a', 'b', 'b', 'b', 'a', 'b', 'b', 'b', 'a', 'b', 'b',\n",
       "       'a', 'a', 'b', 'a', 'a', 'a', 'b', 'a', 'a', 'a', 'a', 'b', 'a',\n",
       "       'a', 'a', 'b', 'a', 'a', 'a', 'a', 'b', 'b', 'b', 'a', 'a', 'b',\n",
       "       'a', 'b', 'a', 'a', 'b', 'b', 'b', 'a', 'b', 'a', 'b', 'a', 'a',\n",
       "       'a', 'a', 'b', 'b', 'b', 'a', 'a', 'b', 'a', 'a', 'a', 'b', 'a',\n",
       "       'b', 'a', 'a', 'a', 'b', 'a', 'b', 'b', 'b', 'a', 'b', 'a', 'b',\n",
       "       'a', 'a', 'a', 'a', 'a', 'b', 'b', 'a', 'b', 'a', 'a', 'a', 'b',\n",
       "       'a', 'b', 'b', 'a', 'a', 'b', 'a', 'a', 'b', 'a', 'a', 'b', 'b',\n",
       "       'a', 'a', 'a', 'a', 'b', 'a', 'b', 'a', 'a', 'b', 'a', 'a', 'b',\n",
       "       'a', 'a', 'a', 'b', 'b', 'a', 'b', 'a', 'a', 'b', 'b', 'a', 'b',\n",
       "       'b', 'b', 'b', 'a', 'a', 'a', 'a', 'a', 'b', 'a', 'b', 'a', 'b',\n",
       "       'a', 'a', 'b', 'b', 'b', 'a', 'b', 'a', 'b', 'b', 'b', 'a', 'a',\n",
       "       'a', 'a', 'a', 'a', 'a', 'a', 'b', 'b', 'a', 'b', 'b', 'b', 'a',\n",
       "       'b', 'a', 'b', 'b', 'a', 'b', 'b', 'a', 'b', 'b', 'b', 'a', 'a',\n",
       "       'b', 'a', 'a', 'b', 'a', 'b', 'b', 'a', 'a', 'a', 'b', 'a', 'b',\n",
       "       'a', 'b', 'b', 'b', 'a', 'b', 'b', 'b', 'a', 'a', 'a', 'b', 'a',\n",
       "       'a', 'b', 'a', 'b', 'a', 'a', 'b', 'a', 'b', 'a', 'b', 'b', 'a',\n",
       "       'b', 'b', 'a', 'a', 'b', 'b', 'a', 'a', 'a', 'a', 'a', 'a', 'b',\n",
       "       'b', 'b', 'a', 'a', 'b', 'a', 'a', 'a', 'a', 'b', 'a', 'a', 'a',\n",
       "       'b', 'a', 'b', 'a', 'a', 'a', 'a', 'b', 'b', 'a', 'b', 'a', 'a',\n",
       "       'a', 'a', 'a', 'a', 'a', 'a', 'b', 'a', 'a', 'a', 'b', 'a', 'a',\n",
       "       'a', 'a', 'b', 'a', 'a', 'b', 'a', 'b', 'b', 'b', 'b', 'a', 'a',\n",
       "       'b', 'a', 'a', 'b', 'a', 'b', 'a', 'b', 'a', 'b', 'b', 'a', 'a',\n",
       "       'b', 'b', 'a', 'a', 'b', 'b', 'a', 'b', 'a', 'b', 'b', 'b', 'a',\n",
       "       'b', 'a', 'b', 'b', 'b', 'b', 'b', 'b', 'b', 'b', 'b', 'b', 'a',\n",
       "       'b', 'b', 'a', 'b', 'a', 'a', 'a', 'a', 'a', 'b', 'a', 'b', 'a',\n",
       "       'b', 'b', 'b', 'a', 'a', 'b', 'a', 'b', 'a', 'b', 'b', 'b', 'a',\n",
       "       'b', 'b', 'a', 'b', 'a', 'a', 'b', 'a', 'b', 'a', 'a', 'a', 'a',\n",
       "       'b', 'b', 'a', 'a', 'a', 'a', 'a', 'b', 'a', 'b', 'b', 'a', 'b',\n",
       "       'a', 'b', 'b', 'b', 'a', 'a', 'b', 'a', 'b', 'b', 'b', 'b', 'b',\n",
       "       'a', 'b', 'b', 'b', 'b', 'a', 'a', 'a', 'a', 'b', 'b', 'b', 'a',\n",
       "       'a', 'a', 'b', 'a', 'b', 'a', 'a', 'a', 'a', 'b', 'b', 'b', 'a',\n",
       "       'b', 'a', 'b', 'a', 'a', 'a', 'b', 'b', 'b', 'a', 'a', 'b', 'b',\n",
       "       'b', 'a', 'b', 'b', 'a', 'b', 'a', 'a', 'b', 'b', 'b', 'a', 'b',\n",
       "       'a', 'a', 'b', 'a', 'a', 'b', 'b', 'b', 'b', 'b', 'b', 'a'],\n",
       "      dtype='<U1')"
      ]
     },
     "execution_count": 56,
     "metadata": {},
     "output_type": "execute_result"
    }
   ],
   "source": [
    "y"
   ]
  },
  {
   "cell_type": "code",
   "execution_count": 57,
   "metadata": {
    "ExecuteTime": {
     "end_time": "2023-05-20T10:27:12.467549Z",
     "start_time": "2023-05-20T10:27:12.461473Z"
    }
   },
   "outputs": [
    {
     "data": {
      "text/plain": [
       "(array(['a', 'b'], dtype='<U1'), array([504, 496], dtype=int64))"
      ]
     },
     "execution_count": 57,
     "metadata": {},
     "output_type": "execute_result"
    }
   ],
   "source": [
    "np.unique(y,return_counts=True)"
   ]
  },
  {
   "cell_type": "markdown",
   "metadata": {},
   "source": [
    "by default here both a and b get picked with almost equal probability in the random sample. Although this doesnt mean that individual values are not random , but overall percentage of a and b remains almost same. We can force approx probability structure by using option p"
   ]
  },
  {
   "cell_type": "code",
   "execution_count": 58,
   "metadata": {
    "ExecuteTime": {
     "end_time": "2023-05-20T10:27:13.830911Z",
     "start_time": "2023-05-20T10:27:13.823898Z"
    }
   },
   "outputs": [],
   "source": [
    "y=np.random.choice(['a','b','c'],100000,p=[0.2,0.4,0.4])"
   ]
  },
  {
   "cell_type": "code",
   "execution_count": 59,
   "metadata": {
    "ExecuteTime": {
     "end_time": "2023-05-20T10:27:14.187523Z",
     "start_time": "2023-05-20T10:27:14.176477Z"
    }
   },
   "outputs": [
    {
     "data": {
      "text/plain": [
       "(array(['a', 'b', 'c'], dtype='<U1'),\n",
       " array([19929, 40112, 39959], dtype=int64))"
      ]
     },
     "execution_count": 59,
     "metadata": {},
     "output_type": "execute_result"
    }
   ],
   "source": [
    "np.unique(y,return_counts=True)"
   ]
  },
  {
   "cell_type": "markdown",
   "metadata": {},
   "source": [
    "Another useful function is for sorting "
   ]
  },
  {
   "cell_type": "code",
   "execution_count": 60,
   "metadata": {
    "ExecuteTime": {
     "end_time": "2023-05-20T10:27:15.997312Z",
     "start_time": "2023-05-20T10:27:15.993215Z"
    }
   },
   "outputs": [],
   "source": [
    "x=np.random.randint(high=100,low=12,size=(15,))"
   ]
  },
  {
   "cell_type": "code",
   "execution_count": 61,
   "metadata": {
    "ExecuteTime": {
     "end_time": "2023-05-20T10:27:16.546438Z",
     "start_time": "2023-05-20T10:27:16.540983Z"
    }
   },
   "outputs": [],
   "source": [
    "x.sort()"
   ]
  },
  {
   "cell_type": "code",
   "execution_count": 62,
   "metadata": {
    "ExecuteTime": {
     "end_time": "2023-05-20T10:27:16.871755Z",
     "start_time": "2023-05-20T10:27:16.868318Z"
    }
   },
   "outputs": [
    {
     "data": {
      "text/plain": [
       "array([17, 27, 31, 36, 39, 41, 45, 46, 57, 64, 65, 73, 76, 83, 86])"
      ]
     },
     "execution_count": 62,
     "metadata": {},
     "output_type": "execute_result"
    }
   ],
   "source": [
    "x"
   ]
  },
  {
   "cell_type": "markdown",
   "metadata": {},
   "source": [
    "Now lets look at sorting 2darrays "
   ]
  },
  {
   "cell_type": "code",
   "execution_count": 63,
   "metadata": {
    "ExecuteTime": {
     "end_time": "2023-05-20T10:27:22.116362Z",
     "start_time": "2023-05-20T10:27:22.112895Z"
    }
   },
   "outputs": [],
   "source": [
    "x=np.random.randint(high=100,low=12,size=(4,6))"
   ]
  },
  {
   "cell_type": "code",
   "execution_count": 64,
   "metadata": {
    "ExecuteTime": {
     "end_time": "2023-05-20T10:27:22.326274Z",
     "start_time": "2023-05-20T10:27:22.321742Z"
    }
   },
   "outputs": [
    {
     "data": {
      "text/plain": [
       "array([[96, 58, 65, 20, 42, 78],\n",
       "       [40, 99, 76, 12, 78, 84],\n",
       "       [81, 21, 76, 83, 71, 70],\n",
       "       [45, 74, 96, 58, 68, 97]])"
      ]
     },
     "execution_count": 64,
     "metadata": {},
     "output_type": "execute_result"
    }
   ],
   "source": [
    "x"
   ]
  },
  {
   "cell_type": "markdown",
   "metadata": {},
   "source": [
    "if you simply sort it sorts each individual array without mainting any order "
   ]
  },
  {
   "cell_type": "code",
   "execution_count": 65,
   "metadata": {
    "ExecuteTime": {
     "end_time": "2023-05-20T10:27:24.417588Z",
     "start_time": "2023-05-20T10:27:24.413433Z"
    }
   },
   "outputs": [],
   "source": [
    "x.sort()"
   ]
  },
  {
   "cell_type": "code",
   "execution_count": 66,
   "metadata": {
    "ExecuteTime": {
     "end_time": "2023-05-20T10:27:25.560597Z",
     "start_time": "2023-05-20T10:27:25.554243Z"
    }
   },
   "outputs": [
    {
     "data": {
      "text/plain": [
       "array([[20, 42, 58, 65, 78, 96],\n",
       "       [12, 40, 76, 78, 84, 99],\n",
       "       [21, 70, 71, 76, 81, 83],\n",
       "       [45, 58, 68, 74, 96, 97]])"
      ]
     },
     "execution_count": 66,
     "metadata": {},
     "output_type": "execute_result"
    }
   ],
   "source": [
    "x"
   ]
  },
  {
   "cell_type": "code",
   "execution_count": 78,
   "metadata": {
    "ExecuteTime": {
     "end_time": "2023-05-20T10:46:08.739961Z",
     "start_time": "2023-05-20T10:46:08.734719Z"
    }
   },
   "outputs": [
    {
     "data": {
      "text/plain": [
       "array([[99, 90, 56, 32, 98, 21],\n",
       "       [66, 68, 97, 68, 14, 13],\n",
       "       [90, 49, 21, 72, 99, 29],\n",
       "       [32, 68, 37, 51, 97, 88]])"
      ]
     },
     "execution_count": 78,
     "metadata": {},
     "output_type": "execute_result"
    }
   ],
   "source": [
    "x=np.random.randint(high=100,low=12,size=(4,6))\n",
    "x"
   ]
  },
  {
   "cell_type": "markdown",
   "metadata": {},
   "source": [
    "For maintaining order along either of the axis what we can do is that we can extract indices of the sorted values and reorder original array with , here is what i mean"
   ]
  },
  {
   "cell_type": "code",
   "execution_count": 79,
   "metadata": {
    "ExecuteTime": {
     "end_time": "2023-05-20T10:46:10.015470Z",
     "start_time": "2023-05-20T10:46:10.010004Z"
    }
   },
   "outputs": [
    {
     "data": {
      "text/plain": [
       "array([56, 97, 21, 37])"
      ]
     },
     "execution_count": 79,
     "metadata": {},
     "output_type": "execute_result"
    }
   ],
   "source": [
    "x[:,2]"
   ]
  },
  {
   "cell_type": "markdown",
   "metadata": {},
   "source": [
    "these are the 3rd elements of all arrays , lets i want to sort my 2darray by these and other values should move with them maintaining correspondence"
   ]
  },
  {
   "cell_type": "code",
   "execution_count": 81,
   "metadata": {
    "ExecuteTime": {
     "end_time": "2023-05-20T10:46:48.712301Z",
     "start_time": "2023-05-20T10:46:48.707068Z"
    }
   },
   "outputs": [
    {
     "data": {
      "text/plain": [
       "array([2, 3, 0, 1], dtype=int64)"
      ]
     },
     "execution_count": 81,
     "metadata": {},
     "output_type": "execute_result"
    }
   ],
   "source": [
    "\n",
    "x[:,2].argsort() # "
   ]
  },
  {
   "cell_type": "markdown",
   "metadata": {},
   "source": [
    "what argsort does is that it gives indices of sorted elements , now we can arrange the list along another axes using the result of argsort like this "
   ]
  },
  {
   "cell_type": "code",
   "execution_count": 70,
   "metadata": {
    "ExecuteTime": {
     "end_time": "2023-05-20T10:28:20.423082Z",
     "start_time": "2023-05-20T10:28:20.418120Z"
    }
   },
   "outputs": [
    {
     "data": {
      "text/plain": [
       "array([[81, 65, 18, 94, 97, 77],\n",
       "       [39, 55, 29, 98, 84, 38],\n",
       "       [44, 60, 69, 44, 64, 69],\n",
       "       [35, 48, 86, 53, 67, 41]])"
      ]
     },
     "execution_count": 70,
     "metadata": {},
     "output_type": "execute_result"
    }
   ],
   "source": [
    "x[x[:,2].argsort(),:]"
   ]
  },
  {
   "cell_type": "markdown",
   "metadata": {},
   "source": [
    "you can see that correspondence doesnt break here"
   ]
  },
  {
   "cell_type": "markdown",
   "metadata": {},
   "source": [
    "similar to sort and argsort , another use ful combination at times is max and argmax and its counterparts min and argmin"
   ]
  },
  {
   "cell_type": "code",
   "execution_count": 71,
   "metadata": {
    "ExecuteTime": {
     "end_time": "2023-05-20T10:31:58.745583Z",
     "start_time": "2023-05-20T10:31:58.740084Z"
    }
   },
   "outputs": [],
   "source": [
    "x=np.random.randint(high=100,low=12,size=(15,))"
   ]
  },
  {
   "cell_type": "code",
   "execution_count": 72,
   "metadata": {
    "ExecuteTime": {
     "end_time": "2023-05-20T10:31:58.929765Z",
     "start_time": "2023-05-20T10:31:58.924192Z"
    }
   },
   "outputs": [
    {
     "data": {
      "text/plain": [
       "array([35, 99, 27, 43, 95, 86, 31, 99, 81, 74, 80, 70, 65, 20, 55])"
      ]
     },
     "execution_count": 72,
     "metadata": {},
     "output_type": "execute_result"
    }
   ],
   "source": [
    "x"
   ]
  },
  {
   "cell_type": "code",
   "execution_count": 73,
   "metadata": {
    "ExecuteTime": {
     "end_time": "2023-05-20T10:31:59.151953Z",
     "start_time": "2023-05-20T10:31:59.147918Z"
    }
   },
   "outputs": [
    {
     "data": {
      "text/plain": [
       "99"
      ]
     },
     "execution_count": 73,
     "metadata": {},
     "output_type": "execute_result"
    }
   ],
   "source": [
    "x.max()"
   ]
  },
  {
   "cell_type": "code",
   "execution_count": 74,
   "metadata": {
    "ExecuteTime": {
     "end_time": "2023-05-20T10:31:59.453256Z",
     "start_time": "2023-05-20T10:31:59.448267Z"
    }
   },
   "outputs": [
    {
     "data": {
      "text/plain": [
       "1"
      ]
     },
     "execution_count": 74,
     "metadata": {},
     "output_type": "execute_result"
    }
   ],
   "source": [
    "x.argmax()"
   ]
  },
  {
   "cell_type": "markdown",
   "metadata": {},
   "source": [
    "We will stop our discussion on numpy , other numpy related functions which are not as often used will be discussed as and when we come across their use case. In the next video we will start with pandas , the go to package for handling datasets in python. see you in the next video"
   ]
  }
 ],
 "metadata": {
  "kernelspec": {
   "display_name": "Python 3",
   "language": "python",
   "name": "python3"
  },
  "language_info": {
   "codemirror_mode": {
    "name": "ipython",
    "version": 3
   },
   "file_extension": ".py",
   "mimetype": "text/x-python",
   "name": "python",
   "nbconvert_exporter": "python",
   "pygments_lexer": "ipython3",
   "version": "3.7.4"
  },
  "toc": {
   "base_numbering": 1,
   "nav_menu": {},
   "number_sections": false,
   "sideBar": true,
   "skip_h1_title": false,
   "title_cell": "Table of Contents",
   "title_sidebar": "Contents",
   "toc_cell": false,
   "toc_position": {},
   "toc_section_display": true,
   "toc_window_display": false
  }
 },
 "nbformat": 4,
 "nbformat_minor": 2
}
